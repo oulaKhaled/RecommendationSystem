{
  "nbformat": 4,
  "nbformat_minor": 0,
  "metadata": {
    "colab": {
      "provenance": [],
      "toc_visible": true,
      "gpuType": "T4"
    },
    "kernelspec": {
      "name": "python3",
      "display_name": "Python 3"
    },
    "language_info": {
      "name": "python"
    },
    "accelerator": "GPU"
  },
  "cells": [
    {
      "cell_type": "code",
      "execution_count": null,
      "metadata": {
        "id": "9R9HbNB1tr2w"
      },
      "outputs": [],
      "source": [
        "## 26.08.2025\n",
        "## 1- popular-based recommendation system\n",
        "## 2- content-base recommendation\n",
        "## 3-collabrative-based recommendation"
      ]
    },
    {
      "cell_type": "markdown",
      "source": [
        "# Import Libraries"
      ],
      "metadata": {
        "id": "q-AUiQbdznYl"
      }
    },
    {
      "cell_type": "code",
      "source": [
        "import pandas as pd\n",
        "import numpy as np\n"
      ],
      "metadata": {
        "id": "mCUlMH4AuYbI"
      },
      "execution_count": 2,
      "outputs": []
    },
    {
      "cell_type": "code",
      "source": [
        "from google.colab import  drive,files\n",
        "drive.mount(\"/content/drive\")\n",
        "files.upload()"
      ],
      "metadata": {
        "colab": {
          "base_uri": "https://localhost:8080/",
          "height": 108
        },
        "id": "ofH75tSXyH4Y",
        "outputId": "2cf66d7b-4ba7-4663-d378-d10035185ef0"
      },
      "execution_count": 3,
      "outputs": [
        {
          "output_type": "stream",
          "name": "stdout",
          "text": [
            "Mounted at /content/drive\n"
          ]
        },
        {
          "output_type": "display_data",
          "data": {
            "text/plain": [
              "<IPython.core.display.HTML object>"
            ],
            "text/html": [
              "\n",
              "     <input type=\"file\" id=\"files-1188516d-bb3e-43da-be4f-9ae184aa7126\" name=\"files[]\" multiple disabled\n",
              "        style=\"border:none\" />\n",
              "     <output id=\"result-1188516d-bb3e-43da-be4f-9ae184aa7126\">\n",
              "      Upload widget is only available when the cell has been executed in the\n",
              "      current browser session. Please rerun this cell to enable.\n",
              "      </output>\n",
              "      <script>// Copyright 2017 Google LLC\n",
              "//\n",
              "// Licensed under the Apache License, Version 2.0 (the \"License\");\n",
              "// you may not use this file except in compliance with the License.\n",
              "// You may obtain a copy of the License at\n",
              "//\n",
              "//      http://www.apache.org/licenses/LICENSE-2.0\n",
              "//\n",
              "// Unless required by applicable law or agreed to in writing, software\n",
              "// distributed under the License is distributed on an \"AS IS\" BASIS,\n",
              "// WITHOUT WARRANTIES OR CONDITIONS OF ANY KIND, either express or implied.\n",
              "// See the License for the specific language governing permissions and\n",
              "// limitations under the License.\n",
              "\n",
              "/**\n",
              " * @fileoverview Helpers for google.colab Python module.\n",
              " */\n",
              "(function(scope) {\n",
              "function span(text, styleAttributes = {}) {\n",
              "  const element = document.createElement('span');\n",
              "  element.textContent = text;\n",
              "  for (const key of Object.keys(styleAttributes)) {\n",
              "    element.style[key] = styleAttributes[key];\n",
              "  }\n",
              "  return element;\n",
              "}\n",
              "\n",
              "// Max number of bytes which will be uploaded at a time.\n",
              "const MAX_PAYLOAD_SIZE = 100 * 1024;\n",
              "\n",
              "function _uploadFiles(inputId, outputId) {\n",
              "  const steps = uploadFilesStep(inputId, outputId);\n",
              "  const outputElement = document.getElementById(outputId);\n",
              "  // Cache steps on the outputElement to make it available for the next call\n",
              "  // to uploadFilesContinue from Python.\n",
              "  outputElement.steps = steps;\n",
              "\n",
              "  return _uploadFilesContinue(outputId);\n",
              "}\n",
              "\n",
              "// This is roughly an async generator (not supported in the browser yet),\n",
              "// where there are multiple asynchronous steps and the Python side is going\n",
              "// to poll for completion of each step.\n",
              "// This uses a Promise to block the python side on completion of each step,\n",
              "// then passes the result of the previous step as the input to the next step.\n",
              "function _uploadFilesContinue(outputId) {\n",
              "  const outputElement = document.getElementById(outputId);\n",
              "  const steps = outputElement.steps;\n",
              "\n",
              "  const next = steps.next(outputElement.lastPromiseValue);\n",
              "  return Promise.resolve(next.value.promise).then((value) => {\n",
              "    // Cache the last promise value to make it available to the next\n",
              "    // step of the generator.\n",
              "    outputElement.lastPromiseValue = value;\n",
              "    return next.value.response;\n",
              "  });\n",
              "}\n",
              "\n",
              "/**\n",
              " * Generator function which is called between each async step of the upload\n",
              " * process.\n",
              " * @param {string} inputId Element ID of the input file picker element.\n",
              " * @param {string} outputId Element ID of the output display.\n",
              " * @return {!Iterable<!Object>} Iterable of next steps.\n",
              " */\n",
              "function* uploadFilesStep(inputId, outputId) {\n",
              "  const inputElement = document.getElementById(inputId);\n",
              "  inputElement.disabled = false;\n",
              "\n",
              "  const outputElement = document.getElementById(outputId);\n",
              "  outputElement.innerHTML = '';\n",
              "\n",
              "  const pickedPromise = new Promise((resolve) => {\n",
              "    inputElement.addEventListener('change', (e) => {\n",
              "      resolve(e.target.files);\n",
              "    });\n",
              "  });\n",
              "\n",
              "  const cancel = document.createElement('button');\n",
              "  inputElement.parentElement.appendChild(cancel);\n",
              "  cancel.textContent = 'Cancel upload';\n",
              "  const cancelPromise = new Promise((resolve) => {\n",
              "    cancel.onclick = () => {\n",
              "      resolve(null);\n",
              "    };\n",
              "  });\n",
              "\n",
              "  // Wait for the user to pick the files.\n",
              "  const files = yield {\n",
              "    promise: Promise.race([pickedPromise, cancelPromise]),\n",
              "    response: {\n",
              "      action: 'starting',\n",
              "    }\n",
              "  };\n",
              "\n",
              "  cancel.remove();\n",
              "\n",
              "  // Disable the input element since further picks are not allowed.\n",
              "  inputElement.disabled = true;\n",
              "\n",
              "  if (!files) {\n",
              "    return {\n",
              "      response: {\n",
              "        action: 'complete',\n",
              "      }\n",
              "    };\n",
              "  }\n",
              "\n",
              "  for (const file of files) {\n",
              "    const li = document.createElement('li');\n",
              "    li.append(span(file.name, {fontWeight: 'bold'}));\n",
              "    li.append(span(\n",
              "        `(${file.type || 'n/a'}) - ${file.size} bytes, ` +\n",
              "        `last modified: ${\n",
              "            file.lastModifiedDate ? file.lastModifiedDate.toLocaleDateString() :\n",
              "                                    'n/a'} - `));\n",
              "    const percent = span('0% done');\n",
              "    li.appendChild(percent);\n",
              "\n",
              "    outputElement.appendChild(li);\n",
              "\n",
              "    const fileDataPromise = new Promise((resolve) => {\n",
              "      const reader = new FileReader();\n",
              "      reader.onload = (e) => {\n",
              "        resolve(e.target.result);\n",
              "      };\n",
              "      reader.readAsArrayBuffer(file);\n",
              "    });\n",
              "    // Wait for the data to be ready.\n",
              "    let fileData = yield {\n",
              "      promise: fileDataPromise,\n",
              "      response: {\n",
              "        action: 'continue',\n",
              "      }\n",
              "    };\n",
              "\n",
              "    // Use a chunked sending to avoid message size limits. See b/62115660.\n",
              "    let position = 0;\n",
              "    do {\n",
              "      const length = Math.min(fileData.byteLength - position, MAX_PAYLOAD_SIZE);\n",
              "      const chunk = new Uint8Array(fileData, position, length);\n",
              "      position += length;\n",
              "\n",
              "      const base64 = btoa(String.fromCharCode.apply(null, chunk));\n",
              "      yield {\n",
              "        response: {\n",
              "          action: 'append',\n",
              "          file: file.name,\n",
              "          data: base64,\n",
              "        },\n",
              "      };\n",
              "\n",
              "      let percentDone = fileData.byteLength === 0 ?\n",
              "          100 :\n",
              "          Math.round((position / fileData.byteLength) * 100);\n",
              "      percent.textContent = `${percentDone}% done`;\n",
              "\n",
              "    } while (position < fileData.byteLength);\n",
              "  }\n",
              "\n",
              "  // All done.\n",
              "  yield {\n",
              "    response: {\n",
              "      action: 'complete',\n",
              "    }\n",
              "  };\n",
              "}\n",
              "\n",
              "scope.google = scope.google || {};\n",
              "scope.google.colab = scope.google.colab || {};\n",
              "scope.google.colab._files = {\n",
              "  _uploadFiles,\n",
              "  _uploadFilesContinue,\n",
              "};\n",
              "})(self);\n",
              "</script> "
            ]
          },
          "metadata": {}
        },
        {
          "output_type": "stream",
          "name": "stdout",
          "text": [
            "Saving kaggle.json to kaggle.json\n"
          ]
        },
        {
          "output_type": "execute_result",
          "data": {
            "text/plain": [
              "{'kaggle.json': b'{\"username\":\"oula23\",\"key\":\"23097febc5c9b1ac6a4b70d11ff71f01\"}'}"
            ]
          },
          "metadata": {},
          "execution_count": 3
        }
      ]
    },
    {
      "cell_type": "code",
      "source": [
        "!mkdir -p ~/.kaggle\n",
        "!cp kaggle.json ~/.kaggle/\n",
        "!chmod 600 ~/.kaggle/kaggle.json"
      ],
      "metadata": {
        "id": "TjwgCGC40Bl3"
      },
      "execution_count": 4,
      "outputs": []
    },
    {
      "cell_type": "code",
      "source": [
        "!kaggle datasets download samlearner/letterboxd-movie-ratings-data\n"
      ],
      "metadata": {
        "colab": {
          "base_uri": "https://localhost:8080/"
        },
        "id": "jNr0B1Rb0fxE",
        "outputId": "b7185eec-65ac-4798-ce99-f39c4600a4e5"
      },
      "execution_count": 5,
      "outputs": [
        {
          "output_type": "stream",
          "name": "stdout",
          "text": [
            "Dataset URL: https://www.kaggle.com/datasets/samlearner/letterboxd-movie-ratings-data\n",
            "License(s): Attribution 4.0 International (CC BY 4.0)\n",
            "Downloading letterboxd-movie-ratings-data.zip to /content\n",
            " 67% 126M/188M [00:00<00:00, 1.31GB/s]\n",
            "100% 188M/188M [00:00<00:00, 903MB/s] \n"
          ]
        }
      ]
    },
    {
      "cell_type": "code",
      "source": [
        "import zipfile\n",
        "\n",
        "with zipfile.ZipFile('/content/letterboxd-movie-ratings-data.zip', 'r') as zip_ref:\n",
        "    zip_ref.extractall('/kaggle/temp')"
      ],
      "metadata": {
        "id": "pLHoV1qp0qzY"
      },
      "execution_count": 6,
      "outputs": []
    },
    {
      "cell_type": "markdown",
      "source": [
        "# Movie Dataset"
      ],
      "metadata": {
        "id": "EcgSbomd9GUp"
      }
    },
    {
      "cell_type": "code",
      "source": [
        "movie_dataset=pd.read_csv(\"/kaggle/temp/movie_data.csv\",engine=\"python\")"
      ],
      "metadata": {
        "id": "hIddodDx08v_"
      },
      "execution_count": 7,
      "outputs": []
    },
    {
      "cell_type": "code",
      "source": [
        "movie_dataset.shape"
      ],
      "metadata": {
        "colab": {
          "base_uri": "https://localhost:8080/"
        },
        "id": "ezc-sqTk-5JL",
        "outputId": "1e942520-849f-49c7-9e92-98e7b68f9df4"
      },
      "execution_count": null,
      "outputs": [
        {
          "output_type": "execute_result",
          "data": {
            "text/plain": [
              "(285963, 19)"
            ]
          },
          "metadata": {},
          "execution_count": 7
        }
      ]
    },
    {
      "cell_type": "code",
      "source": [
        "movie_dataset.info()"
      ],
      "metadata": {
        "colab": {
          "base_uri": "https://localhost:8080/"
        },
        "id": "bAq0cp5T1Pzn",
        "outputId": "f3da2a49-949d-4c85-9f94-6212c497dd2e"
      },
      "execution_count": null,
      "outputs": [
        {
          "output_type": "stream",
          "name": "stdout",
          "text": [
            "<class 'pandas.core.frame.DataFrame'>\n",
            "RangeIndex: 285963 entries, 0 to 285962\n",
            "Data columns (total 19 columns):\n",
            " #   Column                Non-Null Count   Dtype  \n",
            "---  ------                --------------   -----  \n",
            " 0   _id                   285963 non-null  object \n",
            " 1   genres                274986 non-null  object \n",
            " 2   image_url             264521 non-null  object \n",
            " 3   imdb_id               243898 non-null  object \n",
            " 4   imdb_link             243914 non-null  object \n",
            " 5   movie_id              285616 non-null  object \n",
            " 6   movie_title           283453 non-null  object \n",
            " 7   original_language     274986 non-null  object \n",
            " 8   overview              261362 non-null  object \n",
            " 9   popularity            274872 non-null  float64\n",
            " 10  production_countries  274854 non-null  object \n",
            " 11  release_date          270954 non-null  object \n",
            " 12  runtime               269943 non-null  float64\n",
            " 13  spoken_languages      274758 non-null  object \n",
            " 14  tmdb_id               279803 non-null  float64\n",
            " 15  tmdb_link             279803 non-null  object \n",
            " 16  vote_average          274758 non-null  float64\n",
            " 17  vote_count            274758 non-null  float64\n",
            " 18  year_released         277836 non-null  float64\n",
            "dtypes: float64(6), object(13)\n",
            "memory usage: 41.5+ MB\n"
          ]
        }
      ]
    },
    {
      "cell_type": "code",
      "source": [
        "# remove unwanted columns\n",
        "movie_dataset.drop([\"imdb_link\",\"image_url\",\"tmdb_link\"],inplace=True,axis=1)"
      ],
      "metadata": {
        "id": "k8UrO7UZ2iKF"
      },
      "execution_count": 8,
      "outputs": []
    },
    {
      "cell_type": "code",
      "source": [
        "movie_dataset[\"overview\"][10]"
      ],
      "metadata": {
        "colab": {
          "base_uri": "https://localhost:8080/",
          "height": 53
        },
        "id": "8QoL0O0I4Y8h",
        "outputId": "70a1ea04-a361-46b3-f553-d6f89b9a440c"
      },
      "execution_count": null,
      "outputs": [
        {
          "output_type": "execute_result",
          "data": {
            "text/plain": [
              "\"Hookers are being killed all over the place, their bodies dumped in various parts of the city. Now, it's up to Officer Kelly Anderson with the help of Detective Grant Jordan to go undercover as a hooker to stop these horrific killings.\""
            ],
            "application/vnd.google.colaboratory.intrinsic+json": {
              "type": "string"
            }
          },
          "metadata": {},
          "execution_count": 12
        }
      ]
    },
    {
      "cell_type": "code",
      "source": [
        "movie_dataset.head(5)"
      ],
      "metadata": {
        "colab": {
          "base_uri": "https://localhost:8080/",
          "height": 660
        },
        "id": "f_iF2jVj23Hs",
        "outputId": "6102a27a-116c-4ee8-eb41-f1889093f717"
      },
      "execution_count": null,
      "outputs": [
        {
          "output_type": "execute_result",
          "data": {
            "text/plain": [
              "                        _id                 genres    imdb_id  \\\n",
              "0  5fc85f606758f69634496fd3  [\"Music\",\"Animation\"]        NaN   \n",
              "1  5fc85ff26758f696344ace0c                     []  tt0586129   \n",
              "2  5fc85f606758f69634496fcd              [\"Drama\"]  tt0045731   \n",
              "3  5fc85f606758f69634496fd1              [\"Drama\"]  tt0187327   \n",
              "4  5fc85f606758f69634496fd4        [\"Documentary\"]  tt4769914   \n",
              "\n",
              "                  movie_id              movie_title original_language  \\\n",
              "0          football-freaks          Football Freaks                en   \n",
              "1           aftermath-1960                Aftermath                en   \n",
              "2  where-chimneys-are-seen  Where Chimneys Are Seen                ja   \n",
              "3   the-musicians-daughter  The Musician's Daughter                en   \n",
              "4     50-years-of-fabulous     50 Years of Fabulous                en   \n",
              "\n",
              "                                            overview  popularity  \\\n",
              "0  Football crazy, football mad. Don’t watch this...       0.600   \n",
              "1  Aftermath was the pilot for an unsold TV serie...       0.600   \n",
              "2  Gosho’s most celebrated film both in Japan and...       1.568   \n",
              "3  Carl Wagner's good wife was dying. His heart b...       0.600   \n",
              "4  50 Years of Fabulous recounts the rich history...       0.600   \n",
              "\n",
              "           production_countries release_date  runtime spoken_languages  \\\n",
              "0            [\"United Kingdom\"]   1971-12-05      0.0               []   \n",
              "1                            []   1960-04-17     22.0               []   \n",
              "2                     [\"Japan\"]   1953-03-05    108.0          [\"日本語\"]   \n",
              "3  [\"United States of America\"]   1911-12-12     15.0               []   \n",
              "4                            []   2018-05-17     75.0               []   \n",
              "\n",
              "    tmdb_id  vote_average  vote_count  year_released  \n",
              "0  535272.0           0.0         0.0         1971.0  \n",
              "1  318331.0           8.0         1.0         1960.0  \n",
              "2  117779.0           6.6        10.0         1953.0  \n",
              "3  560377.0           0.0         0.0         1911.0  \n",
              "4  525187.0           0.0         0.0         2018.0  "
            ],
            "text/html": [
              "\n",
              "  <div id=\"df-33f4f231-43ee-4686-bdf7-7e035c082513\" class=\"colab-df-container\">\n",
              "    <div>\n",
              "<style scoped>\n",
              "    .dataframe tbody tr th:only-of-type {\n",
              "        vertical-align: middle;\n",
              "    }\n",
              "\n",
              "    .dataframe tbody tr th {\n",
              "        vertical-align: top;\n",
              "    }\n",
              "\n",
              "    .dataframe thead th {\n",
              "        text-align: right;\n",
              "    }\n",
              "</style>\n",
              "<table border=\"1\" class=\"dataframe\">\n",
              "  <thead>\n",
              "    <tr style=\"text-align: right;\">\n",
              "      <th></th>\n",
              "      <th>_id</th>\n",
              "      <th>genres</th>\n",
              "      <th>imdb_id</th>\n",
              "      <th>movie_id</th>\n",
              "      <th>movie_title</th>\n",
              "      <th>original_language</th>\n",
              "      <th>overview</th>\n",
              "      <th>popularity</th>\n",
              "      <th>production_countries</th>\n",
              "      <th>release_date</th>\n",
              "      <th>runtime</th>\n",
              "      <th>spoken_languages</th>\n",
              "      <th>tmdb_id</th>\n",
              "      <th>vote_average</th>\n",
              "      <th>vote_count</th>\n",
              "      <th>year_released</th>\n",
              "    </tr>\n",
              "  </thead>\n",
              "  <tbody>\n",
              "    <tr>\n",
              "      <th>0</th>\n",
              "      <td>5fc85f606758f69634496fd3</td>\n",
              "      <td>[\"Music\",\"Animation\"]</td>\n",
              "      <td>NaN</td>\n",
              "      <td>football-freaks</td>\n",
              "      <td>Football Freaks</td>\n",
              "      <td>en</td>\n",
              "      <td>Football crazy, football mad. Don’t watch this...</td>\n",
              "      <td>0.600</td>\n",
              "      <td>[\"United Kingdom\"]</td>\n",
              "      <td>1971-12-05</td>\n",
              "      <td>0.0</td>\n",
              "      <td>[]</td>\n",
              "      <td>535272.0</td>\n",
              "      <td>0.0</td>\n",
              "      <td>0.0</td>\n",
              "      <td>1971.0</td>\n",
              "    </tr>\n",
              "    <tr>\n",
              "      <th>1</th>\n",
              "      <td>5fc85ff26758f696344ace0c</td>\n",
              "      <td>[]</td>\n",
              "      <td>tt0586129</td>\n",
              "      <td>aftermath-1960</td>\n",
              "      <td>Aftermath</td>\n",
              "      <td>en</td>\n",
              "      <td>Aftermath was the pilot for an unsold TV serie...</td>\n",
              "      <td>0.600</td>\n",
              "      <td>[]</td>\n",
              "      <td>1960-04-17</td>\n",
              "      <td>22.0</td>\n",
              "      <td>[]</td>\n",
              "      <td>318331.0</td>\n",
              "      <td>8.0</td>\n",
              "      <td>1.0</td>\n",
              "      <td>1960.0</td>\n",
              "    </tr>\n",
              "    <tr>\n",
              "      <th>2</th>\n",
              "      <td>5fc85f606758f69634496fcd</td>\n",
              "      <td>[\"Drama\"]</td>\n",
              "      <td>tt0045731</td>\n",
              "      <td>where-chimneys-are-seen</td>\n",
              "      <td>Where Chimneys Are Seen</td>\n",
              "      <td>ja</td>\n",
              "      <td>Gosho’s most celebrated film both in Japan and...</td>\n",
              "      <td>1.568</td>\n",
              "      <td>[\"Japan\"]</td>\n",
              "      <td>1953-03-05</td>\n",
              "      <td>108.0</td>\n",
              "      <td>[\"日本語\"]</td>\n",
              "      <td>117779.0</td>\n",
              "      <td>6.6</td>\n",
              "      <td>10.0</td>\n",
              "      <td>1953.0</td>\n",
              "    </tr>\n",
              "    <tr>\n",
              "      <th>3</th>\n",
              "      <td>5fc85f606758f69634496fd1</td>\n",
              "      <td>[\"Drama\"]</td>\n",
              "      <td>tt0187327</td>\n",
              "      <td>the-musicians-daughter</td>\n",
              "      <td>The Musician's Daughter</td>\n",
              "      <td>en</td>\n",
              "      <td>Carl Wagner's good wife was dying. His heart b...</td>\n",
              "      <td>0.600</td>\n",
              "      <td>[\"United States of America\"]</td>\n",
              "      <td>1911-12-12</td>\n",
              "      <td>15.0</td>\n",
              "      <td>[]</td>\n",
              "      <td>560377.0</td>\n",
              "      <td>0.0</td>\n",
              "      <td>0.0</td>\n",
              "      <td>1911.0</td>\n",
              "    </tr>\n",
              "    <tr>\n",
              "      <th>4</th>\n",
              "      <td>5fc85f606758f69634496fd4</td>\n",
              "      <td>[\"Documentary\"]</td>\n",
              "      <td>tt4769914</td>\n",
              "      <td>50-years-of-fabulous</td>\n",
              "      <td>50 Years of Fabulous</td>\n",
              "      <td>en</td>\n",
              "      <td>50 Years of Fabulous recounts the rich history...</td>\n",
              "      <td>0.600</td>\n",
              "      <td>[]</td>\n",
              "      <td>2018-05-17</td>\n",
              "      <td>75.0</td>\n",
              "      <td>[]</td>\n",
              "      <td>525187.0</td>\n",
              "      <td>0.0</td>\n",
              "      <td>0.0</td>\n",
              "      <td>2018.0</td>\n",
              "    </tr>\n",
              "  </tbody>\n",
              "</table>\n",
              "</div>\n",
              "    <div class=\"colab-df-buttons\">\n",
              "\n",
              "  <div class=\"colab-df-container\">\n",
              "    <button class=\"colab-df-convert\" onclick=\"convertToInteractive('df-33f4f231-43ee-4686-bdf7-7e035c082513')\"\n",
              "            title=\"Convert this dataframe to an interactive table.\"\n",
              "            style=\"display:none;\">\n",
              "\n",
              "  <svg xmlns=\"http://www.w3.org/2000/svg\" height=\"24px\" viewBox=\"0 -960 960 960\">\n",
              "    <path d=\"M120-120v-720h720v720H120Zm60-500h600v-160H180v160Zm220 220h160v-160H400v160Zm0 220h160v-160H400v160ZM180-400h160v-160H180v160Zm440 0h160v-160H620v160ZM180-180h160v-160H180v160Zm440 0h160v-160H620v160Z\"/>\n",
              "  </svg>\n",
              "    </button>\n",
              "\n",
              "  <style>\n",
              "    .colab-df-container {\n",
              "      display:flex;\n",
              "      gap: 12px;\n",
              "    }\n",
              "\n",
              "    .colab-df-convert {\n",
              "      background-color: #E8F0FE;\n",
              "      border: none;\n",
              "      border-radius: 50%;\n",
              "      cursor: pointer;\n",
              "      display: none;\n",
              "      fill: #1967D2;\n",
              "      height: 32px;\n",
              "      padding: 0 0 0 0;\n",
              "      width: 32px;\n",
              "    }\n",
              "\n",
              "    .colab-df-convert:hover {\n",
              "      background-color: #E2EBFA;\n",
              "      box-shadow: 0px 1px 2px rgba(60, 64, 67, 0.3), 0px 1px 3px 1px rgba(60, 64, 67, 0.15);\n",
              "      fill: #174EA6;\n",
              "    }\n",
              "\n",
              "    .colab-df-buttons div {\n",
              "      margin-bottom: 4px;\n",
              "    }\n",
              "\n",
              "    [theme=dark] .colab-df-convert {\n",
              "      background-color: #3B4455;\n",
              "      fill: #D2E3FC;\n",
              "    }\n",
              "\n",
              "    [theme=dark] .colab-df-convert:hover {\n",
              "      background-color: #434B5C;\n",
              "      box-shadow: 0px 1px 3px 1px rgba(0, 0, 0, 0.15);\n",
              "      filter: drop-shadow(0px 1px 2px rgba(0, 0, 0, 0.3));\n",
              "      fill: #FFFFFF;\n",
              "    }\n",
              "  </style>\n",
              "\n",
              "    <script>\n",
              "      const buttonEl =\n",
              "        document.querySelector('#df-33f4f231-43ee-4686-bdf7-7e035c082513 button.colab-df-convert');\n",
              "      buttonEl.style.display =\n",
              "        google.colab.kernel.accessAllowed ? 'block' : 'none';\n",
              "\n",
              "      async function convertToInteractive(key) {\n",
              "        const element = document.querySelector('#df-33f4f231-43ee-4686-bdf7-7e035c082513');\n",
              "        const dataTable =\n",
              "          await google.colab.kernel.invokeFunction('convertToInteractive',\n",
              "                                                    [key], {});\n",
              "        if (!dataTable) return;\n",
              "\n",
              "        const docLinkHtml = 'Like what you see? Visit the ' +\n",
              "          '<a target=\"_blank\" href=https://colab.research.google.com/notebooks/data_table.ipynb>data table notebook</a>'\n",
              "          + ' to learn more about interactive tables.';\n",
              "        element.innerHTML = '';\n",
              "        dataTable['output_type'] = 'display_data';\n",
              "        await google.colab.output.renderOutput(dataTable, element);\n",
              "        const docLink = document.createElement('div');\n",
              "        docLink.innerHTML = docLinkHtml;\n",
              "        element.appendChild(docLink);\n",
              "      }\n",
              "    </script>\n",
              "  </div>\n",
              "\n",
              "\n",
              "    <div id=\"df-ba229574-6d33-4841-876c-7c8fa697b0c6\">\n",
              "      <button class=\"colab-df-quickchart\" onclick=\"quickchart('df-ba229574-6d33-4841-876c-7c8fa697b0c6')\"\n",
              "                title=\"Suggest charts\"\n",
              "                style=\"display:none;\">\n",
              "\n",
              "<svg xmlns=\"http://www.w3.org/2000/svg\" height=\"24px\"viewBox=\"0 0 24 24\"\n",
              "     width=\"24px\">\n",
              "    <g>\n",
              "        <path d=\"M19 3H5c-1.1 0-2 .9-2 2v14c0 1.1.9 2 2 2h14c1.1 0 2-.9 2-2V5c0-1.1-.9-2-2-2zM9 17H7v-7h2v7zm4 0h-2V7h2v10zm4 0h-2v-4h2v4z\"/>\n",
              "    </g>\n",
              "</svg>\n",
              "      </button>\n",
              "\n",
              "<style>\n",
              "  .colab-df-quickchart {\n",
              "      --bg-color: #E8F0FE;\n",
              "      --fill-color: #1967D2;\n",
              "      --hover-bg-color: #E2EBFA;\n",
              "      --hover-fill-color: #174EA6;\n",
              "      --disabled-fill-color: #AAA;\n",
              "      --disabled-bg-color: #DDD;\n",
              "  }\n",
              "\n",
              "  [theme=dark] .colab-df-quickchart {\n",
              "      --bg-color: #3B4455;\n",
              "      --fill-color: #D2E3FC;\n",
              "      --hover-bg-color: #434B5C;\n",
              "      --hover-fill-color: #FFFFFF;\n",
              "      --disabled-bg-color: #3B4455;\n",
              "      --disabled-fill-color: #666;\n",
              "  }\n",
              "\n",
              "  .colab-df-quickchart {\n",
              "    background-color: var(--bg-color);\n",
              "    border: none;\n",
              "    border-radius: 50%;\n",
              "    cursor: pointer;\n",
              "    display: none;\n",
              "    fill: var(--fill-color);\n",
              "    height: 32px;\n",
              "    padding: 0;\n",
              "    width: 32px;\n",
              "  }\n",
              "\n",
              "  .colab-df-quickchart:hover {\n",
              "    background-color: var(--hover-bg-color);\n",
              "    box-shadow: 0 1px 2px rgba(60, 64, 67, 0.3), 0 1px 3px 1px rgba(60, 64, 67, 0.15);\n",
              "    fill: var(--button-hover-fill-color);\n",
              "  }\n",
              "\n",
              "  .colab-df-quickchart-complete:disabled,\n",
              "  .colab-df-quickchart-complete:disabled:hover {\n",
              "    background-color: var(--disabled-bg-color);\n",
              "    fill: var(--disabled-fill-color);\n",
              "    box-shadow: none;\n",
              "  }\n",
              "\n",
              "  .colab-df-spinner {\n",
              "    border: 2px solid var(--fill-color);\n",
              "    border-color: transparent;\n",
              "    border-bottom-color: var(--fill-color);\n",
              "    animation:\n",
              "      spin 1s steps(1) infinite;\n",
              "  }\n",
              "\n",
              "  @keyframes spin {\n",
              "    0% {\n",
              "      border-color: transparent;\n",
              "      border-bottom-color: var(--fill-color);\n",
              "      border-left-color: var(--fill-color);\n",
              "    }\n",
              "    20% {\n",
              "      border-color: transparent;\n",
              "      border-left-color: var(--fill-color);\n",
              "      border-top-color: var(--fill-color);\n",
              "    }\n",
              "    30% {\n",
              "      border-color: transparent;\n",
              "      border-left-color: var(--fill-color);\n",
              "      border-top-color: var(--fill-color);\n",
              "      border-right-color: var(--fill-color);\n",
              "    }\n",
              "    40% {\n",
              "      border-color: transparent;\n",
              "      border-right-color: var(--fill-color);\n",
              "      border-top-color: var(--fill-color);\n",
              "    }\n",
              "    60% {\n",
              "      border-color: transparent;\n",
              "      border-right-color: var(--fill-color);\n",
              "    }\n",
              "    80% {\n",
              "      border-color: transparent;\n",
              "      border-right-color: var(--fill-color);\n",
              "      border-bottom-color: var(--fill-color);\n",
              "    }\n",
              "    90% {\n",
              "      border-color: transparent;\n",
              "      border-bottom-color: var(--fill-color);\n",
              "    }\n",
              "  }\n",
              "</style>\n",
              "\n",
              "      <script>\n",
              "        async function quickchart(key) {\n",
              "          const quickchartButtonEl =\n",
              "            document.querySelector('#' + key + ' button');\n",
              "          quickchartButtonEl.disabled = true;  // To prevent multiple clicks.\n",
              "          quickchartButtonEl.classList.add('colab-df-spinner');\n",
              "          try {\n",
              "            const charts = await google.colab.kernel.invokeFunction(\n",
              "                'suggestCharts', [key], {});\n",
              "          } catch (error) {\n",
              "            console.error('Error during call to suggestCharts:', error);\n",
              "          }\n",
              "          quickchartButtonEl.classList.remove('colab-df-spinner');\n",
              "          quickchartButtonEl.classList.add('colab-df-quickchart-complete');\n",
              "        }\n",
              "        (() => {\n",
              "          let quickchartButtonEl =\n",
              "            document.querySelector('#df-ba229574-6d33-4841-876c-7c8fa697b0c6 button');\n",
              "          quickchartButtonEl.style.display =\n",
              "            google.colab.kernel.accessAllowed ? 'block' : 'none';\n",
              "        })();\n",
              "      </script>\n",
              "    </div>\n",
              "\n",
              "    </div>\n",
              "  </div>\n"
            ],
            "application/vnd.google.colaboratory.intrinsic+json": {
              "type": "dataframe",
              "variable_name": "movie_dataset"
            }
          },
          "metadata": {},
          "execution_count": 9
        }
      ]
    },
    {
      "cell_type": "markdown",
      "source": [
        "# Ratings Dataset"
      ],
      "metadata": {
        "id": "cVIfWueA9J_x"
      }
    },
    {
      "cell_type": "code",
      "source": [
        "ratings_dataset=pd.read_csv(\"/kaggle/temp/ratings_export.csv\")\n",
        "ratings_dataset.info()"
      ],
      "metadata": {
        "colab": {
          "base_uri": "https://localhost:8080/"
        },
        "id": "ocQDeHyr27PB",
        "outputId": "66475152-2d73-4b55-efd3-f668e573cc98"
      },
      "execution_count": 9,
      "outputs": [
        {
          "output_type": "stream",
          "name": "stdout",
          "text": [
            "<class 'pandas.core.frame.DataFrame'>\n",
            "RangeIndex: 11078167 entries, 0 to 11078166\n",
            "Data columns (total 4 columns):\n",
            " #   Column      Dtype \n",
            "---  ------      ----- \n",
            " 0   _id         object\n",
            " 1   movie_id    object\n",
            " 2   rating_val  int64 \n",
            " 3   user_id     object\n",
            "dtypes: int64(1), object(3)\n",
            "memory usage: 338.1+ MB\n"
          ]
        }
      ]
    },
    {
      "cell_type": "code",
      "source": [
        "ratings_dataset"
      ],
      "metadata": {
        "colab": {
          "base_uri": "https://localhost:8080/",
          "height": 423
        },
        "id": "PYuV7GPr4UEt",
        "outputId": "b899ae90-d1bb-4f62-89e7-c61ddd5db851"
      },
      "execution_count": null,
      "outputs": [
        {
          "output_type": "execute_result",
          "data": {
            "text/plain": [
              "                               _id             movie_id  rating_val  \\\n",
              "0         5fc57c5d6758f6963451a07f           feast-2014           7   \n",
              "1         5fc57c5d6758f6963451a063          loving-2016           7   \n",
              "2         5fc57c5d6758f6963451a0ef     scripted-content           7   \n",
              "3         5fc57c5d6758f6963451a060           the-future           4   \n",
              "4         5fc57c5c6758f69634519398                 mank           5   \n",
              "...                            ...                  ...         ...   \n",
              "11078162  6239f4f1a936b95600b3d798              alien-3           6   \n",
              "11078163  6239f4f1a936b95600b3d799  battleship-potemkin           7   \n",
              "11078164  6239f4f1a936b95600b3d79e               pusher           6   \n",
              "11078165  6239f4f1a936b95600b3d7a1    wild-strawberries           7   \n",
              "11078166  6239f4f1a936b95600b3d7a2               x-2022           5   \n",
              "\n",
              "             user_id  \n",
              "0         deathproof  \n",
              "1         deathproof  \n",
              "2         deathproof  \n",
              "3         deathproof  \n",
              "4         deathproof  \n",
              "...              ...  \n",
              "11078162    turnitip  \n",
              "11078163    turnitip  \n",
              "11078164    turnitip  \n",
              "11078165    turnitip  \n",
              "11078166    turnitip  \n",
              "\n",
              "[11078167 rows x 4 columns]"
            ],
            "text/html": [
              "\n",
              "  <div id=\"df-043a3124-2352-4cb3-aab2-925c7f73e0d9\" class=\"colab-df-container\">\n",
              "    <div>\n",
              "<style scoped>\n",
              "    .dataframe tbody tr th:only-of-type {\n",
              "        vertical-align: middle;\n",
              "    }\n",
              "\n",
              "    .dataframe tbody tr th {\n",
              "        vertical-align: top;\n",
              "    }\n",
              "\n",
              "    .dataframe thead th {\n",
              "        text-align: right;\n",
              "    }\n",
              "</style>\n",
              "<table border=\"1\" class=\"dataframe\">\n",
              "  <thead>\n",
              "    <tr style=\"text-align: right;\">\n",
              "      <th></th>\n",
              "      <th>_id</th>\n",
              "      <th>movie_id</th>\n",
              "      <th>rating_val</th>\n",
              "      <th>user_id</th>\n",
              "    </tr>\n",
              "  </thead>\n",
              "  <tbody>\n",
              "    <tr>\n",
              "      <th>0</th>\n",
              "      <td>5fc57c5d6758f6963451a07f</td>\n",
              "      <td>feast-2014</td>\n",
              "      <td>7</td>\n",
              "      <td>deathproof</td>\n",
              "    </tr>\n",
              "    <tr>\n",
              "      <th>1</th>\n",
              "      <td>5fc57c5d6758f6963451a063</td>\n",
              "      <td>loving-2016</td>\n",
              "      <td>7</td>\n",
              "      <td>deathproof</td>\n",
              "    </tr>\n",
              "    <tr>\n",
              "      <th>2</th>\n",
              "      <td>5fc57c5d6758f6963451a0ef</td>\n",
              "      <td>scripted-content</td>\n",
              "      <td>7</td>\n",
              "      <td>deathproof</td>\n",
              "    </tr>\n",
              "    <tr>\n",
              "      <th>3</th>\n",
              "      <td>5fc57c5d6758f6963451a060</td>\n",
              "      <td>the-future</td>\n",
              "      <td>4</td>\n",
              "      <td>deathproof</td>\n",
              "    </tr>\n",
              "    <tr>\n",
              "      <th>4</th>\n",
              "      <td>5fc57c5c6758f69634519398</td>\n",
              "      <td>mank</td>\n",
              "      <td>5</td>\n",
              "      <td>deathproof</td>\n",
              "    </tr>\n",
              "    <tr>\n",
              "      <th>...</th>\n",
              "      <td>...</td>\n",
              "      <td>...</td>\n",
              "      <td>...</td>\n",
              "      <td>...</td>\n",
              "    </tr>\n",
              "    <tr>\n",
              "      <th>11078162</th>\n",
              "      <td>6239f4f1a936b95600b3d798</td>\n",
              "      <td>alien-3</td>\n",
              "      <td>6</td>\n",
              "      <td>turnitip</td>\n",
              "    </tr>\n",
              "    <tr>\n",
              "      <th>11078163</th>\n",
              "      <td>6239f4f1a936b95600b3d799</td>\n",
              "      <td>battleship-potemkin</td>\n",
              "      <td>7</td>\n",
              "      <td>turnitip</td>\n",
              "    </tr>\n",
              "    <tr>\n",
              "      <th>11078164</th>\n",
              "      <td>6239f4f1a936b95600b3d79e</td>\n",
              "      <td>pusher</td>\n",
              "      <td>6</td>\n",
              "      <td>turnitip</td>\n",
              "    </tr>\n",
              "    <tr>\n",
              "      <th>11078165</th>\n",
              "      <td>6239f4f1a936b95600b3d7a1</td>\n",
              "      <td>wild-strawberries</td>\n",
              "      <td>7</td>\n",
              "      <td>turnitip</td>\n",
              "    </tr>\n",
              "    <tr>\n",
              "      <th>11078166</th>\n",
              "      <td>6239f4f1a936b95600b3d7a2</td>\n",
              "      <td>x-2022</td>\n",
              "      <td>5</td>\n",
              "      <td>turnitip</td>\n",
              "    </tr>\n",
              "  </tbody>\n",
              "</table>\n",
              "<p>11078167 rows × 4 columns</p>\n",
              "</div>\n",
              "    <div class=\"colab-df-buttons\">\n",
              "\n",
              "  <div class=\"colab-df-container\">\n",
              "    <button class=\"colab-df-convert\" onclick=\"convertToInteractive('df-043a3124-2352-4cb3-aab2-925c7f73e0d9')\"\n",
              "            title=\"Convert this dataframe to an interactive table.\"\n",
              "            style=\"display:none;\">\n",
              "\n",
              "  <svg xmlns=\"http://www.w3.org/2000/svg\" height=\"24px\" viewBox=\"0 -960 960 960\">\n",
              "    <path d=\"M120-120v-720h720v720H120Zm60-500h600v-160H180v160Zm220 220h160v-160H400v160Zm0 220h160v-160H400v160ZM180-400h160v-160H180v160Zm440 0h160v-160H620v160ZM180-180h160v-160H180v160Zm440 0h160v-160H620v160Z\"/>\n",
              "  </svg>\n",
              "    </button>\n",
              "\n",
              "  <style>\n",
              "    .colab-df-container {\n",
              "      display:flex;\n",
              "      gap: 12px;\n",
              "    }\n",
              "\n",
              "    .colab-df-convert {\n",
              "      background-color: #E8F0FE;\n",
              "      border: none;\n",
              "      border-radius: 50%;\n",
              "      cursor: pointer;\n",
              "      display: none;\n",
              "      fill: #1967D2;\n",
              "      height: 32px;\n",
              "      padding: 0 0 0 0;\n",
              "      width: 32px;\n",
              "    }\n",
              "\n",
              "    .colab-df-convert:hover {\n",
              "      background-color: #E2EBFA;\n",
              "      box-shadow: 0px 1px 2px rgba(60, 64, 67, 0.3), 0px 1px 3px 1px rgba(60, 64, 67, 0.15);\n",
              "      fill: #174EA6;\n",
              "    }\n",
              "\n",
              "    .colab-df-buttons div {\n",
              "      margin-bottom: 4px;\n",
              "    }\n",
              "\n",
              "    [theme=dark] .colab-df-convert {\n",
              "      background-color: #3B4455;\n",
              "      fill: #D2E3FC;\n",
              "    }\n",
              "\n",
              "    [theme=dark] .colab-df-convert:hover {\n",
              "      background-color: #434B5C;\n",
              "      box-shadow: 0px 1px 3px 1px rgba(0, 0, 0, 0.15);\n",
              "      filter: drop-shadow(0px 1px 2px rgba(0, 0, 0, 0.3));\n",
              "      fill: #FFFFFF;\n",
              "    }\n",
              "  </style>\n",
              "\n",
              "    <script>\n",
              "      const buttonEl =\n",
              "        document.querySelector('#df-043a3124-2352-4cb3-aab2-925c7f73e0d9 button.colab-df-convert');\n",
              "      buttonEl.style.display =\n",
              "        google.colab.kernel.accessAllowed ? 'block' : 'none';\n",
              "\n",
              "      async function convertToInteractive(key) {\n",
              "        const element = document.querySelector('#df-043a3124-2352-4cb3-aab2-925c7f73e0d9');\n",
              "        const dataTable =\n",
              "          await google.colab.kernel.invokeFunction('convertToInteractive',\n",
              "                                                    [key], {});\n",
              "        if (!dataTable) return;\n",
              "\n",
              "        const docLinkHtml = 'Like what you see? Visit the ' +\n",
              "          '<a target=\"_blank\" href=https://colab.research.google.com/notebooks/data_table.ipynb>data table notebook</a>'\n",
              "          + ' to learn more about interactive tables.';\n",
              "        element.innerHTML = '';\n",
              "        dataTable['output_type'] = 'display_data';\n",
              "        await google.colab.output.renderOutput(dataTable, element);\n",
              "        const docLink = document.createElement('div');\n",
              "        docLink.innerHTML = docLinkHtml;\n",
              "        element.appendChild(docLink);\n",
              "      }\n",
              "    </script>\n",
              "  </div>\n",
              "\n",
              "\n",
              "    <div id=\"df-d3451d3c-a870-47c1-8d4f-93b86098ecb0\">\n",
              "      <button class=\"colab-df-quickchart\" onclick=\"quickchart('df-d3451d3c-a870-47c1-8d4f-93b86098ecb0')\"\n",
              "                title=\"Suggest charts\"\n",
              "                style=\"display:none;\">\n",
              "\n",
              "<svg xmlns=\"http://www.w3.org/2000/svg\" height=\"24px\"viewBox=\"0 0 24 24\"\n",
              "     width=\"24px\">\n",
              "    <g>\n",
              "        <path d=\"M19 3H5c-1.1 0-2 .9-2 2v14c0 1.1.9 2 2 2h14c1.1 0 2-.9 2-2V5c0-1.1-.9-2-2-2zM9 17H7v-7h2v7zm4 0h-2V7h2v10zm4 0h-2v-4h2v4z\"/>\n",
              "    </g>\n",
              "</svg>\n",
              "      </button>\n",
              "\n",
              "<style>\n",
              "  .colab-df-quickchart {\n",
              "      --bg-color: #E8F0FE;\n",
              "      --fill-color: #1967D2;\n",
              "      --hover-bg-color: #E2EBFA;\n",
              "      --hover-fill-color: #174EA6;\n",
              "      --disabled-fill-color: #AAA;\n",
              "      --disabled-bg-color: #DDD;\n",
              "  }\n",
              "\n",
              "  [theme=dark] .colab-df-quickchart {\n",
              "      --bg-color: #3B4455;\n",
              "      --fill-color: #D2E3FC;\n",
              "      --hover-bg-color: #434B5C;\n",
              "      --hover-fill-color: #FFFFFF;\n",
              "      --disabled-bg-color: #3B4455;\n",
              "      --disabled-fill-color: #666;\n",
              "  }\n",
              "\n",
              "  .colab-df-quickchart {\n",
              "    background-color: var(--bg-color);\n",
              "    border: none;\n",
              "    border-radius: 50%;\n",
              "    cursor: pointer;\n",
              "    display: none;\n",
              "    fill: var(--fill-color);\n",
              "    height: 32px;\n",
              "    padding: 0;\n",
              "    width: 32px;\n",
              "  }\n",
              "\n",
              "  .colab-df-quickchart:hover {\n",
              "    background-color: var(--hover-bg-color);\n",
              "    box-shadow: 0 1px 2px rgba(60, 64, 67, 0.3), 0 1px 3px 1px rgba(60, 64, 67, 0.15);\n",
              "    fill: var(--button-hover-fill-color);\n",
              "  }\n",
              "\n",
              "  .colab-df-quickchart-complete:disabled,\n",
              "  .colab-df-quickchart-complete:disabled:hover {\n",
              "    background-color: var(--disabled-bg-color);\n",
              "    fill: var(--disabled-fill-color);\n",
              "    box-shadow: none;\n",
              "  }\n",
              "\n",
              "  .colab-df-spinner {\n",
              "    border: 2px solid var(--fill-color);\n",
              "    border-color: transparent;\n",
              "    border-bottom-color: var(--fill-color);\n",
              "    animation:\n",
              "      spin 1s steps(1) infinite;\n",
              "  }\n",
              "\n",
              "  @keyframes spin {\n",
              "    0% {\n",
              "      border-color: transparent;\n",
              "      border-bottom-color: var(--fill-color);\n",
              "      border-left-color: var(--fill-color);\n",
              "    }\n",
              "    20% {\n",
              "      border-color: transparent;\n",
              "      border-left-color: var(--fill-color);\n",
              "      border-top-color: var(--fill-color);\n",
              "    }\n",
              "    30% {\n",
              "      border-color: transparent;\n",
              "      border-left-color: var(--fill-color);\n",
              "      border-top-color: var(--fill-color);\n",
              "      border-right-color: var(--fill-color);\n",
              "    }\n",
              "    40% {\n",
              "      border-color: transparent;\n",
              "      border-right-color: var(--fill-color);\n",
              "      border-top-color: var(--fill-color);\n",
              "    }\n",
              "    60% {\n",
              "      border-color: transparent;\n",
              "      border-right-color: var(--fill-color);\n",
              "    }\n",
              "    80% {\n",
              "      border-color: transparent;\n",
              "      border-right-color: var(--fill-color);\n",
              "      border-bottom-color: var(--fill-color);\n",
              "    }\n",
              "    90% {\n",
              "      border-color: transparent;\n",
              "      border-bottom-color: var(--fill-color);\n",
              "    }\n",
              "  }\n",
              "</style>\n",
              "\n",
              "      <script>\n",
              "        async function quickchart(key) {\n",
              "          const quickchartButtonEl =\n",
              "            document.querySelector('#' + key + ' button');\n",
              "          quickchartButtonEl.disabled = true;  // To prevent multiple clicks.\n",
              "          quickchartButtonEl.classList.add('colab-df-spinner');\n",
              "          try {\n",
              "            const charts = await google.colab.kernel.invokeFunction(\n",
              "                'suggestCharts', [key], {});\n",
              "          } catch (error) {\n",
              "            console.error('Error during call to suggestCharts:', error);\n",
              "          }\n",
              "          quickchartButtonEl.classList.remove('colab-df-spinner');\n",
              "          quickchartButtonEl.classList.add('colab-df-quickchart-complete');\n",
              "        }\n",
              "        (() => {\n",
              "          let quickchartButtonEl =\n",
              "            document.querySelector('#df-d3451d3c-a870-47c1-8d4f-93b86098ecb0 button');\n",
              "          quickchartButtonEl.style.display =\n",
              "            google.colab.kernel.accessAllowed ? 'block' : 'none';\n",
              "        })();\n",
              "      </script>\n",
              "    </div>\n",
              "\n",
              "  <div id=\"id_50b2a0b5-42a8-4371-96b4-07214c5b57c5\">\n",
              "    <style>\n",
              "      .colab-df-generate {\n",
              "        background-color: #E8F0FE;\n",
              "        border: none;\n",
              "        border-radius: 50%;\n",
              "        cursor: pointer;\n",
              "        display: none;\n",
              "        fill: #1967D2;\n",
              "        height: 32px;\n",
              "        padding: 0 0 0 0;\n",
              "        width: 32px;\n",
              "      }\n",
              "\n",
              "      .colab-df-generate:hover {\n",
              "        background-color: #E2EBFA;\n",
              "        box-shadow: 0px 1px 2px rgba(60, 64, 67, 0.3), 0px 1px 3px 1px rgba(60, 64, 67, 0.15);\n",
              "        fill: #174EA6;\n",
              "      }\n",
              "\n",
              "      [theme=dark] .colab-df-generate {\n",
              "        background-color: #3B4455;\n",
              "        fill: #D2E3FC;\n",
              "      }\n",
              "\n",
              "      [theme=dark] .colab-df-generate:hover {\n",
              "        background-color: #434B5C;\n",
              "        box-shadow: 0px 1px 3px 1px rgba(0, 0, 0, 0.15);\n",
              "        filter: drop-shadow(0px 1px 2px rgba(0, 0, 0, 0.3));\n",
              "        fill: #FFFFFF;\n",
              "      }\n",
              "    </style>\n",
              "    <button class=\"colab-df-generate\" onclick=\"generateWithVariable('ratings_dataset')\"\n",
              "            title=\"Generate code using this dataframe.\"\n",
              "            style=\"display:none;\">\n",
              "\n",
              "  <svg xmlns=\"http://www.w3.org/2000/svg\" height=\"24px\"viewBox=\"0 0 24 24\"\n",
              "       width=\"24px\">\n",
              "    <path d=\"M7,19H8.4L18.45,9,17,7.55,7,17.6ZM5,21V16.75L18.45,3.32a2,2,0,0,1,2.83,0l1.4,1.43a1.91,1.91,0,0,1,.58,1.4,1.91,1.91,0,0,1-.58,1.4L9.25,21ZM18.45,9,17,7.55Zm-12,3A5.31,5.31,0,0,0,4.9,8.1,5.31,5.31,0,0,0,1,6.5,5.31,5.31,0,0,0,4.9,4.9,5.31,5.31,0,0,0,6.5,1,5.31,5.31,0,0,0,8.1,4.9,5.31,5.31,0,0,0,12,6.5,5.46,5.46,0,0,0,6.5,12Z\"/>\n",
              "  </svg>\n",
              "    </button>\n",
              "    <script>\n",
              "      (() => {\n",
              "      const buttonEl =\n",
              "        document.querySelector('#id_50b2a0b5-42a8-4371-96b4-07214c5b57c5 button.colab-df-generate');\n",
              "      buttonEl.style.display =\n",
              "        google.colab.kernel.accessAllowed ? 'block' : 'none';\n",
              "\n",
              "      buttonEl.onclick = () => {\n",
              "        google.colab.notebook.generateWithVariable('ratings_dataset');\n",
              "      }\n",
              "      })();\n",
              "    </script>\n",
              "  </div>\n",
              "\n",
              "    </div>\n",
              "  </div>\n"
            ],
            "application/vnd.google.colaboratory.intrinsic+json": {
              "type": "dataframe",
              "variable_name": "ratings_dataset"
            }
          },
          "metadata": {},
          "execution_count": 58
        }
      ]
    },
    {
      "cell_type": "code",
      "source": [
        "ratings_dataset[\"movie_id\"]==\"gainsbourg-toute-une-vi\""
      ],
      "metadata": {
        "colab": {
          "base_uri": "https://localhost:8080/",
          "height": 458
        },
        "id": "_9cNW3BNEW-M",
        "outputId": "e9f81b32-3456-477d-beae-3617d49bc26e"
      },
      "execution_count": null,
      "outputs": [
        {
          "output_type": "execute_result",
          "data": {
            "text/plain": [
              "0           False\n",
              "1           False\n",
              "2           False\n",
              "3           False\n",
              "4           False\n",
              "            ...  \n",
              "11078162    False\n",
              "11078163    False\n",
              "11078164    False\n",
              "11078165    False\n",
              "11078166    False\n",
              "Name: movie_id, Length: 11078167, dtype: bool"
            ],
            "text/html": [
              "<div>\n",
              "<style scoped>\n",
              "    .dataframe tbody tr th:only-of-type {\n",
              "        vertical-align: middle;\n",
              "    }\n",
              "\n",
              "    .dataframe tbody tr th {\n",
              "        vertical-align: top;\n",
              "    }\n",
              "\n",
              "    .dataframe thead th {\n",
              "        text-align: right;\n",
              "    }\n",
              "</style>\n",
              "<table border=\"1\" class=\"dataframe\">\n",
              "  <thead>\n",
              "    <tr style=\"text-align: right;\">\n",
              "      <th></th>\n",
              "      <th>movie_id</th>\n",
              "    </tr>\n",
              "  </thead>\n",
              "  <tbody>\n",
              "    <tr>\n",
              "      <th>0</th>\n",
              "      <td>False</td>\n",
              "    </tr>\n",
              "    <tr>\n",
              "      <th>1</th>\n",
              "      <td>False</td>\n",
              "    </tr>\n",
              "    <tr>\n",
              "      <th>2</th>\n",
              "      <td>False</td>\n",
              "    </tr>\n",
              "    <tr>\n",
              "      <th>3</th>\n",
              "      <td>False</td>\n",
              "    </tr>\n",
              "    <tr>\n",
              "      <th>4</th>\n",
              "      <td>False</td>\n",
              "    </tr>\n",
              "    <tr>\n",
              "      <th>...</th>\n",
              "      <td>...</td>\n",
              "    </tr>\n",
              "    <tr>\n",
              "      <th>11078162</th>\n",
              "      <td>False</td>\n",
              "    </tr>\n",
              "    <tr>\n",
              "      <th>11078163</th>\n",
              "      <td>False</td>\n",
              "    </tr>\n",
              "    <tr>\n",
              "      <th>11078164</th>\n",
              "      <td>False</td>\n",
              "    </tr>\n",
              "    <tr>\n",
              "      <th>11078165</th>\n",
              "      <td>False</td>\n",
              "    </tr>\n",
              "    <tr>\n",
              "      <th>11078166</th>\n",
              "      <td>False</td>\n",
              "    </tr>\n",
              "  </tbody>\n",
              "</table>\n",
              "<p>11078167 rows × 1 columns</p>\n",
              "</div><br><label><b>dtype:</b> bool</label>"
            ]
          },
          "metadata": {},
          "execution_count": 73
        }
      ]
    },
    {
      "cell_type": "code",
      "source": [],
      "metadata": {
        "id": "IRzE06VFLibV"
      },
      "execution_count": 75,
      "outputs": []
    },
    {
      "cell_type": "code",
      "source": [
        "\n",
        "## take random samples from datasets\n",
        "import random\n",
        "SAMPLE_SIZE=200000\n",
        "random.seed(72)\n",
        "indices = random.sample(range(len(movie_dataset)), SAMPLE_SIZE)\n",
        "indices.sort()\n",
        "movie_dataset=movie_dataset.loc[indices]"
      ],
      "metadata": {
        "id": "0oI6C6MOJTcx"
      },
      "execution_count": 10,
      "outputs": []
    },
    {
      "cell_type": "code",
      "source": [
        "ratings_dataset=ratings_dataset.loc[indices]"
      ],
      "metadata": {
        "id": "QwPyNEstJTVr"
      },
      "execution_count": 11,
      "outputs": []
    },
    {
      "cell_type": "code",
      "source": [
        "ratings_dataset.shape"
      ],
      "metadata": {
        "colab": {
          "base_uri": "https://localhost:8080/"
        },
        "id": "ADLp1qO_LDhJ",
        "outputId": "860f08c6-e7c9-4b72-8282-c1d1997b0e80"
      },
      "execution_count": null,
      "outputs": [
        {
          "output_type": "execute_result",
          "data": {
            "text/plain": [
              "(200000, 4)"
            ]
          },
          "metadata": {},
          "execution_count": 110
        }
      ]
    },
    {
      "cell_type": "markdown",
      "source": [
        "# Users Datasets"
      ],
      "metadata": {
        "id": "7kc2rpAo9OzF"
      }
    },
    {
      "cell_type": "code",
      "source": [
        "users_dataset=pd.read_csv(\"/kaggle/temp/users_export.csv\")\n",
        "users_dataset.info()"
      ],
      "metadata": {
        "colab": {
          "base_uri": "https://localhost:8080/"
        },
        "id": "BQl2zWNA4Z4s",
        "outputId": "7576d76e-8a0f-462b-d3f8-eaf566b83dad"
      },
      "execution_count": null,
      "outputs": [
        {
          "output_type": "stream",
          "name": "stdout",
          "text": [
            "<class 'pandas.core.frame.DataFrame'>\n",
            "RangeIndex: 8139 entries, 0 to 8138\n",
            "Data columns (total 5 columns):\n",
            " #   Column             Non-Null Count  Dtype  \n",
            "---  ------             --------------  -----  \n",
            " 0   _id                8139 non-null   object \n",
            " 1   display_name       7832 non-null   object \n",
            " 2   num_ratings_pages  4747 non-null   float64\n",
            " 3   num_reviews        8139 non-null   int64  \n",
            " 4   username           8139 non-null   object \n",
            "dtypes: float64(1), int64(1), object(3)\n",
            "memory usage: 318.1+ KB\n"
          ]
        }
      ]
    },
    {
      "cell_type": "code",
      "source": [
        "users_dataset.head(5)"
      ],
      "metadata": {
        "colab": {
          "base_uri": "https://localhost:8080/",
          "height": 206
        },
        "id": "1e56vduw4hDI",
        "outputId": "8f2d56fc-d323-466a-b81d-787596f2e88e"
      },
      "execution_count": null,
      "outputs": [
        {
          "output_type": "execute_result",
          "data": {
            "text/plain": [
              "                        _id display_name  num_ratings_pages  num_reviews  \\\n",
              "0  5fc4172ec6cd28ebd99dd0e2         Lucy               32.0         1650   \n",
              "1  5fc4172ec6cd28ebd99dd0ea  Matt Singer               52.0         1915   \n",
              "2  5fc4172ec6cd28ebd99dd0ed   Sean Baker               21.0         1283   \n",
              "3  5fc4172ec6cd28ebd99dd0ee         iana               37.0         1177   \n",
              "4  5fc419171ebf67b9fbe48615        Lizzy               57.0         1810   \n",
              "\n",
              "          username  \n",
              "0       deathproof  \n",
              "1       superpulse  \n",
              "2          lilfilm  \n",
              "3       ianamurray  \n",
              "4  punchdrunklizzy  "
            ],
            "text/html": [
              "\n",
              "  <div id=\"df-3438563b-d00e-47e4-b251-08843eca825f\" class=\"colab-df-container\">\n",
              "    <div>\n",
              "<style scoped>\n",
              "    .dataframe tbody tr th:only-of-type {\n",
              "        vertical-align: middle;\n",
              "    }\n",
              "\n",
              "    .dataframe tbody tr th {\n",
              "        vertical-align: top;\n",
              "    }\n",
              "\n",
              "    .dataframe thead th {\n",
              "        text-align: right;\n",
              "    }\n",
              "</style>\n",
              "<table border=\"1\" class=\"dataframe\">\n",
              "  <thead>\n",
              "    <tr style=\"text-align: right;\">\n",
              "      <th></th>\n",
              "      <th>_id</th>\n",
              "      <th>display_name</th>\n",
              "      <th>num_ratings_pages</th>\n",
              "      <th>num_reviews</th>\n",
              "      <th>username</th>\n",
              "    </tr>\n",
              "  </thead>\n",
              "  <tbody>\n",
              "    <tr>\n",
              "      <th>0</th>\n",
              "      <td>5fc4172ec6cd28ebd99dd0e2</td>\n",
              "      <td>Lucy</td>\n",
              "      <td>32.0</td>\n",
              "      <td>1650</td>\n",
              "      <td>deathproof</td>\n",
              "    </tr>\n",
              "    <tr>\n",
              "      <th>1</th>\n",
              "      <td>5fc4172ec6cd28ebd99dd0ea</td>\n",
              "      <td>Matt Singer</td>\n",
              "      <td>52.0</td>\n",
              "      <td>1915</td>\n",
              "      <td>superpulse</td>\n",
              "    </tr>\n",
              "    <tr>\n",
              "      <th>2</th>\n",
              "      <td>5fc4172ec6cd28ebd99dd0ed</td>\n",
              "      <td>Sean Baker</td>\n",
              "      <td>21.0</td>\n",
              "      <td>1283</td>\n",
              "      <td>lilfilm</td>\n",
              "    </tr>\n",
              "    <tr>\n",
              "      <th>3</th>\n",
              "      <td>5fc4172ec6cd28ebd99dd0ee</td>\n",
              "      <td>iana</td>\n",
              "      <td>37.0</td>\n",
              "      <td>1177</td>\n",
              "      <td>ianamurray</td>\n",
              "    </tr>\n",
              "    <tr>\n",
              "      <th>4</th>\n",
              "      <td>5fc419171ebf67b9fbe48615</td>\n",
              "      <td>Lizzy</td>\n",
              "      <td>57.0</td>\n",
              "      <td>1810</td>\n",
              "      <td>punchdrunklizzy</td>\n",
              "    </tr>\n",
              "  </tbody>\n",
              "</table>\n",
              "</div>\n",
              "    <div class=\"colab-df-buttons\">\n",
              "\n",
              "  <div class=\"colab-df-container\">\n",
              "    <button class=\"colab-df-convert\" onclick=\"convertToInteractive('df-3438563b-d00e-47e4-b251-08843eca825f')\"\n",
              "            title=\"Convert this dataframe to an interactive table.\"\n",
              "            style=\"display:none;\">\n",
              "\n",
              "  <svg xmlns=\"http://www.w3.org/2000/svg\" height=\"24px\" viewBox=\"0 -960 960 960\">\n",
              "    <path d=\"M120-120v-720h720v720H120Zm60-500h600v-160H180v160Zm220 220h160v-160H400v160Zm0 220h160v-160H400v160ZM180-400h160v-160H180v160Zm440 0h160v-160H620v160ZM180-180h160v-160H180v160Zm440 0h160v-160H620v160Z\"/>\n",
              "  </svg>\n",
              "    </button>\n",
              "\n",
              "  <style>\n",
              "    .colab-df-container {\n",
              "      display:flex;\n",
              "      gap: 12px;\n",
              "    }\n",
              "\n",
              "    .colab-df-convert {\n",
              "      background-color: #E8F0FE;\n",
              "      border: none;\n",
              "      border-radius: 50%;\n",
              "      cursor: pointer;\n",
              "      display: none;\n",
              "      fill: #1967D2;\n",
              "      height: 32px;\n",
              "      padding: 0 0 0 0;\n",
              "      width: 32px;\n",
              "    }\n",
              "\n",
              "    .colab-df-convert:hover {\n",
              "      background-color: #E2EBFA;\n",
              "      box-shadow: 0px 1px 2px rgba(60, 64, 67, 0.3), 0px 1px 3px 1px rgba(60, 64, 67, 0.15);\n",
              "      fill: #174EA6;\n",
              "    }\n",
              "\n",
              "    .colab-df-buttons div {\n",
              "      margin-bottom: 4px;\n",
              "    }\n",
              "\n",
              "    [theme=dark] .colab-df-convert {\n",
              "      background-color: #3B4455;\n",
              "      fill: #D2E3FC;\n",
              "    }\n",
              "\n",
              "    [theme=dark] .colab-df-convert:hover {\n",
              "      background-color: #434B5C;\n",
              "      box-shadow: 0px 1px 3px 1px rgba(0, 0, 0, 0.15);\n",
              "      filter: drop-shadow(0px 1px 2px rgba(0, 0, 0, 0.3));\n",
              "      fill: #FFFFFF;\n",
              "    }\n",
              "  </style>\n",
              "\n",
              "    <script>\n",
              "      const buttonEl =\n",
              "        document.querySelector('#df-3438563b-d00e-47e4-b251-08843eca825f button.colab-df-convert');\n",
              "      buttonEl.style.display =\n",
              "        google.colab.kernel.accessAllowed ? 'block' : 'none';\n",
              "\n",
              "      async function convertToInteractive(key) {\n",
              "        const element = document.querySelector('#df-3438563b-d00e-47e4-b251-08843eca825f');\n",
              "        const dataTable =\n",
              "          await google.colab.kernel.invokeFunction('convertToInteractive',\n",
              "                                                    [key], {});\n",
              "        if (!dataTable) return;\n",
              "\n",
              "        const docLinkHtml = 'Like what you see? Visit the ' +\n",
              "          '<a target=\"_blank\" href=https://colab.research.google.com/notebooks/data_table.ipynb>data table notebook</a>'\n",
              "          + ' to learn more about interactive tables.';\n",
              "        element.innerHTML = '';\n",
              "        dataTable['output_type'] = 'display_data';\n",
              "        await google.colab.output.renderOutput(dataTable, element);\n",
              "        const docLink = document.createElement('div');\n",
              "        docLink.innerHTML = docLinkHtml;\n",
              "        element.appendChild(docLink);\n",
              "      }\n",
              "    </script>\n",
              "  </div>\n",
              "\n",
              "\n",
              "    <div id=\"df-1b4a74fb-a281-4bf0-a7aa-ff41bd26d90f\">\n",
              "      <button class=\"colab-df-quickchart\" onclick=\"quickchart('df-1b4a74fb-a281-4bf0-a7aa-ff41bd26d90f')\"\n",
              "                title=\"Suggest charts\"\n",
              "                style=\"display:none;\">\n",
              "\n",
              "<svg xmlns=\"http://www.w3.org/2000/svg\" height=\"24px\"viewBox=\"0 0 24 24\"\n",
              "     width=\"24px\">\n",
              "    <g>\n",
              "        <path d=\"M19 3H5c-1.1 0-2 .9-2 2v14c0 1.1.9 2 2 2h14c1.1 0 2-.9 2-2V5c0-1.1-.9-2-2-2zM9 17H7v-7h2v7zm4 0h-2V7h2v10zm4 0h-2v-4h2v4z\"/>\n",
              "    </g>\n",
              "</svg>\n",
              "      </button>\n",
              "\n",
              "<style>\n",
              "  .colab-df-quickchart {\n",
              "      --bg-color: #E8F0FE;\n",
              "      --fill-color: #1967D2;\n",
              "      --hover-bg-color: #E2EBFA;\n",
              "      --hover-fill-color: #174EA6;\n",
              "      --disabled-fill-color: #AAA;\n",
              "      --disabled-bg-color: #DDD;\n",
              "  }\n",
              "\n",
              "  [theme=dark] .colab-df-quickchart {\n",
              "      --bg-color: #3B4455;\n",
              "      --fill-color: #D2E3FC;\n",
              "      --hover-bg-color: #434B5C;\n",
              "      --hover-fill-color: #FFFFFF;\n",
              "      --disabled-bg-color: #3B4455;\n",
              "      --disabled-fill-color: #666;\n",
              "  }\n",
              "\n",
              "  .colab-df-quickchart {\n",
              "    background-color: var(--bg-color);\n",
              "    border: none;\n",
              "    border-radius: 50%;\n",
              "    cursor: pointer;\n",
              "    display: none;\n",
              "    fill: var(--fill-color);\n",
              "    height: 32px;\n",
              "    padding: 0;\n",
              "    width: 32px;\n",
              "  }\n",
              "\n",
              "  .colab-df-quickchart:hover {\n",
              "    background-color: var(--hover-bg-color);\n",
              "    box-shadow: 0 1px 2px rgba(60, 64, 67, 0.3), 0 1px 3px 1px rgba(60, 64, 67, 0.15);\n",
              "    fill: var(--button-hover-fill-color);\n",
              "  }\n",
              "\n",
              "  .colab-df-quickchart-complete:disabled,\n",
              "  .colab-df-quickchart-complete:disabled:hover {\n",
              "    background-color: var(--disabled-bg-color);\n",
              "    fill: var(--disabled-fill-color);\n",
              "    box-shadow: none;\n",
              "  }\n",
              "\n",
              "  .colab-df-spinner {\n",
              "    border: 2px solid var(--fill-color);\n",
              "    border-color: transparent;\n",
              "    border-bottom-color: var(--fill-color);\n",
              "    animation:\n",
              "      spin 1s steps(1) infinite;\n",
              "  }\n",
              "\n",
              "  @keyframes spin {\n",
              "    0% {\n",
              "      border-color: transparent;\n",
              "      border-bottom-color: var(--fill-color);\n",
              "      border-left-color: var(--fill-color);\n",
              "    }\n",
              "    20% {\n",
              "      border-color: transparent;\n",
              "      border-left-color: var(--fill-color);\n",
              "      border-top-color: var(--fill-color);\n",
              "    }\n",
              "    30% {\n",
              "      border-color: transparent;\n",
              "      border-left-color: var(--fill-color);\n",
              "      border-top-color: var(--fill-color);\n",
              "      border-right-color: var(--fill-color);\n",
              "    }\n",
              "    40% {\n",
              "      border-color: transparent;\n",
              "      border-right-color: var(--fill-color);\n",
              "      border-top-color: var(--fill-color);\n",
              "    }\n",
              "    60% {\n",
              "      border-color: transparent;\n",
              "      border-right-color: var(--fill-color);\n",
              "    }\n",
              "    80% {\n",
              "      border-color: transparent;\n",
              "      border-right-color: var(--fill-color);\n",
              "      border-bottom-color: var(--fill-color);\n",
              "    }\n",
              "    90% {\n",
              "      border-color: transparent;\n",
              "      border-bottom-color: var(--fill-color);\n",
              "    }\n",
              "  }\n",
              "</style>\n",
              "\n",
              "      <script>\n",
              "        async function quickchart(key) {\n",
              "          const quickchartButtonEl =\n",
              "            document.querySelector('#' + key + ' button');\n",
              "          quickchartButtonEl.disabled = true;  // To prevent multiple clicks.\n",
              "          quickchartButtonEl.classList.add('colab-df-spinner');\n",
              "          try {\n",
              "            const charts = await google.colab.kernel.invokeFunction(\n",
              "                'suggestCharts', [key], {});\n",
              "          } catch (error) {\n",
              "            console.error('Error during call to suggestCharts:', error);\n",
              "          }\n",
              "          quickchartButtonEl.classList.remove('colab-df-spinner');\n",
              "          quickchartButtonEl.classList.add('colab-df-quickchart-complete');\n",
              "        }\n",
              "        (() => {\n",
              "          let quickchartButtonEl =\n",
              "            document.querySelector('#df-1b4a74fb-a281-4bf0-a7aa-ff41bd26d90f button');\n",
              "          quickchartButtonEl.style.display =\n",
              "            google.colab.kernel.accessAllowed ? 'block' : 'none';\n",
              "        })();\n",
              "      </script>\n",
              "    </div>\n",
              "\n",
              "    </div>\n",
              "  </div>\n"
            ],
            "application/vnd.google.colaboratory.intrinsic+json": {
              "type": "dataframe",
              "variable_name": "users_dataset",
              "summary": "{\n  \"name\": \"users_dataset\",\n  \"rows\": 8139,\n  \"fields\": [\n    {\n      \"column\": \"_id\",\n      \"properties\": {\n        \"dtype\": \"string\",\n        \"num_unique_values\": 8139,\n        \"samples\": [\n          \"5fc419881ebf67b9fbe4c28a\",\n          \"6088121028f29d0115de3030\",\n          \"5fc419bc1ebf67b9fbe4d9ec\"\n        ],\n        \"semantic_type\": \"\",\n        \"description\": \"\"\n      }\n    },\n    {\n      \"column\": \"display_name\",\n      \"properties\": {\n        \"dtype\": \"string\",\n        \"num_unique_values\": 7135,\n        \"samples\": [\n          \"weak lungs\",\n          \"vasco\",\n          \"\\ud83e\\udd87 GORY B MOVIE \\ud83e\\udd87\"\n        ],\n        \"semantic_type\": \"\",\n        \"description\": \"\"\n      }\n    },\n    {\n      \"column\": \"num_ratings_pages\",\n      \"properties\": {\n        \"dtype\": \"number\",\n        \"std\": 35.232364050669666,\n        \"min\": 1.0,\n        \"max\": 1208.0,\n        \"num_unique_values\": 177,\n        \"samples\": [\n          33.0,\n          7.0,\n          147.0\n        ],\n        \"semantic_type\": \"\",\n        \"description\": \"\"\n      }\n    },\n    {\n      \"column\": \"num_reviews\",\n      \"properties\": {\n        \"dtype\": \"number\",\n        \"std\": 979,\n        \"min\": 0,\n        \"max\": 17184,\n        \"num_unique_values\": 2416,\n        \"samples\": [\n          2115,\n          481,\n          2425\n        ],\n        \"semantic_type\": \"\",\n        \"description\": \"\"\n      }\n    },\n    {\n      \"column\": \"username\",\n      \"properties\": {\n        \"dtype\": \"string\",\n        \"num_unique_values\": 8139,\n        \"samples\": [\n          \"sophy\",\n          \"denielemein\",\n          \"abee\"\n        ],\n        \"semantic_type\": \"\",\n        \"description\": \"\"\n      }\n    }\n  ]\n}"
            }
          },
          "metadata": {},
          "execution_count": 15
        }
      ]
    },
    {
      "cell_type": "code",
      "source": [
        "users_dataset[users_dataset[\"username\"]==\"deathproof\"]"
      ],
      "metadata": {
        "colab": {
          "base_uri": "https://localhost:8080/",
          "height": 80
        },
        "id": "Zbmo6ZA44j0U",
        "outputId": "53759cc8-5ed2-4cb1-a8af-a5ab6833e4cf"
      },
      "execution_count": null,
      "outputs": [
        {
          "output_type": "execute_result",
          "data": {
            "text/plain": [
              "                        _id display_name  num_ratings_pages  num_reviews  \\\n",
              "0  5fc4172ec6cd28ebd99dd0e2         Lucy               32.0         1650   \n",
              "\n",
              "     username  \n",
              "0  deathproof  "
            ],
            "text/html": [
              "\n",
              "  <div id=\"df-655447af-cb74-451e-ad16-7b7aa0a0a172\" class=\"colab-df-container\">\n",
              "    <div>\n",
              "<style scoped>\n",
              "    .dataframe tbody tr th:only-of-type {\n",
              "        vertical-align: middle;\n",
              "    }\n",
              "\n",
              "    .dataframe tbody tr th {\n",
              "        vertical-align: top;\n",
              "    }\n",
              "\n",
              "    .dataframe thead th {\n",
              "        text-align: right;\n",
              "    }\n",
              "</style>\n",
              "<table border=\"1\" class=\"dataframe\">\n",
              "  <thead>\n",
              "    <tr style=\"text-align: right;\">\n",
              "      <th></th>\n",
              "      <th>_id</th>\n",
              "      <th>display_name</th>\n",
              "      <th>num_ratings_pages</th>\n",
              "      <th>num_reviews</th>\n",
              "      <th>username</th>\n",
              "    </tr>\n",
              "  </thead>\n",
              "  <tbody>\n",
              "    <tr>\n",
              "      <th>0</th>\n",
              "      <td>5fc4172ec6cd28ebd99dd0e2</td>\n",
              "      <td>Lucy</td>\n",
              "      <td>32.0</td>\n",
              "      <td>1650</td>\n",
              "      <td>deathproof</td>\n",
              "    </tr>\n",
              "  </tbody>\n",
              "</table>\n",
              "</div>\n",
              "    <div class=\"colab-df-buttons\">\n",
              "\n",
              "  <div class=\"colab-df-container\">\n",
              "    <button class=\"colab-df-convert\" onclick=\"convertToInteractive('df-655447af-cb74-451e-ad16-7b7aa0a0a172')\"\n",
              "            title=\"Convert this dataframe to an interactive table.\"\n",
              "            style=\"display:none;\">\n",
              "\n",
              "  <svg xmlns=\"http://www.w3.org/2000/svg\" height=\"24px\" viewBox=\"0 -960 960 960\">\n",
              "    <path d=\"M120-120v-720h720v720H120Zm60-500h600v-160H180v160Zm220 220h160v-160H400v160Zm0 220h160v-160H400v160ZM180-400h160v-160H180v160Zm440 0h160v-160H620v160ZM180-180h160v-160H180v160Zm440 0h160v-160H620v160Z\"/>\n",
              "  </svg>\n",
              "    </button>\n",
              "\n",
              "  <style>\n",
              "    .colab-df-container {\n",
              "      display:flex;\n",
              "      gap: 12px;\n",
              "    }\n",
              "\n",
              "    .colab-df-convert {\n",
              "      background-color: #E8F0FE;\n",
              "      border: none;\n",
              "      border-radius: 50%;\n",
              "      cursor: pointer;\n",
              "      display: none;\n",
              "      fill: #1967D2;\n",
              "      height: 32px;\n",
              "      padding: 0 0 0 0;\n",
              "      width: 32px;\n",
              "    }\n",
              "\n",
              "    .colab-df-convert:hover {\n",
              "      background-color: #E2EBFA;\n",
              "      box-shadow: 0px 1px 2px rgba(60, 64, 67, 0.3), 0px 1px 3px 1px rgba(60, 64, 67, 0.15);\n",
              "      fill: #174EA6;\n",
              "    }\n",
              "\n",
              "    .colab-df-buttons div {\n",
              "      margin-bottom: 4px;\n",
              "    }\n",
              "\n",
              "    [theme=dark] .colab-df-convert {\n",
              "      background-color: #3B4455;\n",
              "      fill: #D2E3FC;\n",
              "    }\n",
              "\n",
              "    [theme=dark] .colab-df-convert:hover {\n",
              "      background-color: #434B5C;\n",
              "      box-shadow: 0px 1px 3px 1px rgba(0, 0, 0, 0.15);\n",
              "      filter: drop-shadow(0px 1px 2px rgba(0, 0, 0, 0.3));\n",
              "      fill: #FFFFFF;\n",
              "    }\n",
              "  </style>\n",
              "\n",
              "    <script>\n",
              "      const buttonEl =\n",
              "        document.querySelector('#df-655447af-cb74-451e-ad16-7b7aa0a0a172 button.colab-df-convert');\n",
              "      buttonEl.style.display =\n",
              "        google.colab.kernel.accessAllowed ? 'block' : 'none';\n",
              "\n",
              "      async function convertToInteractive(key) {\n",
              "        const element = document.querySelector('#df-655447af-cb74-451e-ad16-7b7aa0a0a172');\n",
              "        const dataTable =\n",
              "          await google.colab.kernel.invokeFunction('convertToInteractive',\n",
              "                                                    [key], {});\n",
              "        if (!dataTable) return;\n",
              "\n",
              "        const docLinkHtml = 'Like what you see? Visit the ' +\n",
              "          '<a target=\"_blank\" href=https://colab.research.google.com/notebooks/data_table.ipynb>data table notebook</a>'\n",
              "          + ' to learn more about interactive tables.';\n",
              "        element.innerHTML = '';\n",
              "        dataTable['output_type'] = 'display_data';\n",
              "        await google.colab.output.renderOutput(dataTable, element);\n",
              "        const docLink = document.createElement('div');\n",
              "        docLink.innerHTML = docLinkHtml;\n",
              "        element.appendChild(docLink);\n",
              "      }\n",
              "    </script>\n",
              "  </div>\n",
              "\n",
              "\n",
              "    </div>\n",
              "  </div>\n"
            ],
            "application/vnd.google.colaboratory.intrinsic+json": {
              "type": "dataframe",
              "summary": "{\n  \"name\": \"users_dataset[users_dataset[\\\"username\\\"]==\\\"deathproof\\\"]\",\n  \"rows\": 1,\n  \"fields\": [\n    {\n      \"column\": \"_id\",\n      \"properties\": {\n        \"dtype\": \"string\",\n        \"num_unique_values\": 1,\n        \"samples\": [\n          \"5fc4172ec6cd28ebd99dd0e2\"\n        ],\n        \"semantic_type\": \"\",\n        \"description\": \"\"\n      }\n    },\n    {\n      \"column\": \"display_name\",\n      \"properties\": {\n        \"dtype\": \"string\",\n        \"num_unique_values\": 1,\n        \"samples\": [\n          \"Lucy\"\n        ],\n        \"semantic_type\": \"\",\n        \"description\": \"\"\n      }\n    },\n    {\n      \"column\": \"num_ratings_pages\",\n      \"properties\": {\n        \"dtype\": \"number\",\n        \"std\": null,\n        \"min\": 32.0,\n        \"max\": 32.0,\n        \"num_unique_values\": 1,\n        \"samples\": [\n          32.0\n        ],\n        \"semantic_type\": \"\",\n        \"description\": \"\"\n      }\n    },\n    {\n      \"column\": \"num_reviews\",\n      \"properties\": {\n        \"dtype\": \"number\",\n        \"std\": null,\n        \"min\": 1650,\n        \"max\": 1650,\n        \"num_unique_values\": 1,\n        \"samples\": [\n          1650\n        ],\n        \"semantic_type\": \"\",\n        \"description\": \"\"\n      }\n    },\n    {\n      \"column\": \"username\",\n      \"properties\": {\n        \"dtype\": \"string\",\n        \"num_unique_values\": 1,\n        \"samples\": [\n          \"deathproof\"\n        ],\n        \"semantic_type\": \"\",\n        \"description\": \"\"\n      }\n    }\n  ]\n}"
            }
          },
          "metadata": {},
          "execution_count": 39
        }
      ]
    },
    {
      "cell_type": "markdown",
      "source": [
        "# popularity-based recommendation"
      ],
      "metadata": {
        "id": "EX1DhTd8707e"
      }
    },
    {
      "cell_type": "code",
      "source": [
        "popular_movie_dataset=movie_dataset[(movie_dataset[\"vote_count\"]>100)&(movie_dataset[\"vote_average\"]>6)]"
      ],
      "metadata": {
        "id": "FAf9ViLs8net"
      },
      "execution_count": null,
      "outputs": []
    },
    {
      "cell_type": "code",
      "source": [
        "popular_movie_dataset.shape"
      ],
      "metadata": {
        "colab": {
          "base_uri": "https://localhost:8080/"
        },
        "id": "VDb9h9Y59mDL",
        "outputId": "8eb13e36-1e4b-4b28-9e34-4e1a1ebda870"
      },
      "execution_count": null,
      "outputs": [
        {
          "output_type": "execute_result",
          "data": {
            "text/plain": [
              "(10675, 16)"
            ]
          },
          "metadata": {},
          "execution_count": 13
        }
      ]
    },
    {
      "cell_type": "code",
      "source": [
        "# the most popular movie names\n",
        "popular_movie_dataset=popular_movie_dataset[['movie_title',\"vote_average\",\"vote_count\",\"movie_id\"]].sort_values(by=\"vote_count\",ascending=False)"
      ],
      "metadata": {
        "id": "1IUmjana-D7u"
      },
      "execution_count": null,
      "outputs": []
    },
    {
      "cell_type": "code",
      "source": [
        "popular_movie_dataset.shape"
      ],
      "metadata": {
        "colab": {
          "base_uri": "https://localhost:8080/"
        },
        "id": "z1m7oxvPG1Ef",
        "outputId": "2be527df-df70-4d7b-96a0-59ca0e92b5da"
      },
      "execution_count": null,
      "outputs": [
        {
          "output_type": "execute_result",
          "data": {
            "text/plain": [
              "(10675, 4)"
            ]
          },
          "metadata": {},
          "execution_count": 17
        }
      ]
    },
    {
      "cell_type": "code",
      "source": [
        "popular_movie_dataset.head(5)"
      ],
      "metadata": {
        "colab": {
          "base_uri": "https://localhost:8080/",
          "height": 206
        },
        "id": "pSy_JsTY_Vec",
        "outputId": "356cb6d3-85df-4ab2-fe74-4c3db010c598"
      },
      "execution_count": null,
      "outputs": [
        {
          "output_type": "execute_result",
          "data": {
            "text/plain": [
              "           movie_title  vote_average  vote_count           movie_id\n",
              "42305        Inception           8.3     30211.0          inception\n",
              "40625     Interstellar           8.3     27020.0       interstellar\n",
              "82155  The Dark Knight           8.5     26173.0    the-dark-knight\n",
              "18551         Deadpool           7.6     25753.0           deadpool\n",
              "64959     The Avengers           7.7     25672.0  the-avengers-2012"
            ],
            "text/html": [
              "\n",
              "  <div id=\"df-cf20820a-515f-46b3-b3a1-642391ea8e18\" class=\"colab-df-container\">\n",
              "    <div>\n",
              "<style scoped>\n",
              "    .dataframe tbody tr th:only-of-type {\n",
              "        vertical-align: middle;\n",
              "    }\n",
              "\n",
              "    .dataframe tbody tr th {\n",
              "        vertical-align: top;\n",
              "    }\n",
              "\n",
              "    .dataframe thead th {\n",
              "        text-align: right;\n",
              "    }\n",
              "</style>\n",
              "<table border=\"1\" class=\"dataframe\">\n",
              "  <thead>\n",
              "    <tr style=\"text-align: right;\">\n",
              "      <th></th>\n",
              "      <th>movie_title</th>\n",
              "      <th>vote_average</th>\n",
              "      <th>vote_count</th>\n",
              "      <th>movie_id</th>\n",
              "    </tr>\n",
              "  </thead>\n",
              "  <tbody>\n",
              "    <tr>\n",
              "      <th>42305</th>\n",
              "      <td>Inception</td>\n",
              "      <td>8.3</td>\n",
              "      <td>30211.0</td>\n",
              "      <td>inception</td>\n",
              "    </tr>\n",
              "    <tr>\n",
              "      <th>40625</th>\n",
              "      <td>Interstellar</td>\n",
              "      <td>8.3</td>\n",
              "      <td>27020.0</td>\n",
              "      <td>interstellar</td>\n",
              "    </tr>\n",
              "    <tr>\n",
              "      <th>82155</th>\n",
              "      <td>The Dark Knight</td>\n",
              "      <td>8.5</td>\n",
              "      <td>26173.0</td>\n",
              "      <td>the-dark-knight</td>\n",
              "    </tr>\n",
              "    <tr>\n",
              "      <th>18551</th>\n",
              "      <td>Deadpool</td>\n",
              "      <td>7.6</td>\n",
              "      <td>25753.0</td>\n",
              "      <td>deadpool</td>\n",
              "    </tr>\n",
              "    <tr>\n",
              "      <th>64959</th>\n",
              "      <td>The Avengers</td>\n",
              "      <td>7.7</td>\n",
              "      <td>25672.0</td>\n",
              "      <td>the-avengers-2012</td>\n",
              "    </tr>\n",
              "  </tbody>\n",
              "</table>\n",
              "</div>\n",
              "    <div class=\"colab-df-buttons\">\n",
              "\n",
              "  <div class=\"colab-df-container\">\n",
              "    <button class=\"colab-df-convert\" onclick=\"convertToInteractive('df-cf20820a-515f-46b3-b3a1-642391ea8e18')\"\n",
              "            title=\"Convert this dataframe to an interactive table.\"\n",
              "            style=\"display:none;\">\n",
              "\n",
              "  <svg xmlns=\"http://www.w3.org/2000/svg\" height=\"24px\" viewBox=\"0 -960 960 960\">\n",
              "    <path d=\"M120-120v-720h720v720H120Zm60-500h600v-160H180v160Zm220 220h160v-160H400v160Zm0 220h160v-160H400v160ZM180-400h160v-160H180v160Zm440 0h160v-160H620v160ZM180-180h160v-160H180v160Zm440 0h160v-160H620v160Z\"/>\n",
              "  </svg>\n",
              "    </button>\n",
              "\n",
              "  <style>\n",
              "    .colab-df-container {\n",
              "      display:flex;\n",
              "      gap: 12px;\n",
              "    }\n",
              "\n",
              "    .colab-df-convert {\n",
              "      background-color: #E8F0FE;\n",
              "      border: none;\n",
              "      border-radius: 50%;\n",
              "      cursor: pointer;\n",
              "      display: none;\n",
              "      fill: #1967D2;\n",
              "      height: 32px;\n",
              "      padding: 0 0 0 0;\n",
              "      width: 32px;\n",
              "    }\n",
              "\n",
              "    .colab-df-convert:hover {\n",
              "      background-color: #E2EBFA;\n",
              "      box-shadow: 0px 1px 2px rgba(60, 64, 67, 0.3), 0px 1px 3px 1px rgba(60, 64, 67, 0.15);\n",
              "      fill: #174EA6;\n",
              "    }\n",
              "\n",
              "    .colab-df-buttons div {\n",
              "      margin-bottom: 4px;\n",
              "    }\n",
              "\n",
              "    [theme=dark] .colab-df-convert {\n",
              "      background-color: #3B4455;\n",
              "      fill: #D2E3FC;\n",
              "    }\n",
              "\n",
              "    [theme=dark] .colab-df-convert:hover {\n",
              "      background-color: #434B5C;\n",
              "      box-shadow: 0px 1px 3px 1px rgba(0, 0, 0, 0.15);\n",
              "      filter: drop-shadow(0px 1px 2px rgba(0, 0, 0, 0.3));\n",
              "      fill: #FFFFFF;\n",
              "    }\n",
              "  </style>\n",
              "\n",
              "    <script>\n",
              "      const buttonEl =\n",
              "        document.querySelector('#df-cf20820a-515f-46b3-b3a1-642391ea8e18 button.colab-df-convert');\n",
              "      buttonEl.style.display =\n",
              "        google.colab.kernel.accessAllowed ? 'block' : 'none';\n",
              "\n",
              "      async function convertToInteractive(key) {\n",
              "        const element = document.querySelector('#df-cf20820a-515f-46b3-b3a1-642391ea8e18');\n",
              "        const dataTable =\n",
              "          await google.colab.kernel.invokeFunction('convertToInteractive',\n",
              "                                                    [key], {});\n",
              "        if (!dataTable) return;\n",
              "\n",
              "        const docLinkHtml = 'Like what you see? Visit the ' +\n",
              "          '<a target=\"_blank\" href=https://colab.research.google.com/notebooks/data_table.ipynb>data table notebook</a>'\n",
              "          + ' to learn more about interactive tables.';\n",
              "        element.innerHTML = '';\n",
              "        dataTable['output_type'] = 'display_data';\n",
              "        await google.colab.output.renderOutput(dataTable, element);\n",
              "        const docLink = document.createElement('div');\n",
              "        docLink.innerHTML = docLinkHtml;\n",
              "        element.appendChild(docLink);\n",
              "      }\n",
              "    </script>\n",
              "  </div>\n",
              "\n",
              "\n",
              "    <div id=\"df-a9f6ced0-71c6-452d-921b-620cab4d28da\">\n",
              "      <button class=\"colab-df-quickchart\" onclick=\"quickchart('df-a9f6ced0-71c6-452d-921b-620cab4d28da')\"\n",
              "                title=\"Suggest charts\"\n",
              "                style=\"display:none;\">\n",
              "\n",
              "<svg xmlns=\"http://www.w3.org/2000/svg\" height=\"24px\"viewBox=\"0 0 24 24\"\n",
              "     width=\"24px\">\n",
              "    <g>\n",
              "        <path d=\"M19 3H5c-1.1 0-2 .9-2 2v14c0 1.1.9 2 2 2h14c1.1 0 2-.9 2-2V5c0-1.1-.9-2-2-2zM9 17H7v-7h2v7zm4 0h-2V7h2v10zm4 0h-2v-4h2v4z\"/>\n",
              "    </g>\n",
              "</svg>\n",
              "      </button>\n",
              "\n",
              "<style>\n",
              "  .colab-df-quickchart {\n",
              "      --bg-color: #E8F0FE;\n",
              "      --fill-color: #1967D2;\n",
              "      --hover-bg-color: #E2EBFA;\n",
              "      --hover-fill-color: #174EA6;\n",
              "      --disabled-fill-color: #AAA;\n",
              "      --disabled-bg-color: #DDD;\n",
              "  }\n",
              "\n",
              "  [theme=dark] .colab-df-quickchart {\n",
              "      --bg-color: #3B4455;\n",
              "      --fill-color: #D2E3FC;\n",
              "      --hover-bg-color: #434B5C;\n",
              "      --hover-fill-color: #FFFFFF;\n",
              "      --disabled-bg-color: #3B4455;\n",
              "      --disabled-fill-color: #666;\n",
              "  }\n",
              "\n",
              "  .colab-df-quickchart {\n",
              "    background-color: var(--bg-color);\n",
              "    border: none;\n",
              "    border-radius: 50%;\n",
              "    cursor: pointer;\n",
              "    display: none;\n",
              "    fill: var(--fill-color);\n",
              "    height: 32px;\n",
              "    padding: 0;\n",
              "    width: 32px;\n",
              "  }\n",
              "\n",
              "  .colab-df-quickchart:hover {\n",
              "    background-color: var(--hover-bg-color);\n",
              "    box-shadow: 0 1px 2px rgba(60, 64, 67, 0.3), 0 1px 3px 1px rgba(60, 64, 67, 0.15);\n",
              "    fill: var(--button-hover-fill-color);\n",
              "  }\n",
              "\n",
              "  .colab-df-quickchart-complete:disabled,\n",
              "  .colab-df-quickchart-complete:disabled:hover {\n",
              "    background-color: var(--disabled-bg-color);\n",
              "    fill: var(--disabled-fill-color);\n",
              "    box-shadow: none;\n",
              "  }\n",
              "\n",
              "  .colab-df-spinner {\n",
              "    border: 2px solid var(--fill-color);\n",
              "    border-color: transparent;\n",
              "    border-bottom-color: var(--fill-color);\n",
              "    animation:\n",
              "      spin 1s steps(1) infinite;\n",
              "  }\n",
              "\n",
              "  @keyframes spin {\n",
              "    0% {\n",
              "      border-color: transparent;\n",
              "      border-bottom-color: var(--fill-color);\n",
              "      border-left-color: var(--fill-color);\n",
              "    }\n",
              "    20% {\n",
              "      border-color: transparent;\n",
              "      border-left-color: var(--fill-color);\n",
              "      border-top-color: var(--fill-color);\n",
              "    }\n",
              "    30% {\n",
              "      border-color: transparent;\n",
              "      border-left-color: var(--fill-color);\n",
              "      border-top-color: var(--fill-color);\n",
              "      border-right-color: var(--fill-color);\n",
              "    }\n",
              "    40% {\n",
              "      border-color: transparent;\n",
              "      border-right-color: var(--fill-color);\n",
              "      border-top-color: var(--fill-color);\n",
              "    }\n",
              "    60% {\n",
              "      border-color: transparent;\n",
              "      border-right-color: var(--fill-color);\n",
              "    }\n",
              "    80% {\n",
              "      border-color: transparent;\n",
              "      border-right-color: var(--fill-color);\n",
              "      border-bottom-color: var(--fill-color);\n",
              "    }\n",
              "    90% {\n",
              "      border-color: transparent;\n",
              "      border-bottom-color: var(--fill-color);\n",
              "    }\n",
              "  }\n",
              "</style>\n",
              "\n",
              "      <script>\n",
              "        async function quickchart(key) {\n",
              "          const quickchartButtonEl =\n",
              "            document.querySelector('#' + key + ' button');\n",
              "          quickchartButtonEl.disabled = true;  // To prevent multiple clicks.\n",
              "          quickchartButtonEl.classList.add('colab-df-spinner');\n",
              "          try {\n",
              "            const charts = await google.colab.kernel.invokeFunction(\n",
              "                'suggestCharts', [key], {});\n",
              "          } catch (error) {\n",
              "            console.error('Error during call to suggestCharts:', error);\n",
              "          }\n",
              "          quickchartButtonEl.classList.remove('colab-df-spinner');\n",
              "          quickchartButtonEl.classList.add('colab-df-quickchart-complete');\n",
              "        }\n",
              "        (() => {\n",
              "          let quickchartButtonEl =\n",
              "            document.querySelector('#df-a9f6ced0-71c6-452d-921b-620cab4d28da button');\n",
              "          quickchartButtonEl.style.display =\n",
              "            google.colab.kernel.accessAllowed ? 'block' : 'none';\n",
              "        })();\n",
              "      </script>\n",
              "    </div>\n",
              "\n",
              "    </div>\n",
              "  </div>\n"
            ],
            "application/vnd.google.colaboratory.intrinsic+json": {
              "type": "dataframe",
              "variable_name": "popular_movie_dataset",
              "summary": "{\n  \"name\": \"popular_movie_dataset\",\n  \"rows\": 10675,\n  \"fields\": [\n    {\n      \"column\": \"movie_title\",\n      \"properties\": {\n        \"dtype\": \"string\",\n        \"num_unique_values\": 10210,\n        \"samples\": [\n          \"Non-Stop\",\n          \"The Rescuers\",\n          \"The Bachelors\"\n        ],\n        \"semantic_type\": \"\",\n        \"description\": \"\"\n      }\n    },\n    {\n      \"column\": \"vote_average\",\n      \"properties\": {\n        \"dtype\": \"number\",\n        \"std\": 0.5644991970598511,\n        \"min\": 6.1,\n        \"max\": 9.3,\n        \"num_unique_values\": 31,\n        \"samples\": [\n          9.2,\n          7.2,\n          6.5\n        ],\n        \"semantic_type\": \"\",\n        \"description\": \"\"\n      }\n    },\n    {\n      \"column\": \"vote_count\",\n      \"properties\": {\n        \"dtype\": \"number\",\n        \"std\": 2422.535773720209,\n        \"min\": 101.0,\n        \"max\": 30211.0,\n        \"num_unique_values\": 2876,\n        \"samples\": [\n          4792.0,\n          1150.0,\n          2029.0\n        ],\n        \"semantic_type\": \"\",\n        \"description\": \"\"\n      }\n    },\n    {\n      \"column\": \"movie_id\",\n      \"properties\": {\n        \"dtype\": \"string\",\n        \"num_unique_values\": 10675,\n        \"samples\": [\n          \"the-last-letter-from-your-lover\",\n          \"road-to-perdition\",\n          \"heaven-2002\"\n        ],\n        \"semantic_type\": \"\",\n        \"description\": \"\"\n      }\n    }\n  ]\n}"
            }
          },
          "metadata": {},
          "execution_count": 18
        }
      ]
    },
    {
      "cell_type": "code",
      "source": [
        "## the most popular movies that the user hasnt seen\n",
        "\n",
        "seen_movie_ids=ratings_dataset[ratings_dataset[\"user_id\"]==\"adrianbalboa\"][\"movie_id\"]\n",
        "\n",
        "def get_unseen_popular_movies(user_id,popular_movie_dataset):\n",
        "  seen_movie_list=ratings_dataset[ratings_dataset[\"user_id\"]==user_id][\"movie_id\"].values.tolist()\n",
        "  popular_seen_movies=popular_movie_dataset[popular_movie_dataset[\"movie_id\"].isin(seen_movie_list)]\n",
        "  popular_unseen_movies=popular_movie_dataset.drop(popular_seen_movies.index,axis=0)\n",
        "  print(\"Most popular unseen Movies -User Specific-\")\n",
        "  return popular_unseen_movies[\"movie_id\"].values.tolist()[0:5]\n",
        "\n",
        "def get_all_users_unseen_popular_movies():\n",
        "  pass\n"
      ],
      "metadata": {
        "id": "crZU3brWCg9H"
      },
      "execution_count": null,
      "outputs": []
    },
    {
      "cell_type": "markdown",
      "source": [
        "# Weighted Average"
      ],
      "metadata": {
        "id": "l_j4O3lfgExW"
      }
    },
    {
      "cell_type": "code",
      "source": [
        "v=movie_dataset['vote_count']\n",
        "R=movie_dataset[\"vote_average\"]\n",
        "C=movie_dataset[\"vote_average\"].mean()\n",
        "m=movie_dataset[\"vote_count\"].quantile(0.70)\n"
      ],
      "metadata": {
        "id": "VWbz48R1gEnR"
      },
      "execution_count": null,
      "outputs": []
    },
    {
      "cell_type": "code",
      "source": [
        "movie_dataset[\"weighted_average\"]=((R*v)+(C*m))/(v+m)"
      ],
      "metadata": {
        "id": "btk6gj8WgElA"
      },
      "execution_count": null,
      "outputs": []
    },
    {
      "cell_type": "code",
      "source": [
        "ranking=movie_dataset.sort_values(by=\"weighted_average\",ascending=False)\n",
        "print(\"Top movies by Weighted Average :\\n\")\n",
        "ranking[[\"movie_title\",\"weighted_average\"]].iloc[0:5]"
      ],
      "metadata": {
        "colab": {
          "base_uri": "https://localhost:8080/",
          "height": 241
        },
        "id": "U8tVP5NWgEii",
        "outputId": "4d15de80-606e-4bc4-f74a-b39ce7d2fee1"
      },
      "execution_count": null,
      "outputs": [
        {
          "output_type": "stream",
          "name": "stdout",
          "text": [
            "Top movies by Weighted Average :\n",
            "\n"
          ]
        },
        {
          "output_type": "execute_result",
          "data": {
            "text/plain": [
              "                              movie_title  weighted_average\n",
              "106249          Bring the Soul: The Movie          9.196789\n",
              "198291          Burn the Stage: The Movie          9.103281\n",
              "193354       Break the Silence: The Movie          8.975981\n",
              "99044   Franco Escamilla: Por La Anécdota          8.875887\n",
              "226315  Franco Escamilla: Por La Anécdota          8.875887"
            ],
            "text/html": [
              "\n",
              "  <div id=\"df-e41e02c9-fb96-43f8-931c-e9d4447cd357\" class=\"colab-df-container\">\n",
              "    <div>\n",
              "<style scoped>\n",
              "    .dataframe tbody tr th:only-of-type {\n",
              "        vertical-align: middle;\n",
              "    }\n",
              "\n",
              "    .dataframe tbody tr th {\n",
              "        vertical-align: top;\n",
              "    }\n",
              "\n",
              "    .dataframe thead th {\n",
              "        text-align: right;\n",
              "    }\n",
              "</style>\n",
              "<table border=\"1\" class=\"dataframe\">\n",
              "  <thead>\n",
              "    <tr style=\"text-align: right;\">\n",
              "      <th></th>\n",
              "      <th>movie_title</th>\n",
              "      <th>weighted_average</th>\n",
              "    </tr>\n",
              "  </thead>\n",
              "  <tbody>\n",
              "    <tr>\n",
              "      <th>106249</th>\n",
              "      <td>Bring the Soul: The Movie</td>\n",
              "      <td>9.196789</td>\n",
              "    </tr>\n",
              "    <tr>\n",
              "      <th>198291</th>\n",
              "      <td>Burn the Stage: The Movie</td>\n",
              "      <td>9.103281</td>\n",
              "    </tr>\n",
              "    <tr>\n",
              "      <th>193354</th>\n",
              "      <td>Break the Silence: The Movie</td>\n",
              "      <td>8.975981</td>\n",
              "    </tr>\n",
              "    <tr>\n",
              "      <th>99044</th>\n",
              "      <td>Franco Escamilla: Por La Anécdota</td>\n",
              "      <td>8.875887</td>\n",
              "    </tr>\n",
              "    <tr>\n",
              "      <th>226315</th>\n",
              "      <td>Franco Escamilla: Por La Anécdota</td>\n",
              "      <td>8.875887</td>\n",
              "    </tr>\n",
              "  </tbody>\n",
              "</table>\n",
              "</div>\n",
              "    <div class=\"colab-df-buttons\">\n",
              "\n",
              "  <div class=\"colab-df-container\">\n",
              "    <button class=\"colab-df-convert\" onclick=\"convertToInteractive('df-e41e02c9-fb96-43f8-931c-e9d4447cd357')\"\n",
              "            title=\"Convert this dataframe to an interactive table.\"\n",
              "            style=\"display:none;\">\n",
              "\n",
              "  <svg xmlns=\"http://www.w3.org/2000/svg\" height=\"24px\" viewBox=\"0 -960 960 960\">\n",
              "    <path d=\"M120-120v-720h720v720H120Zm60-500h600v-160H180v160Zm220 220h160v-160H400v160Zm0 220h160v-160H400v160ZM180-400h160v-160H180v160Zm440 0h160v-160H620v160ZM180-180h160v-160H180v160Zm440 0h160v-160H620v160Z\"/>\n",
              "  </svg>\n",
              "    </button>\n",
              "\n",
              "  <style>\n",
              "    .colab-df-container {\n",
              "      display:flex;\n",
              "      gap: 12px;\n",
              "    }\n",
              "\n",
              "    .colab-df-convert {\n",
              "      background-color: #E8F0FE;\n",
              "      border: none;\n",
              "      border-radius: 50%;\n",
              "      cursor: pointer;\n",
              "      display: none;\n",
              "      fill: #1967D2;\n",
              "      height: 32px;\n",
              "      padding: 0 0 0 0;\n",
              "      width: 32px;\n",
              "    }\n",
              "\n",
              "    .colab-df-convert:hover {\n",
              "      background-color: #E2EBFA;\n",
              "      box-shadow: 0px 1px 2px rgba(60, 64, 67, 0.3), 0px 1px 3px 1px rgba(60, 64, 67, 0.15);\n",
              "      fill: #174EA6;\n",
              "    }\n",
              "\n",
              "    .colab-df-buttons div {\n",
              "      margin-bottom: 4px;\n",
              "    }\n",
              "\n",
              "    [theme=dark] .colab-df-convert {\n",
              "      background-color: #3B4455;\n",
              "      fill: #D2E3FC;\n",
              "    }\n",
              "\n",
              "    [theme=dark] .colab-df-convert:hover {\n",
              "      background-color: #434B5C;\n",
              "      box-shadow: 0px 1px 3px 1px rgba(0, 0, 0, 0.15);\n",
              "      filter: drop-shadow(0px 1px 2px rgba(0, 0, 0, 0.3));\n",
              "      fill: #FFFFFF;\n",
              "    }\n",
              "  </style>\n",
              "\n",
              "    <script>\n",
              "      const buttonEl =\n",
              "        document.querySelector('#df-e41e02c9-fb96-43f8-931c-e9d4447cd357 button.colab-df-convert');\n",
              "      buttonEl.style.display =\n",
              "        google.colab.kernel.accessAllowed ? 'block' : 'none';\n",
              "\n",
              "      async function convertToInteractive(key) {\n",
              "        const element = document.querySelector('#df-e41e02c9-fb96-43f8-931c-e9d4447cd357');\n",
              "        const dataTable =\n",
              "          await google.colab.kernel.invokeFunction('convertToInteractive',\n",
              "                                                    [key], {});\n",
              "        if (!dataTable) return;\n",
              "\n",
              "        const docLinkHtml = 'Like what you see? Visit the ' +\n",
              "          '<a target=\"_blank\" href=https://colab.research.google.com/notebooks/data_table.ipynb>data table notebook</a>'\n",
              "          + ' to learn more about interactive tables.';\n",
              "        element.innerHTML = '';\n",
              "        dataTable['output_type'] = 'display_data';\n",
              "        await google.colab.output.renderOutput(dataTable, element);\n",
              "        const docLink = document.createElement('div');\n",
              "        docLink.innerHTML = docLinkHtml;\n",
              "        element.appendChild(docLink);\n",
              "      }\n",
              "    </script>\n",
              "  </div>\n",
              "\n",
              "\n",
              "    <div id=\"df-beb50674-8388-41fe-bfd2-628e08958d87\">\n",
              "      <button class=\"colab-df-quickchart\" onclick=\"quickchart('df-beb50674-8388-41fe-bfd2-628e08958d87')\"\n",
              "                title=\"Suggest charts\"\n",
              "                style=\"display:none;\">\n",
              "\n",
              "<svg xmlns=\"http://www.w3.org/2000/svg\" height=\"24px\"viewBox=\"0 0 24 24\"\n",
              "     width=\"24px\">\n",
              "    <g>\n",
              "        <path d=\"M19 3H5c-1.1 0-2 .9-2 2v14c0 1.1.9 2 2 2h14c1.1 0 2-.9 2-2V5c0-1.1-.9-2-2-2zM9 17H7v-7h2v7zm4 0h-2V7h2v10zm4 0h-2v-4h2v4z\"/>\n",
              "    </g>\n",
              "</svg>\n",
              "      </button>\n",
              "\n",
              "<style>\n",
              "  .colab-df-quickchart {\n",
              "      --bg-color: #E8F0FE;\n",
              "      --fill-color: #1967D2;\n",
              "      --hover-bg-color: #E2EBFA;\n",
              "      --hover-fill-color: #174EA6;\n",
              "      --disabled-fill-color: #AAA;\n",
              "      --disabled-bg-color: #DDD;\n",
              "  }\n",
              "\n",
              "  [theme=dark] .colab-df-quickchart {\n",
              "      --bg-color: #3B4455;\n",
              "      --fill-color: #D2E3FC;\n",
              "      --hover-bg-color: #434B5C;\n",
              "      --hover-fill-color: #FFFFFF;\n",
              "      --disabled-bg-color: #3B4455;\n",
              "      --disabled-fill-color: #666;\n",
              "  }\n",
              "\n",
              "  .colab-df-quickchart {\n",
              "    background-color: var(--bg-color);\n",
              "    border: none;\n",
              "    border-radius: 50%;\n",
              "    cursor: pointer;\n",
              "    display: none;\n",
              "    fill: var(--fill-color);\n",
              "    height: 32px;\n",
              "    padding: 0;\n",
              "    width: 32px;\n",
              "  }\n",
              "\n",
              "  .colab-df-quickchart:hover {\n",
              "    background-color: var(--hover-bg-color);\n",
              "    box-shadow: 0 1px 2px rgba(60, 64, 67, 0.3), 0 1px 3px 1px rgba(60, 64, 67, 0.15);\n",
              "    fill: var(--button-hover-fill-color);\n",
              "  }\n",
              "\n",
              "  .colab-df-quickchart-complete:disabled,\n",
              "  .colab-df-quickchart-complete:disabled:hover {\n",
              "    background-color: var(--disabled-bg-color);\n",
              "    fill: var(--disabled-fill-color);\n",
              "    box-shadow: none;\n",
              "  }\n",
              "\n",
              "  .colab-df-spinner {\n",
              "    border: 2px solid var(--fill-color);\n",
              "    border-color: transparent;\n",
              "    border-bottom-color: var(--fill-color);\n",
              "    animation:\n",
              "      spin 1s steps(1) infinite;\n",
              "  }\n",
              "\n",
              "  @keyframes spin {\n",
              "    0% {\n",
              "      border-color: transparent;\n",
              "      border-bottom-color: var(--fill-color);\n",
              "      border-left-color: var(--fill-color);\n",
              "    }\n",
              "    20% {\n",
              "      border-color: transparent;\n",
              "      border-left-color: var(--fill-color);\n",
              "      border-top-color: var(--fill-color);\n",
              "    }\n",
              "    30% {\n",
              "      border-color: transparent;\n",
              "      border-left-color: var(--fill-color);\n",
              "      border-top-color: var(--fill-color);\n",
              "      border-right-color: var(--fill-color);\n",
              "    }\n",
              "    40% {\n",
              "      border-color: transparent;\n",
              "      border-right-color: var(--fill-color);\n",
              "      border-top-color: var(--fill-color);\n",
              "    }\n",
              "    60% {\n",
              "      border-color: transparent;\n",
              "      border-right-color: var(--fill-color);\n",
              "    }\n",
              "    80% {\n",
              "      border-color: transparent;\n",
              "      border-right-color: var(--fill-color);\n",
              "      border-bottom-color: var(--fill-color);\n",
              "    }\n",
              "    90% {\n",
              "      border-color: transparent;\n",
              "      border-bottom-color: var(--fill-color);\n",
              "    }\n",
              "  }\n",
              "</style>\n",
              "\n",
              "      <script>\n",
              "        async function quickchart(key) {\n",
              "          const quickchartButtonEl =\n",
              "            document.querySelector('#' + key + ' button');\n",
              "          quickchartButtonEl.disabled = true;  // To prevent multiple clicks.\n",
              "          quickchartButtonEl.classList.add('colab-df-spinner');\n",
              "          try {\n",
              "            const charts = await google.colab.kernel.invokeFunction(\n",
              "                'suggestCharts', [key], {});\n",
              "          } catch (error) {\n",
              "            console.error('Error during call to suggestCharts:', error);\n",
              "          }\n",
              "          quickchartButtonEl.classList.remove('colab-df-spinner');\n",
              "          quickchartButtonEl.classList.add('colab-df-quickchart-complete');\n",
              "        }\n",
              "        (() => {\n",
              "          let quickchartButtonEl =\n",
              "            document.querySelector('#df-beb50674-8388-41fe-bfd2-628e08958d87 button');\n",
              "          quickchartButtonEl.style.display =\n",
              "            google.colab.kernel.accessAllowed ? 'block' : 'none';\n",
              "        })();\n",
              "      </script>\n",
              "    </div>\n",
              "\n",
              "    </div>\n",
              "  </div>\n"
            ],
            "application/vnd.google.colaboratory.intrinsic+json": {
              "type": "dataframe",
              "summary": "{\n  \"name\": \"ranking[[\\\"movie_title\\\",\\\"weighted_average\\\"]]\",\n  \"rows\": 5,\n  \"fields\": [\n    {\n      \"column\": \"movie_title\",\n      \"properties\": {\n        \"dtype\": \"string\",\n        \"num_unique_values\": 4,\n        \"samples\": [\n          \"Burn the Stage: The Movie\",\n          \"Franco Escamilla: Por La An\\u00e9cdota\",\n          \"Bring the Soul: The Movie\"\n        ],\n        \"semantic_type\": \"\",\n        \"description\": \"\"\n      }\n    },\n    {\n      \"column\": \"weighted_average\",\n      \"properties\": {\n        \"dtype\": \"number\",\n        \"std\": 0.14197067351117826,\n        \"min\": 8.875887306942294,\n        \"max\": 9.196788727084968,\n        \"num_unique_values\": 4,\n        \"samples\": [\n          9.103280656674842,\n          8.875887306942294,\n          9.196788727084968\n        ],\n        \"semantic_type\": \"\",\n        \"description\": \"\"\n      }\n    }\n  ]\n}"
            }
          },
          "metadata": {},
          "execution_count": 45
        }
      ]
    },
    {
      "cell_type": "code",
      "source": [],
      "metadata": {
        "id": "nLN0sj0LgEgC"
      },
      "execution_count": null,
      "outputs": []
    },
    {
      "cell_type": "markdown",
      "source": [
        "# Content-Based Filtering"
      ],
      "metadata": {
        "id": "TUWJdn-RYf5q"
      }
    },
    {
      "cell_type": "code",
      "source": [
        "import nltk\n",
        "nltk.download('stopwords')"
      ],
      "metadata": {
        "colab": {
          "base_uri": "https://localhost:8080/"
        },
        "id": "HMEVPuHVZzDw",
        "outputId": "e2384d34-df29-4261-de5d-4861e7a286b4"
      },
      "execution_count": 12,
      "outputs": [
        {
          "output_type": "stream",
          "name": "stderr",
          "text": [
            "[nltk_data] Downloading package stopwords to /root/nltk_data...\n",
            "[nltk_data]   Unzipping corpora/stopwords.zip.\n"
          ]
        },
        {
          "output_type": "execute_result",
          "data": {
            "text/plain": [
              "True"
            ]
          },
          "metadata": {},
          "execution_count": 12
        }
      ]
    },
    {
      "cell_type": "code",
      "source": [
        "from sklearn.feature_extraction.text import TfidfVectorizer\n",
        "from nltk.corpus import stopwords\n",
        "\n",
        "vectorizer=TfidfVectorizer(\n",
        "    analyzer=\"word\",\n",
        "    ngram_range=(1,2),\n",
        "    min_df=0.003,\n",
        "    max_df=0.5,\n",
        "    max_features=5000,\n",
        "    stop_words=stopwords.words(\"english\")\n",
        ")\n",
        "\n",
        "\n"
      ],
      "metadata": {
        "id": "lUK0ZPBcG-p8"
      },
      "execution_count": 13,
      "outputs": []
    },
    {
      "cell_type": "code",
      "source": [
        "movies_ids=ratings_dataset[\"movie_id\"].tolist()"
      ],
      "metadata": {
        "id": "8NfKAhjlG-i5"
      },
      "execution_count": 14,
      "outputs": []
    },
    {
      "cell_type": "code",
      "source": [
        "tfidf_matrix=vectorizer.fit_transform(movie_dataset[\"overview\"].values.astype('U'))"
      ],
      "metadata": {
        "id": "6tpEwgSFG-nn"
      },
      "execution_count": 15,
      "outputs": []
    },
    {
      "cell_type": "code",
      "source": [
        "tfidf_feature_names =vectorizer.get_feature_names_out()"
      ],
      "metadata": {
        "id": "FhD-ZzYGnVko"
      },
      "execution_count": 16,
      "outputs": []
    },
    {
      "cell_type": "code",
      "source": [
        "tfidf_matrix.shape"
      ],
      "metadata": {
        "colab": {
          "base_uri": "https://localhost:8080/"
        },
        "id": "1oTHSm6ekxN8",
        "outputId": "b52f8d56-4e4e-41fa-c2c7-d7376e91f496"
      },
      "execution_count": null,
      "outputs": [
        {
          "output_type": "execute_result",
          "data": {
            "text/plain": [
              "(200000, 1443)"
            ]
          },
          "metadata": {},
          "execution_count": 19
        }
      ]
    },
    {
      "cell_type": "markdown",
      "source": [
        "create item profile and user profile"
      ],
      "metadata": {
        "id": "qwWLv37Lkf7f"
      }
    },
    {
      "cell_type": "code",
      "source": [
        "from sklearn.model_selection import train_test_split\n",
        "\n",
        "movie_rating_train_df, movie_rating_test_df=train_test_split(ratings_dataset,test_size=0.2)\n",
        "\n"
      ],
      "metadata": {
        "id": "yUq_8qM9D8vN"
      },
      "execution_count": 17,
      "outputs": []
    },
    {
      "cell_type": "code",
      "source": [
        "movies_ids.index(\"miss-you-already\")"
      ],
      "metadata": {
        "colab": {
          "base_uri": "https://localhost:8080/"
        },
        "id": "h_Ok4EHPKI0v",
        "outputId": "7d345ef4-6083-4bd9-e5f1-3b4ddb89ce58"
      },
      "execution_count": null,
      "outputs": [
        {
          "output_type": "execute_result",
          "data": {
            "text/plain": [
              "5"
            ]
          },
          "metadata": {},
          "execution_count": 119
        }
      ]
    },
    {
      "cell_type": "code",
      "source": [
        "import scipy\n",
        "from tqdm import tqdm\n",
        "from  sklearn.preprocessing import normalize\n",
        "\n",
        "def get_movie_profile(movie_id):\n",
        "  idx=movies_ids.index(movie_id)\n",
        "  movie_profile=tfidf_matrix[idx:idx+1]\n",
        "  if movie_profile.shape==(0,1436):\n",
        "    M = scipy.sparse.csr_matrix((1, 1436))\n",
        "    return M\n",
        "  return movie_profile\n",
        "\n",
        "\n",
        "def get_movie_profiles(movie_ids):\n",
        "  print(\"\\n create all movies profiles \\n\")\n",
        "  movie_profiles_list=[get_movie_profile(x) for x in tqdm(movie_ids)]\n",
        "  movie_profiles=scipy.sparse.vstack(movie_profiles_list)\n",
        "  print(f\"Item profile list LENGTH : {len(movie_profiles_list)} \")\n",
        "  print(f\"movies profiles SHAPE : {movie_profiles.shape} \")\n",
        "\n",
        "  return movie_profiles\n",
        "\n",
        "def get_user_profile(user_id,rating_dataset):\n",
        "  ratings_user_df=rating_dataset.loc[user_id]\n",
        "  user_movie_profile=get_movie_profiles(ratings_user_df[\"movie_id\"])\n",
        "  user_ratings_strength=np.array(ratings_user_df[\"rating_val\"]).reshape(-1,1)\n",
        "  user_movie_weighted_avg= np.sum(user_movie_profile.multiply(user_ratings_strength),axis=0)/np.sum(user_ratings_strength)\n",
        "  user_movie_weighted_avg = np.asarray(user_movie_weighted_avg).ravel()\n",
        "  user_weighted_avg_norm=normalize([user_movie_weighted_avg])\n",
        "  return user_weighted_avg_norm\n",
        "\n",
        "def get_users_profiles():\n",
        "  ratings_indexed_df=movie_rating_train_df[movie_rating_train_df[\"movie_id\"].isin(ratings_dataset[\"movie_id\"])].set_index(\"user_id\")\n",
        "  users_profile={}\n",
        "  print(\"Create all users profiles \\n\")\n",
        "  for user_id in tqdm(ratings_indexed_df.index.unique()):\n",
        "    print(f\"user id {user_id}\")\n",
        "    users_profile[user_id]=get_user_profile(user_id,ratings_indexed_df)\n",
        "  return users_profile\n"
      ],
      "metadata": {
        "id": "osHpWHT6kfd8"
      },
      "execution_count": 18,
      "outputs": []
    },
    {
      "cell_type": "code",
      "source": [],
      "metadata": {
        "colab": {
          "base_uri": "https://localhost:8080/",
          "height": 36
        },
        "id": "rQxcbrKHJaAH",
        "outputId": "c2c609f7-9b68-46bb-8da4-a08fed70867e"
      },
      "execution_count": null,
      "outputs": [
        {
          "output_type": "execute_result",
          "data": {
            "text/plain": [
              "'embers-2015'"
            ],
            "application/vnd.google.colaboratory.intrinsic+json": {
              "type": "string"
            }
          },
          "metadata": {},
          "execution_count": 108
        }
      ]
    },
    {
      "cell_type": "code",
      "source": [
        "users_profiles=get_users_profiles()\n"
      ],
      "metadata": {
        "id": "j2pcJttmG-gv",
        "colab": {
          "base_uri": "https://localhost:8080/"
        },
        "outputId": "a17cf7f0-4680-4c0b-a88c-b083771cfba1"
      },
      "execution_count": 19,
      "outputs": [
        {
          "output_type": "stream",
          "name": "stdout",
          "text": [
            "Create all users profiles \n",
            "\n"
          ]
        },
        {
          "output_type": "stream",
          "name": "stderr",
          "text": [
            "\r  0%|          | 0/168 [00:00<?, ?it/s]"
          ]
        },
        {
          "output_type": "stream",
          "name": "stdout",
          "text": [
            "user id peterstanley\n",
            "\n",
            " create all movies profiles \n",
            "\n"
          ]
        },
        {
          "output_type": "stream",
          "name": "stderr",
          "text": [
            "\n",
            "  0%|          | 0/1314 [00:00<?, ?it/s]\u001b[A\n",
            " 11%|█▏        | 148/1314 [00:00<00:00, 1476.73it/s]\u001b[A\n",
            " 23%|██▎       | 301/1314 [00:00<00:00, 1495.55it/s]\u001b[A\n",
            " 34%|███▍      | 451/1314 [00:00<00:00, 1495.52it/s]\u001b[A\n",
            " 47%|████▋     | 617/1314 [00:00<00:00, 1557.60it/s]\u001b[A\n",
            " 59%|█████▉    | 773/1314 [00:00<00:00, 1520.16it/s]\u001b[A\n",
            " 71%|███████▏  | 938/1314 [00:00<00:00, 1563.33it/s]\u001b[A\n",
            " 83%|████████▎ | 1095/1314 [00:00<00:00, 1453.98it/s]\u001b[A\n",
            "100%|██████████| 1314/1314 [00:00<00:00, 1447.67it/s]\n",
            "  1%|          | 1/168 [00:00<02:37,  1.06it/s]"
          ]
        },
        {
          "output_type": "stream",
          "name": "stdout",
          "text": [
            "Item profile list LENGTH : 1314 \n",
            "movies profiles SHAPE : (1314, 1443) \n",
            "user id adashelby\n",
            "\n",
            " create all movies profiles \n",
            "\n"
          ]
        },
        {
          "output_type": "stream",
          "name": "stderr",
          "text": [
            "\n",
            "  0%|          | 0/1250 [00:00<?, ?it/s]\u001b[A\n",
            " 15%|█▌        | 191/1250 [00:00<00:00, 1891.01it/s]\u001b[A\n",
            " 30%|███       | 381/1250 [00:00<00:00, 1755.35it/s]\u001b[A\n",
            " 45%|████▍     | 558/1250 [00:00<00:00, 1730.07it/s]\u001b[A\n",
            " 59%|█████▉    | 736/1250 [00:00<00:00, 1746.95it/s]\u001b[A\n",
            " 75%|███████▍  | 935/1250 [00:00<00:00, 1824.58it/s]\u001b[A\n",
            "100%|██████████| 1250/1250 [00:00<00:00, 1794.63it/s]\n",
            "  1%|          | 2/168 [00:01<02:14,  1.23it/s]"
          ]
        },
        {
          "output_type": "stream",
          "name": "stdout",
          "text": [
            "Item profile list LENGTH : 1250 \n",
            "movies profiles SHAPE : (1250, 1443) \n",
            "user id vontrapp\n",
            "\n",
            " create all movies profiles \n",
            "\n"
          ]
        },
        {
          "output_type": "stream",
          "name": "stderr",
          "text": [
            "\n",
            "  0%|          | 0/1286 [00:00<?, ?it/s]\u001b[A\n",
            " 27%|██▋       | 341/1286 [00:00<00:00, 3350.26it/s]\u001b[A\n",
            " 53%|█████▎    | 677/1286 [00:00<00:00, 2962.85it/s]\u001b[A\n",
            "100%|██████████| 1286/1286 [00:00<00:00, 3124.34it/s]\n",
            "  2%|▏         | 3/168 [00:02<01:45,  1.56it/s]"
          ]
        },
        {
          "output_type": "stream",
          "name": "stdout",
          "text": [
            "Item profile list LENGTH : 1286 \n",
            "movies profiles SHAPE : (1286, 1443) \n",
            "user id man_out_of_time\n",
            "\n",
            " create all movies profiles \n",
            "\n"
          ]
        },
        {
          "output_type": "stream",
          "name": "stderr",
          "text": [
            "\n",
            "  0%|          | 0/1256 [00:00<?, ?it/s]\u001b[A\n",
            "  6%|▌         | 73/1256 [00:00<00:01, 729.47it/s]\u001b[A\n",
            " 12%|█▏        | 146/1256 [00:00<00:01, 675.22it/s]\u001b[A\n",
            " 17%|█▋        | 219/1256 [00:00<00:01, 696.13it/s]\u001b[A\n",
            " 23%|██▎       | 289/1256 [00:00<00:01, 671.21it/s]\u001b[A\n",
            " 28%|██▊       | 357/1256 [00:00<00:01, 663.66it/s]\u001b[A\n",
            " 34%|███▍      | 424/1256 [00:00<00:01, 659.50it/s]\u001b[A\n",
            " 39%|███▉      | 491/1256 [00:00<00:01, 614.12it/s]\u001b[A\n",
            " 45%|████▍     | 562/1256 [00:00<00:01, 637.08it/s]\u001b[A\n",
            " 50%|████▉     | 627/1256 [00:01<00:01, 501.78it/s]\u001b[A\n",
            " 54%|█████▍    | 682/1256 [00:01<00:01, 479.10it/s]\u001b[A\n",
            " 58%|█████▊    | 733/1256 [00:01<00:01, 450.97it/s]\u001b[A\n",
            " 62%|██████▏   | 781/1256 [00:01<00:01, 448.89it/s]\u001b[A\n",
            " 66%|██████▌   | 828/1256 [00:01<00:00, 443.79it/s]\u001b[A\n",
            " 70%|██████▉   | 874/1256 [00:01<00:00, 443.30it/s]\u001b[A\n",
            " 73%|███████▎  | 919/1256 [00:01<00:00, 423.69it/s]\u001b[A\n",
            " 77%|███████▋  | 962/1256 [00:01<00:00, 410.25it/s]\u001b[A\n",
            " 80%|███████▉  | 1004/1256 [00:01<00:00, 402.12it/s]\u001b[A\n",
            " 83%|████████▎ | 1045/1256 [00:02<00:00, 391.02it/s]\u001b[A\n",
            " 87%|████████▋ | 1092/1256 [00:02<00:00, 411.96it/s]\u001b[A\n",
            " 90%|█████████ | 1136/1256 [00:02<00:00, 417.09it/s]\u001b[A\n",
            " 94%|█████████▍| 1178/1256 [00:02<00:00, 391.88it/s]\u001b[A\n",
            "100%|██████████| 1256/1256 [00:02<00:00, 477.78it/s]\n",
            "  2%|▏         | 4/168 [00:04<03:56,  1.44s/it]"
          ]
        },
        {
          "output_type": "stream",
          "name": "stdout",
          "text": [
            "Item profile list LENGTH : 1256 \n",
            "movies profiles SHAPE : (1256, 1443) \n",
            "user id alovelynite\n",
            "\n",
            " create all movies profiles \n",
            "\n"
          ]
        },
        {
          "output_type": "stream",
          "name": "stderr",
          "text": [
            "\n",
            "  0%|          | 0/1229 [00:00<?, ?it/s]\u001b[A\n",
            " 14%|█▍        | 178/1229 [00:00<00:00, 1777.59it/s]\u001b[A\n",
            " 29%|██▉       | 356/1229 [00:00<00:00, 1705.18it/s]\u001b[A\n",
            " 43%|████▎     | 527/1229 [00:00<00:00, 1701.79it/s]\u001b[A\n",
            " 58%|█████▊    | 714/1229 [00:00<00:00, 1761.36it/s]\u001b[A\n",
            " 73%|███████▎  | 899/1229 [00:00<00:00, 1787.43it/s]\u001b[A\n",
            "100%|██████████| 1229/1229 [00:00<00:00, 1732.29it/s]\n",
            "  3%|▎         | 5/168 [00:05<03:14,  1.19s/it]"
          ]
        },
        {
          "output_type": "stream",
          "name": "stdout",
          "text": [
            "Item profile list LENGTH : 1229 \n",
            "movies profiles SHAPE : (1229, 1443) \n",
            "user id subsahaaron\n",
            "\n",
            " create all movies profiles \n",
            "\n"
          ]
        },
        {
          "output_type": "stream",
          "name": "stderr",
          "text": [
            "\n",
            "  0%|          | 0/1079 [00:00<?, ?it/s]\u001b[A\n",
            " 14%|█▍        | 149/1079 [00:00<00:00, 1488.76it/s]\u001b[A\n",
            " 28%|██▊       | 298/1079 [00:00<00:00, 1337.84it/s]\u001b[A\n",
            " 40%|████      | 433/1079 [00:00<00:00, 1309.06it/s]\u001b[A\n",
            " 57%|█████▋    | 617/1079 [00:00<00:00, 1496.65it/s]\u001b[A\n",
            " 71%|███████   | 768/1079 [00:00<00:00, 1381.16it/s]\u001b[A\n",
            " 84%|████████▍ | 909/1079 [00:00<00:00, 1379.75it/s]\u001b[A\n",
            "100%|██████████| 1079/1079 [00:00<00:00, 1407.07it/s]\n",
            "  4%|▎         | 6/168 [00:06<02:52,  1.06s/it]"
          ]
        },
        {
          "output_type": "stream",
          "name": "stdout",
          "text": [
            "Item profile list LENGTH : 1079 \n",
            "movies profiles SHAPE : (1079, 1443) \n",
            "user id chavrosbaby\n",
            "\n",
            " create all movies profiles \n",
            "\n"
          ]
        },
        {
          "output_type": "stream",
          "name": "stderr",
          "text": [
            "\n",
            "  0%|          | 0/1264 [00:00<?, ?it/s]\u001b[A\n",
            " 17%|█▋        | 215/1264 [00:00<00:00, 2136.81it/s]\u001b[A\n",
            " 35%|███▍      | 441/1264 [00:00<00:00, 2198.87it/s]\u001b[A\n",
            " 54%|█████▍    | 682/1264 [00:00<00:00, 2282.81it/s]\u001b[A\n",
            " 72%|███████▏  | 911/1264 [00:00<00:00, 2270.31it/s]\u001b[A\n",
            "100%|██████████| 1264/1264 [00:00<00:00, 2128.75it/s]\n",
            "  4%|▍         | 7/168 [00:06<02:28,  1.09it/s]"
          ]
        },
        {
          "output_type": "stream",
          "name": "stdout",
          "text": [
            "Item profile list LENGTH : 1264 \n",
            "movies profiles SHAPE : (1264, 1443) \n",
            "user id sopheyquinn\n",
            "\n",
            " create all movies profiles \n",
            "\n"
          ]
        },
        {
          "output_type": "stream",
          "name": "stderr",
          "text": [
            "\n",
            "100%|██████████| 672/672 [00:00<00:00, 6730.98it/s]\n",
            "  5%|▍         | 8/168 [00:07<01:46,  1.50it/s]"
          ]
        },
        {
          "output_type": "stream",
          "name": "stdout",
          "text": [
            "Item profile list LENGTH : 672 \n",
            "movies profiles SHAPE : (672, 1443) \n",
            "user id elcochran90\n",
            "\n",
            " create all movies profiles \n",
            "\n"
          ]
        },
        {
          "output_type": "stream",
          "name": "stderr",
          "text": [
            "\n",
            "  0%|          | 0/1309 [00:00<?, ?it/s]\u001b[A\n",
            "  9%|▉         | 117/1309 [00:00<00:01, 1155.22it/s]\u001b[A\n",
            " 19%|█▉        | 247/1309 [00:00<00:00, 1237.56it/s]\u001b[A\n",
            " 29%|██▉       | 377/1309 [00:00<00:00, 1264.58it/s]\u001b[A\n",
            " 40%|████      | 526/1309 [00:00<00:00, 1350.50it/s]\u001b[A\n",
            " 51%|█████▏    | 674/1309 [00:00<00:00, 1396.54it/s]\u001b[A\n",
            " 62%|██████▏   | 817/1309 [00:00<00:00, 1403.55it/s]\u001b[A\n",
            " 73%|███████▎  | 958/1309 [00:00<00:00, 1375.07it/s]\u001b[A\n",
            " 84%|████████▎ | 1096/1309 [00:00<00:00, 1340.94it/s]\u001b[A\n",
            "100%|██████████| 1309/1309 [00:00<00:00, 1327.62it/s]\n",
            "  5%|▌         | 9/168 [00:08<02:09,  1.23it/s]"
          ]
        },
        {
          "output_type": "stream",
          "name": "stdout",
          "text": [
            "Item profile list LENGTH : 1309 \n",
            "movies profiles SHAPE : (1309, 1443) \n",
            "user id mr_dulac\n",
            "\n",
            " create all movies profiles \n",
            "\n"
          ]
        },
        {
          "output_type": "stream",
          "name": "stderr",
          "text": [
            "\n",
            "  0%|          | 0/1303 [00:00<?, ?it/s]\u001b[A\n",
            " 21%|██        | 275/1303 [00:00<00:00, 2746.89it/s]\u001b[A\n",
            " 43%|████▎     | 560/1303 [00:00<00:00, 2803.66it/s]\u001b[A\n",
            " 65%|██████▌   | 851/1303 [00:00<00:00, 2851.36it/s]\u001b[A\n",
            "100%|██████████| 1303/1303 [00:00<00:00, 2856.71it/s]\n",
            "  6%|▌         | 10/168 [00:08<01:52,  1.41it/s]"
          ]
        },
        {
          "output_type": "stream",
          "name": "stdout",
          "text": [
            "Item profile list LENGTH : 1303 \n",
            "movies profiles SHAPE : (1303, 1443) \n",
            "user id filipe_furtado\n",
            "\n",
            " create all movies profiles \n",
            "\n"
          ]
        },
        {
          "output_type": "stream",
          "name": "stderr",
          "text": [
            "\n",
            "  0%|          | 0/1278 [00:00<?, ?it/s]\u001b[A\n",
            " 12%|█▏        | 155/1278 [00:00<00:00, 1548.21it/s]\u001b[A\n",
            " 25%|██▍       | 314/1278 [00:00<00:00, 1568.06it/s]\u001b[A\n",
            " 38%|███▊      | 484/1278 [00:00<00:00, 1623.03it/s]\u001b[A\n",
            " 52%|█████▏    | 665/1278 [00:00<00:00, 1693.72it/s]\u001b[A\n",
            " 65%|██████▌   | 835/1278 [00:00<00:00, 1601.31it/s]\u001b[A\n",
            " 78%|███████▊  | 1001/1278 [00:00<00:00, 1619.86it/s]\u001b[A\n",
            "100%|██████████| 1278/1278 [00:00<00:00, 1648.04it/s]\n",
            "  7%|▋         | 11/168 [00:09<01:56,  1.35it/s]"
          ]
        },
        {
          "output_type": "stream",
          "name": "stdout",
          "text": [
            "Item profile list LENGTH : 1278 \n",
            "movies profiles SHAPE : (1278, 1443) \n",
            "user id thehandmaiden\n",
            "\n",
            " create all movies profiles \n",
            "\n"
          ]
        },
        {
          "output_type": "stream",
          "name": "stderr",
          "text": [
            "\n",
            "  0%|          | 0/484 [00:00<?, ?it/s]\u001b[A\n",
            " 36%|███▌      | 172/484 [00:00<00:00, 1681.61it/s]\u001b[A\n",
            "100%|██████████| 484/484 [00:00<00:00, 1903.45it/s]\n",
            "  7%|▋         | 12/168 [00:09<01:33,  1.68it/s]"
          ]
        },
        {
          "output_type": "stream",
          "name": "stdout",
          "text": [
            "Item profile list LENGTH : 484 \n",
            "movies profiles SHAPE : (484, 1443) \n",
            "user id hewasthrfriendd\n",
            "\n",
            " create all movies profiles \n",
            "\n"
          ]
        },
        {
          "output_type": "stream",
          "name": "stderr",
          "text": [
            "\n",
            "  0%|          | 0/931 [00:00<?, ?it/s]\u001b[A\n",
            " 44%|████▎     | 407/931 [00:00<00:00, 4066.78it/s]\u001b[A\n",
            "100%|██████████| 931/931 [00:00<00:00, 3848.44it/s]\n",
            "  8%|▊         | 13/168 [00:10<01:16,  2.02it/s]"
          ]
        },
        {
          "output_type": "stream",
          "name": "stdout",
          "text": [
            "Item profile list LENGTH : 931 \n",
            "movies profiles SHAPE : (931, 1443) \n",
            "user id pd187\n",
            "\n",
            " create all movies profiles \n",
            "\n"
          ]
        },
        {
          "output_type": "stream",
          "name": "stderr",
          "text": [
            "\n",
            "  0%|          | 0/1257 [00:00<?, ?it/s]\u001b[A\n",
            "  9%|▉         | 114/1257 [00:00<00:01, 1124.03it/s]\u001b[A\n",
            " 18%|█▊        | 227/1257 [00:00<00:01, 982.90it/s] \u001b[A\n",
            " 27%|██▋       | 336/1257 [00:00<00:00, 1021.65it/s]\u001b[A\n",
            " 36%|███▌      | 448/1257 [00:00<00:00, 1056.88it/s]\u001b[A\n",
            " 44%|████▍     | 557/1257 [00:00<00:00, 1062.36it/s]\u001b[A\n",
            " 53%|█████▎    | 664/1257 [00:00<00:00, 1056.62it/s]\u001b[A\n",
            " 61%|██████▏   | 770/1257 [00:00<00:00, 1050.85it/s]\u001b[A\n",
            " 71%|███████   | 888/1257 [00:00<00:00, 1090.67it/s]\u001b[A\n",
            " 79%|███████▉  | 998/1257 [00:00<00:00, 1066.58it/s]\u001b[A\n",
            " 88%|████████▊ | 1111/1257 [00:01<00:00, 1081.75it/s]\u001b[A\n",
            "100%|██████████| 1257/1257 [00:01<00:00, 1053.14it/s]\n",
            "  8%|▊         | 14/168 [00:11<01:50,  1.39it/s]"
          ]
        },
        {
          "output_type": "stream",
          "name": "stdout",
          "text": [
            "Item profile list LENGTH : 1257 \n",
            "movies profiles SHAPE : (1257, 1443) \n",
            "user id theendofcinema\n",
            "\n",
            " create all movies profiles \n",
            "\n"
          ]
        },
        {
          "output_type": "stream",
          "name": "stderr",
          "text": [
            "\n",
            "  0%|          | 0/1229 [00:00<?, ?it/s]\u001b[A\n",
            " 10%|█         | 125/1229 [00:00<00:00, 1243.78it/s]\u001b[A\n",
            " 20%|██        | 250/1229 [00:00<00:00, 1192.35it/s]\u001b[A\n",
            " 30%|███       | 370/1229 [00:00<00:00, 1175.98it/s]\u001b[A\n",
            " 40%|███▉      | 488/1229 [00:00<00:00, 1148.46it/s]\u001b[A\n",
            " 51%|█████     | 623/1229 [00:00<00:00, 1218.28it/s]\u001b[A\n",
            " 61%|██████    | 746/1229 [00:00<00:00, 1160.95it/s]\u001b[A\n",
            " 71%|███████   | 874/1229 [00:00<00:00, 1195.63it/s]\u001b[A\n",
            " 82%|████████▏ | 1006/1229 [00:00<00:00, 1233.80it/s]\u001b[A\n",
            "100%|██████████| 1229/1229 [00:01<00:00, 1201.91it/s]\n",
            "  9%|▉         | 15/168 [00:12<02:05,  1.22it/s]"
          ]
        },
        {
          "output_type": "stream",
          "name": "stdout",
          "text": [
            "Item profile list LENGTH : 1229 \n",
            "movies profiles SHAPE : (1229, 1443) \n",
            "user id jack\n",
            "\n",
            " create all movies profiles \n",
            "\n"
          ]
        },
        {
          "output_type": "stream",
          "name": "stderr",
          "text": [
            "\n",
            "  0%|          | 0/1295 [00:00<?, ?it/s]\u001b[A\n",
            " 21%|██        | 270/1295 [00:00<00:00, 2698.10it/s]\u001b[A\n",
            " 42%|████▏     | 550/1295 [00:00<00:00, 2752.43it/s]\u001b[A\n",
            " 64%|██████▍   | 826/1295 [00:00<00:00, 2678.73it/s]\u001b[A\n",
            "100%|██████████| 1295/1295 [00:00<00:00, 2801.75it/s]\n",
            " 10%|▉         | 16/168 [00:12<01:49,  1.39it/s]"
          ]
        },
        {
          "output_type": "stream",
          "name": "stdout",
          "text": [
            "Item profile list LENGTH : 1295 \n",
            "movies profiles SHAPE : (1295, 1443) \n",
            "user id sharktale\n",
            "\n",
            " create all movies profiles \n",
            "\n"
          ]
        },
        {
          "output_type": "stream",
          "name": "stderr",
          "text": [
            "\n",
            "  0%|          | 0/1284 [00:00<?, ?it/s]\u001b[A\n",
            " 13%|█▎        | 162/1284 [00:00<00:00, 1619.05it/s]\u001b[A\n",
            " 26%|██▋       | 338/1284 [00:00<00:00, 1700.06it/s]\u001b[A\n",
            " 41%|████      | 521/1284 [00:00<00:00, 1758.93it/s]\u001b[A\n",
            " 55%|█████▍    | 701/1284 [00:00<00:00, 1769.24it/s]\u001b[A\n",
            " 68%|██████▊   | 878/1284 [00:00<00:00, 1611.96it/s]\u001b[A\n",
            " 83%|████████▎ | 1064/1284 [00:00<00:00, 1690.69it/s]\u001b[A\n",
            "100%|██████████| 1284/1284 [00:00<00:00, 1702.60it/s]\n",
            " 10%|█         | 17/168 [00:13<01:51,  1.35it/s]"
          ]
        },
        {
          "output_type": "stream",
          "name": "stdout",
          "text": [
            "Item profile list LENGTH : 1284 \n",
            "movies profiles SHAPE : (1284, 1443) \n",
            "user id impressionblend\n",
            "\n",
            " create all movies profiles \n",
            "\n"
          ]
        },
        {
          "output_type": "stream",
          "name": "stderr",
          "text": [
            "\n",
            "  0%|          | 0/975 [00:00<?, ?it/s]\u001b[A\n",
            " 27%|██▋       | 259/975 [00:00<00:00, 2544.36it/s]\u001b[A\n",
            " 56%|█████▌    | 548/975 [00:00<00:00, 2745.10it/s]\u001b[A\n",
            "100%|██████████| 975/975 [00:00<00:00, 2947.82it/s]\n",
            " 11%|█         | 18/168 [00:13<01:33,  1.61it/s]"
          ]
        },
        {
          "output_type": "stream",
          "name": "stdout",
          "text": [
            "Item profile list LENGTH : 975 \n",
            "movies profiles SHAPE : (975, 1443) \n",
            "user id followtheblind\n",
            "\n",
            " create all movies profiles \n",
            "\n"
          ]
        },
        {
          "output_type": "stream",
          "name": "stderr",
          "text": [
            "\n",
            "  0%|          | 0/1011 [00:00<?, ?it/s]\u001b[A\n",
            " 29%|██▊       | 289/1011 [00:00<00:00, 2800.74it/s]\u001b[A\n",
            " 56%|█████▋    | 570/1011 [00:00<00:00, 2708.10it/s]\u001b[A\n",
            "100%|██████████| 1011/1011 [00:00<00:00, 2726.36it/s]\n",
            " 11%|█▏        | 19/168 [00:14<01:22,  1.81it/s]"
          ]
        },
        {
          "output_type": "stream",
          "name": "stdout",
          "text": [
            "Item profile list LENGTH : 1011 \n",
            "movies profiles SHAPE : (1011, 1443) \n",
            "user id loureviews\n",
            "\n",
            " create all movies profiles \n",
            "\n"
          ]
        },
        {
          "output_type": "stream",
          "name": "stderr",
          "text": [
            "\n",
            "  0%|          | 0/1295 [00:00<?, ?it/s]\u001b[A\n",
            "  3%|▎         | 34/1295 [00:00<00:03, 333.49it/s]\u001b[A\n",
            "  6%|▌         | 76/1295 [00:00<00:03, 382.51it/s]\u001b[A\n",
            "  9%|▉         | 121/1295 [00:00<00:02, 408.19it/s]\u001b[A\n",
            " 13%|█▎        | 166/1295 [00:00<00:02, 424.06it/s]\u001b[A\n",
            " 16%|█▌        | 209/1295 [00:00<00:02, 400.59it/s]\u001b[A\n",
            " 19%|█▉        | 250/1295 [00:00<00:02, 399.73it/s]\u001b[A\n",
            " 22%|██▏       | 291/1295 [00:00<00:02, 393.39it/s]\u001b[A\n",
            " 26%|██▌       | 331/1295 [00:00<00:02, 390.89it/s]\u001b[A\n",
            " 29%|██▊       | 371/1295 [00:00<00:02, 385.98it/s]\u001b[A\n",
            " 32%|███▏      | 412/1295 [00:01<00:02, 389.31it/s]\u001b[A\n",
            " 35%|███▍      | 451/1295 [00:01<00:02, 377.05it/s]\u001b[A\n",
            " 38%|███▊      | 489/1295 [00:01<00:02, 375.43it/s]\u001b[A\n",
            " 41%|████      | 528/1295 [00:01<00:02, 377.40it/s]\u001b[A\n",
            " 44%|████▍     | 568/1295 [00:01<00:01, 382.28it/s]\u001b[A\n",
            " 47%|████▋     | 611/1295 [00:01<00:01, 393.86it/s]\u001b[A\n",
            " 51%|█████     | 654/1295 [00:01<00:01, 403.50it/s]\u001b[A\n",
            " 54%|█████▎    | 695/1295 [00:01<00:01, 398.23it/s]\u001b[A\n",
            " 57%|█████▋    | 736/1295 [00:01<00:01, 399.71it/s]\u001b[A\n",
            " 60%|██████    | 777/1295 [00:01<00:01, 400.31it/s]\u001b[A\n",
            " 63%|██████▎   | 818/1295 [00:02<00:01, 336.55it/s]\u001b[A\n",
            " 66%|██████▌   | 854/1295 [00:02<00:01, 302.83it/s]\u001b[A\n",
            " 68%|██████▊   | 886/1295 [00:02<00:01, 282.96it/s]\u001b[A\n",
            " 71%|███████   | 916/1295 [00:02<00:01, 269.27it/s]\u001b[A\n",
            " 73%|███████▎  | 944/1295 [00:02<00:01, 245.04it/s]\u001b[A\n",
            " 75%|███████▍  | 970/1295 [00:02<00:01, 232.47it/s]\u001b[A\n",
            " 77%|███████▋  | 994/1295 [00:02<00:01, 229.73it/s]\u001b[A\n",
            " 79%|███████▊  | 1018/1295 [00:03<00:01, 225.59it/s]\u001b[A\n",
            " 80%|████████  | 1042/1295 [00:03<00:01, 227.91it/s]\u001b[A\n",
            " 82%|████████▏ | 1065/1295 [00:03<00:01, 214.47it/s]\u001b[A\n",
            " 84%|████████▍ | 1087/1295 [00:03<00:00, 210.51it/s]\u001b[A\n",
            " 86%|████████▌ | 1109/1295 [00:03<00:00, 206.75it/s]\u001b[A\n",
            " 87%|████████▋ | 1130/1295 [00:03<00:00, 206.72it/s]\u001b[A\n",
            " 89%|████████▉ | 1154/1295 [00:03<00:00, 213.21it/s]\u001b[A\n",
            " 91%|█████████ | 1176/1295 [00:03<00:00, 214.48it/s]\u001b[A\n",
            " 93%|█████████▎| 1199/1295 [00:03<00:00, 218.12it/s]\u001b[A\n",
            " 94%|█████████▍| 1221/1295 [00:04<00:00, 213.54it/s]\u001b[A\n",
            " 96%|█████████▌| 1243/1295 [00:04<00:00, 209.94it/s]\u001b[A\n",
            " 98%|█████████▊| 1266/1295 [00:04<00:00, 214.54it/s]\u001b[A\n",
            "100%|██████████| 1295/1295 [00:04<00:00, 297.01it/s]\n",
            " 12%|█▏        | 20/168 [00:18<04:12,  1.71s/it]"
          ]
        },
        {
          "output_type": "stream",
          "name": "stdout",
          "text": [
            "Item profile list LENGTH : 1295 \n",
            "movies profiles SHAPE : (1295, 1443) \n",
            "user id michaelhaneke\n",
            "\n",
            " create all movies profiles \n",
            "\n"
          ]
        },
        {
          "output_type": "stream",
          "name": "stderr",
          "text": [
            "\n",
            "  0%|          | 0/1266 [00:00<?, ?it/s]\u001b[A\n",
            "  6%|▌         | 75/1266 [00:00<00:01, 744.30it/s]\u001b[A\n",
            " 12%|█▏        | 150/1266 [00:00<00:01, 735.61it/s]\u001b[A\n",
            " 18%|█▊        | 224/1266 [00:00<00:01, 693.03it/s]\u001b[A\n",
            " 25%|██▍       | 316/1266 [00:00<00:01, 777.96it/s]\u001b[A\n",
            " 31%|███       | 395/1266 [00:00<00:01, 776.94it/s]\u001b[A\n",
            " 37%|███▋      | 474/1266 [00:00<00:01, 756.29it/s]\u001b[A\n",
            " 44%|████▍     | 563/1266 [00:00<00:00, 793.46it/s]\u001b[A\n",
            " 51%|█████     | 644/1266 [00:00<00:00, 793.50it/s]\u001b[A\n",
            " 57%|█████▋    | 724/1266 [00:00<00:00, 717.70it/s]\u001b[A\n",
            " 67%|██████▋   | 853/1266 [00:01<00:00, 876.48it/s]\u001b[A\n",
            " 78%|███████▊  | 993/1266 [00:01<00:00, 1022.88it/s]\u001b[A\n",
            "100%|██████████| 1266/1266 [00:01<00:00, 946.85it/s] \n",
            " 12%|█▎        | 21/168 [00:20<03:55,  1.60s/it]"
          ]
        },
        {
          "output_type": "stream",
          "name": "stdout",
          "text": [
            "Item profile list LENGTH : 1266 \n",
            "movies profiles SHAPE : (1266, 1443) \n",
            "user id willhollis\n",
            "\n",
            " create all movies profiles \n",
            "\n"
          ]
        },
        {
          "output_type": "stream",
          "name": "stderr",
          "text": [
            "\n",
            "  0%|          | 0/774 [00:00<?, ?it/s]\u001b[A\n",
            " 43%|████▎     | 330/774 [00:00<00:00, 3299.40it/s]\u001b[A\n",
            "100%|██████████| 774/774 [00:00<00:00, 3052.56it/s]\n",
            " 13%|█▎        | 22/168 [00:20<02:55,  1.20s/it]"
          ]
        },
        {
          "output_type": "stream",
          "name": "stdout",
          "text": [
            "Item profile list LENGTH : 774 \n",
            "movies profiles SHAPE : (774, 1443) \n",
            "user id truman\n",
            "\n",
            " create all movies profiles \n",
            "\n"
          ]
        },
        {
          "output_type": "stream",
          "name": "stderr",
          "text": [
            "\n",
            "  0%|          | 0/770 [00:00<?, ?it/s]\u001b[A\n",
            " 44%|████▍     | 338/770 [00:00<00:00, 3374.45it/s]\u001b[A\n",
            "100%|██████████| 770/770 [00:00<00:00, 3209.66it/s]\n",
            " 14%|█▎        | 23/168 [00:20<02:13,  1.09it/s]"
          ]
        },
        {
          "output_type": "stream",
          "name": "stdout",
          "text": [
            "Item profile list LENGTH : 770 \n",
            "movies profiles SHAPE : (770, 1443) \n",
            "user id gemko\n",
            "\n",
            " create all movies profiles \n",
            "\n"
          ]
        },
        {
          "output_type": "stream",
          "name": "stderr",
          "text": [
            "\n",
            "  0%|          | 0/1257 [00:00<?, ?it/s]\u001b[A\n",
            " 24%|██▎       | 296/1257 [00:00<00:00, 2955.17it/s]\u001b[A\n",
            " 50%|█████     | 633/1257 [00:00<00:00, 3185.67it/s]\u001b[A\n",
            "100%|██████████| 1257/1257 [00:00<00:00, 3242.58it/s]\n",
            " 14%|█▍        | 24/168 [00:21<01:50,  1.30it/s]"
          ]
        },
        {
          "output_type": "stream",
          "name": "stdout",
          "text": [
            "Item profile list LENGTH : 1257 \n",
            "movies profiles SHAPE : (1257, 1443) \n",
            "user id andredenervaux\n",
            "\n",
            " create all movies profiles \n",
            "\n"
          ]
        },
        {
          "output_type": "stream",
          "name": "stderr",
          "text": [
            "\n",
            "  0%|          | 0/1275 [00:00<?, ?it/s]\u001b[A\n",
            " 20%|█▉        | 254/1275 [00:00<00:00, 2532.89it/s]\u001b[A\n",
            " 41%|████      | 522/1275 [00:00<00:00, 2611.13it/s]\u001b[A\n",
            " 64%|██████▍   | 813/1275 [00:00<00:00, 2742.28it/s]\u001b[A\n",
            "100%|██████████| 1275/1275 [00:00<00:00, 2686.23it/s]\n",
            " 15%|█▍        | 25/168 [00:21<01:38,  1.45it/s]"
          ]
        },
        {
          "output_type": "stream",
          "name": "stdout",
          "text": [
            "Item profile list LENGTH : 1275 \n",
            "movies profiles SHAPE : (1275, 1443) \n",
            "user id dirkh\n",
            "\n",
            " create all movies profiles \n",
            "\n"
          ]
        },
        {
          "output_type": "stream",
          "name": "stderr",
          "text": [
            "\n",
            "  0%|          | 0/1266 [00:00<?, ?it/s]\u001b[A\n",
            " 48%|████▊     | 607/1266 [00:00<00:00, 6068.43it/s]\u001b[A\n",
            "100%|██████████| 1266/1266 [00:00<00:00, 5022.80it/s]\n",
            " 15%|█▌        | 26/168 [00:21<01:20,  1.77it/s]"
          ]
        },
        {
          "output_type": "stream",
          "name": "stdout",
          "text": [
            "Item profile list LENGTH : 1266 \n",
            "movies profiles SHAPE : (1266, 1443) \n",
            "user id carlogoesboom\n",
            "\n",
            " create all movies profiles \n",
            "\n"
          ]
        },
        {
          "output_type": "stream",
          "name": "stderr",
          "text": [
            "\n",
            "  0%|          | 0/1304 [00:00<?, ?it/s]\u001b[A\n",
            "  9%|▉         | 116/1304 [00:00<00:01, 1159.23it/s]\u001b[A\n",
            " 18%|█▊        | 236/1304 [00:00<00:00, 1176.82it/s]\u001b[A\n",
            " 27%|██▋       | 354/1304 [00:00<00:00, 1161.40it/s]\u001b[A\n",
            " 36%|███▋      | 473/1304 [00:00<00:00, 1166.89it/s]\u001b[A\n",
            " 45%|████▌     | 590/1304 [00:00<00:00, 1108.24it/s]\u001b[A\n",
            " 56%|█████▌    | 730/1304 [00:00<00:00, 1202.56it/s]\u001b[A\n",
            " 65%|██████▌   | 851/1304 [00:00<00:00, 1192.70it/s]\u001b[A\n",
            " 75%|███████▌  | 981/1304 [00:00<00:00, 1224.82it/s]\u001b[A\n",
            " 85%|████████▍ | 1104/1304 [00:00<00:00, 1180.03it/s]\u001b[A\n",
            "100%|██████████| 1304/1304 [00:01<00:00, 1181.45it/s]\n",
            " 16%|█▌        | 27/168 [00:22<01:43,  1.36it/s]"
          ]
        },
        {
          "output_type": "stream",
          "name": "stdout",
          "text": [
            "Item profile list LENGTH : 1304 \n",
            "movies profiles SHAPE : (1304, 1443) \n",
            "user id kun\n",
            "\n",
            " create all movies profiles \n",
            "\n"
          ]
        },
        {
          "output_type": "stream",
          "name": "stderr",
          "text": [
            "\n",
            "  0%|          | 0/1163 [00:00<?, ?it/s]\u001b[A\n",
            " 43%|████▎     | 499/1163 [00:00<00:00, 4977.70it/s]\u001b[A\n",
            "100%|██████████| 1163/1163 [00:00<00:00, 4680.22it/s]\n",
            " 17%|█▋        | 28/168 [00:23<01:23,  1.67it/s]"
          ]
        },
        {
          "output_type": "stream",
          "name": "stdout",
          "text": [
            "Item profile list LENGTH : 1163 \n",
            "movies profiles SHAPE : (1163, 1443) \n",
            "user id patrickpryor\n",
            "\n",
            " create all movies profiles \n",
            "\n"
          ]
        },
        {
          "output_type": "stream",
          "name": "stderr",
          "text": [
            "\n",
            "  0%|          | 0/1068 [00:00<?, ?it/s]\u001b[A\n",
            " 12%|█▏        | 133/1068 [00:00<00:00, 1289.71it/s]\u001b[A\n",
            " 26%|██▌       | 279/1068 [00:00<00:00, 1383.67it/s]\u001b[A\n",
            " 39%|███▉      | 418/1068 [00:00<00:00, 1315.00it/s]\u001b[A\n",
            " 52%|█████▏    | 555/1068 [00:00<00:00, 1334.20it/s]\u001b[A\n",
            " 68%|██████▊   | 725/1068 [00:00<00:00, 1458.78it/s]\u001b[A\n",
            " 82%|████████▏ | 872/1068 [00:00<00:00, 1319.48it/s]\u001b[A\n",
            "100%|██████████| 1068/1068 [00:00<00:00, 1361.31it/s]\n",
            " 17%|█▋        | 29/168 [00:24<01:31,  1.51it/s]"
          ]
        },
        {
          "output_type": "stream",
          "name": "stdout",
          "text": [
            "Item profile list LENGTH : 1068 \n",
            "movies profiles SHAPE : (1068, 1443) \n",
            "user id colonelmortimer\n",
            "\n",
            " create all movies profiles \n",
            "\n"
          ]
        },
        {
          "output_type": "stream",
          "name": "stderr",
          "text": [
            "\n",
            "  0%|          | 0/1304 [00:00<?, ?it/s]\u001b[A\n",
            "100%|██████████| 1304/1304 [00:00<00:00, 6869.72it/s]\n"
          ]
        },
        {
          "output_type": "stream",
          "name": "stdout",
          "text": [
            "Item profile list LENGTH : 1304 \n",
            "movies profiles SHAPE : (1304, 1443) \n"
          ]
        },
        {
          "output_type": "stream",
          "name": "stderr",
          "text": [
            "\r 18%|█▊        | 30/168 [00:24<01:12,  1.90it/s]"
          ]
        },
        {
          "output_type": "stream",
          "name": "stdout",
          "text": [
            "user id kylestanstv\n",
            "\n",
            " create all movies profiles \n",
            "\n"
          ]
        },
        {
          "output_type": "stream",
          "name": "stderr",
          "text": [
            "\n",
            "100%|██████████| 390/390 [00:00<00:00, 5763.23it/s]\n"
          ]
        },
        {
          "output_type": "stream",
          "name": "stdout",
          "text": [
            "Item profile list LENGTH : 390 \n",
            "movies profiles SHAPE : (390, 1443) \n",
            "user id juliendonkeyboi\n",
            "\n",
            " create all movies profiles \n",
            "\n"
          ]
        },
        {
          "output_type": "stream",
          "name": "stderr",
          "text": [
            "\n",
            "  0%|          | 0/1316 [00:00<?, ?it/s]\u001b[A\n",
            " 26%|██▌       | 343/1316 [00:00<00:00, 3429.84it/s]\u001b[A\n",
            " 52%|█████▏    | 686/1316 [00:00<00:00, 3231.97it/s]\u001b[A\n",
            "100%|██████████| 1316/1316 [00:00<00:00, 3406.57it/s]\n",
            " 19%|█▉        | 32/168 [00:24<00:54,  2.51it/s]"
          ]
        },
        {
          "output_type": "stream",
          "name": "stdout",
          "text": [
            "Item profile list LENGTH : 1316 \n",
            "movies profiles SHAPE : (1316, 1443) \n",
            "user id tasharobinson\n",
            "\n",
            " create all movies profiles \n",
            "\n"
          ]
        },
        {
          "output_type": "stream",
          "name": "stderr",
          "text": [
            "\n",
            "  0%|          | 0/640 [00:00<?, ?it/s]\u001b[A\n",
            " 30%|██▉       | 189/640 [00:00<00:00, 1857.51it/s]\u001b[A\n",
            " 60%|██████    | 386/640 [00:00<00:00, 1901.17it/s]\u001b[A\n",
            "100%|██████████| 640/640 [00:00<00:00, 1831.24it/s]\n",
            " 20%|█▉        | 33/168 [00:25<00:52,  2.55it/s]"
          ]
        },
        {
          "output_type": "stream",
          "name": "stdout",
          "text": [
            "Item profile list LENGTH : 640 \n",
            "movies profiles SHAPE : (640, 1443) \n",
            "user id sonnywortzik\n",
            "\n",
            " create all movies profiles \n",
            "\n"
          ]
        },
        {
          "output_type": "stream",
          "name": "stderr",
          "text": [
            "\n",
            "  0%|          | 0/1116 [00:00<?, ?it/s]\u001b[A\n",
            " 13%|█▎        | 150/1116 [00:00<00:00, 1494.73it/s]\u001b[A\n",
            " 28%|██▊       | 307/1116 [00:00<00:00, 1525.61it/s]\u001b[A\n",
            " 47%|████▋     | 523/1116 [00:00<00:00, 1798.91it/s]\u001b[A\n",
            " 65%|██████▍   | 725/1116 [00:00<00:00, 1873.95it/s]\u001b[A\n",
            "100%|██████████| 1116/1116 [00:00<00:00, 1840.06it/s]\n",
            " 20%|██        | 34/168 [00:25<01:00,  2.20it/s]"
          ]
        },
        {
          "output_type": "stream",
          "name": "stdout",
          "text": [
            "Item profile list LENGTH : 1116 \n",
            "movies profiles SHAPE : (1116, 1443) \n",
            "user id jakepcole\n",
            "\n",
            " create all movies profiles \n",
            "\n"
          ]
        },
        {
          "output_type": "stream",
          "name": "stderr",
          "text": [
            "\n",
            "  0%|          | 0/1158 [00:00<?, ?it/s]\u001b[A\n",
            " 20%|█▉        | 231/1158 [00:00<00:00, 2307.93it/s]\u001b[A\n",
            " 40%|███▉      | 462/1158 [00:00<00:00, 2147.68it/s]\u001b[A\n",
            " 60%|█████▉    | 693/1158 [00:00<00:00, 2213.46it/s]\u001b[A\n",
            "100%|██████████| 1158/1158 [00:00<00:00, 2279.48it/s]\n",
            " 21%|██        | 35/168 [00:26<01:03,  2.10it/s]"
          ]
        },
        {
          "output_type": "stream",
          "name": "stdout",
          "text": [
            "Item profile list LENGTH : 1158 \n",
            "movies profiles SHAPE : (1158, 1443) \n",
            "user id drivefiction19\n",
            "\n",
            " create all movies profiles \n",
            "\n"
          ]
        },
        {
          "output_type": "stream",
          "name": "stderr",
          "text": [
            "\n",
            "  0%|          | 0/1260 [00:00<?, ?it/s]\u001b[A\n",
            " 22%|██▏       | 278/1260 [00:00<00:00, 2771.48it/s]\u001b[A\n",
            " 45%|████▌     | 569/1260 [00:00<00:00, 2851.91it/s]\u001b[A\n",
            " 70%|██████▉   | 878/1260 [00:00<00:00, 2951.88it/s]\u001b[A\n",
            "100%|██████████| 1260/1260 [00:00<00:00, 2794.90it/s]\n",
            " 21%|██▏       | 36/168 [00:26<01:02,  2.10it/s]"
          ]
        },
        {
          "output_type": "stream",
          "name": "stdout",
          "text": [
            "Item profile list LENGTH : 1260 \n",
            "movies profiles SHAPE : (1260, 1443) \n",
            "user id apocalypsenow\n",
            "\n",
            " create all movies profiles \n",
            "\n"
          ]
        },
        {
          "output_type": "stream",
          "name": "stderr",
          "text": [
            "\n",
            "100%|██████████| 327/327 [00:00<00:00, 4581.86it/s]\n"
          ]
        },
        {
          "output_type": "stream",
          "name": "stdout",
          "text": [
            "Item profile list LENGTH : 327 \n",
            "movies profiles SHAPE : (327, 1443) \n",
            "user id feedingbrett\n",
            "\n",
            " create all movies profiles \n",
            "\n"
          ]
        },
        {
          "output_type": "stream",
          "name": "stderr",
          "text": [
            "\n",
            "  0%|          | 0/1330 [00:00<?, ?it/s]\u001b[A\n",
            " 20%|██        | 266/1330 [00:00<00:00, 2652.45it/s]\u001b[A\n",
            " 40%|████      | 532/1330 [00:00<00:00, 2379.32it/s]\u001b[A\n",
            " 58%|█████▊    | 772/1330 [00:00<00:00, 2241.04it/s]\u001b[A\n",
            " 78%|███████▊  | 1042/1330 [00:00<00:00, 2393.19it/s]\u001b[A\n",
            "100%|██████████| 1330/1330 [00:00<00:00, 2446.67it/s]\n",
            " 23%|██▎       | 38/168 [00:27<00:53,  2.44it/s]"
          ]
        },
        {
          "output_type": "stream",
          "name": "stdout",
          "text": [
            "Item profile list LENGTH : 1330 \n",
            "movies profiles SHAPE : (1330, 1443) \n",
            "user id pobrecito\n",
            "\n",
            " create all movies profiles \n",
            "\n"
          ]
        },
        {
          "output_type": "stream",
          "name": "stderr",
          "text": [
            "\n",
            "  0%|          | 0/1305 [00:00<?, ?it/s]\u001b[A\n",
            "  9%|▊         | 114/1305 [00:00<00:01, 1139.38it/s]\u001b[A\n",
            " 18%|█▊        | 233/1305 [00:00<00:00, 1166.88it/s]\u001b[A\n",
            " 28%|██▊       | 370/1305 [00:00<00:00, 1257.15it/s]\u001b[A\n",
            " 39%|███▊      | 504/1305 [00:00<00:00, 1284.88it/s]\u001b[A\n",
            " 50%|████▉     | 649/1305 [00:00<00:00, 1343.99it/s]\u001b[A\n",
            " 60%|██████    | 784/1305 [00:00<00:00, 1322.43it/s]\u001b[A\n",
            " 72%|███████▏  | 944/1305 [00:00<00:00, 1411.37it/s]\u001b[A\n",
            " 83%|████████▎ | 1086/1305 [00:00<00:00, 1391.41it/s]\u001b[A\n",
            "100%|██████████| 1305/1305 [00:00<00:00, 1336.01it/s]\n",
            " 23%|██▎       | 39/168 [00:28<01:11,  1.81it/s]"
          ]
        },
        {
          "output_type": "stream",
          "name": "stdout",
          "text": [
            "Item profile list LENGTH : 1305 \n",
            "movies profiles SHAPE : (1305, 1443) \n",
            "user id nomadland\n",
            "\n",
            " create all movies profiles \n",
            "\n"
          ]
        },
        {
          "output_type": "stream",
          "name": "stderr",
          "text": [
            "\n",
            "  0%|          | 0/803 [00:00<?, ?it/s]\u001b[A\n",
            " 42%|████▏     | 336/803 [00:00<00:00, 3347.08it/s]\u001b[A\n",
            "100%|██████████| 803/803 [00:00<00:00, 3301.09it/s]\n",
            " 24%|██▍       | 40/168 [00:28<01:01,  2.09it/s]"
          ]
        },
        {
          "output_type": "stream",
          "name": "stdout",
          "text": [
            "Item profile list LENGTH : 803 \n",
            "movies profiles SHAPE : (803, 1443) \n",
            "user id punchdrunklizzy\n",
            "\n",
            " create all movies profiles \n",
            "\n"
          ]
        },
        {
          "output_type": "stream",
          "name": "stderr",
          "text": [
            "\n",
            "  0%|          | 0/1252 [00:00<?, ?it/s]\u001b[A\n",
            " 23%|██▎       | 284/1252 [00:00<00:00, 2836.08it/s]\u001b[A\n",
            " 46%|████▌     | 578/1252 [00:00<00:00, 2888.69it/s]\u001b[A\n",
            " 69%|██████▉   | 867/1252 [00:00<00:00, 2664.12it/s]\u001b[A\n",
            "100%|██████████| 1252/1252 [00:00<00:00, 2737.12it/s]\n",
            " 24%|██▍       | 41/168 [00:29<01:00,  2.08it/s]"
          ]
        },
        {
          "output_type": "stream",
          "name": "stdout",
          "text": [
            "Item profile list LENGTH : 1252 \n",
            "movies profiles SHAPE : (1252, 1443) \n",
            "user id murielcampos\n",
            "\n",
            " create all movies profiles \n",
            "\n"
          ]
        },
        {
          "output_type": "stream",
          "name": "stderr",
          "text": [
            "\n",
            "100%|██████████| 242/242 [00:00<00:00, 5742.86it/s]\n"
          ]
        },
        {
          "output_type": "stream",
          "name": "stdout",
          "text": [
            "Item profile list LENGTH : 242 \n",
            "movies profiles SHAPE : (242, 1443) \n",
            "user id blockbustedpod\n",
            "\n",
            " create all movies profiles \n",
            "\n"
          ]
        },
        {
          "output_type": "stream",
          "name": "stderr",
          "text": [
            "\n",
            "  0%|          | 0/651 [00:00<?, ?it/s]\u001b[A\n",
            "100%|██████████| 651/651 [00:00<00:00, 3399.55it/s]\n",
            " 26%|██▌       | 43/168 [00:29<00:41,  3.04it/s]"
          ]
        },
        {
          "output_type": "stream",
          "name": "stdout",
          "text": [
            "Item profile list LENGTH : 651 \n",
            "movies profiles SHAPE : (651, 1443) \n",
            "user id yazzjames\n",
            "\n",
            " create all movies profiles \n",
            "\n"
          ]
        },
        {
          "output_type": "stream",
          "name": "stderr",
          "text": [
            "\n",
            "  0%|          | 0/674 [00:00<?, ?it/s]\u001b[A\n",
            "100%|██████████| 674/674 [00:00<00:00, 3615.12it/s]"
          ]
        },
        {
          "output_type": "stream",
          "name": "stdout",
          "text": [
            "Item profile list LENGTH : 674 \n",
            "movies profiles SHAPE : (674, 1443) \n"
          ]
        },
        {
          "output_type": "stream",
          "name": "stderr",
          "text": [
            "\n",
            " 26%|██▌       | 44/168 [00:29<00:37,  3.33it/s]"
          ]
        },
        {
          "output_type": "stream",
          "name": "stdout",
          "text": [
            "user id johncassavetes\n",
            "\n",
            " create all movies profiles \n",
            "\n"
          ]
        },
        {
          "output_type": "stream",
          "name": "stderr",
          "text": [
            "\n",
            "  0%|          | 0/732 [00:00<?, ?it/s]\u001b[A\n",
            " 20%|██        | 148/732 [00:00<00:00, 1437.75it/s]\u001b[A\n",
            " 40%|███▉      | 292/732 [00:00<00:00, 1039.16it/s]\u001b[A\n",
            " 55%|█████▌    | 403/732 [00:00<00:00, 925.05it/s] \u001b[A\n",
            " 70%|██████▉   | 510/732 [00:00<00:00, 955.79it/s]\u001b[A\n",
            " 84%|████████▍ | 614/732 [00:00<00:00, 980.68it/s]\u001b[A\n",
            "100%|██████████| 732/732 [00:00<00:00, 980.33it/s]\n",
            " 27%|██▋       | 45/168 [00:30<00:51,  2.38it/s]"
          ]
        },
        {
          "output_type": "stream",
          "name": "stdout",
          "text": [
            "Item profile list LENGTH : 732 \n",
            "movies profiles SHAPE : (732, 1443) \n",
            "user id grooveman\n",
            "\n",
            " create all movies profiles \n",
            "\n"
          ]
        },
        {
          "output_type": "stream",
          "name": "stderr",
          "text": [
            "\n",
            "  0%|          | 0/1294 [00:00<?, ?it/s]\u001b[A\n",
            " 14%|█▎        | 177/1294 [00:00<00:00, 1761.66it/s]\u001b[A\n",
            " 28%|██▊       | 362/1294 [00:00<00:00, 1795.88it/s]\u001b[A\n",
            " 42%|████▏     | 542/1294 [00:00<00:00, 1747.20it/s]\u001b[A\n",
            " 57%|█████▋    | 736/1294 [00:00<00:00, 1815.58it/s]\u001b[A\n",
            " 72%|███████▏  | 928/1294 [00:00<00:00, 1851.92it/s]\u001b[A\n",
            "100%|██████████| 1294/1294 [00:00<00:00, 1817.07it/s]\n",
            " 27%|██▋       | 46/168 [00:31<01:01,  1.97it/s]"
          ]
        },
        {
          "output_type": "stream",
          "name": "stdout",
          "text": [
            "Item profile list LENGTH : 1294 \n",
            "movies profiles SHAPE : (1294, 1443) \n",
            "user id holliehorror\n",
            "\n",
            " create all movies profiles \n",
            "\n"
          ]
        },
        {
          "output_type": "stream",
          "name": "stderr",
          "text": [
            "\n",
            "  0%|          | 0/1279 [00:00<?, ?it/s]\u001b[A\n",
            " 17%|█▋        | 212/1279 [00:00<00:00, 2114.79it/s]\u001b[A\n",
            " 34%|███▎      | 430/1279 [00:00<00:00, 2148.14it/s]\u001b[A\n",
            " 50%|█████     | 645/1279 [00:00<00:00, 2110.78it/s]\u001b[A\n",
            " 67%|██████▋   | 857/1279 [00:00<00:00, 2090.92it/s]\u001b[A\n",
            " 83%|████████▎ | 1067/1279 [00:00<00:00, 2037.68it/s]\u001b[A\n",
            "100%|██████████| 1279/1279 [00:00<00:00, 2067.91it/s]\n",
            " 28%|██▊       | 47/168 [00:31<01:06,  1.82it/s]"
          ]
        },
        {
          "output_type": "stream",
          "name": "stdout",
          "text": [
            "Item profile list LENGTH : 1279 \n",
            "movies profiles SHAPE : (1279, 1443) \n",
            "user id suspirliam\n",
            "\n",
            " create all movies profiles \n",
            "\n"
          ]
        },
        {
          "output_type": "stream",
          "name": "stderr",
          "text": [
            "\n",
            "  0%|          | 0/1046 [00:00<?, ?it/s]\u001b[A\n",
            " 28%|██▊       | 293/1046 [00:00<00:00, 2928.61it/s]\u001b[A\n",
            " 59%|█████▊    | 612/1046 [00:00<00:00, 3079.85it/s]\u001b[A\n",
            "100%|██████████| 1046/1046 [00:00<00:00, 2878.10it/s]\n",
            " 29%|██▊       | 48/168 [00:32<01:00,  1.98it/s]"
          ]
        },
        {
          "output_type": "stream",
          "name": "stdout",
          "text": [
            "Item profile list LENGTH : 1046 \n",
            "movies profiles SHAPE : (1046, 1443) \n",
            "user id adrianbalboa\n",
            "\n",
            " create all movies profiles \n",
            "\n"
          ]
        },
        {
          "output_type": "stream",
          "name": "stderr",
          "text": [
            "\n",
            "100%|██████████| 559/559 [00:00<00:00, 7867.68it/s]\n"
          ]
        },
        {
          "output_type": "stream",
          "name": "stdout",
          "text": [
            "Item profile list LENGTH : 559 \n",
            "movies profiles SHAPE : (559, 1443) \n",
            "user id dirkbogarde\n",
            "\n",
            " create all movies profiles \n",
            "\n"
          ]
        },
        {
          "output_type": "stream",
          "name": "stderr",
          "text": [
            "\n",
            "  0%|          | 0/1249 [00:00<?, ?it/s]\u001b[A\n",
            "  7%|▋         | 87/1249 [00:00<00:01, 861.72it/s]\u001b[A\n",
            " 16%|█▌        | 199/1249 [00:00<00:01, 1011.93it/s]\u001b[A\n",
            " 24%|██▍       | 306/1249 [00:00<00:00, 1028.74it/s]\u001b[A\n",
            " 33%|███▎      | 409/1249 [00:00<00:00, 984.40it/s] \u001b[A\n",
            " 42%|████▏     | 522/1249 [00:00<00:00, 1033.70it/s]\u001b[A\n",
            " 50%|█████     | 626/1249 [00:00<00:00, 985.52it/s] \u001b[A\n",
            " 60%|█████▉    | 749/1249 [00:00<00:00, 1051.26it/s]\u001b[A\n",
            " 69%|██████▉   | 866/1249 [00:00<00:00, 1082.17it/s]\u001b[A\n",
            " 78%|███████▊  | 975/1249 [00:00<00:00, 1008.71it/s]\u001b[A\n",
            "100%|██████████| 1249/1249 [00:01<00:00, 1129.53it/s]\n",
            " 30%|██▉       | 50/168 [00:33<01:05,  1.81it/s]"
          ]
        },
        {
          "output_type": "stream",
          "name": "stdout",
          "text": [
            "Item profile list LENGTH : 1249 \n",
            "movies profiles SHAPE : (1249, 1443) \n",
            "user id settingsun\n",
            "\n",
            " create all movies profiles \n",
            "\n"
          ]
        },
        {
          "output_type": "stream",
          "name": "stderr",
          "text": [
            "\n",
            "  0%|          | 0/1273 [00:00<?, ?it/s]\u001b[A\n",
            " 26%|██▌       | 326/1273 [00:00<00:00, 3257.21it/s]\u001b[A\n",
            " 51%|█████     | 652/1273 [00:00<00:00, 3238.12it/s]\u001b[A\n",
            "100%|██████████| 1273/1273 [00:00<00:00, 3283.19it/s]\n",
            " 30%|███       | 51/168 [00:33<01:00,  1.92it/s]"
          ]
        },
        {
          "output_type": "stream",
          "name": "stdout",
          "text": [
            "Item profile list LENGTH : 1273 \n",
            "movies profiles SHAPE : (1273, 1443) \n",
            "user id theblogosfear\n",
            "\n",
            " create all movies profiles \n",
            "\n"
          ]
        },
        {
          "output_type": "stream",
          "name": "stderr",
          "text": [
            "\n",
            "  0%|          | 0/1332 [00:00<?, ?it/s]\u001b[A\n",
            " 10%|█         | 137/1332 [00:00<00:00, 1369.37it/s]\u001b[A\n",
            " 21%|██        | 274/1332 [00:00<00:00, 1352.83it/s]\u001b[A\n",
            " 32%|███▏      | 428/1332 [00:00<00:00, 1425.94it/s]\u001b[A\n",
            " 44%|████▍     | 588/1332 [00:00<00:00, 1487.56it/s]\u001b[A\n",
            " 55%|█████▌    | 737/1332 [00:00<00:00, 1389.73it/s]\u001b[A\n",
            " 67%|██████▋   | 888/1332 [00:00<00:00, 1423.82it/s]\u001b[A\n",
            " 78%|███████▊  | 1035/1332 [00:00<00:00, 1437.44it/s]\u001b[A\n",
            " 89%|████████▊ | 1180/1332 [00:00<00:00, 1406.66it/s]\u001b[A\n",
            "100%|██████████| 1332/1332 [00:00<00:00, 1404.01it/s]\n",
            " 31%|███       | 52/168 [00:34<01:13,  1.57it/s]"
          ]
        },
        {
          "output_type": "stream",
          "name": "stdout",
          "text": [
            "Item profile list LENGTH : 1332 \n",
            "movies profiles SHAPE : (1332, 1443) \n",
            "user id jrwhite\n",
            "\n",
            " create all movies profiles \n",
            "\n"
          ]
        },
        {
          "output_type": "stream",
          "name": "stderr",
          "text": [
            "\n",
            "  0%|          | 0/759 [00:00<?, ?it/s]\u001b[A\n",
            " 21%|██        | 158/759 [00:00<00:00, 1578.89it/s]\u001b[A\n",
            " 42%|████▏     | 316/759 [00:00<00:00, 1557.33it/s]\u001b[A\n",
            " 62%|██████▏   | 472/759 [00:00<00:00, 1502.82it/s]\u001b[A\n",
            "100%|██████████| 759/759 [00:00<00:00, 1468.78it/s]\n",
            " 32%|███▏      | 53/168 [00:35<01:10,  1.64it/s]"
          ]
        },
        {
          "output_type": "stream",
          "name": "stdout",
          "text": [
            "Item profile list LENGTH : 759 \n",
            "movies profiles SHAPE : (759, 1443) \n",
            "user id ultimateparker\n",
            "\n",
            " create all movies profiles \n",
            "\n"
          ]
        },
        {
          "output_type": "stream",
          "name": "stderr",
          "text": [
            "\n",
            "  0%|          | 0/1277 [00:00<?, ?it/s]\u001b[A\n",
            "  9%|▊         | 110/1277 [00:00<00:01, 1092.84it/s]\u001b[A\n",
            " 17%|█▋        | 220/1277 [00:00<00:01, 969.04it/s] \u001b[A\n",
            " 25%|██▍       | 318/1277 [00:00<00:01, 891.12it/s]\u001b[A\n",
            " 32%|███▏      | 408/1277 [00:00<00:00, 883.51it/s]\u001b[A\n",
            " 40%|███▉      | 509/1277 [00:00<00:00, 920.15it/s]\u001b[A\n",
            " 49%|████▊     | 622/1277 [00:00<00:00, 987.49it/s]\u001b[A\n",
            " 57%|█████▋    | 722/1277 [00:00<00:00, 984.87it/s]\u001b[A\n",
            " 65%|██████▍   | 824/1277 [00:00<00:00, 988.29it/s]\u001b[A\n",
            " 73%|███████▎  | 933/1277 [00:00<00:00, 1014.56it/s]\u001b[A\n",
            " 81%|████████  | 1035/1277 [00:01<00:00, 1008.66it/s]\u001b[A\n",
            "100%|██████████| 1277/1277 [00:01<00:00, 1015.11it/s]\n",
            " 32%|███▏      | 54/168 [00:36<01:31,  1.25it/s]"
          ]
        },
        {
          "output_type": "stream",
          "name": "stdout",
          "text": [
            "Item profile list LENGTH : 1277 \n",
            "movies profiles SHAPE : (1277, 1443) \n",
            "user id jay\n",
            "\n",
            " create all movies profiles \n",
            "\n"
          ]
        },
        {
          "output_type": "stream",
          "name": "stderr",
          "text": [
            "\n",
            "100%|██████████| 398/398 [00:00<00:00, 9398.87it/s]\n"
          ]
        },
        {
          "output_type": "stream",
          "name": "stdout",
          "text": [
            "Item profile list LENGTH : 398 \n",
            "movies profiles SHAPE : (398, 1443) \n",
            "user id josiahmorgan11\n",
            "\n",
            " create all movies profiles \n",
            "\n"
          ]
        },
        {
          "output_type": "stream",
          "name": "stderr",
          "text": [
            "\n",
            "  0%|          | 0/137 [00:00<?, ?it/s]\u001b[A\n",
            "100%|██████████| 137/137 [00:00<00:00, 1200.95it/s]\n",
            " 33%|███▎      | 56/168 [00:36<00:54,  2.05it/s]"
          ]
        },
        {
          "output_type": "stream",
          "name": "stdout",
          "text": [
            "Item profile list LENGTH : 137 \n",
            "movies profiles SHAPE : (137, 1443) \n",
            "user id ucrazyutaraptor\n",
            "\n",
            " create all movies profiles \n",
            "\n"
          ]
        },
        {
          "output_type": "stream",
          "name": "stderr",
          "text": [
            "\n",
            "  0%|          | 0/1297 [00:00<?, ?it/s]\u001b[A\n",
            "  8%|▊         | 101/1297 [00:00<00:01, 1008.75it/s]\u001b[A\n",
            " 16%|█▌        | 202/1297 [00:00<00:01, 931.28it/s] \u001b[A\n",
            " 23%|██▎       | 299/1297 [00:00<00:01, 944.35it/s]\u001b[A\n",
            " 30%|███       | 394/1297 [00:00<00:00, 931.26it/s]\u001b[A\n",
            " 38%|███▊      | 489/1297 [00:00<00:00, 936.40it/s]\u001b[A\n",
            " 45%|████▍     | 583/1297 [00:00<00:00, 874.52it/s]\u001b[A\n",
            " 53%|█████▎    | 682/1297 [00:00<00:00, 907.86it/s]\u001b[A\n",
            " 61%|██████    | 787/1297 [00:00<00:00, 950.62it/s]\u001b[A\n",
            " 68%|██████▊   | 886/1297 [00:00<00:00, 958.37it/s]\u001b[A\n",
            " 76%|███████▌  | 983/1297 [00:01<00:00, 949.39it/s]\u001b[A\n",
            " 83%|████████▎ | 1079/1297 [00:01<00:00, 948.81it/s]\u001b[A\n",
            " 91%|█████████ | 1175/1297 [00:01<00:00, 931.62it/s]\u001b[A\n",
            "100%|██████████| 1297/1297 [00:01<00:00, 920.82it/s]\n",
            " 34%|███▍      | 57/168 [00:38<01:19,  1.40it/s]"
          ]
        },
        {
          "output_type": "stream",
          "name": "stdout",
          "text": [
            "Item profile list LENGTH : 1297 \n",
            "movies profiles SHAPE : (1297, 1443) \n",
            "user id eely\n",
            "\n",
            " create all movies profiles \n",
            "\n"
          ]
        },
        {
          "output_type": "stream",
          "name": "stderr",
          "text": [
            "\n",
            "  0%|          | 0/1114 [00:00<?, ?it/s]\u001b[A\n",
            " 15%|█▍        | 162/1114 [00:00<00:00, 1588.86it/s]\u001b[A\n",
            " 29%|██▉       | 321/1114 [00:00<00:00, 1317.33it/s]\u001b[A\n",
            " 44%|████▍     | 489/1114 [00:00<00:00, 1465.41it/s]\u001b[A\n",
            " 58%|█████▊    | 648/1114 [00:00<00:00, 1506.97it/s]\u001b[A\n",
            " 72%|███████▏  | 801/1114 [00:00<00:00, 1507.67it/s]\u001b[A\n",
            "100%|██████████| 1114/1114 [00:00<00:00, 1529.45it/s]\n",
            " 35%|███▍      | 58/168 [00:39<01:19,  1.38it/s]"
          ]
        },
        {
          "output_type": "stream",
          "name": "stdout",
          "text": [
            "Item profile list LENGTH : 1114 \n",
            "movies profiles SHAPE : (1114, 1443) \n",
            "user id elihayes\n",
            "\n",
            " create all movies profiles \n",
            "\n"
          ]
        },
        {
          "output_type": "stream",
          "name": "stderr",
          "text": [
            "\n",
            "  0%|          | 0/1296 [00:00<?, ?it/s]\u001b[A\n",
            " 30%|███       | 393/1296 [00:00<00:00, 3918.29it/s]\u001b[A\n",
            " 61%|██████    | 785/1296 [00:00<00:00, 3820.86it/s]\u001b[A\n",
            "100%|██████████| 1296/1296 [00:00<00:00, 3805.06it/s]\n",
            " 35%|███▌      | 59/168 [00:39<01:08,  1.59it/s]"
          ]
        },
        {
          "output_type": "stream",
          "name": "stdout",
          "text": [
            "Item profile list LENGTH : 1296 \n",
            "movies profiles SHAPE : (1296, 1443) \n",
            "user id catelyn\n",
            "\n",
            " create all movies profiles \n",
            "\n"
          ]
        },
        {
          "output_type": "stream",
          "name": "stderr",
          "text": [
            "\n",
            "  0%|          | 0/1244 [00:00<?, ?it/s]\u001b[A\n",
            " 12%|█▏        | 148/1244 [00:00<00:00, 1474.45it/s]\u001b[A\n",
            " 31%|███       | 383/1244 [00:00<00:00, 1988.08it/s]\u001b[A\n",
            " 50%|████▉     | 621/1244 [00:00<00:00, 2166.54it/s]\u001b[A\n",
            " 67%|██████▋   | 838/1244 [00:00<00:00, 2070.86it/s]\u001b[A\n",
            "100%|██████████| 1244/1244 [00:00<00:00, 2111.82it/s]\n",
            " 36%|███▌      | 60/168 [00:40<01:07,  1.60it/s]"
          ]
        },
        {
          "output_type": "stream",
          "name": "stdout",
          "text": [
            "Item profile list LENGTH : 1244 \n",
            "movies profiles SHAPE : (1244, 1443) \n",
            "user id enniomorricone\n",
            "\n",
            " create all movies profiles \n",
            "\n"
          ]
        },
        {
          "output_type": "stream",
          "name": "stderr",
          "text": [
            "\n",
            "100%|██████████| 258/258 [00:00<00:00, 5695.27it/s]\n"
          ]
        },
        {
          "output_type": "stream",
          "name": "stdout",
          "text": [
            "Item profile list LENGTH : 258 \n",
            "movies profiles SHAPE : (258, 1443) \n",
            "user id silentdawn\n",
            "\n",
            " create all movies profiles \n",
            "\n"
          ]
        },
        {
          "output_type": "stream",
          "name": "stderr",
          "text": [
            "\n",
            "  0%|          | 0/1269 [00:00<?, ?it/s]\u001b[A\n",
            "100%|██████████| 1269/1269 [00:00<00:00, 6600.49it/s]\n",
            " 37%|███▋      | 62/168 [00:40<00:43,  2.43it/s]"
          ]
        },
        {
          "output_type": "stream",
          "name": "stdout",
          "text": [
            "Item profile list LENGTH : 1269 \n",
            "movies profiles SHAPE : (1269, 1443) \n",
            "user id hammerbros94\n",
            "\n",
            " create all movies profiles \n",
            "\n"
          ]
        },
        {
          "output_type": "stream",
          "name": "stderr",
          "text": [
            "\n",
            "  0%|          | 0/1253 [00:00<?, ?it/s]\u001b[A\n",
            " 28%|██▊       | 355/1253 [00:00<00:00, 3547.10it/s]\u001b[A\n",
            " 57%|█████▋    | 710/1253 [00:00<00:00, 3162.78it/s]\u001b[A\n",
            "100%|██████████| 1253/1253 [00:00<00:00, 3389.05it/s]\n",
            " 38%|███▊      | 63/168 [00:40<00:42,  2.45it/s]"
          ]
        },
        {
          "output_type": "stream",
          "name": "stdout",
          "text": [
            "Item profile list LENGTH : 1253 \n",
            "movies profiles SHAPE : (1253, 1443) \n",
            "user id scumbalina\n",
            "\n",
            " create all movies profiles \n",
            "\n"
          ]
        },
        {
          "output_type": "stream",
          "name": "stderr",
          "text": [
            "\n",
            "  0%|          | 0/1264 [00:00<?, ?it/s]\u001b[A\n",
            "  6%|▌         | 70/1264 [00:00<00:01, 695.26it/s]\u001b[A\n",
            " 11%|█         | 140/1264 [00:00<00:01, 615.82it/s]\u001b[A\n",
            " 17%|█▋        | 209/1264 [00:00<00:01, 647.11it/s]\u001b[A\n",
            " 23%|██▎       | 293/1264 [00:00<00:01, 714.76it/s]\u001b[A\n",
            " 29%|██▉       | 366/1264 [00:00<00:01, 682.47it/s]\u001b[A\n",
            " 34%|███▍      | 436/1264 [00:00<00:01, 684.15it/s]\u001b[A\n",
            " 40%|████      | 506/1264 [00:00<00:01, 686.75it/s]\u001b[A\n",
            " 45%|████▌     | 575/1264 [00:00<00:01, 653.73it/s]\u001b[A\n",
            " 51%|█████     | 642/1264 [00:00<00:00, 657.31it/s]\u001b[A\n",
            " 56%|█████▋    | 712/1264 [00:01<00:00, 666.21it/s]\u001b[A\n",
            " 62%|██████▏   | 782/1264 [00:01<00:00, 675.03it/s]\u001b[A\n",
            " 67%|██████▋   | 851/1264 [00:01<00:00, 674.69it/s]\u001b[A\n",
            " 73%|███████▎  | 919/1264 [00:01<00:00, 656.41it/s]\u001b[A\n",
            " 78%|███████▊  | 985/1264 [00:01<00:00, 647.38it/s]\u001b[A\n",
            " 83%|████████▎ | 1050/1264 [00:01<00:00, 643.40it/s]\u001b[A\n",
            " 88%|████████▊ | 1117/1264 [00:01<00:00, 649.13it/s]\u001b[A\n",
            " 94%|█████████▍| 1192/1264 [00:01<00:00, 675.97it/s]\u001b[A\n",
            "100%|██████████| 1264/1264 [00:01<00:00, 660.99it/s]\n",
            " 38%|███▊      | 64/168 [00:42<01:23,  1.25it/s]"
          ]
        },
        {
          "output_type": "stream",
          "name": "stdout",
          "text": [
            "Item profile list LENGTH : 1264 \n",
            "movies profiles SHAPE : (1264, 1443) \n",
            "user id schlockvalue\n",
            "\n",
            " create all movies profiles \n",
            "\n"
          ]
        },
        {
          "output_type": "stream",
          "name": "stderr",
          "text": [
            "\n",
            "  0%|          | 0/1269 [00:00<?, ?it/s]\u001b[A\n",
            "  8%|▊         | 97/1269 [00:00<00:01, 966.98it/s]\u001b[A\n",
            " 17%|█▋        | 216/1269 [00:00<00:00, 1093.26it/s]\u001b[A\n",
            " 26%|██▌       | 326/1269 [00:00<00:00, 1015.50it/s]\u001b[A\n",
            " 34%|███▍      | 429/1269 [00:00<00:00, 988.26it/s] \u001b[A\n",
            " 42%|████▏     | 529/1269 [00:00<00:00, 985.87it/s]\u001b[A\n",
            " 49%|████▉     | 628/1269 [00:00<00:00, 958.28it/s]\u001b[A\n",
            " 57%|█████▋    | 725/1269 [00:00<00:00, 816.72it/s]\u001b[A\n",
            " 64%|██████▍   | 810/1269 [00:00<00:00, 758.69it/s]\u001b[A\n",
            " 70%|███████   | 889/1269 [00:01<00:00, 669.07it/s]\u001b[A\n",
            " 76%|███████▌  | 959/1269 [00:01<00:00, 644.42it/s]\u001b[A\n",
            " 81%|████████  | 1026/1269 [00:01<00:00, 605.27it/s]\u001b[A\n",
            " 86%|████████▌ | 1088/1269 [00:01<00:00, 565.10it/s]\u001b[A\n",
            " 90%|█████████ | 1146/1269 [00:01<00:00, 555.02it/s]\u001b[A\n",
            " 95%|█████████▍| 1202/1269 [00:01<00:00, 496.52it/s]\u001b[A\n",
            "100%|██████████| 1269/1269 [00:01<00:00, 672.98it/s]\n",
            " 39%|███▊      | 65/168 [00:44<01:53,  1.10s/it]"
          ]
        },
        {
          "output_type": "stream",
          "name": "stdout",
          "text": [
            "Item profile list LENGTH : 1269 \n",
            "movies profiles SHAPE : (1269, 1443) \n",
            "user id artpig\n",
            "\n",
            " create all movies profiles \n",
            "\n"
          ]
        },
        {
          "output_type": "stream",
          "name": "stderr",
          "text": [
            "\n",
            "  0%|          | 0/937 [00:00<?, ?it/s]\u001b[A\n",
            " 12%|█▏        | 108/937 [00:00<00:00, 1078.76it/s]\u001b[A\n",
            " 25%|██▌       | 238/937 [00:00<00:00, 1183.21it/s]\u001b[A\n",
            " 38%|███▊      | 357/937 [00:00<00:00, 1159.49it/s]\u001b[A\n",
            " 52%|█████▏    | 485/937 [00:00<00:00, 1195.26it/s]\u001b[A\n",
            " 65%|██████▍   | 605/937 [00:00<00:00, 1159.34it/s]\u001b[A\n",
            " 77%|███████▋  | 722/937 [00:00<00:00, 1140.29it/s]\u001b[A\n",
            "100%|██████████| 937/937 [00:00<00:00, 1142.76it/s]\n",
            " 39%|███▉      | 66/168 [00:45<01:45,  1.03s/it]"
          ]
        },
        {
          "output_type": "stream",
          "name": "stdout",
          "text": [
            "Item profile list LENGTH : 937 \n",
            "movies profiles SHAPE : (937, 1443) \n",
            "user id rudimh\n",
            "\n",
            " create all movies profiles \n",
            "\n"
          ]
        },
        {
          "output_type": "stream",
          "name": "stderr",
          "text": [
            "\n",
            "  0%|          | 0/501 [00:00<?, ?it/s]\u001b[A\n",
            " 47%|████▋     | 233/501 [00:00<00:00, 2327.31it/s]\u001b[A\n",
            "100%|██████████| 501/501 [00:00<00:00, 2316.94it/s]\n",
            " 40%|███▉      | 67/168 [00:45<01:21,  1.24it/s]"
          ]
        },
        {
          "output_type": "stream",
          "name": "stdout",
          "text": [
            "Item profile list LENGTH : 501 \n",
            "movies profiles SHAPE : (501, 1443) \n",
            "user id zoltarak\n",
            "\n",
            " create all movies profiles \n",
            "\n"
          ]
        },
        {
          "output_type": "stream",
          "name": "stderr",
          "text": [
            "\n",
            "  0%|          | 0/1309 [00:00<?, ?it/s]\u001b[A\n",
            "  8%|▊         | 106/1309 [00:00<00:01, 1056.55it/s]\u001b[A\n",
            " 16%|█▌        | 212/1309 [00:00<00:01, 961.71it/s] \u001b[A\n",
            " 24%|██▍       | 316/1309 [00:00<00:01, 991.10it/s]\u001b[A\n",
            " 32%|███▏      | 418/1309 [00:00<00:00, 997.50it/s]\u001b[A\n",
            " 40%|███▉      | 519/1309 [00:00<00:00, 959.45it/s]\u001b[A\n",
            " 47%|████▋     | 616/1309 [00:00<00:00, 955.31it/s]\u001b[A\n",
            " 54%|█████▍    | 712/1309 [00:00<00:00, 928.88it/s]\u001b[A\n",
            " 62%|██████▏   | 806/1309 [00:00<00:00, 931.18it/s]\u001b[A\n",
            " 69%|██████▉   | 900/1309 [00:00<00:00, 905.87it/s]\u001b[A\n",
            " 78%|███████▊  | 1017/1309 [00:01<00:00, 981.78it/s]\u001b[A\n",
            "100%|██████████| 1309/1309 [00:01<00:00, 1068.29it/s]\n",
            " 40%|████      | 68/168 [00:46<01:33,  1.07it/s]"
          ]
        },
        {
          "output_type": "stream",
          "name": "stdout",
          "text": [
            "Item profile list LENGTH : 1309 \n",
            "movies profiles SHAPE : (1309, 1443) \n",
            "user id childrenofmen\n",
            "\n",
            " create all movies profiles \n",
            "\n"
          ]
        },
        {
          "output_type": "stream",
          "name": "stderr",
          "text": [
            "\n",
            "  0%|          | 0/973 [00:00<?, ?it/s]\u001b[A\n",
            "100%|██████████| 973/973 [00:00<00:00, 6444.62it/s]\n",
            " 41%|████      | 69/168 [00:47<01:10,  1.40it/s]"
          ]
        },
        {
          "output_type": "stream",
          "name": "stdout",
          "text": [
            "Item profile list LENGTH : 973 \n",
            "movies profiles SHAPE : (973, 1443) \n",
            "user id phrynefisher\n",
            "\n",
            " create all movies profiles \n",
            "\n"
          ]
        },
        {
          "output_type": "stream",
          "name": "stderr",
          "text": [
            "\n",
            "  0%|          | 0/531 [00:00<?, ?it/s]\u001b[A\n",
            "100%|██████████| 531/531 [00:00<00:00, 2992.26it/s]\n",
            " 42%|████▏     | 70/168 [00:47<00:55,  1.78it/s]"
          ]
        },
        {
          "output_type": "stream",
          "name": "stdout",
          "text": [
            "Item profile list LENGTH : 531 \n",
            "movies profiles SHAPE : (531, 1443) \n",
            "user id lastcooldude\n",
            "\n",
            " create all movies profiles \n",
            "\n"
          ]
        },
        {
          "output_type": "stream",
          "name": "stderr",
          "text": [
            "\n",
            "  0%|          | 0/1278 [00:00<?, ?it/s]\u001b[A\n",
            " 18%|█▊        | 231/1278 [00:00<00:00, 2304.96it/s]\u001b[A\n",
            " 36%|███▌      | 462/1278 [00:00<00:00, 2226.70it/s]\u001b[A\n",
            " 54%|█████▎    | 685/1278 [00:00<00:00, 2117.42it/s]\u001b[A\n",
            " 72%|███████▏  | 919/1278 [00:00<00:00, 2200.85it/s]\u001b[A\n",
            "100%|██████████| 1278/1278 [00:00<00:00, 2248.17it/s]\n",
            " 42%|████▏     | 71/168 [00:47<00:55,  1.74it/s]"
          ]
        },
        {
          "output_type": "stream",
          "name": "stdout",
          "text": [
            "Item profile list LENGTH : 1278 \n",
            "movies profiles SHAPE : (1278, 1443) \n",
            "user id niceguys\n",
            "\n",
            " create all movies profiles \n",
            "\n"
          ]
        },
        {
          "output_type": "stream",
          "name": "stderr",
          "text": [
            "\n",
            "  0%|          | 0/605 [00:00<?, ?it/s]\u001b[A\n",
            "100%|██████████| 605/605 [00:00<00:00, 4326.26it/s]\n",
            " 43%|████▎     | 72/168 [00:48<00:43,  2.22it/s]"
          ]
        },
        {
          "output_type": "stream",
          "name": "stdout",
          "text": [
            "Item profile list LENGTH : 605 \n",
            "movies profiles SHAPE : (605, 1443) \n",
            "user id tarantulini\n",
            "\n",
            " create all movies profiles \n",
            "\n"
          ]
        },
        {
          "output_type": "stream",
          "name": "stderr",
          "text": [
            "\n",
            "100%|██████████| 529/529 [00:00<00:00, 5541.29it/s]\n",
            " 43%|████▎     | 73/168 [00:48<00:33,  2.85it/s]"
          ]
        },
        {
          "output_type": "stream",
          "name": "stdout",
          "text": [
            "Item profile list LENGTH : 529 \n",
            "movies profiles SHAPE : (529, 1443) \n",
            "user id varghese_no1\n",
            "\n",
            " create all movies profiles \n",
            "\n"
          ]
        },
        {
          "output_type": "stream",
          "name": "stderr",
          "text": [
            "\n",
            "  0%|          | 0/1289 [00:00<?, ?it/s]\u001b[A\n",
            "  5%|▌         | 68/1289 [00:00<00:01, 670.43it/s]\u001b[A\n",
            " 12%|█▏        | 153/1289 [00:00<00:01, 771.38it/s]\u001b[A\n",
            " 19%|█▉        | 251/1289 [00:00<00:01, 864.17it/s]\u001b[A\n",
            " 30%|██▉       | 383/1289 [00:00<00:00, 1036.10it/s]\u001b[A\n",
            " 38%|███▊      | 487/1289 [00:00<00:00, 1023.94it/s]\u001b[A\n",
            " 46%|████▌     | 590/1289 [00:00<00:00, 974.37it/s] \u001b[A\n",
            " 53%|█████▎    | 688/1289 [00:00<00:00, 929.29it/s]\u001b[A\n",
            " 61%|██████    | 782/1289 [00:00<00:00, 922.59it/s]\u001b[A\n",
            " 68%|██████▊   | 875/1289 [00:00<00:00, 911.98it/s]\u001b[A\n",
            " 76%|███████▌  | 974/1289 [00:01<00:00, 934.95it/s]\u001b[A\n",
            " 84%|████████▍ | 1080/1289 [00:01<00:00, 971.96it/s]\u001b[A\n",
            " 91%|█████████▏| 1178/1289 [00:01<00:00, 970.16it/s]\u001b[A\n",
            "100%|██████████| 1289/1289 [00:01<00:00, 933.16it/s]\n",
            " 44%|████▍     | 74/168 [00:49<01:02,  1.50it/s]"
          ]
        },
        {
          "output_type": "stream",
          "name": "stdout",
          "text": [
            "Item profile list LENGTH : 1289 \n",
            "movies profiles SHAPE : (1289, 1443) \n",
            "user id nevermore1985\n",
            "\n",
            " create all movies profiles \n",
            "\n"
          ]
        },
        {
          "output_type": "stream",
          "name": "stderr",
          "text": [
            "\n",
            "  0%|          | 0/1242 [00:00<?, ?it/s]\u001b[A\n",
            " 19%|█▉        | 242/1242 [00:00<00:00, 2413.99it/s]\u001b[A\n",
            " 41%|████      | 504/1242 [00:00<00:00, 2533.62it/s]\u001b[A\n",
            " 61%|██████    | 758/1242 [00:00<00:00, 2514.80it/s]\u001b[A\n",
            "100%|██████████| 1242/1242 [00:00<00:00, 2474.76it/s]\n",
            " 45%|████▍     | 75/168 [00:50<00:58,  1.60it/s]"
          ]
        },
        {
          "output_type": "stream",
          "name": "stdout",
          "text": [
            "Item profile list LENGTH : 1242 \n",
            "movies profiles SHAPE : (1242, 1443) \n",
            "user id itssofyann\n",
            "\n",
            " create all movies profiles \n",
            "\n"
          ]
        },
        {
          "output_type": "stream",
          "name": "stderr",
          "text": [
            "\n",
            "  0%|          | 0/1021 [00:00<?, ?it/s]\u001b[A\n",
            " 13%|█▎        | 132/1021 [00:00<00:00, 1317.12it/s]\u001b[A\n",
            " 26%|██▌       | 264/1021 [00:00<00:00, 1215.17it/s]\u001b[A\n",
            " 38%|███▊      | 388/1021 [00:00<00:00, 1224.62it/s]\u001b[A\n",
            " 50%|█████     | 511/1021 [00:00<00:00, 1216.59it/s]\u001b[A\n",
            " 62%|██████▏   | 633/1021 [00:00<00:00, 1214.37it/s]\u001b[A\n",
            " 75%|███████▍  | 763/1021 [00:00<00:00, 1238.28it/s]\u001b[A\n",
            " 87%|████████▋ | 887/1021 [00:00<00:00, 1213.95it/s]\u001b[A\n",
            "100%|██████████| 1021/1021 [00:00<00:00, 1187.11it/s]\n",
            " 45%|████▌     | 76/168 [00:50<01:04,  1.42it/s]"
          ]
        },
        {
          "output_type": "stream",
          "name": "stdout",
          "text": [
            "Item profile list LENGTH : 1021 \n",
            "movies profiles SHAPE : (1021, 1443) \n",
            "user id elementarii\n",
            "\n",
            " create all movies profiles \n",
            "\n"
          ]
        },
        {
          "output_type": "stream",
          "name": "stderr",
          "text": [
            "\n",
            "  0%|          | 0/606 [00:00<?, ?it/s]\u001b[A\n",
            " 46%|████▌     | 280/606 [00:00<00:00, 2797.84it/s]\u001b[A\n",
            "100%|██████████| 606/606 [00:00<00:00, 2918.88it/s]\n",
            " 46%|████▌     | 77/168 [00:51<00:51,  1.78it/s]"
          ]
        },
        {
          "output_type": "stream",
          "name": "stdout",
          "text": [
            "Item profile list LENGTH : 606 \n",
            "movies profiles SHAPE : (606, 1443) \n",
            "user id jacksonmaines\n",
            "\n",
            " create all movies profiles \n",
            "\n"
          ]
        },
        {
          "output_type": "stream",
          "name": "stderr",
          "text": [
            "\n",
            "  0%|          | 0/961 [00:00<?, ?it/s]\u001b[A\n",
            " 33%|███▎      | 317/961 [00:00<00:00, 3155.06it/s]\u001b[A\n",
            "100%|██████████| 961/961 [00:00<00:00, 3296.12it/s]\n",
            " 46%|████▋     | 78/168 [00:51<00:43,  2.05it/s]"
          ]
        },
        {
          "output_type": "stream",
          "name": "stdout",
          "text": [
            "Item profile list LENGTH : 961 \n",
            "movies profiles SHAPE : (961, 1443) \n",
            "user id mariamicia13\n",
            "\n",
            " create all movies profiles \n",
            "\n"
          ]
        },
        {
          "output_type": "stream",
          "name": "stderr",
          "text": [
            "\n",
            "  0%|          | 0/1276 [00:00<?, ?it/s]\u001b[A\n",
            " 18%|█▊        | 233/1276 [00:00<00:00, 2302.70it/s]\u001b[A\n",
            " 41%|████      | 526/1276 [00:00<00:00, 2669.29it/s]\u001b[A\n",
            " 62%|██████▏   | 794/1276 [00:00<00:00, 2373.45it/s]\u001b[A\n",
            " 81%|████████  | 1035/1276 [00:00<00:00, 2281.09it/s]\u001b[A\n",
            "100%|██████████| 1276/1276 [00:00<00:00, 2204.29it/s]\n",
            " 47%|████▋     | 79/168 [00:52<00:46,  1.91it/s]"
          ]
        },
        {
          "output_type": "stream",
          "name": "stdout",
          "text": [
            "Item profile list LENGTH : 1276 \n",
            "movies profiles SHAPE : (1276, 1443) \n",
            "user id londono\n",
            "\n",
            " create all movies profiles \n",
            "\n"
          ]
        },
        {
          "output_type": "stream",
          "name": "stderr",
          "text": [
            "\n",
            "  0%|          | 0/1331 [00:00<?, ?it/s]\u001b[A\n",
            "  9%|▊         | 114/1331 [00:00<00:01, 1117.49it/s]\u001b[A\n",
            " 20%|██        | 269/1331 [00:00<00:00, 1352.81it/s]\u001b[A\n",
            " 31%|███▏      | 418/1331 [00:00<00:00, 1406.09it/s]\u001b[A\n",
            " 42%|████▏     | 559/1331 [00:00<00:00, 1328.11it/s]\u001b[A\n",
            " 53%|█████▎    | 704/1331 [00:00<00:00, 1358.55it/s]\u001b[A\n",
            " 63%|██████▎   | 841/1331 [00:00<00:00, 1326.32it/s]\u001b[A\n",
            " 73%|███████▎  | 974/1331 [00:00<00:00, 1248.23it/s]\u001b[A\n",
            " 83%|████████▎ | 1100/1331 [00:00<00:00, 1215.71it/s]\u001b[A\n",
            "100%|██████████| 1331/1331 [00:01<00:00, 1266.58it/s]\n",
            " 48%|████▊     | 80/168 [00:53<01:00,  1.45it/s]"
          ]
        },
        {
          "output_type": "stream",
          "name": "stdout",
          "text": [
            "Item profile list LENGTH : 1331 \n",
            "movies profiles SHAPE : (1331, 1443) \n",
            "user id uncutgems\n",
            "\n",
            " create all movies profiles \n",
            "\n"
          ]
        },
        {
          "output_type": "stream",
          "name": "stderr",
          "text": [
            "\n",
            "  0%|          | 0/1128 [00:00<?, ?it/s]\u001b[A\n",
            " 28%|██▊       | 321/1128 [00:00<00:00, 3208.56it/s]\u001b[A\n",
            " 58%|█████▊    | 649/1128 [00:00<00:00, 3230.02it/s]\u001b[A\n",
            "100%|██████████| 1128/1128 [00:00<00:00, 3237.60it/s]\n",
            " 48%|████▊     | 81/168 [00:53<00:51,  1.67it/s]"
          ]
        },
        {
          "output_type": "stream",
          "name": "stdout",
          "text": [
            "Item profile list LENGTH : 1128 \n",
            "movies profiles SHAPE : (1128, 1443) \n",
            "user id bluevelvets\n",
            "\n",
            " create all movies profiles \n",
            "\n"
          ]
        },
        {
          "output_type": "stream",
          "name": "stderr",
          "text": [
            "\n",
            "  0%|          | 0/1264 [00:00<?, ?it/s]\u001b[A\n",
            " 18%|█▊        | 223/1264 [00:00<00:00, 2218.64it/s]\u001b[A\n",
            " 35%|███▌      | 445/1264 [00:00<00:00, 1941.34it/s]\u001b[A\n",
            " 52%|█████▏    | 658/1264 [00:00<00:00, 2012.93it/s]\u001b[A\n",
            " 73%|███████▎  | 920/1264 [00:00<00:00, 2236.77it/s]\u001b[A\n",
            "100%|██████████| 1264/1264 [00:00<00:00, 2077.79it/s]\n",
            " 49%|████▉     | 82/168 [00:54<00:52,  1.64it/s]"
          ]
        },
        {
          "output_type": "stream",
          "name": "stdout",
          "text": [
            "Item profile list LENGTH : 1264 \n",
            "movies profiles SHAPE : (1264, 1443) \n",
            "user id nycsubwayrat\n",
            "\n",
            " create all movies profiles \n",
            "\n"
          ]
        },
        {
          "output_type": "stream",
          "name": "stderr",
          "text": [
            "\n",
            "100%|██████████| 501/501 [00:00<00:00, 6145.33it/s]\n",
            " 49%|████▉     | 83/168 [00:54<00:38,  2.19it/s]"
          ]
        },
        {
          "output_type": "stream",
          "name": "stdout",
          "text": [
            "Item profile list LENGTH : 501 \n",
            "movies profiles SHAPE : (501, 1443) \n",
            "user id ingridgoeswest\n",
            "\n",
            " create all movies profiles \n",
            "\n"
          ]
        },
        {
          "output_type": "stream",
          "name": "stderr",
          "text": [
            "\n",
            "  0%|          | 0/986 [00:00<?, ?it/s]\u001b[A\n",
            "100%|██████████| 986/986 [00:00<00:00, 8031.16it/s]\n",
            " 50%|█████     | 84/168 [00:54<00:30,  2.76it/s]"
          ]
        },
        {
          "output_type": "stream",
          "name": "stdout",
          "text": [
            "Item profile list LENGTH : 986 \n",
            "movies profiles SHAPE : (986, 1443) \n",
            "user id screeningnotes\n",
            "\n",
            " create all movies profiles \n",
            "\n"
          ]
        },
        {
          "output_type": "stream",
          "name": "stderr",
          "text": [
            "\n",
            "  0%|          | 0/1293 [00:00<?, ?it/s]\u001b[A\n",
            " 21%|██        | 266/1293 [00:00<00:00, 2655.33it/s]\u001b[A\n",
            " 44%|████▍     | 570/1293 [00:00<00:00, 2874.28it/s]\u001b[A\n",
            " 71%|███████   | 920/1293 [00:00<00:00, 3157.32it/s]\u001b[A\n",
            "100%|██████████| 1293/1293 [00:00<00:00, 3041.77it/s]\n",
            " 51%|█████     | 85/168 [00:54<00:32,  2.57it/s]"
          ]
        },
        {
          "output_type": "stream",
          "name": "stdout",
          "text": [
            "Item profile list LENGTH : 1293 \n",
            "movies profiles SHAPE : (1293, 1443) \n",
            "user id russman\n",
            "\n",
            " create all movies profiles \n",
            "\n"
          ]
        },
        {
          "output_type": "stream",
          "name": "stderr",
          "text": [
            "\n",
            "  0%|          | 0/1275 [00:00<?, ?it/s]\u001b[A\n",
            " 18%|█▊        | 233/1275 [00:00<00:00, 2320.05it/s]\u001b[A\n",
            " 37%|███▋      | 466/1275 [00:00<00:00, 2065.41it/s]\u001b[A\n",
            " 53%|█████▎    | 675/1275 [00:00<00:00, 2022.25it/s]\u001b[A\n",
            " 69%|██████▉   | 879/1275 [00:00<00:00, 1884.55it/s]\u001b[A\n",
            "100%|██████████| 1275/1275 [00:00<00:00, 2055.54it/s]\n",
            " 51%|█████     | 86/168 [00:55<00:38,  2.14it/s]"
          ]
        },
        {
          "output_type": "stream",
          "name": "stdout",
          "text": [
            "Item profile list LENGTH : 1275 \n",
            "movies profiles SHAPE : (1275, 1443) \n",
            "user id shanderson88\n",
            "\n",
            " create all movies profiles \n",
            "\n"
          ]
        },
        {
          "output_type": "stream",
          "name": "stderr",
          "text": [
            "\n",
            "  0%|          | 0/1023 [00:00<?, ?it/s]\u001b[A\n",
            " 24%|██▍       | 243/1023 [00:00<00:00, 2379.28it/s]\u001b[A\n",
            " 50%|█████     | 512/1023 [00:00<00:00, 2527.03it/s]\u001b[A\n",
            " 75%|███████▍  | 765/1023 [00:00<00:00, 2385.65it/s]\u001b[A\n",
            "100%|██████████| 1023/1023 [00:00<00:00, 2358.96it/s]\n",
            " 52%|█████▏    | 87/168 [00:56<00:37,  2.16it/s]"
          ]
        },
        {
          "output_type": "stream",
          "name": "stdout",
          "text": [
            "Item profile list LENGTH : 1023 \n",
            "movies profiles SHAPE : (1023, 1443) \n",
            "user id davidfinchher\n",
            "\n",
            " create all movies profiles \n",
            "\n"
          ]
        },
        {
          "output_type": "stream",
          "name": "stderr",
          "text": [
            "\n",
            "  0%|          | 0/1121 [00:00<?, ?it/s]\u001b[A\n",
            " 26%|██▌       | 294/1121 [00:00<00:00, 2924.65it/s]\u001b[A\n",
            " 52%|█████▏    | 587/1121 [00:00<00:00, 2828.51it/s]\u001b[A\n",
            "100%|██████████| 1121/1121 [00:00<00:00, 2919.92it/s]\n",
            " 52%|█████▏    | 88/168 [00:56<00:35,  2.24it/s]"
          ]
        },
        {
          "output_type": "stream",
          "name": "stdout",
          "text": [
            "Item profile list LENGTH : 1121 \n",
            "movies profiles SHAPE : (1121, 1443) \n",
            "user id labuzamovies\n",
            "\n",
            " create all movies profiles \n",
            "\n"
          ]
        },
        {
          "output_type": "stream",
          "name": "stderr",
          "text": [
            "\n",
            "  0%|          | 0/1272 [00:00<?, ?it/s]\u001b[A\n",
            "  6%|▋         | 82/1272 [00:00<00:01, 807.54it/s]\u001b[A\n",
            " 13%|█▎        | 163/1272 [00:00<00:01, 709.13it/s]\u001b[A\n",
            " 18%|█▊        | 235/1272 [00:00<00:01, 523.31it/s]\u001b[A\n",
            " 23%|██▎       | 292/1272 [00:00<00:02, 476.55it/s]\u001b[A\n",
            " 27%|██▋       | 343/1272 [00:00<00:02, 436.77it/s]\u001b[A\n",
            " 31%|███       | 389/1272 [00:00<00:01, 442.60it/s]\u001b[A\n",
            " 34%|███▍      | 435/1272 [00:00<00:02, 416.23it/s]\u001b[A\n",
            " 38%|███▊      | 478/1272 [00:01<00:01, 416.45it/s]\u001b[A\n",
            " 41%|████      | 521/1272 [00:01<00:01, 410.35it/s]\u001b[A\n",
            " 45%|████▍     | 568/1272 [00:01<00:01, 425.47it/s]\u001b[A\n",
            " 48%|████▊     | 614/1272 [00:01<00:01, 430.16it/s]\u001b[A\n",
            " 52%|█████▏    | 663/1272 [00:01<00:01, 442.60it/s]\u001b[A\n",
            " 56%|█████▌    | 708/1272 [00:01<00:01, 429.75it/s]\u001b[A\n",
            " 59%|█████▉    | 752/1272 [00:01<00:01, 423.19it/s]\u001b[A\n",
            " 62%|██████▎   | 795/1272 [00:01<00:01, 423.20it/s]\u001b[A\n",
            " 66%|██████▌   | 838/1272 [00:01<00:01, 400.91it/s]\u001b[A\n",
            " 69%|██████▉   | 879/1272 [00:01<00:00, 393.14it/s]\u001b[A\n",
            " 72%|███████▏  | 919/1272 [00:02<00:00, 387.88it/s]\u001b[A\n",
            " 76%|███████▌  | 968/1272 [00:02<00:00, 411.47it/s]\u001b[A\n",
            " 80%|███████▉  | 1016/1272 [00:02<00:00, 426.49it/s]\u001b[A\n",
            " 83%|████████▎ | 1059/1272 [00:02<00:00, 420.47it/s]\u001b[A\n",
            " 87%|████████▋ | 1102/1272 [00:02<00:00, 411.54it/s]\u001b[A\n",
            " 90%|████████▉ | 1144/1272 [00:02<00:00, 413.56it/s]\u001b[A\n",
            " 94%|█████████▍| 1193/1272 [00:02<00:00, 431.54it/s]\u001b[A\n",
            "100%|██████████| 1272/1272 [00:02<00:00, 430.01it/s]\n",
            " 53%|█████▎    | 89/168 [00:59<01:35,  1.21s/it]"
          ]
        },
        {
          "output_type": "stream",
          "name": "stdout",
          "text": [
            "Item profile list LENGTH : 1272 \n",
            "movies profiles SHAPE : (1272, 1443) \n",
            "user id roberto_\n",
            "\n",
            " create all movies profiles \n",
            "\n"
          ]
        },
        {
          "output_type": "stream",
          "name": "stderr",
          "text": [
            "\n",
            "  0%|          | 0/494 [00:00<?, ?it/s]\u001b[A\n",
            " 47%|████▋     | 232/494 [00:00<00:00, 2282.14it/s]\u001b[A\n",
            "100%|██████████| 494/494 [00:00<00:00, 2306.38it/s]\n",
            " 54%|█████▎    | 90/168 [00:59<01:11,  1.09it/s]"
          ]
        },
        {
          "output_type": "stream",
          "name": "stdout",
          "text": [
            "Item profile list LENGTH : 494 \n",
            "movies profiles SHAPE : (494, 1443) \n",
            "user id willhunting\n",
            "\n",
            " create all movies profiles \n",
            "\n"
          ]
        },
        {
          "output_type": "stream",
          "name": "stderr",
          "text": [
            "\n",
            "  0%|          | 0/661 [00:00<?, ?it/s]\u001b[A\n",
            " 30%|██▉       | 195/661 [00:00<00:00, 1910.87it/s]\u001b[A\n",
            " 59%|█████▊    | 387/661 [00:00<00:00, 1647.94it/s]\u001b[A\n",
            "100%|██████████| 661/661 [00:00<00:00, 1592.37it/s]\n",
            " 54%|█████▍    | 91/168 [01:00<00:59,  1.29it/s]"
          ]
        },
        {
          "output_type": "stream",
          "name": "stdout",
          "text": [
            "Item profile list LENGTH : 661 \n",
            "movies profiles SHAPE : (661, 1443) \n",
            "user id dave\n",
            "\n",
            " create all movies profiles \n",
            "\n"
          ]
        },
        {
          "output_type": "stream",
          "name": "stderr",
          "text": [
            "\n",
            "  0%|          | 0/532 [00:00<?, ?it/s]\u001b[A\n",
            "100%|██████████| 532/532 [00:00<00:00, 2888.92it/s]\n",
            " 55%|█████▍    | 92/168 [01:00<00:45,  1.65it/s]"
          ]
        },
        {
          "output_type": "stream",
          "name": "stdout",
          "text": [
            "Item profile list LENGTH : 532 \n",
            "movies profiles SHAPE : (532, 1443) \n",
            "user id ddarko42\n",
            "\n",
            " create all movies profiles \n",
            "\n"
          ]
        },
        {
          "output_type": "stream",
          "name": "stderr",
          "text": [
            "\n",
            "  0%|          | 0/1280 [00:00<?, ?it/s]\u001b[A\n",
            " 15%|█▍        | 188/1280 [00:00<00:00, 1858.21it/s]\u001b[A\n",
            " 33%|███▎      | 420/1280 [00:00<00:00, 2115.40it/s]\u001b[A\n",
            " 51%|█████     | 652/1280 [00:00<00:00, 2207.69it/s]\u001b[A\n",
            " 68%|██████▊   | 873/1280 [00:00<00:00, 2104.47it/s]\u001b[A\n",
            "100%|██████████| 1280/1280 [00:00<00:00, 2127.31it/s]\n",
            " 55%|█████▌    | 93/168 [01:00<00:45,  1.63it/s]"
          ]
        },
        {
          "output_type": "stream",
          "name": "stdout",
          "text": [
            "Item profile list LENGTH : 1280 \n",
            "movies profiles SHAPE : (1280, 1443) \n",
            "user id willas\n",
            "\n",
            " create all movies profiles \n",
            "\n"
          ]
        },
        {
          "output_type": "stream",
          "name": "stderr",
          "text": [
            "\n",
            "  0%|          | 0/705 [00:00<?, ?it/s]\u001b[A\n",
            "100%|██████████| 705/705 [00:00<00:00, 4049.61it/s]\n",
            " 56%|█████▌    | 94/168 [01:01<00:36,  2.05it/s]"
          ]
        },
        {
          "output_type": "stream",
          "name": "stdout",
          "text": [
            "Item profile list LENGTH : 705 \n",
            "movies profiles SHAPE : (705, 1443) \n",
            "user id scotttobias\n",
            "\n",
            " create all movies profiles \n",
            "\n"
          ]
        },
        {
          "output_type": "stream",
          "name": "stderr",
          "text": [
            "\n",
            "  0%|          | 0/662 [00:00<?, ?it/s]\u001b[A\n",
            " 26%|██▌       | 173/662 [00:00<00:00, 1729.50it/s]\u001b[A\n",
            " 58%|█████▊    | 384/662 [00:00<00:00, 1951.60it/s]\u001b[A\n",
            "100%|██████████| 662/662 [00:00<00:00, 1748.71it/s]\n",
            " 57%|█████▋    | 95/168 [01:01<00:33,  2.17it/s]"
          ]
        },
        {
          "output_type": "stream",
          "name": "stdout",
          "text": [
            "Item profile list LENGTH : 662 \n",
            "movies profiles SHAPE : (662, 1443) \n",
            "user id franhoepfner\n",
            "\n",
            " create all movies profiles \n",
            "\n"
          ]
        },
        {
          "output_type": "stream",
          "name": "stderr",
          "text": [
            "\n",
            "  0%|          | 0/769 [00:00<?, ?it/s]\u001b[A\n",
            "100%|██████████| 769/769 [00:00<00:00, 4795.86it/s]\n",
            " 57%|█████▋    | 96/168 [01:01<00:27,  2.65it/s]"
          ]
        },
        {
          "output_type": "stream",
          "name": "stdout",
          "text": [
            "Item profile list LENGTH : 769 \n",
            "movies profiles SHAPE : (769, 1443) \n",
            "user id milez\n",
            "\n",
            " create all movies profiles \n",
            "\n"
          ]
        },
        {
          "output_type": "stream",
          "name": "stderr",
          "text": [
            "\n",
            "  0%|          | 0/1039 [00:00<?, ?it/s]\u001b[A\n",
            " 19%|█▊        | 193/1039 [00:00<00:00, 1881.48it/s]\u001b[A\n",
            " 37%|███▋      | 382/1039 [00:00<00:00, 1643.85it/s]\u001b[A\n",
            " 56%|█████▋    | 586/1039 [00:00<00:00, 1806.25it/s]\u001b[A\n",
            " 74%|███████▍  | 769/1039 [00:00<00:00, 1790.08it/s]\u001b[A\n",
            "100%|██████████| 1039/1039 [00:00<00:00, 1825.62it/s]\n",
            " 58%|█████▊    | 97/168 [01:02<00:31,  2.26it/s]"
          ]
        },
        {
          "output_type": "stream",
          "name": "stdout",
          "text": [
            "Item profile list LENGTH : 1039 \n",
            "movies profiles SHAPE : (1039, 1443) \n",
            "user id lucyskeet\n",
            "\n",
            " create all movies profiles \n",
            "\n"
          ]
        },
        {
          "output_type": "stream",
          "name": "stderr",
          "text": [
            "\n",
            "  0%|          | 0/1059 [00:00<?, ?it/s]\u001b[A\n",
            " 31%|███       | 328/1059 [00:00<00:00, 3276.32it/s]\u001b[A\n",
            " 62%|██████▏   | 656/1059 [00:00<00:00, 3261.82it/s]\u001b[A\n",
            "100%|██████████| 1059/1059 [00:00<00:00, 3409.89it/s]\n",
            " 58%|█████▊    | 98/168 [01:02<00:28,  2.44it/s]"
          ]
        },
        {
          "output_type": "stream",
          "name": "stdout",
          "text": [
            "Item profile list LENGTH : 1059 \n",
            "movies profiles SHAPE : (1059, 1443) \n",
            "user id haybatman\n",
            "\n",
            " create all movies profiles \n",
            "\n"
          ]
        },
        {
          "output_type": "stream",
          "name": "stderr",
          "text": [
            "\n",
            "  0%|          | 0/1006 [00:00<?, ?it/s]\u001b[A\n",
            " 46%|████▌     | 464/1006 [00:00<00:00, 4604.73it/s]\u001b[A\n",
            "100%|██████████| 1006/1006 [00:00<00:00, 3848.12it/s]\n",
            " 59%|█████▉    | 99/168 [01:02<00:25,  2.68it/s]"
          ]
        },
        {
          "output_type": "stream",
          "name": "stdout",
          "text": [
            "Item profile list LENGTH : 1006 \n",
            "movies profiles SHAPE : (1006, 1443) \n",
            "user id briantt\n",
            "\n",
            " create all movies profiles \n",
            "\n"
          ]
        },
        {
          "output_type": "stream",
          "name": "stderr",
          "text": [
            "\n",
            "  0%|          | 0/1263 [00:00<?, ?it/s]\u001b[A\n",
            " 20%|█▉        | 249/1263 [00:00<00:00, 2488.42it/s]\u001b[A\n",
            " 39%|███▉      | 498/1263 [00:00<00:00, 2262.72it/s]\u001b[A\n",
            " 57%|█████▋    | 726/1263 [00:00<00:00, 2215.45it/s]\u001b[A\n",
            " 76%|███████▌  | 955/1263 [00:00<00:00, 2236.27it/s]\u001b[A\n",
            "100%|██████████| 1263/1263 [00:00<00:00, 2044.76it/s]\n",
            " 60%|█████▉    | 100/168 [01:03<00:30,  2.20it/s]"
          ]
        },
        {
          "output_type": "stream",
          "name": "stdout",
          "text": [
            "Item profile list LENGTH : 1263 \n",
            "movies profiles SHAPE : (1263, 1443) \n",
            "user id mulaney\n",
            "\n",
            " create all movies profiles \n",
            "\n"
          ]
        },
        {
          "output_type": "stream",
          "name": "stderr",
          "text": [
            "\n",
            "100%|██████████| 406/406 [00:00<00:00, 4672.28it/s]\n",
            " 60%|██████    | 101/168 [01:03<00:23,  2.87it/s]"
          ]
        },
        {
          "output_type": "stream",
          "name": "stdout",
          "text": [
            "Item profile list LENGTH : 406 \n",
            "movies profiles SHAPE : (406, 1443) \n",
            "user id campbart\n",
            "\n",
            " create all movies profiles \n",
            "\n"
          ]
        },
        {
          "output_type": "stream",
          "name": "stderr",
          "text": [
            "\n",
            "  0%|          | 0/937 [00:00<?, ?it/s]\u001b[A\n",
            " 14%|█▍        | 131/937 [00:00<00:00, 1300.61it/s]\u001b[A\n",
            " 30%|██▉       | 280/937 [00:00<00:00, 1410.76it/s]\u001b[A\n",
            " 46%|████▌     | 428/937 [00:00<00:00, 1438.98it/s]\u001b[A\n",
            " 63%|██████▎   | 589/937 [00:00<00:00, 1506.01it/s]\u001b[A\n",
            " 79%|███████▉  | 742/937 [00:00<00:00, 1513.60it/s]\u001b[A\n",
            "100%|██████████| 937/937 [00:00<00:00, 1477.81it/s]\n",
            " 61%|██████    | 102/168 [01:04<00:29,  2.26it/s]"
          ]
        },
        {
          "output_type": "stream",
          "name": "stdout",
          "text": [
            "Item profile list LENGTH : 937 \n",
            "movies profiles SHAPE : (937, 1443) \n",
            "user id ianamurray\n",
            "\n",
            " create all movies profiles \n",
            "\n"
          ]
        },
        {
          "output_type": "stream",
          "name": "stderr",
          "text": [
            "\n",
            "  0%|          | 0/1171 [00:00<?, ?it/s]\u001b[A\n",
            " 48%|████▊     | 565/1171 [00:00<00:00, 5640.15it/s]\u001b[A\n",
            "100%|██████████| 1171/1171 [00:00<00:00, 5306.38it/s]\n",
            " 61%|██████▏   | 103/168 [01:04<00:24,  2.61it/s]"
          ]
        },
        {
          "output_type": "stream",
          "name": "stdout",
          "text": [
            "Item profile list LENGTH : 1171 \n",
            "movies profiles SHAPE : (1171, 1443) \n",
            "user id neilbahadur\n",
            "\n",
            " create all movies profiles \n",
            "\n"
          ]
        },
        {
          "output_type": "stream",
          "name": "stderr",
          "text": [
            "\n",
            "  0%|          | 0/1130 [00:00<?, ?it/s]\u001b[A\n",
            " 15%|█▍        | 165/1130 [00:00<00:00, 1634.40it/s]\u001b[A\n",
            " 29%|██▉       | 329/1130 [00:00<00:00, 1508.74it/s]\u001b[A\n",
            " 43%|████▎     | 490/1130 [00:00<00:00, 1549.36it/s]\u001b[A\n",
            " 59%|█████▉    | 667/1130 [00:00<00:00, 1633.50it/s]\u001b[A\n",
            " 76%|███████▌  | 854/1130 [00:00<00:00, 1716.95it/s]\u001b[A\n",
            "100%|██████████| 1130/1130 [00:00<00:00, 1699.78it/s]\n",
            " 62%|██████▏   | 104/168 [01:05<00:30,  2.10it/s]"
          ]
        },
        {
          "output_type": "stream",
          "name": "stdout",
          "text": [
            "Item profile list LENGTH : 1130 \n",
            "movies profiles SHAPE : (1130, 1443) \n",
            "user id jvince\n",
            "\n",
            " create all movies profiles \n",
            "\n"
          ]
        },
        {
          "output_type": "stream",
          "name": "stderr",
          "text": [
            "\n",
            "  0%|          | 0/1099 [00:00<?, ?it/s]\u001b[A\n",
            " 27%|██▋       | 293/1099 [00:00<00:00, 2928.86it/s]\u001b[A\n",
            " 57%|█████▋    | 630/1099 [00:00<00:00, 3165.30it/s]\u001b[A\n",
            "100%|██████████| 1099/1099 [00:00<00:00, 3075.60it/s]\n",
            " 62%|██████▎   | 105/168 [01:05<00:28,  2.24it/s]"
          ]
        },
        {
          "output_type": "stream",
          "name": "stdout",
          "text": [
            "Item profile list LENGTH : 1099 \n",
            "movies profiles SHAPE : (1099, 1443) \n",
            "user id cantinaband\n",
            "\n",
            " create all movies profiles \n",
            "\n"
          ]
        },
        {
          "output_type": "stream",
          "name": "stderr",
          "text": [
            "\n",
            "  0%|          | 0/791 [00:00<?, ?it/s]\u001b[A\n",
            "100%|██████████| 791/791 [00:00<00:00, 5100.75it/s]\n",
            " 63%|██████▎   | 106/168 [01:05<00:22,  2.73it/s]"
          ]
        },
        {
          "output_type": "stream",
          "name": "stdout",
          "text": [
            "Item profile list LENGTH : 791 \n",
            "movies profiles SHAPE : (791, 1443) \n",
            "user id mildredsfierce\n",
            "\n",
            " create all movies profiles \n",
            "\n"
          ]
        },
        {
          "output_type": "stream",
          "name": "stderr",
          "text": [
            "\n",
            "  0%|          | 0/977 [00:00<?, ?it/s]\u001b[A\n",
            " 14%|█▍        | 140/977 [00:00<00:00, 1398.78it/s]\u001b[A\n",
            " 31%|███       | 300/977 [00:00<00:00, 1515.78it/s]\u001b[A\n",
            " 50%|████▉     | 485/977 [00:00<00:00, 1668.23it/s]\u001b[A\n",
            " 68%|██████▊   | 667/977 [00:00<00:00, 1712.10it/s]\u001b[A\n",
            "100%|██████████| 977/977 [00:00<00:00, 1651.86it/s]\n",
            " 64%|██████▎   | 107/168 [01:06<00:26,  2.27it/s]"
          ]
        },
        {
          "output_type": "stream",
          "name": "stdout",
          "text": [
            "Item profile list LENGTH : 977 \n",
            "movies profiles SHAPE : (977, 1443) \n",
            "user id austinburke\n",
            "\n",
            " create all movies profiles \n",
            "\n"
          ]
        },
        {
          "output_type": "stream",
          "name": "stderr",
          "text": [
            "\n",
            "  0%|          | 0/1033 [00:00<?, ?it/s]\u001b[A\n",
            " 39%|███▊      | 398/1033 [00:00<00:00, 3966.86it/s]\u001b[A\n",
            "100%|██████████| 1033/1033 [00:00<00:00, 3626.82it/s]\n",
            " 64%|██████▍   | 108/168 [01:06<00:24,  2.49it/s]"
          ]
        },
        {
          "output_type": "stream",
          "name": "stdout",
          "text": [
            "Item profile list LENGTH : 1033 \n",
            "movies profiles SHAPE : (1033, 1443) \n",
            "user id ihe\n",
            "\n",
            " create all movies profiles \n",
            "\n"
          ]
        },
        {
          "output_type": "stream",
          "name": "stderr",
          "text": [
            "\n",
            "  0%|          | 0/626 [00:00<?, ?it/s]\u001b[A\n",
            "100%|██████████| 626/626 [00:00<00:00, 5295.93it/s]\n",
            " 65%|██████▍   | 109/168 [01:06<00:19,  3.10it/s]"
          ]
        },
        {
          "output_type": "stream",
          "name": "stdout",
          "text": [
            "Item profile list LENGTH : 626 \n",
            "movies profiles SHAPE : (626, 1443) \n",
            "user id davidehrlich\n",
            "\n",
            " create all movies profiles \n",
            "\n"
          ]
        },
        {
          "output_type": "stream",
          "name": "stderr",
          "text": [
            "\n",
            "  0%|          | 0/1122 [00:00<?, ?it/s]\u001b[A\n",
            "100%|██████████| 1122/1122 [00:00<00:00, 9512.72it/s] \n",
            " 65%|██████▌   | 110/168 [01:07<00:15,  3.72it/s]"
          ]
        },
        {
          "output_type": "stream",
          "name": "stdout",
          "text": [
            "Item profile list LENGTH : 1122 \n",
            "movies profiles SHAPE : (1122, 1443) \n",
            "user id yijian\n",
            "\n",
            " create all movies profiles \n",
            "\n"
          ]
        },
        {
          "output_type": "stream",
          "name": "stderr",
          "text": [
            "\n",
            "  0%|          | 0/427 [00:00<?, ?it/s]\u001b[A\n",
            "100%|██████████| 427/427 [00:00<00:00, 2417.17it/s]\n",
            " 66%|██████▌   | 111/168 [01:07<00:14,  4.05it/s]"
          ]
        },
        {
          "output_type": "stream",
          "name": "stdout",
          "text": [
            "Item profile list LENGTH : 427 \n",
            "movies profiles SHAPE : (427, 1443) \n",
            "user id superpulse\n",
            "\n",
            " create all movies profiles \n",
            "\n"
          ]
        },
        {
          "output_type": "stream",
          "name": "stderr",
          "text": [
            "\n",
            "  0%|          | 0/1204 [00:00<?, ?it/s]\u001b[A\n",
            "100%|██████████| 1204/1204 [00:00<00:00, 7121.25it/s]\n",
            " 67%|██████▋   | 112/168 [01:07<00:12,  4.33it/s]"
          ]
        },
        {
          "output_type": "stream",
          "name": "stdout",
          "text": [
            "Item profile list LENGTH : 1204 \n",
            "movies profiles SHAPE : (1204, 1443) \n",
            "user id brendanmichaels\n",
            "\n",
            " create all movies profiles \n",
            "\n"
          ]
        },
        {
          "output_type": "stream",
          "name": "stderr",
          "text": [
            "\n",
            "  0%|          | 0/1237 [00:00<?, ?it/s]\u001b[A\n",
            " 10%|█         | 127/1237 [00:00<00:00, 1257.87it/s]\u001b[A\n",
            " 22%|██▏       | 274/1237 [00:00<00:00, 1375.89it/s]\u001b[A\n",
            " 36%|███▋      | 450/1237 [00:00<00:00, 1543.83it/s]\u001b[A\n",
            " 50%|████▉     | 614/1237 [00:00<00:00, 1575.69it/s]\u001b[A\n",
            " 62%|██████▏   | 772/1237 [00:00<00:00, 1457.20it/s]\u001b[A\n",
            " 74%|███████▍  | 920/1237 [00:00<00:00, 1445.26it/s]\u001b[A\n",
            " 87%|████████▋ | 1076/1237 [00:00<00:00, 1480.49it/s]\u001b[A\n",
            "100%|██████████| 1237/1237 [00:00<00:00, 1442.16it/s]\n",
            " 67%|██████▋   | 113/168 [01:08<00:23,  2.34it/s]"
          ]
        },
        {
          "output_type": "stream",
          "name": "stdout",
          "text": [
            "Item profile list LENGTH : 1237 \n",
            "movies profiles SHAPE : (1237, 1443) \n",
            "user id davidlsims\n",
            "\n",
            " create all movies profiles \n",
            "\n"
          ]
        },
        {
          "output_type": "stream",
          "name": "stderr",
          "text": [
            "\n",
            "  0%|          | 0/1324 [00:00<?, ?it/s]\u001b[A\n",
            " 28%|██▊       | 372/1324 [00:00<00:00, 3714.62it/s]\u001b[A\n",
            " 57%|█████▋    | 752/1324 [00:00<00:00, 3763.38it/s]\u001b[A\n",
            "100%|██████████| 1324/1324 [00:00<00:00, 3685.39it/s]\n",
            " 68%|██████▊   | 114/168 [01:08<00:22,  2.40it/s]"
          ]
        },
        {
          "output_type": "stream",
          "name": "stdout",
          "text": [
            "Item profile list LENGTH : 1324 \n",
            "movies profiles SHAPE : (1324, 1443) \n",
            "user id juggernaut323\n",
            "\n",
            " create all movies profiles \n",
            "\n"
          ]
        },
        {
          "output_type": "stream",
          "name": "stderr",
          "text": [
            "\n",
            "  0%|          | 0/1321 [00:00<?, ?it/s]\u001b[A\n",
            " 35%|███▍      | 462/1321 [00:00<00:00, 4618.24it/s]\u001b[A\n",
            "100%|██████████| 1321/1321 [00:00<00:00, 4335.82it/s]\n",
            " 68%|██████▊   | 115/168 [01:09<00:20,  2.56it/s]"
          ]
        },
        {
          "output_type": "stream",
          "name": "stdout",
          "text": [
            "Item profile list LENGTH : 1321 \n",
            "movies profiles SHAPE : (1321, 1443) \n",
            "user id punq\n",
            "\n",
            " create all movies profiles \n",
            "\n"
          ]
        },
        {
          "output_type": "stream",
          "name": "stderr",
          "text": [
            "\n",
            "  0%|          | 0/1313 [00:00<?, ?it/s]\u001b[A\n",
            "  4%|▍         | 54/1313 [00:00<00:02, 538.07it/s]\u001b[A\n",
            "  8%|▊         | 108/1313 [00:00<00:02, 516.83it/s]\u001b[A\n",
            " 12%|█▏        | 162/1313 [00:00<00:02, 524.67it/s]\u001b[A\n",
            " 16%|█▋        | 216/1313 [00:00<00:02, 530.45it/s]\u001b[A\n",
            " 21%|██        | 271/1313 [00:00<00:01, 535.21it/s]\u001b[A\n",
            " 25%|██▍       | 325/1313 [00:00<00:01, 534.14it/s]\u001b[A\n",
            " 29%|██▉       | 379/1313 [00:00<00:01, 500.68it/s]\u001b[A\n",
            " 33%|███▎      | 431/1313 [00:00<00:01, 504.58it/s]\u001b[A\n",
            " 37%|███▋      | 484/1313 [00:00<00:01, 511.94it/s]\u001b[A\n",
            " 41%|████      | 538/1313 [00:01<00:01, 518.12it/s]\u001b[A\n",
            " 45%|████▌     | 591/1313 [00:01<00:01, 520.72it/s]\u001b[A\n",
            " 49%|████▉     | 644/1313 [00:01<00:01, 426.19it/s]\u001b[A\n",
            " 53%|█████▎    | 690/1313 [00:01<00:01, 385.51it/s]\u001b[A\n",
            " 56%|█████▌    | 731/1313 [00:01<00:01, 356.32it/s]\u001b[A\n",
            " 59%|█████▊    | 769/1313 [00:01<00:01, 340.04it/s]\u001b[A\n",
            " 61%|██████▏   | 805/1313 [00:01<00:01, 320.55it/s]\u001b[A\n",
            " 64%|██████▍   | 838/1313 [00:01<00:01, 317.50it/s]\u001b[A\n",
            " 66%|██████▋   | 871/1313 [00:02<00:01, 314.56it/s]\u001b[A\n",
            " 69%|██████▉   | 903/1313 [00:02<00:01, 313.05it/s]\u001b[A\n",
            " 71%|███████   | 935/1313 [00:02<00:01, 311.20it/s]\u001b[A\n",
            " 74%|███████▎  | 967/1313 [00:02<00:01, 311.43it/s]\u001b[A\n",
            " 76%|███████▌  | 999/1313 [00:02<00:01, 304.94it/s]\u001b[A\n",
            " 78%|███████▊  | 1030/1313 [00:02<00:00, 301.71it/s]\u001b[A\n",
            " 81%|████████  | 1061/1313 [00:02<00:00, 302.76it/s]\u001b[A\n",
            " 83%|████████▎ | 1092/1313 [00:02<00:00, 295.22it/s]\u001b[A\n",
            " 85%|████████▌ | 1122/1313 [00:02<00:00, 295.08it/s]\u001b[A\n",
            " 88%|████████▊ | 1152/1313 [00:03<00:00, 292.84it/s]\u001b[A\n",
            " 90%|█████████ | 1182/1313 [00:03<00:00, 291.75it/s]\u001b[A\n",
            " 92%|█████████▏| 1212/1313 [00:03<00:00, 292.63it/s]\u001b[A\n",
            " 95%|█████████▍| 1244/1313 [00:03<00:00, 297.94it/s]\u001b[A\n",
            " 97%|█████████▋| 1274/1313 [00:03<00:00, 295.17it/s]\u001b[A\n",
            "100%|██████████| 1313/1313 [00:03<00:00, 368.26it/s]\n",
            " 69%|██████▉   | 116/168 [01:12<01:10,  1.35s/it]"
          ]
        },
        {
          "output_type": "stream",
          "name": "stdout",
          "text": [
            "Item profile list LENGTH : 1313 \n",
            "movies profiles SHAPE : (1313, 1443) \n",
            "user id thejoshl\n",
            "\n",
            " create all movies profiles \n",
            "\n"
          ]
        },
        {
          "output_type": "stream",
          "name": "stderr",
          "text": [
            "\n",
            "  0%|          | 0/1255 [00:00<?, ?it/s]\u001b[A\n",
            " 32%|███▏      | 400/1255 [00:00<00:00, 3996.51it/s]\u001b[A\n",
            " 64%|██████▎   | 800/1255 [00:00<00:00, 3393.40it/s]\u001b[A\n",
            "100%|██████████| 1255/1255 [00:00<00:00, 3400.02it/s]\n",
            " 70%|██████▉   | 117/168 [01:13<00:54,  1.07s/it]"
          ]
        },
        {
          "output_type": "stream",
          "name": "stdout",
          "text": [
            "Item profile list LENGTH : 1255 \n",
            "movies profiles SHAPE : (1255, 1443) \n",
            "user id thatsantiagoguy\n",
            "\n",
            " create all movies profiles \n",
            "\n"
          ]
        },
        {
          "output_type": "stream",
          "name": "stderr",
          "text": [
            "\n",
            "  0%|          | 0/916 [00:00<?, ?it/s]\u001b[A\n",
            " 12%|█▏        | 110/916 [00:00<00:00, 1081.32it/s]\u001b[A\n",
            " 24%|██▍       | 219/916 [00:00<00:00, 915.61it/s] \u001b[A\n",
            " 34%|███▍      | 313/916 [00:00<00:00, 832.70it/s]\u001b[A\n",
            " 45%|████▍     | 412/916 [00:00<00:00, 876.05it/s]\u001b[A\n",
            " 55%|█████▍    | 501/916 [00:00<00:00, 853.28it/s]\u001b[A\n",
            " 65%|██████▍   | 591/916 [00:00<00:00, 867.50it/s]\u001b[A\n",
            " 80%|████████  | 736/916 [00:00<00:00, 1043.39it/s]\u001b[A\n",
            "100%|██████████| 916/916 [00:00<00:00, 1014.17it/s]\n",
            " 70%|███████   | 118/168 [01:13<00:51,  1.03s/it]"
          ]
        },
        {
          "output_type": "stream",
          "name": "stdout",
          "text": [
            "Item profile list LENGTH : 916 \n",
            "movies profiles SHAPE : (916, 1443) \n",
            "user id kaylafavia\n",
            "\n",
            " create all movies profiles \n",
            "\n"
          ]
        },
        {
          "output_type": "stream",
          "name": "stderr",
          "text": [
            "\n",
            "  0%|          | 0/834 [00:00<?, ?it/s]\u001b[A\n",
            "100%|██████████| 834/834 [00:00<00:00, 4640.98it/s]\n"
          ]
        },
        {
          "output_type": "stream",
          "name": "stdout",
          "text": [
            "Item profile list LENGTH : 834 \n",
            "movies profiles SHAPE : (834, 1443) \n"
          ]
        },
        {
          "output_type": "stream",
          "name": "stderr",
          "text": [
            "\r 71%|███████   | 119/168 [01:14<00:38,  1.28it/s]"
          ]
        },
        {
          "output_type": "stream",
          "name": "stdout",
          "text": [
            "user id kristenyoonsoo\n",
            "\n",
            " create all movies profiles \n",
            "\n"
          ]
        },
        {
          "output_type": "stream",
          "name": "stderr",
          "text": [
            "\n",
            "  0%|          | 0/766 [00:00<?, ?it/s]\u001b[A\n",
            " 14%|█▍        | 106/766 [00:00<00:00, 1046.67it/s]\u001b[A\n",
            " 30%|██▉       | 227/766 [00:00<00:00, 1139.76it/s]\u001b[A\n",
            " 47%|████▋     | 363/766 [00:00<00:00, 1238.47it/s]\u001b[A\n",
            " 64%|██████▎   | 487/766 [00:00<00:00, 1228.72it/s]\u001b[A\n",
            "100%|██████████| 766/766 [00:00<00:00, 1238.66it/s]\n",
            " 71%|███████▏  | 120/168 [01:14<00:35,  1.36it/s]"
          ]
        },
        {
          "output_type": "stream",
          "name": "stdout",
          "text": [
            "Item profile list LENGTH : 766 \n",
            "movies profiles SHAPE : (766, 1443) \n",
            "user id schaffrillas\n",
            "\n",
            " create all movies profiles \n",
            "\n"
          ]
        },
        {
          "output_type": "stream",
          "name": "stderr",
          "text": [
            "\n",
            "100%|██████████| 245/245 [00:00<00:00, 6632.83it/s]\n"
          ]
        },
        {
          "output_type": "stream",
          "name": "stdout",
          "text": [
            "Item profile list LENGTH : 245 \n",
            "movies profiles SHAPE : (245, 1443) \n",
            "user id fuchsiadyke\n",
            "\n",
            " create all movies profiles \n",
            "\n"
          ]
        },
        {
          "output_type": "stream",
          "name": "stderr",
          "text": [
            "\n",
            "  0%|          | 0/1284 [00:00<?, ?it/s]\u001b[A\n",
            " 18%|█▊        | 237/1284 [00:00<00:00, 2364.54it/s]\u001b[A\n",
            " 41%|████      | 524/1284 [00:00<00:00, 2658.14it/s]\u001b[A\n",
            " 65%|██████▌   | 841/1284 [00:00<00:00, 2888.40it/s]\u001b[A\n",
            "100%|██████████| 1284/1284 [00:00<00:00, 2916.80it/s]\n",
            " 73%|███████▎  | 122/168 [01:15<00:23,  1.93it/s]"
          ]
        },
        {
          "output_type": "stream",
          "name": "stdout",
          "text": [
            "Item profile list LENGTH : 1284 \n",
            "movies profiles SHAPE : (1284, 1443) \n",
            "user id cinebro\n",
            "\n",
            " create all movies profiles \n",
            "\n"
          ]
        },
        {
          "output_type": "stream",
          "name": "stderr",
          "text": [
            "\n",
            "  0%|          | 0/560 [00:00<?, ?it/s]\u001b[A\n",
            " 39%|███▉      | 217/560 [00:00<00:00, 2168.74it/s]\u001b[A\n",
            "100%|██████████| 560/560 [00:00<00:00, 2050.45it/s]\n",
            " 73%|███████▎  | 123/168 [01:15<00:20,  2.17it/s]"
          ]
        },
        {
          "output_type": "stream",
          "name": "stdout",
          "text": [
            "Item profile list LENGTH : 560 \n",
            "movies profiles SHAPE : (560, 1443) \n",
            "user id iaiaiand\n",
            "\n",
            " create all movies profiles \n",
            "\n"
          ]
        },
        {
          "output_type": "stream",
          "name": "stderr",
          "text": [
            "\n",
            "100%|██████████| 512/512 [00:00<00:00, 7138.72it/s]\n"
          ]
        },
        {
          "output_type": "stream",
          "name": "stdout",
          "text": [
            "Item profile list LENGTH : 512 \n",
            "movies profiles SHAPE : (512, 1443) \n",
            "user id dselwyns\n",
            "\n",
            " create all movies profiles \n",
            "\n"
          ]
        },
        {
          "output_type": "stream",
          "name": "stderr",
          "text": [
            "\n",
            "  0%|          | 0/1353 [00:00<?, ?it/s]\u001b[A\n",
            "  8%|▊         | 102/1353 [00:00<00:01, 1008.33it/s]\u001b[A\n",
            " 15%|█▌        | 203/1353 [00:00<00:01, 893.70it/s] \u001b[A\n",
            " 22%|██▏       | 294/1353 [00:00<00:01, 844.56it/s]\u001b[A\n",
            " 30%|██▉       | 404/1353 [00:00<00:01, 930.47it/s]\u001b[A\n",
            " 38%|███▊      | 509/1353 [00:00<00:00, 968.89it/s]\u001b[A\n",
            " 46%|████▌     | 621/1353 [00:00<00:00, 1010.45it/s]\u001b[A\n",
            " 55%|█████▍    | 741/1353 [00:00<00:00, 1068.15it/s]\u001b[A\n",
            " 63%|██████▎   | 849/1353 [00:00<00:00, 1017.82it/s]\u001b[A\n",
            " 71%|███████   | 959/1353 [00:00<00:00, 1040.97it/s]\u001b[A\n",
            " 79%|███████▊  | 1064/1353 [00:01<00:00, 1038.54it/s]\u001b[A\n",
            " 86%|████████▋ | 1169/1353 [00:01<00:00, 1009.13it/s]\u001b[A\n",
            "100%|██████████| 1353/1353 [00:01<00:00, 977.74it/s]\n",
            " 74%|███████▍  | 125/168 [01:17<00:24,  1.72it/s]"
          ]
        },
        {
          "output_type": "stream",
          "name": "stdout",
          "text": [
            "Item profile list LENGTH : 1353 \n",
            "movies profiles SHAPE : (1353, 1443) \n",
            "user id amandaayoung\n",
            "\n",
            " create all movies profiles \n",
            "\n"
          ]
        },
        {
          "output_type": "stream",
          "name": "stderr",
          "text": [
            "\n",
            "  0%|          | 0/1189 [00:00<?, ?it/s]\u001b[A\n",
            " 25%|██▌       | 299/1189 [00:00<00:00, 2988.06it/s]\u001b[A\n",
            " 53%|█████▎    | 635/1189 [00:00<00:00, 3189.79it/s]\u001b[A\n",
            "100%|██████████| 1189/1189 [00:00<00:00, 3009.83it/s]\n",
            " 75%|███████▌  | 126/168 [01:17<00:22,  1.83it/s]"
          ]
        },
        {
          "output_type": "stream",
          "name": "stdout",
          "text": [
            "Item profile list LENGTH : 1189 \n",
            "movies profiles SHAPE : (1189, 1443) \n",
            "user id darrencb\n",
            "\n",
            " create all movies profiles \n",
            "\n"
          ]
        },
        {
          "output_type": "stream",
          "name": "stderr",
          "text": [
            "\n",
            "  0%|          | 0/1318 [00:00<?, ?it/s]\u001b[A\n",
            " 28%|██▊       | 363/1318 [00:00<00:00, 3621.48it/s]\u001b[A\n",
            " 58%|█████▊    | 760/1318 [00:00<00:00, 3817.39it/s]\u001b[A\n",
            "100%|██████████| 1318/1318 [00:00<00:00, 3896.37it/s]\n",
            " 76%|███████▌  | 127/168 [01:17<00:20,  1.99it/s]"
          ]
        },
        {
          "output_type": "stream",
          "name": "stdout",
          "text": [
            "Item profile list LENGTH : 1318 \n",
            "movies profiles SHAPE : (1318, 1443) \n",
            "user id colintroy\n",
            "\n",
            " create all movies profiles \n",
            "\n"
          ]
        },
        {
          "output_type": "stream",
          "name": "stderr",
          "text": [
            "\n",
            "  0%|          | 0/1259 [00:00<?, ?it/s]\u001b[A\n",
            " 12%|█▏        | 156/1259 [00:00<00:00, 1555.28it/s]\u001b[A\n",
            " 25%|██▍       | 312/1259 [00:00<00:00, 1517.50it/s]\u001b[A\n",
            " 39%|███▊      | 486/1259 [00:00<00:00, 1617.01it/s]\u001b[A\n",
            " 51%|█████▏    | 648/1259 [00:00<00:00, 1607.63it/s]\u001b[A\n",
            " 64%|██████▍   | 811/1259 [00:00<00:00, 1611.47it/s]\u001b[A\n",
            " 80%|███████▉  | 1001/1259 [00:00<00:00, 1708.30it/s]\u001b[A\n",
            "100%|██████████| 1259/1259 [00:00<00:00, 1597.58it/s]\n",
            " 76%|███████▌  | 128/168 [01:18<00:23,  1.71it/s]"
          ]
        },
        {
          "output_type": "stream",
          "name": "stdout",
          "text": [
            "Item profile list LENGTH : 1259 \n",
            "movies profiles SHAPE : (1259, 1443) \n",
            "user id avadavis\n",
            "\n",
            " create all movies profiles \n",
            "\n"
          ]
        },
        {
          "output_type": "stream",
          "name": "stderr",
          "text": [
            "\n",
            "  0%|          | 0/869 [00:00<?, ?it/s]\u001b[A\n",
            " 38%|███▊      | 332/869 [00:00<00:00, 3297.23it/s]\u001b[A\n",
            "100%|██████████| 869/869 [00:00<00:00, 2988.89it/s]\n",
            " 77%|███████▋  | 129/168 [01:19<00:19,  1.96it/s]"
          ]
        },
        {
          "output_type": "stream",
          "name": "stdout",
          "text": [
            "Item profile list LENGTH : 869 \n",
            "movies profiles SHAPE : (869, 1443) \n",
            "user id allisoncm\n",
            "\n",
            " create all movies profiles \n",
            "\n"
          ]
        },
        {
          "output_type": "stream",
          "name": "stderr",
          "text": [
            "\n",
            "  0%|          | 0/1282 [00:00<?, ?it/s]\u001b[A\n",
            " 11%|█         | 142/1282 [00:00<00:00, 1417.64it/s]\u001b[A\n",
            " 25%|██▍       | 316/1282 [00:00<00:00, 1604.11it/s]\u001b[A\n",
            " 39%|███▊      | 494/1282 [00:00<00:00, 1678.75it/s]\u001b[A\n",
            " 52%|█████▏    | 672/1282 [00:00<00:00, 1718.40it/s]\u001b[A\n",
            " 67%|██████▋   | 856/1282 [00:00<00:00, 1758.48it/s]\u001b[A\n",
            " 81%|████████  | 1036/1282 [00:00<00:00, 1769.07it/s]\u001b[A\n",
            "100%|██████████| 1282/1282 [00:00<00:00, 1717.40it/s]\n",
            " 77%|███████▋  | 130/168 [01:19<00:22,  1.72it/s]"
          ]
        },
        {
          "output_type": "stream",
          "name": "stdout",
          "text": [
            "Item profile list LENGTH : 1282 \n",
            "movies profiles SHAPE : (1282, 1443) \n",
            "user id lise\n",
            "\n",
            " create all movies profiles \n",
            "\n"
          ]
        },
        {
          "output_type": "stream",
          "name": "stderr",
          "text": [
            "\n",
            "  0%|          | 0/1231 [00:00<?, ?it/s]\u001b[A\n",
            "  9%|▉         | 112/1231 [00:00<00:01, 1115.40it/s]\u001b[A\n",
            " 18%|█▊        | 224/1231 [00:00<00:00, 1044.84it/s]\u001b[A\n",
            " 28%|██▊       | 343/1231 [00:00<00:00, 1103.81it/s]\u001b[A\n",
            " 38%|███▊      | 463/1231 [00:00<00:00, 1134.09it/s]\u001b[A\n",
            " 49%|████▊     | 599/1231 [00:00<00:00, 1209.62it/s]\u001b[A\n",
            " 59%|█████▊    | 723/1231 [00:00<00:00, 1219.14it/s]\u001b[A\n",
            " 69%|██████▉   | 851/1231 [00:00<00:00, 1234.62it/s]\u001b[A\n",
            " 80%|███████▉  | 980/1231 [00:00<00:00, 1245.45it/s]\u001b[A\n",
            " 90%|████████▉ | 1105/1231 [00:00<00:00, 1224.69it/s]\u001b[A\n",
            "100%|██████████| 1231/1231 [00:01<00:00, 1167.63it/s]\n",
            " 78%|███████▊  | 131/168 [01:20<00:26,  1.38it/s]"
          ]
        },
        {
          "output_type": "stream",
          "name": "stdout",
          "text": [
            "Item profile list LENGTH : 1231 \n",
            "movies profiles SHAPE : (1231, 1443) \n",
            "user id justmiaslife\n",
            "\n",
            " create all movies profiles \n",
            "\n"
          ]
        },
        {
          "output_type": "stream",
          "name": "stderr",
          "text": [
            "\n",
            "  0%|          | 0/674 [00:00<?, ?it/s]\u001b[A\n",
            " 39%|███▊      | 261/674 [00:00<00:00, 2608.68it/s]\u001b[A\n",
            "100%|██████████| 674/674 [00:00<00:00, 2353.13it/s]\n",
            " 79%|███████▊  | 132/168 [01:21<00:21,  1.65it/s]"
          ]
        },
        {
          "output_type": "stream",
          "name": "stdout",
          "text": [
            "Item profile list LENGTH : 674 \n",
            "movies profiles SHAPE : (674, 1443) \n",
            "user id alexlawther\n",
            "\n",
            " create all movies profiles \n",
            "\n"
          ]
        },
        {
          "output_type": "stream",
          "name": "stderr",
          "text": [
            "\n",
            "  0%|          | 0/383 [00:00<?, ?it/s]\u001b[A\n",
            "100%|██████████| 383/383 [00:00<00:00, 3659.09it/s]\n",
            " 79%|███████▉  | 133/168 [01:21<00:16,  2.16it/s]"
          ]
        },
        {
          "output_type": "stream",
          "name": "stdout",
          "text": [
            "Item profile list LENGTH : 383 \n",
            "movies profiles SHAPE : (383, 1443) \n",
            "user id sophiaplanos\n",
            "\n",
            " create all movies profiles \n",
            "\n"
          ]
        },
        {
          "output_type": "stream",
          "name": "stderr",
          "text": [
            "\n",
            "  0%|          | 0/487 [00:00<?, ?it/s]\u001b[A\n",
            "100%|██████████| 487/487 [00:00<00:00, 4229.71it/s]\n",
            " 80%|███████▉  | 134/168 [01:21<00:12,  2.72it/s]"
          ]
        },
        {
          "output_type": "stream",
          "name": "stdout",
          "text": [
            "Item profile list LENGTH : 487 \n",
            "movies profiles SHAPE : (487, 1443) \n",
            "user id cinemaclown\n",
            "\n",
            " create all movies profiles \n",
            "\n"
          ]
        },
        {
          "output_type": "stream",
          "name": "stderr",
          "text": [
            "\n",
            "  0%|          | 0/852 [00:00<?, ?it/s]\u001b[A\n",
            "100%|██████████| 852/852 [00:00<00:00, 5138.05it/s]\n",
            " 80%|████████  | 135/168 [01:21<00:10,  3.19it/s]"
          ]
        },
        {
          "output_type": "stream",
          "name": "stdout",
          "text": [
            "Item profile list LENGTH : 852 \n",
            "movies profiles SHAPE : (852, 1443) \n",
            "user id bratpitt\n",
            "\n",
            " create all movies profiles \n",
            "\n"
          ]
        },
        {
          "output_type": "stream",
          "name": "stderr",
          "text": [
            "\n",
            "  0%|          | 0/758 [00:00<?, ?it/s]\u001b[A\n",
            "100%|██████████| 758/758 [00:00<00:00, 4843.92it/s]\n",
            " 81%|████████  | 136/168 [01:21<00:08,  3.64it/s]"
          ]
        },
        {
          "output_type": "stream",
          "name": "stdout",
          "text": [
            "Item profile list LENGTH : 758 \n",
            "movies profiles SHAPE : (758, 1443) \n",
            "user id silentjoe13\n",
            "\n",
            " create all movies profiles \n",
            "\n"
          ]
        },
        {
          "output_type": "stream",
          "name": "stderr",
          "text": [
            "\n",
            "  0%|          | 0/1296 [00:00<?, ?it/s]\u001b[A\n",
            " 10%|█         | 131/1296 [00:00<00:00, 1289.73it/s]\u001b[A\n",
            " 24%|██▍       | 317/1296 [00:00<00:00, 1614.00it/s]\u001b[A\n",
            " 37%|███▋      | 479/1296 [00:00<00:00, 1608.23it/s]\u001b[A\n",
            " 49%|████▉     | 640/1296 [00:00<00:00, 1523.89it/s]\u001b[A\n",
            " 63%|██████▎   | 822/1296 [00:00<00:00, 1618.14it/s]\u001b[A\n",
            " 77%|███████▋  | 1001/1296 [00:00<00:00, 1669.95it/s]\u001b[A\n",
            "100%|██████████| 1296/1296 [00:00<00:00, 1569.75it/s]\n",
            " 82%|████████▏ | 137/168 [01:22<00:13,  2.24it/s]"
          ]
        },
        {
          "output_type": "stream",
          "name": "stdout",
          "text": [
            "Item profile list LENGTH : 1296 \n",
            "movies profiles SHAPE : (1296, 1443) \n",
            "user id larsenonfilm\n",
            "\n",
            " create all movies profiles \n",
            "\n"
          ]
        },
        {
          "output_type": "stream",
          "name": "stderr",
          "text": [
            "\n",
            "  0%|          | 0/616 [00:00<?, ?it/s]\u001b[A\n",
            "100%|██████████| 616/616 [00:00<00:00, 3875.39it/s]\n",
            " 82%|████████▏ | 138/168 [01:22<00:10,  2.73it/s]"
          ]
        },
        {
          "output_type": "stream",
          "name": "stdout",
          "text": [
            "Item profile list LENGTH : 616 \n",
            "movies profiles SHAPE : (616, 1443) \n",
            "user id kurstboy\n",
            "\n",
            " create all movies profiles \n",
            "\n"
          ]
        },
        {
          "output_type": "stream",
          "name": "stderr",
          "text": [
            "\n",
            "100%|██████████| 630/630 [00:00<00:00, 10382.80it/s]\n"
          ]
        },
        {
          "output_type": "stream",
          "name": "stdout",
          "text": [
            "Item profile list LENGTH : 630 \n",
            "movies profiles SHAPE : (630, 1443) \n",
            "user id oliviawildehawt\n",
            "\n",
            " create all movies profiles \n",
            "\n"
          ]
        },
        {
          "output_type": "stream",
          "name": "stderr",
          "text": [
            "\n",
            "  0%|          | 0/1272 [00:00<?, ?it/s]\u001b[A\n",
            " 24%|██▎       | 302/1272 [00:00<00:00, 3008.50it/s]\u001b[A\n",
            " 51%|█████     | 647/1272 [00:00<00:00, 3262.28it/s]\u001b[A\n",
            "100%|██████████| 1272/1272 [00:00<00:00, 3379.59it/s]\n",
            " 83%|████████▎ | 140/168 [01:23<00:08,  3.21it/s]"
          ]
        },
        {
          "output_type": "stream",
          "name": "stdout",
          "text": [
            "Item profile list LENGTH : 1272 \n",
            "movies profiles SHAPE : (1272, 1443) \n",
            "user id jurassicstark\n",
            "\n",
            " create all movies profiles \n",
            "\n"
          ]
        },
        {
          "output_type": "stream",
          "name": "stderr",
          "text": [
            "\n",
            "  0%|          | 0/628 [00:00<?, ?it/s]\u001b[A\n",
            "100%|██████████| 628/628 [00:00<00:00, 3281.59it/s]\n",
            " 84%|████████▍ | 141/168 [01:23<00:07,  3.49it/s]"
          ]
        },
        {
          "output_type": "stream",
          "name": "stdout",
          "text": [
            "Item profile list LENGTH : 628 \n",
            "movies profiles SHAPE : (628, 1443) \n",
            "user id jacobknight\n",
            "\n",
            " create all movies profiles \n",
            "\n"
          ]
        },
        {
          "output_type": "stream",
          "name": "stderr",
          "text": [
            "\n",
            "  0%|          | 0/1216 [00:00<?, ?it/s]\u001b[A\n",
            " 17%|█▋        | 204/1216 [00:00<00:00, 2034.49it/s]\u001b[A\n",
            " 34%|███▎      | 408/1216 [00:00<00:00, 1838.41it/s]\u001b[A\n",
            " 49%|████▉     | 594/1216 [00:00<00:00, 1564.96it/s]\u001b[A\n",
            " 62%|██████▏   | 755/1216 [00:00<00:00, 1368.04it/s]\u001b[A\n",
            " 74%|███████▎  | 896/1216 [00:00<00:00, 1281.07it/s]\u001b[A\n",
            " 84%|████████▍ | 1027/1216 [00:00<00:00, 1176.95it/s]\u001b[A\n",
            "100%|██████████| 1216/1216 [00:00<00:00, 1362.46it/s]\n",
            " 85%|████████▍ | 142/168 [01:24<00:11,  2.20it/s]"
          ]
        },
        {
          "output_type": "stream",
          "name": "stdout",
          "text": [
            "Item profile list LENGTH : 1216 \n",
            "movies profiles SHAPE : (1216, 1443) \n",
            "user id bethanywilson\n",
            "\n",
            " create all movies profiles \n",
            "\n"
          ]
        },
        {
          "output_type": "stream",
          "name": "stderr",
          "text": [
            "\n",
            "  0%|          | 0/996 [00:00<?, ?it/s]\u001b[A\n",
            " 13%|█▎        | 126/996 [00:00<00:00, 1257.29it/s]\u001b[A\n",
            " 25%|██▌       | 252/996 [00:00<00:00, 1183.93it/s]\u001b[A\n",
            " 38%|███▊      | 376/996 [00:00<00:00, 1196.93it/s]\u001b[A\n",
            " 54%|█████▍    | 539/996 [00:00<00:00, 1360.58it/s]\u001b[A\n",
            " 69%|██████▉   | 689/996 [00:00<00:00, 1407.30it/s]\u001b[A\n",
            "100%|██████████| 996/996 [00:00<00:00, 1367.23it/s]\n",
            " 85%|████████▌ | 143/168 [01:25<00:13,  1.86it/s]"
          ]
        },
        {
          "output_type": "stream",
          "name": "stdout",
          "text": [
            "Item profile list LENGTH : 996 \n",
            "movies profiles SHAPE : (996, 1443) \n",
            "user id highlife\n",
            "\n",
            " create all movies profiles \n",
            "\n"
          ]
        },
        {
          "output_type": "stream",
          "name": "stderr",
          "text": [
            "\n",
            "  0%|          | 0/523 [00:00<?, ?it/s]\u001b[A\n",
            " 48%|████▊     | 253/523 [00:00<00:00, 2498.24it/s]\u001b[A\n",
            "100%|██████████| 523/523 [00:00<00:00, 2555.53it/s]\n",
            " 86%|████████▌ | 144/168 [01:25<00:10,  2.22it/s]"
          ]
        },
        {
          "output_type": "stream",
          "name": "stdout",
          "text": [
            "Item profile list LENGTH : 523 \n",
            "movies profiles SHAPE : (523, 1443) \n",
            "user id johntyler\n",
            "\n",
            " create all movies profiles \n",
            "\n"
          ]
        },
        {
          "output_type": "stream",
          "name": "stderr",
          "text": [
            "\n",
            "  0%|          | 0/1275 [00:00<?, ?it/s]\u001b[A\n",
            " 10%|▉         | 123/1275 [00:00<00:00, 1225.24it/s]\u001b[A\n",
            " 19%|█▉        | 246/1275 [00:00<00:00, 1102.42it/s]\u001b[A\n",
            " 28%|██▊       | 358/1275 [00:00<00:00, 1027.30it/s]\u001b[A\n",
            " 38%|███▊      | 483/1275 [00:00<00:00, 1100.44it/s]\u001b[A\n",
            " 47%|████▋     | 599/1275 [00:00<00:00, 1120.45it/s]\u001b[A\n",
            " 57%|█████▋    | 729/1275 [00:00<00:00, 1177.93it/s]\u001b[A\n",
            " 67%|██████▋   | 854/1275 [00:00<00:00, 1196.10it/s]\u001b[A\n",
            " 76%|███████▋  | 975/1275 [00:00<00:00, 1135.94it/s]\u001b[A\n",
            " 87%|████████▋ | 1112/1275 [00:00<00:00, 1204.34it/s]\u001b[A\n",
            "100%|██████████| 1275/1275 [00:01<00:00, 1174.59it/s]\n",
            " 86%|████████▋ | 145/168 [01:26<00:14,  1.56it/s]"
          ]
        },
        {
          "output_type": "stream",
          "name": "stdout",
          "text": [
            "Item profile list LENGTH : 1275 \n",
            "movies profiles SHAPE : (1275, 1443) \n",
            "user id cevangelista413\n",
            "\n",
            " create all movies profiles \n",
            "\n"
          ]
        },
        {
          "output_type": "stream",
          "name": "stderr",
          "text": [
            "\n",
            "  0%|          | 0/610 [00:00<?, ?it/s]\u001b[A\n",
            " 21%|██▏       | 130/610 [00:00<00:00, 1299.82it/s]\u001b[A\n",
            " 44%|████▎     | 266/610 [00:00<00:00, 1304.13it/s]\u001b[A\n",
            " 70%|██████▉   | 424/610 [00:00<00:00, 1428.42it/s]\u001b[A\n",
            "100%|██████████| 610/610 [00:00<00:00, 1405.04it/s]\n",
            " 87%|████████▋ | 146/168 [01:27<00:12,  1.70it/s]"
          ]
        },
        {
          "output_type": "stream",
          "name": "stdout",
          "text": [
            "Item profile list LENGTH : 610 \n",
            "movies profiles SHAPE : (610, 1443) \n",
            "user id arkhamoutlaw10\n",
            "\n",
            " create all movies profiles \n",
            "\n"
          ]
        },
        {
          "output_type": "stream",
          "name": "stderr",
          "text": [
            "\n",
            "  0%|          | 0/1289 [00:00<?, ?it/s]\u001b[A\n",
            " 12%|█▏        | 154/1289 [00:00<00:00, 1518.29it/s]\u001b[A\n",
            " 24%|██▎       | 306/1289 [00:00<00:00, 1373.23it/s]\u001b[A\n",
            " 35%|███▌      | 453/1289 [00:00<00:00, 1410.70it/s]\u001b[A\n",
            " 46%|████▌     | 595/1289 [00:00<00:00, 1373.07it/s]\u001b[A\n",
            " 57%|█████▋    | 733/1289 [00:00<00:00, 1321.26it/s]\u001b[A\n",
            " 67%|██████▋   | 866/1289 [00:00<00:00, 1300.71it/s]\u001b[A\n",
            "100%|██████████| 1289/1289 [00:00<00:00, 1606.29it/s]\n",
            " 88%|████████▊ | 147/168 [01:27<00:13,  1.52it/s]"
          ]
        },
        {
          "output_type": "stream",
          "name": "stdout",
          "text": [
            "Item profile list LENGTH : 1289 \n",
            "movies profiles SHAPE : (1289, 1443) \n",
            "user id sonofjorel\n",
            "\n",
            " create all movies profiles \n",
            "\n"
          ]
        },
        {
          "output_type": "stream",
          "name": "stderr",
          "text": [
            "\n",
            "  0%|          | 0/1280 [00:00<?, ?it/s]\u001b[A\n",
            " 35%|███▌      | 452/1280 [00:00<00:00, 4519.00it/s]\u001b[A\n",
            "100%|██████████| 1280/1280 [00:00<00:00, 4793.86it/s]\n",
            " 88%|████████▊ | 148/168 [01:28<00:11,  1.81it/s]"
          ]
        },
        {
          "output_type": "stream",
          "name": "stdout",
          "text": [
            "Item profile list LENGTH : 1280 \n",
            "movies profiles SHAPE : (1280, 1443) \n",
            "user id jaimerebanal\n",
            "\n",
            " create all movies profiles \n",
            "\n"
          ]
        },
        {
          "output_type": "stream",
          "name": "stderr",
          "text": [
            "\n",
            "  0%|          | 0/1278 [00:00<?, ?it/s]\u001b[A\n",
            " 14%|█▍        | 184/1278 [00:00<00:00, 1839.72it/s]\u001b[A\n",
            " 29%|██▉       | 368/1278 [00:00<00:00, 1577.20it/s]\u001b[A\n",
            " 41%|████▏     | 529/1278 [00:00<00:00, 1545.94it/s]\u001b[A\n",
            " 54%|█████▎    | 685/1278 [00:00<00:00, 1440.03it/s]\u001b[A\n",
            " 68%|██████▊   | 865/1278 [00:00<00:00, 1551.99it/s]\u001b[A\n",
            " 80%|███████▉  | 1022/1278 [00:00<00:00, 1547.50it/s]\u001b[A\n",
            "100%|██████████| 1278/1278 [00:00<00:00, 1531.78it/s]\n",
            " 89%|████████▊ | 149/168 [01:29<00:12,  1.55it/s]"
          ]
        },
        {
          "output_type": "stream",
          "name": "stdout",
          "text": [
            "Item profile list LENGTH : 1278 \n",
            "movies profiles SHAPE : (1278, 1443) \n",
            "user id jennyslate\n",
            "\n",
            " create all movies profiles \n",
            "\n"
          ]
        },
        {
          "output_type": "stream",
          "name": "stderr",
          "text": [
            "\n",
            "  0%|          | 0/526 [00:00<?, ?it/s]\u001b[A\n",
            " 44%|████▍     | 234/526 [00:00<00:00, 2328.79it/s]\u001b[A\n",
            "100%|██████████| 526/526 [00:00<00:00, 2341.86it/s]\n",
            " 89%|████████▉ | 150/168 [01:29<00:09,  1.91it/s]"
          ]
        },
        {
          "output_type": "stream",
          "name": "stdout",
          "text": [
            "Item profile list LENGTH : 526 \n",
            "movies profiles SHAPE : (526, 1443) \n",
            "user id lebrown\n",
            "\n",
            " create all movies profiles \n",
            "\n"
          ]
        },
        {
          "output_type": "stream",
          "name": "stderr",
          "text": [
            "\n",
            "  0%|          | 0/334 [00:00<?, ?it/s]\u001b[A\n",
            "100%|██████████| 334/334 [00:00<00:00, 2882.75it/s]\n",
            " 90%|████████▉ | 151/168 [01:29<00:06,  2.45it/s]"
          ]
        },
        {
          "output_type": "stream",
          "name": "stdout",
          "text": [
            "Item profile list LENGTH : 334 \n",
            "movies profiles SHAPE : (334, 1443) \n",
            "user id timcop\n",
            "\n",
            " create all movies profiles \n",
            "\n"
          ]
        },
        {
          "output_type": "stream",
          "name": "stderr",
          "text": [
            "\n",
            "  0%|          | 0/1301 [00:00<?, ?it/s]\u001b[A\n",
            "  9%|▉         | 118/1301 [00:00<00:01, 1170.50it/s]\u001b[A\n",
            " 18%|█▊        | 236/1301 [00:00<00:01, 1031.54it/s]\u001b[A\n",
            " 28%|██▊       | 369/1301 [00:00<00:00, 1155.00it/s]\u001b[A\n",
            " 39%|███▉      | 508/1301 [00:00<00:00, 1243.31it/s]\u001b[A\n",
            " 49%|████▊     | 634/1301 [00:00<00:00, 1225.95it/s]\u001b[A\n",
            " 58%|█████▊    | 758/1301 [00:00<00:00, 1207.77it/s]\u001b[A\n",
            " 68%|██████▊   | 886/1301 [00:00<00:00, 1225.87it/s]\u001b[A\n",
            " 78%|███████▊  | 1010/1301 [00:00<00:00, 1223.06it/s]\u001b[A\n",
            " 87%|████████▋ | 1138/1301 [00:00<00:00, 1233.65it/s]\u001b[A\n",
            "100%|██████████| 1301/1301 [00:01<00:00, 1215.15it/s]\n",
            " 90%|█████████ | 152/168 [01:30<00:09,  1.63it/s]"
          ]
        },
        {
          "output_type": "stream",
          "name": "stdout",
          "text": [
            "Item profile list LENGTH : 1301 \n",
            "movies profiles SHAPE : (1301, 1443) \n",
            "user id mskiesha\n",
            "\n",
            " create all movies profiles \n",
            "\n"
          ]
        },
        {
          "output_type": "stream",
          "name": "stderr",
          "text": [
            "\n",
            "  0%|          | 0/637 [00:00<?, ?it/s]\u001b[A\n",
            " 35%|███▍      | 220/637 [00:00<00:00, 2199.47it/s]\u001b[A\n",
            "100%|██████████| 637/637 [00:00<00:00, 2126.55it/s]\n",
            " 91%|█████████ | 153/168 [01:30<00:07,  1.90it/s]"
          ]
        },
        {
          "output_type": "stream",
          "name": "stdout",
          "text": [
            "Item profile list LENGTH : 637 \n",
            "movies profiles SHAPE : (637, 1443) \n",
            "user id cameronkanachki\n",
            "\n",
            " create all movies profiles \n",
            "\n"
          ]
        },
        {
          "output_type": "stream",
          "name": "stderr",
          "text": [
            "\n",
            "  0%|          | 0/673 [00:00<?, ?it/s]\u001b[A\n",
            "100%|██████████| 673/673 [00:00<00:00, 4388.51it/s]\n",
            " 92%|█████████▏| 154/168 [01:31<00:05,  2.38it/s]"
          ]
        },
        {
          "output_type": "stream",
          "name": "stdout",
          "text": [
            "Item profile list LENGTH : 673 \n",
            "movies profiles SHAPE : (673, 1443) \n",
            "user id filmspotting\n",
            "\n",
            " create all movies profiles \n",
            "\n"
          ]
        },
        {
          "output_type": "stream",
          "name": "stderr",
          "text": [
            "\n",
            "  0%|          | 0/704 [00:00<?, ?it/s]\u001b[A\n",
            " 37%|███▋      | 258/704 [00:00<00:00, 2579.23it/s]\u001b[A\n",
            "100%|██████████| 704/704 [00:00<00:00, 2792.34it/s]\n",
            " 92%|█████████▏| 155/168 [01:31<00:04,  2.65it/s]"
          ]
        },
        {
          "output_type": "stream",
          "name": "stdout",
          "text": [
            "Item profile list LENGTH : 704 \n",
            "movies profiles SHAPE : (704, 1443) \n",
            "user id tonyterror\n",
            "\n",
            " create all movies profiles \n",
            "\n"
          ]
        },
        {
          "output_type": "stream",
          "name": "stderr",
          "text": [
            "\n",
            "  0%|          | 0/1218 [00:00<?, ?it/s]\u001b[A\n",
            " 11%|█         | 135/1218 [00:00<00:00, 1345.93it/s]\u001b[A\n",
            " 22%|██▏       | 270/1218 [00:00<00:00, 1333.80it/s]\u001b[A\n",
            " 33%|███▎      | 404/1218 [00:00<00:00, 1305.90it/s]\u001b[A\n",
            " 44%|████▍     | 535/1218 [00:00<00:00, 1248.72it/s]\u001b[A\n",
            " 57%|█████▋    | 693/1218 [00:00<00:00, 1362.81it/s]\u001b[A\n",
            " 68%|██████▊   | 834/1218 [00:00<00:00, 1372.80it/s]\u001b[A\n",
            " 80%|████████  | 976/1218 [00:00<00:00, 1382.94it/s]\u001b[A\n",
            "100%|██████████| 1218/1218 [00:00<00:00, 1347.82it/s]\n",
            " 93%|█████████▎| 156/168 [01:32<00:06,  1.84it/s]"
          ]
        },
        {
          "output_type": "stream",
          "name": "stdout",
          "text": [
            "Item profile list LENGTH : 1218 \n",
            "movies profiles SHAPE : (1218, 1443) \n",
            "user id deathproof\n",
            "\n",
            " create all movies profiles \n",
            "\n"
          ]
        },
        {
          "output_type": "stream",
          "name": "stderr",
          "text": [
            "\n",
            "100%|██████████| 621/621 [00:00<00:00, 17969.02it/s]\n"
          ]
        },
        {
          "output_type": "stream",
          "name": "stdout",
          "text": [
            "Item profile list LENGTH : 621 \n",
            "movies profiles SHAPE : (621, 1443) \n",
            "user id taylorfilmguy\n",
            "\n",
            " create all movies profiles \n",
            "\n"
          ]
        },
        {
          "output_type": "stream",
          "name": "stderr",
          "text": [
            "\n",
            "  0%|          | 0/540 [00:00<?, ?it/s]\u001b[A\n",
            "100%|██████████| 540/540 [00:00<00:00, 2772.14it/s]\n",
            " 94%|█████████▍| 158/168 [01:32<00:03,  2.82it/s]"
          ]
        },
        {
          "output_type": "stream",
          "name": "stdout",
          "text": [
            "Item profile list LENGTH : 540 \n",
            "movies profiles SHAPE : (540, 1443) \n",
            "user id siegel\n",
            "\n",
            " create all movies profiles \n",
            "\n"
          ]
        },
        {
          "output_type": "stream",
          "name": "stderr",
          "text": [
            "\n",
            "  0%|          | 0/934 [00:00<?, ?it/s]\u001b[A\n",
            "100%|██████████| 934/934 [00:00<00:00, 4675.43it/s]\n",
            " 95%|█████████▍| 159/168 [01:32<00:02,  3.09it/s]"
          ]
        },
        {
          "output_type": "stream",
          "name": "stdout",
          "text": [
            "Item profile list LENGTH : 934 \n",
            "movies profiles SHAPE : (934, 1443) \n",
            "user id nickwibert\n",
            "\n",
            " create all movies profiles \n",
            "\n"
          ]
        },
        {
          "output_type": "stream",
          "name": "stderr",
          "text": [
            "\n",
            "100%|██████████| 298/298 [00:00<00:00, 5165.87it/s]\n"
          ]
        },
        {
          "output_type": "stream",
          "name": "stdout",
          "text": [
            "Item profile list LENGTH : 298 \n",
            "movies profiles SHAPE : (298, 1443) \n",
            "user id filmgraphy\n",
            "\n",
            " create all movies profiles \n",
            "\n"
          ]
        },
        {
          "output_type": "stream",
          "name": "stderr",
          "text": [
            "\n",
            "  0%|          | 0/349 [00:00<?, ?it/s]\u001b[A\n",
            "100%|██████████| 349/349 [00:00<00:00, 2871.75it/s]\n",
            " 96%|█████████▌| 161/168 [01:32<00:01,  4.27it/s]"
          ]
        },
        {
          "output_type": "stream",
          "name": "stdout",
          "text": [
            "Item profile list LENGTH : 349 \n",
            "movies profiles SHAPE : (349, 1443) \n",
            "user id riverjphoenix\n",
            "\n",
            " create all movies profiles \n",
            "\n"
          ]
        },
        {
          "output_type": "stream",
          "name": "stderr",
          "text": [
            "\n",
            "100%|██████████| 266/266 [00:00<00:00, 4304.42it/s]\n"
          ]
        },
        {
          "output_type": "stream",
          "name": "stdout",
          "text": [
            "Item profile list LENGTH : 266 \n",
            "movies profiles SHAPE : (266, 1443) \n",
            "user id todd_gaines\n",
            "\n",
            " create all movies profiles \n",
            "\n"
          ]
        },
        {
          "output_type": "stream",
          "name": "stderr",
          "text": [
            "\n",
            "  0%|          | 0/691 [00:00<?, ?it/s]\u001b[A\n",
            " 31%|███▏      | 217/691 [00:00<00:00, 2160.95it/s]\u001b[A\n",
            " 63%|██████▎   | 434/691 [00:00<00:00, 2058.49it/s]\u001b[A\n",
            "100%|██████████| 691/691 [00:00<00:00, 2035.92it/s]\n",
            " 97%|█████████▋| 163/168 [01:33<00:01,  4.38it/s]"
          ]
        },
        {
          "output_type": "stream",
          "name": "stdout",
          "text": [
            "Item profile list LENGTH : 691 \n",
            "movies profiles SHAPE : (691, 1443) \n",
            "user id karenhan\n",
            "\n",
            " create all movies profiles \n",
            "\n"
          ]
        },
        {
          "output_type": "stream",
          "name": "stderr",
          "text": [
            "\n",
            "100%|██████████| 244/244 [00:00<00:00, 3039.41it/s]\n"
          ]
        },
        {
          "output_type": "stream",
          "name": "stdout",
          "text": [
            "Item profile list LENGTH : 244 \n",
            "movies profiles SHAPE : (244, 1443) \n",
            "user id sapphical\n",
            "\n",
            " create all movies profiles \n",
            "\n"
          ]
        },
        {
          "output_type": "stream",
          "name": "stderr",
          "text": [
            "\n",
            "100%|██████████| 330/330 [00:00<00:00, 4438.22it/s]\n",
            " 98%|█████████▊| 165/168 [01:33<00:00,  5.53it/s]"
          ]
        },
        {
          "output_type": "stream",
          "name": "stdout",
          "text": [
            "Item profile list LENGTH : 330 \n",
            "movies profiles SHAPE : (330, 1443) \n",
            "user id coolnilk\n",
            "\n",
            " create all movies profiles \n",
            "\n"
          ]
        },
        {
          "output_type": "stream",
          "name": "stderr",
          "text": [
            "\n",
            "100%|██████████| 267/267 [00:00<00:00, 4635.07it/s]\n"
          ]
        },
        {
          "output_type": "stream",
          "name": "stdout",
          "text": [
            "Item profile list LENGTH : 267 \n",
            "movies profiles SHAPE : (267, 1443) \n",
            "user id ellefnning\n",
            "\n",
            " create all movies profiles \n",
            "\n"
          ]
        },
        {
          "output_type": "stream",
          "name": "stderr",
          "text": [
            "\n",
            "100%|██████████| 329/329 [00:00<00:00, 5285.19it/s]\n",
            " 99%|█████████▉| 167/168 [01:33<00:00,  6.84it/s]"
          ]
        },
        {
          "output_type": "stream",
          "name": "stdout",
          "text": [
            "Item profile list LENGTH : 329 \n",
            "movies profiles SHAPE : (329, 1443) \n",
            "user id reygf\n",
            "\n",
            " create all movies profiles \n",
            "\n"
          ]
        },
        {
          "output_type": "stream",
          "name": "stderr",
          "text": [
            "\n",
            "  0%|          | 0/451 [00:00<?, ?it/s]\u001b[A\n",
            "100%|██████████| 451/451 [00:00<00:00, 3165.24it/s]\n",
            "100%|██████████| 168/168 [01:33<00:00,  1.79it/s]"
          ]
        },
        {
          "output_type": "stream",
          "name": "stdout",
          "text": [
            "Item profile list LENGTH : 451 \n",
            "movies profiles SHAPE : (451, 1443) \n"
          ]
        },
        {
          "output_type": "stream",
          "name": "stderr",
          "text": [
            "\n"
          ]
        }
      ]
    },
    {
      "cell_type": "code",
      "source": [
        "my_profile=users_profiles[\"cevangelista413\"]\n",
        "print(my_profile.shape)\n",
        "pd.DataFrame(sorted(zip(tfidf_feature_names,users_profiles[\"cevangelista413\"].flatten().tolist()),key=lambda x:-x[1])[:20],columns=[\"token\",\"relevance\"])"
      ],
      "metadata": {
        "id": "mnNt7pbQ9Ffx",
        "colab": {
          "base_uri": "https://localhost:8080/",
          "height": 694
        },
        "outputId": "5af4bc28-b801-41fa-ae4b-dca14538c138"
      },
      "execution_count": 20,
      "outputs": [
        {
          "output_type": "stream",
          "name": "stdout",
          "text": [
            "(1, 1443)\n"
          ]
        },
        {
          "output_type": "execute_result",
          "data": {
            "text/plain": [
              "          token  relevance\n",
              "0           nan   0.457150\n",
              "1          film   0.206631\n",
              "2          life   0.155590\n",
              "3           man   0.137663\n",
              "4           one   0.132903\n",
              "5         young   0.129703\n",
              "6          love   0.126259\n",
              "7           new   0.113064\n",
              "8         story   0.101445\n",
              "9          girl   0.098835\n",
              "10       family   0.097618\n",
              "11        world   0.096900\n",
              "12          two   0.095294\n",
              "13  documentary   0.089667\n",
              "14          old   0.087478\n",
              "15         home   0.086128\n",
              "16        woman   0.083101\n",
              "17        three   0.083059\n",
              "18         time   0.082556\n",
              "19         wife   0.078576"
            ],
            "text/html": [
              "\n",
              "  <div id=\"df-ce18df16-4a0c-4805-8c74-ae6a04e29478\" class=\"colab-df-container\">\n",
              "    <div>\n",
              "<style scoped>\n",
              "    .dataframe tbody tr th:only-of-type {\n",
              "        vertical-align: middle;\n",
              "    }\n",
              "\n",
              "    .dataframe tbody tr th {\n",
              "        vertical-align: top;\n",
              "    }\n",
              "\n",
              "    .dataframe thead th {\n",
              "        text-align: right;\n",
              "    }\n",
              "</style>\n",
              "<table border=\"1\" class=\"dataframe\">\n",
              "  <thead>\n",
              "    <tr style=\"text-align: right;\">\n",
              "      <th></th>\n",
              "      <th>token</th>\n",
              "      <th>relevance</th>\n",
              "    </tr>\n",
              "  </thead>\n",
              "  <tbody>\n",
              "    <tr>\n",
              "      <th>0</th>\n",
              "      <td>nan</td>\n",
              "      <td>0.457150</td>\n",
              "    </tr>\n",
              "    <tr>\n",
              "      <th>1</th>\n",
              "      <td>film</td>\n",
              "      <td>0.206631</td>\n",
              "    </tr>\n",
              "    <tr>\n",
              "      <th>2</th>\n",
              "      <td>life</td>\n",
              "      <td>0.155590</td>\n",
              "    </tr>\n",
              "    <tr>\n",
              "      <th>3</th>\n",
              "      <td>man</td>\n",
              "      <td>0.137663</td>\n",
              "    </tr>\n",
              "    <tr>\n",
              "      <th>4</th>\n",
              "      <td>one</td>\n",
              "      <td>0.132903</td>\n",
              "    </tr>\n",
              "    <tr>\n",
              "      <th>5</th>\n",
              "      <td>young</td>\n",
              "      <td>0.129703</td>\n",
              "    </tr>\n",
              "    <tr>\n",
              "      <th>6</th>\n",
              "      <td>love</td>\n",
              "      <td>0.126259</td>\n",
              "    </tr>\n",
              "    <tr>\n",
              "      <th>7</th>\n",
              "      <td>new</td>\n",
              "      <td>0.113064</td>\n",
              "    </tr>\n",
              "    <tr>\n",
              "      <th>8</th>\n",
              "      <td>story</td>\n",
              "      <td>0.101445</td>\n",
              "    </tr>\n",
              "    <tr>\n",
              "      <th>9</th>\n",
              "      <td>girl</td>\n",
              "      <td>0.098835</td>\n",
              "    </tr>\n",
              "    <tr>\n",
              "      <th>10</th>\n",
              "      <td>family</td>\n",
              "      <td>0.097618</td>\n",
              "    </tr>\n",
              "    <tr>\n",
              "      <th>11</th>\n",
              "      <td>world</td>\n",
              "      <td>0.096900</td>\n",
              "    </tr>\n",
              "    <tr>\n",
              "      <th>12</th>\n",
              "      <td>two</td>\n",
              "      <td>0.095294</td>\n",
              "    </tr>\n",
              "    <tr>\n",
              "      <th>13</th>\n",
              "      <td>documentary</td>\n",
              "      <td>0.089667</td>\n",
              "    </tr>\n",
              "    <tr>\n",
              "      <th>14</th>\n",
              "      <td>old</td>\n",
              "      <td>0.087478</td>\n",
              "    </tr>\n",
              "    <tr>\n",
              "      <th>15</th>\n",
              "      <td>home</td>\n",
              "      <td>0.086128</td>\n",
              "    </tr>\n",
              "    <tr>\n",
              "      <th>16</th>\n",
              "      <td>woman</td>\n",
              "      <td>0.083101</td>\n",
              "    </tr>\n",
              "    <tr>\n",
              "      <th>17</th>\n",
              "      <td>three</td>\n",
              "      <td>0.083059</td>\n",
              "    </tr>\n",
              "    <tr>\n",
              "      <th>18</th>\n",
              "      <td>time</td>\n",
              "      <td>0.082556</td>\n",
              "    </tr>\n",
              "    <tr>\n",
              "      <th>19</th>\n",
              "      <td>wife</td>\n",
              "      <td>0.078576</td>\n",
              "    </tr>\n",
              "  </tbody>\n",
              "</table>\n",
              "</div>\n",
              "    <div class=\"colab-df-buttons\">\n",
              "\n",
              "  <div class=\"colab-df-container\">\n",
              "    <button class=\"colab-df-convert\" onclick=\"convertToInteractive('df-ce18df16-4a0c-4805-8c74-ae6a04e29478')\"\n",
              "            title=\"Convert this dataframe to an interactive table.\"\n",
              "            style=\"display:none;\">\n",
              "\n",
              "  <svg xmlns=\"http://www.w3.org/2000/svg\" height=\"24px\" viewBox=\"0 -960 960 960\">\n",
              "    <path d=\"M120-120v-720h720v720H120Zm60-500h600v-160H180v160Zm220 220h160v-160H400v160Zm0 220h160v-160H400v160ZM180-400h160v-160H180v160Zm440 0h160v-160H620v160ZM180-180h160v-160H180v160Zm440 0h160v-160H620v160Z\"/>\n",
              "  </svg>\n",
              "    </button>\n",
              "\n",
              "  <style>\n",
              "    .colab-df-container {\n",
              "      display:flex;\n",
              "      gap: 12px;\n",
              "    }\n",
              "\n",
              "    .colab-df-convert {\n",
              "      background-color: #E8F0FE;\n",
              "      border: none;\n",
              "      border-radius: 50%;\n",
              "      cursor: pointer;\n",
              "      display: none;\n",
              "      fill: #1967D2;\n",
              "      height: 32px;\n",
              "      padding: 0 0 0 0;\n",
              "      width: 32px;\n",
              "    }\n",
              "\n",
              "    .colab-df-convert:hover {\n",
              "      background-color: #E2EBFA;\n",
              "      box-shadow: 0px 1px 2px rgba(60, 64, 67, 0.3), 0px 1px 3px 1px rgba(60, 64, 67, 0.15);\n",
              "      fill: #174EA6;\n",
              "    }\n",
              "\n",
              "    .colab-df-buttons div {\n",
              "      margin-bottom: 4px;\n",
              "    }\n",
              "\n",
              "    [theme=dark] .colab-df-convert {\n",
              "      background-color: #3B4455;\n",
              "      fill: #D2E3FC;\n",
              "    }\n",
              "\n",
              "    [theme=dark] .colab-df-convert:hover {\n",
              "      background-color: #434B5C;\n",
              "      box-shadow: 0px 1px 3px 1px rgba(0, 0, 0, 0.15);\n",
              "      filter: drop-shadow(0px 1px 2px rgba(0, 0, 0, 0.3));\n",
              "      fill: #FFFFFF;\n",
              "    }\n",
              "  </style>\n",
              "\n",
              "    <script>\n",
              "      const buttonEl =\n",
              "        document.querySelector('#df-ce18df16-4a0c-4805-8c74-ae6a04e29478 button.colab-df-convert');\n",
              "      buttonEl.style.display =\n",
              "        google.colab.kernel.accessAllowed ? 'block' : 'none';\n",
              "\n",
              "      async function convertToInteractive(key) {\n",
              "        const element = document.querySelector('#df-ce18df16-4a0c-4805-8c74-ae6a04e29478');\n",
              "        const dataTable =\n",
              "          await google.colab.kernel.invokeFunction('convertToInteractive',\n",
              "                                                    [key], {});\n",
              "        if (!dataTable) return;\n",
              "\n",
              "        const docLinkHtml = 'Like what you see? Visit the ' +\n",
              "          '<a target=\"_blank\" href=https://colab.research.google.com/notebooks/data_table.ipynb>data table notebook</a>'\n",
              "          + ' to learn more about interactive tables.';\n",
              "        element.innerHTML = '';\n",
              "        dataTable['output_type'] = 'display_data';\n",
              "        await google.colab.output.renderOutput(dataTable, element);\n",
              "        const docLink = document.createElement('div');\n",
              "        docLink.innerHTML = docLinkHtml;\n",
              "        element.appendChild(docLink);\n",
              "      }\n",
              "    </script>\n",
              "  </div>\n",
              "\n",
              "\n",
              "    <div id=\"df-7b8333d6-66f9-49df-a191-e22bf188e0ae\">\n",
              "      <button class=\"colab-df-quickchart\" onclick=\"quickchart('df-7b8333d6-66f9-49df-a191-e22bf188e0ae')\"\n",
              "                title=\"Suggest charts\"\n",
              "                style=\"display:none;\">\n",
              "\n",
              "<svg xmlns=\"http://www.w3.org/2000/svg\" height=\"24px\"viewBox=\"0 0 24 24\"\n",
              "     width=\"24px\">\n",
              "    <g>\n",
              "        <path d=\"M19 3H5c-1.1 0-2 .9-2 2v14c0 1.1.9 2 2 2h14c1.1 0 2-.9 2-2V5c0-1.1-.9-2-2-2zM9 17H7v-7h2v7zm4 0h-2V7h2v10zm4 0h-2v-4h2v4z\"/>\n",
              "    </g>\n",
              "</svg>\n",
              "      </button>\n",
              "\n",
              "<style>\n",
              "  .colab-df-quickchart {\n",
              "      --bg-color: #E8F0FE;\n",
              "      --fill-color: #1967D2;\n",
              "      --hover-bg-color: #E2EBFA;\n",
              "      --hover-fill-color: #174EA6;\n",
              "      --disabled-fill-color: #AAA;\n",
              "      --disabled-bg-color: #DDD;\n",
              "  }\n",
              "\n",
              "  [theme=dark] .colab-df-quickchart {\n",
              "      --bg-color: #3B4455;\n",
              "      --fill-color: #D2E3FC;\n",
              "      --hover-bg-color: #434B5C;\n",
              "      --hover-fill-color: #FFFFFF;\n",
              "      --disabled-bg-color: #3B4455;\n",
              "      --disabled-fill-color: #666;\n",
              "  }\n",
              "\n",
              "  .colab-df-quickchart {\n",
              "    background-color: var(--bg-color);\n",
              "    border: none;\n",
              "    border-radius: 50%;\n",
              "    cursor: pointer;\n",
              "    display: none;\n",
              "    fill: var(--fill-color);\n",
              "    height: 32px;\n",
              "    padding: 0;\n",
              "    width: 32px;\n",
              "  }\n",
              "\n",
              "  .colab-df-quickchart:hover {\n",
              "    background-color: var(--hover-bg-color);\n",
              "    box-shadow: 0 1px 2px rgba(60, 64, 67, 0.3), 0 1px 3px 1px rgba(60, 64, 67, 0.15);\n",
              "    fill: var(--button-hover-fill-color);\n",
              "  }\n",
              "\n",
              "  .colab-df-quickchart-complete:disabled,\n",
              "  .colab-df-quickchart-complete:disabled:hover {\n",
              "    background-color: var(--disabled-bg-color);\n",
              "    fill: var(--disabled-fill-color);\n",
              "    box-shadow: none;\n",
              "  }\n",
              "\n",
              "  .colab-df-spinner {\n",
              "    border: 2px solid var(--fill-color);\n",
              "    border-color: transparent;\n",
              "    border-bottom-color: var(--fill-color);\n",
              "    animation:\n",
              "      spin 1s steps(1) infinite;\n",
              "  }\n",
              "\n",
              "  @keyframes spin {\n",
              "    0% {\n",
              "      border-color: transparent;\n",
              "      border-bottom-color: var(--fill-color);\n",
              "      border-left-color: var(--fill-color);\n",
              "    }\n",
              "    20% {\n",
              "      border-color: transparent;\n",
              "      border-left-color: var(--fill-color);\n",
              "      border-top-color: var(--fill-color);\n",
              "    }\n",
              "    30% {\n",
              "      border-color: transparent;\n",
              "      border-left-color: var(--fill-color);\n",
              "      border-top-color: var(--fill-color);\n",
              "      border-right-color: var(--fill-color);\n",
              "    }\n",
              "    40% {\n",
              "      border-color: transparent;\n",
              "      border-right-color: var(--fill-color);\n",
              "      border-top-color: var(--fill-color);\n",
              "    }\n",
              "    60% {\n",
              "      border-color: transparent;\n",
              "      border-right-color: var(--fill-color);\n",
              "    }\n",
              "    80% {\n",
              "      border-color: transparent;\n",
              "      border-right-color: var(--fill-color);\n",
              "      border-bottom-color: var(--fill-color);\n",
              "    }\n",
              "    90% {\n",
              "      border-color: transparent;\n",
              "      border-bottom-color: var(--fill-color);\n",
              "    }\n",
              "  }\n",
              "</style>\n",
              "\n",
              "      <script>\n",
              "        async function quickchart(key) {\n",
              "          const quickchartButtonEl =\n",
              "            document.querySelector('#' + key + ' button');\n",
              "          quickchartButtonEl.disabled = true;  // To prevent multiple clicks.\n",
              "          quickchartButtonEl.classList.add('colab-df-spinner');\n",
              "          try {\n",
              "            const charts = await google.colab.kernel.invokeFunction(\n",
              "                'suggestCharts', [key], {});\n",
              "          } catch (error) {\n",
              "            console.error('Error during call to suggestCharts:', error);\n",
              "          }\n",
              "          quickchartButtonEl.classList.remove('colab-df-spinner');\n",
              "          quickchartButtonEl.classList.add('colab-df-quickchart-complete');\n",
              "        }\n",
              "        (() => {\n",
              "          let quickchartButtonEl =\n",
              "            document.querySelector('#df-7b8333d6-66f9-49df-a191-e22bf188e0ae button');\n",
              "          quickchartButtonEl.style.display =\n",
              "            google.colab.kernel.accessAllowed ? 'block' : 'none';\n",
              "        })();\n",
              "      </script>\n",
              "    </div>\n",
              "\n",
              "    </div>\n",
              "  </div>\n"
            ],
            "application/vnd.google.colaboratory.intrinsic+json": {
              "type": "dataframe",
              "summary": "{\n  \"name\": \"pd\",\n  \"rows\": 20,\n  \"fields\": [\n    {\n      \"column\": \"token\",\n      \"properties\": {\n        \"dtype\": \"string\",\n        \"num_unique_values\": 20,\n        \"samples\": [\n          \"nan\",\n          \"three\",\n          \"home\"\n        ],\n        \"semantic_type\": \"\",\n        \"description\": \"\"\n      }\n    },\n    {\n      \"column\": \"relevance\",\n      \"properties\": {\n        \"dtype\": \"number\",\n        \"std\": 0.08383362509437184,\n        \"min\": 0.07857649603443312,\n        \"max\": 0.457150043430867,\n        \"num_unique_values\": 20,\n        \"samples\": [\n          0.457150043430867,\n          0.08305899931147886,\n          0.08612845754128735\n        ],\n        \"semantic_type\": \"\",\n        \"description\": \"\"\n      }\n    }\n  ]\n}"
            }
          },
          "metadata": {},
          "execution_count": 20
        }
      ]
    },
    {
      "cell_type": "code",
      "source": [
        "users_profiles[\"deathproof\"].shape"
      ],
      "metadata": {
        "colab": {
          "base_uri": "https://localhost:8080/"
        },
        "id": "DItcTxQivgI7",
        "outputId": "ef03285e-de58-42e4-a777-74203ccf9a89"
      },
      "execution_count": null,
      "outputs": [
        {
          "output_type": "execute_result",
          "data": {
            "text/plain": [
              "(1, 1443)"
            ]
          },
          "metadata": {},
          "execution_count": 82
        }
      ]
    },
    {
      "cell_type": "code",
      "source": [
        "from sklearn.metrics.pairwise import cosine_similarity\n",
        "## content-based model\n",
        "\n",
        "class ContentBasedModel:\n",
        "  MODEL_NAME=\"Content-Based\"\n",
        "\n",
        "  def __init__(self,movies_df=None):\n",
        "    self.movies_ids=movies_ids\n",
        "    self.movies_df=movies_df\n",
        "\n",
        "    # ,tfidf_matrix=None,users_profiles=Non\n",
        "    # self.tfidf_matrix=tfidf_matrix,\n",
        "    # self.users_profiles=users_profiles\n",
        "  def get_model_name(self):\n",
        "    return self.MODEL_NAME\n",
        "\n",
        "  def __get_recommended_movies(self,user_id,topn=1000):\n",
        "    similarity=cosine_similarity(users_profiles[user_id],tfidf_matrix)\n",
        "    similar_indices=similarity.argsort().flatten()[-1000:]\n",
        "    similar_movies=sorted([(movies_ids[i],similarity[0,i]) for i in similar_indices],key=lambda x:-x[1])\n",
        "    return similar_movies\n",
        "\n",
        "  def recommended_movies(self,user_id,movies_to_ignore=[],topn=10,verbose=False):\n",
        "    similar_movies=self.__get_recommended_movies(user_id)\n",
        "    similar_movies_filtered=list(filter(lambda x:x[0] not in movies_to_ignore,similar_movies))\n",
        "    recommendation_df=pd.DataFrame(similar_movies_filtered,columns=[\"movie_id\",\"recStrength\"]) \\\n",
        "    .head(topn)\n",
        "\n",
        "    if verbose:\n",
        "      if self.movies_df is None:\n",
        "        raise Exception(\"movies_df is required in verbose mode\")\n",
        "      recommendation_df=recommendation_df.merge(self.movies_df,how=\"left\",\n",
        "                                                left_on=\"movie_id\",\n",
        "                                                right_on=\"movie_id\")[[\"recStrength\",\"movie_id\",\"movie_title\"]]\n",
        "    return recommendation_df\n"
      ],
      "metadata": {
        "id": "nv2i3Sg7Zb0y"
      },
      "execution_count": 70,
      "outputs": []
    },
    {
      "cell_type": "code",
      "source": [],
      "metadata": {
        "id": "9KvGzJ7pbAgf"
      },
      "execution_count": 70,
      "outputs": []
    },
    {
      "cell_type": "code",
      "source": [
        "content_based_recommender_model = ContentBasedModel(movie_dataset)\n"
      ],
      "metadata": {
        "id": "BpjyjPbGaN5Z"
      },
      "execution_count": 71,
      "outputs": []
    },
    {
      "cell_type": "code",
      "source": [
        "\n",
        "content_based_recommender_model.recommended_movies(\"superpulse\", movies_to_ignore=[1], topn=5, verbose=True)"
      ],
      "metadata": {
        "colab": {
          "base_uri": "https://localhost:8080/",
          "height": 206
        },
        "id": "aMT5F26QaU-O",
        "outputId": "e3bfb00e-64da-4605-c97c-22798eea3190"
      },
      "execution_count": 77,
      "outputs": [
        {
          "output_type": "execute_result",
          "data": {
            "text/plain": [
              "   recStrength              movie_id           movie_title\n",
              "0      0.43523        blue-valentine        Blue Valentine\n",
              "1      0.43523  when-inge-is-dancing  When Inge Is Dancing\n",
              "2      0.43523              sin-city              Sin City\n",
              "3      0.43523       cinema-paradiso       Cinema Paradiso\n",
              "4      0.43523           taxi-driver           Taxi Driver"
            ],
            "text/html": [
              "\n",
              "  <div id=\"df-12183b46-baaa-436f-b70b-c55c1bc72df2\" class=\"colab-df-container\">\n",
              "    <div>\n",
              "<style scoped>\n",
              "    .dataframe tbody tr th:only-of-type {\n",
              "        vertical-align: middle;\n",
              "    }\n",
              "\n",
              "    .dataframe tbody tr th {\n",
              "        vertical-align: top;\n",
              "    }\n",
              "\n",
              "    .dataframe thead th {\n",
              "        text-align: right;\n",
              "    }\n",
              "</style>\n",
              "<table border=\"1\" class=\"dataframe\">\n",
              "  <thead>\n",
              "    <tr style=\"text-align: right;\">\n",
              "      <th></th>\n",
              "      <th>recStrength</th>\n",
              "      <th>movie_id</th>\n",
              "      <th>movie_title</th>\n",
              "    </tr>\n",
              "  </thead>\n",
              "  <tbody>\n",
              "    <tr>\n",
              "      <th>0</th>\n",
              "      <td>0.43523</td>\n",
              "      <td>blue-valentine</td>\n",
              "      <td>Blue Valentine</td>\n",
              "    </tr>\n",
              "    <tr>\n",
              "      <th>1</th>\n",
              "      <td>0.43523</td>\n",
              "      <td>when-inge-is-dancing</td>\n",
              "      <td>When Inge Is Dancing</td>\n",
              "    </tr>\n",
              "    <tr>\n",
              "      <th>2</th>\n",
              "      <td>0.43523</td>\n",
              "      <td>sin-city</td>\n",
              "      <td>Sin City</td>\n",
              "    </tr>\n",
              "    <tr>\n",
              "      <th>3</th>\n",
              "      <td>0.43523</td>\n",
              "      <td>cinema-paradiso</td>\n",
              "      <td>Cinema Paradiso</td>\n",
              "    </tr>\n",
              "    <tr>\n",
              "      <th>4</th>\n",
              "      <td>0.43523</td>\n",
              "      <td>taxi-driver</td>\n",
              "      <td>Taxi Driver</td>\n",
              "    </tr>\n",
              "  </tbody>\n",
              "</table>\n",
              "</div>\n",
              "    <div class=\"colab-df-buttons\">\n",
              "\n",
              "  <div class=\"colab-df-container\">\n",
              "    <button class=\"colab-df-convert\" onclick=\"convertToInteractive('df-12183b46-baaa-436f-b70b-c55c1bc72df2')\"\n",
              "            title=\"Convert this dataframe to an interactive table.\"\n",
              "            style=\"display:none;\">\n",
              "\n",
              "  <svg xmlns=\"http://www.w3.org/2000/svg\" height=\"24px\" viewBox=\"0 -960 960 960\">\n",
              "    <path d=\"M120-120v-720h720v720H120Zm60-500h600v-160H180v160Zm220 220h160v-160H400v160Zm0 220h160v-160H400v160ZM180-400h160v-160H180v160Zm440 0h160v-160H620v160ZM180-180h160v-160H180v160Zm440 0h160v-160H620v160Z\"/>\n",
              "  </svg>\n",
              "    </button>\n",
              "\n",
              "  <style>\n",
              "    .colab-df-container {\n",
              "      display:flex;\n",
              "      gap: 12px;\n",
              "    }\n",
              "\n",
              "    .colab-df-convert {\n",
              "      background-color: #E8F0FE;\n",
              "      border: none;\n",
              "      border-radius: 50%;\n",
              "      cursor: pointer;\n",
              "      display: none;\n",
              "      fill: #1967D2;\n",
              "      height: 32px;\n",
              "      padding: 0 0 0 0;\n",
              "      width: 32px;\n",
              "    }\n",
              "\n",
              "    .colab-df-convert:hover {\n",
              "      background-color: #E2EBFA;\n",
              "      box-shadow: 0px 1px 2px rgba(60, 64, 67, 0.3), 0px 1px 3px 1px rgba(60, 64, 67, 0.15);\n",
              "      fill: #174EA6;\n",
              "    }\n",
              "\n",
              "    .colab-df-buttons div {\n",
              "      margin-bottom: 4px;\n",
              "    }\n",
              "\n",
              "    [theme=dark] .colab-df-convert {\n",
              "      background-color: #3B4455;\n",
              "      fill: #D2E3FC;\n",
              "    }\n",
              "\n",
              "    [theme=dark] .colab-df-convert:hover {\n",
              "      background-color: #434B5C;\n",
              "      box-shadow: 0px 1px 3px 1px rgba(0, 0, 0, 0.15);\n",
              "      filter: drop-shadow(0px 1px 2px rgba(0, 0, 0, 0.3));\n",
              "      fill: #FFFFFF;\n",
              "    }\n",
              "  </style>\n",
              "\n",
              "    <script>\n",
              "      const buttonEl =\n",
              "        document.querySelector('#df-12183b46-baaa-436f-b70b-c55c1bc72df2 button.colab-df-convert');\n",
              "      buttonEl.style.display =\n",
              "        google.colab.kernel.accessAllowed ? 'block' : 'none';\n",
              "\n",
              "      async function convertToInteractive(key) {\n",
              "        const element = document.querySelector('#df-12183b46-baaa-436f-b70b-c55c1bc72df2');\n",
              "        const dataTable =\n",
              "          await google.colab.kernel.invokeFunction('convertToInteractive',\n",
              "                                                    [key], {});\n",
              "        if (!dataTable) return;\n",
              "\n",
              "        const docLinkHtml = 'Like what you see? Visit the ' +\n",
              "          '<a target=\"_blank\" href=https://colab.research.google.com/notebooks/data_table.ipynb>data table notebook</a>'\n",
              "          + ' to learn more about interactive tables.';\n",
              "        element.innerHTML = '';\n",
              "        dataTable['output_type'] = 'display_data';\n",
              "        await google.colab.output.renderOutput(dataTable, element);\n",
              "        const docLink = document.createElement('div');\n",
              "        docLink.innerHTML = docLinkHtml;\n",
              "        element.appendChild(docLink);\n",
              "      }\n",
              "    </script>\n",
              "  </div>\n",
              "\n",
              "\n",
              "    <div id=\"df-dcca5330-b9a5-49aa-bba5-2584676e7598\">\n",
              "      <button class=\"colab-df-quickchart\" onclick=\"quickchart('df-dcca5330-b9a5-49aa-bba5-2584676e7598')\"\n",
              "                title=\"Suggest charts\"\n",
              "                style=\"display:none;\">\n",
              "\n",
              "<svg xmlns=\"http://www.w3.org/2000/svg\" height=\"24px\"viewBox=\"0 0 24 24\"\n",
              "     width=\"24px\">\n",
              "    <g>\n",
              "        <path d=\"M19 3H5c-1.1 0-2 .9-2 2v14c0 1.1.9 2 2 2h14c1.1 0 2-.9 2-2V5c0-1.1-.9-2-2-2zM9 17H7v-7h2v7zm4 0h-2V7h2v10zm4 0h-2v-4h2v4z\"/>\n",
              "    </g>\n",
              "</svg>\n",
              "      </button>\n",
              "\n",
              "<style>\n",
              "  .colab-df-quickchart {\n",
              "      --bg-color: #E8F0FE;\n",
              "      --fill-color: #1967D2;\n",
              "      --hover-bg-color: #E2EBFA;\n",
              "      --hover-fill-color: #174EA6;\n",
              "      --disabled-fill-color: #AAA;\n",
              "      --disabled-bg-color: #DDD;\n",
              "  }\n",
              "\n",
              "  [theme=dark] .colab-df-quickchart {\n",
              "      --bg-color: #3B4455;\n",
              "      --fill-color: #D2E3FC;\n",
              "      --hover-bg-color: #434B5C;\n",
              "      --hover-fill-color: #FFFFFF;\n",
              "      --disabled-bg-color: #3B4455;\n",
              "      --disabled-fill-color: #666;\n",
              "  }\n",
              "\n",
              "  .colab-df-quickchart {\n",
              "    background-color: var(--bg-color);\n",
              "    border: none;\n",
              "    border-radius: 50%;\n",
              "    cursor: pointer;\n",
              "    display: none;\n",
              "    fill: var(--fill-color);\n",
              "    height: 32px;\n",
              "    padding: 0;\n",
              "    width: 32px;\n",
              "  }\n",
              "\n",
              "  .colab-df-quickchart:hover {\n",
              "    background-color: var(--hover-bg-color);\n",
              "    box-shadow: 0 1px 2px rgba(60, 64, 67, 0.3), 0 1px 3px 1px rgba(60, 64, 67, 0.15);\n",
              "    fill: var(--button-hover-fill-color);\n",
              "  }\n",
              "\n",
              "  .colab-df-quickchart-complete:disabled,\n",
              "  .colab-df-quickchart-complete:disabled:hover {\n",
              "    background-color: var(--disabled-bg-color);\n",
              "    fill: var(--disabled-fill-color);\n",
              "    box-shadow: none;\n",
              "  }\n",
              "\n",
              "  .colab-df-spinner {\n",
              "    border: 2px solid var(--fill-color);\n",
              "    border-color: transparent;\n",
              "    border-bottom-color: var(--fill-color);\n",
              "    animation:\n",
              "      spin 1s steps(1) infinite;\n",
              "  }\n",
              "\n",
              "  @keyframes spin {\n",
              "    0% {\n",
              "      border-color: transparent;\n",
              "      border-bottom-color: var(--fill-color);\n",
              "      border-left-color: var(--fill-color);\n",
              "    }\n",
              "    20% {\n",
              "      border-color: transparent;\n",
              "      border-left-color: var(--fill-color);\n",
              "      border-top-color: var(--fill-color);\n",
              "    }\n",
              "    30% {\n",
              "      border-color: transparent;\n",
              "      border-left-color: var(--fill-color);\n",
              "      border-top-color: var(--fill-color);\n",
              "      border-right-color: var(--fill-color);\n",
              "    }\n",
              "    40% {\n",
              "      border-color: transparent;\n",
              "      border-right-color: var(--fill-color);\n",
              "      border-top-color: var(--fill-color);\n",
              "    }\n",
              "    60% {\n",
              "      border-color: transparent;\n",
              "      border-right-color: var(--fill-color);\n",
              "    }\n",
              "    80% {\n",
              "      border-color: transparent;\n",
              "      border-right-color: var(--fill-color);\n",
              "      border-bottom-color: var(--fill-color);\n",
              "    }\n",
              "    90% {\n",
              "      border-color: transparent;\n",
              "      border-bottom-color: var(--fill-color);\n",
              "    }\n",
              "  }\n",
              "</style>\n",
              "\n",
              "      <script>\n",
              "        async function quickchart(key) {\n",
              "          const quickchartButtonEl =\n",
              "            document.querySelector('#' + key + ' button');\n",
              "          quickchartButtonEl.disabled = true;  // To prevent multiple clicks.\n",
              "          quickchartButtonEl.classList.add('colab-df-spinner');\n",
              "          try {\n",
              "            const charts = await google.colab.kernel.invokeFunction(\n",
              "                'suggestCharts', [key], {});\n",
              "          } catch (error) {\n",
              "            console.error('Error during call to suggestCharts:', error);\n",
              "          }\n",
              "          quickchartButtonEl.classList.remove('colab-df-spinner');\n",
              "          quickchartButtonEl.classList.add('colab-df-quickchart-complete');\n",
              "        }\n",
              "        (() => {\n",
              "          let quickchartButtonEl =\n",
              "            document.querySelector('#df-dcca5330-b9a5-49aa-bba5-2584676e7598 button');\n",
              "          quickchartButtonEl.style.display =\n",
              "            google.colab.kernel.accessAllowed ? 'block' : 'none';\n",
              "        })();\n",
              "      </script>\n",
              "    </div>\n",
              "\n",
              "    </div>\n",
              "  </div>\n"
            ],
            "application/vnd.google.colaboratory.intrinsic+json": {
              "type": "dataframe",
              "summary": "{\n  \"name\": \"content_based_recommender_model\",\n  \"rows\": 5,\n  \"fields\": [\n    {\n      \"column\": \"recStrength\",\n      \"properties\": {\n        \"dtype\": \"number\",\n        \"std\": 6.206335383118183e-17,\n        \"min\": 0.4352302223346334,\n        \"max\": 0.4352302223346334,\n        \"num_unique_values\": 1,\n        \"samples\": [\n          0.4352302223346334\n        ],\n        \"semantic_type\": \"\",\n        \"description\": \"\"\n      }\n    },\n    {\n      \"column\": \"movie_id\",\n      \"properties\": {\n        \"dtype\": \"string\",\n        \"num_unique_values\": 5,\n        \"samples\": [\n          \"when-inge-is-dancing\"\n        ],\n        \"semantic_type\": \"\",\n        \"description\": \"\"\n      }\n    },\n    {\n      \"column\": \"movie_title\",\n      \"properties\": {\n        \"dtype\": \"string\",\n        \"num_unique_values\": 5,\n        \"samples\": [\n          \"When Inge Is Dancing\"\n        ],\n        \"semantic_type\": \"\",\n        \"description\": \"\"\n      }\n    }\n  ]\n}"
            }
          },
          "metadata": {},
          "execution_count": 77
        }
      ]
    },
    {
      "cell_type": "code",
      "source": [
        "# __get_recommended_items(\"deathproof\",movies_ids)"
      ],
      "metadata": {
        "colab": {
          "base_uri": "https://localhost:8080/"
        },
        "id": "v_cD_TFyTnpw",
        "outputId": "6ebfe315-47a4-4c74-cba0-8c6100f4f032"
      },
      "execution_count": null,
      "outputs": [
        {
          "output_type": "execute_result",
          "data": {
            "text/plain": [
              "[('see-you-up-there', np.float64(0.5907229340644958)),\n",
              " ('brothers-a-family-film', np.float64(0.5907229340644958)),\n",
              " ('hollywood-boulevard', np.float64(0.5907229340644958)),\n",
              " ('the-burbs', np.float64(0.5907229340644958)),\n",
              " ('missing-in-action', np.float64(0.5907229340644958)),\n",
              " ('dont-answer-the-door', np.float64(0.5907229340644958)),\n",
              " ('rocky-balboa', np.float64(0.5907229340644958)),\n",
              " ('godzilla-2014', np.float64(0.5907229340644958)),\n",
              " ('safety-not-guaranteed', np.float64(0.5907229340644958)),\n",
              " ('the-way-he-looks', np.float64(0.5907229340644958)),\n",
              " ('finding-dory', np.float64(0.5907229340644958)),\n",
              " ('brick', np.float64(0.5907229340644958)),\n",
              " ('raging-bull', np.float64(0.5907229340644958)),\n",
              " ('amores-perros', np.float64(0.5907229340644958)),\n",
              " ('right-now-wrong-then', np.float64(0.5907229340644958)),\n",
              " ('nerve-2016', np.float64(0.5907229340644958)),\n",
              " ('legend-2015', np.float64(0.5907229340644958)),\n",
              " ('let-the-right-one-in', np.float64(0.5907229340644958)),\n",
              " ('titanic-1997', np.float64(0.5907229340644958)),\n",
              " ('selma', np.float64(0.5907229340644958)),\n",
              " ('swiss-army-man', np.float64(0.5907229340644958)),\n",
              " ('a-monster-calls', np.float64(0.5907229340644958)),\n",
              " ('13th', np.float64(0.5907229340644958)),\n",
              " ('beasts-of-no-nation', np.float64(0.5907229340644958)),\n",
              " ('eyes-without-a-face', np.float64(0.5907229340644958)),\n",
              " ('the-lion-king', np.float64(0.5907229340644958)),\n",
              " ('leon-the-professional', np.float64(0.5907229340644958)),\n",
              " ('other-people', np.float64(0.5907229340644958)),\n",
              " ('pan-2015', np.float64(0.5907229340644958)),\n",
              " ('the-umbrellas-of-cherbourg', np.float64(0.5907229340644958)),\n",
              " ('maggie', np.float64(0.5907229340644958)),\n",
              " ('miss-peregrines-home-for-peculiar-children',\n",
              "  np.float64(0.5907229340644958)),\n",
              " ('grand-piano', np.float64(0.5907229340644958)),\n",
              " ('race-to-witch-mountain', np.float64(0.5907229340644958)),\n",
              " ('mindhorn', np.float64(0.5907229340644958)),\n",
              " ('ingrid-goes-west', np.float64(0.5907229340644958)),\n",
              " ('the-death-of-stalin', np.float64(0.5907229340644958)),\n",
              " ('burning-sands', np.float64(0.5907229340644958)),\n",
              " ('bottle-rocket-1996', np.float64(0.5907229340644958)),\n",
              " ('bpm-beats-per-minute', np.float64(0.5907229340644958)),\n",
              " ('m', np.float64(0.5907229340644958)),\n",
              " ('the-fall', np.float64(0.5907229340644958)),\n",
              " ('the-summit-2017', np.float64(0.5907229340644958)),\n",
              " ('two-lovers-and-a-bear', np.float64(0.5907229340644958)),\n",
              " ('a-brighter-summer-day', np.float64(0.5907229340644958)),\n",
              " ('vertigo', np.float64(0.5907229340644958)),\n",
              " ('ex-libris-the-new-york-public-library', np.float64(0.5907229340644958)),\n",
              " ('arabian-nights-volume-3-the-enchanted-one', np.float64(0.5907229340644958)),\n",
              " ('youve-got-mail', np.float64(0.5907229340644958)),\n",
              " ('tramps-2016', np.float64(0.5907229340644958)),\n",
              " ('kedi-2016', np.float64(0.5907229340644958)),\n",
              " ('son-of-saul', np.float64(0.5907229340644958)),\n",
              " ('mash', np.float64(0.5907229340644958)),\n",
              " ('blair-witch', np.float64(0.5907229340644958)),\n",
              " ('journeys-end-2017', np.float64(0.5907229340644958)),\n",
              " ('darkest-hour', np.float64(0.5907229340644958)),\n",
              " ('claires-camera', np.float64(0.5907229340644958)),\n",
              " ('the-front-runner', np.float64(0.5907229340644958)),\n",
              " ('mountains-may-depart', np.float64(0.5907229340644958)),\n",
              " ('yi-yi', np.float64(0.5907229340644958)),\n",
              " ('they-live', np.float64(0.5907229340644958)),\n",
              " ('dottie-gets-spanked', np.float64(0.5907229340644958)),\n",
              " ('the-rover', np.float64(0.5907229340644958)),\n",
              " ('like-father-like-son-2013', np.float64(0.5907229340644958)),\n",
              " ('boy-2010', np.float64(0.5907229340644958)),\n",
              " ('drive-he-said', np.float64(0.5907229340644958)),\n",
              " ('all-the-money-in-the-world', np.float64(0.5907229340644958)),\n",
              " ('rec-genesis', np.float64(0.5907229340644958)),\n",
              " ('damsel-2018', np.float64(0.5907229340644958)),\n",
              " ('the-dark-and-the-wicked', np.float64(0.5907229340644958)),\n",
              " ('alien-3', np.float64(0.5907229340644958)),\n",
              " ('five-feet-apart', np.float64(0.5907229340644958)),\n",
              " ('mid90s', np.float64(0.5907229340644958)),\n",
              " ('hardball', np.float64(0.5907229340644958)),\n",
              " ('slam-2016', np.float64(0.5907229340644958)),\n",
              " ('the-babysitter-killer-queen', np.float64(0.5907229340644958)),\n",
              " ('little-buddha', np.float64(0.5907229340644958)),\n",
              " ('heartbeats', np.float64(0.5907229340644958)),\n",
              " ('to-the-stars', np.float64(0.5907229340644958)),\n",
              " ('high-life-2018', np.float64(0.5907229340644958)),\n",
              " ('all-the-bright-places', np.float64(0.5907229340644958)),\n",
              " ('the-solitude-of-prime-numbers', np.float64(0.5907229340644958)),\n",
              " ('sweet-november', np.float64(0.5907229340644958)),\n",
              " ('unfriended-dark-web', np.float64(0.5907229340644958)),\n",
              " ('ford-v-ferrari', np.float64(0.5907229340644958)),\n",
              " ('fried-barry', np.float64(0.5907229340644958)),\n",
              " ('feardotcom', np.float64(0.5907229340644958)),\n",
              " ('reckless-2014', np.float64(0.5907229340644958)),\n",
              " ('lingua-franca', np.float64(0.5907229340644958)),\n",
              " ('marriage-story-2019', np.float64(0.5907229340644958)),\n",
              " ('birdman-or-the-unexpected-virtue-of-ignorance',\n",
              "  np.float64(0.5907229340644958)),\n",
              " ('the-empire-strikes-back', np.float64(0.5907229340644958)),\n",
              " ('relic', np.float64(0.5907229340644958)),\n",
              " ('work-it', np.float64(0.5907229340644958)),\n",
              " ('funny-face', np.float64(0.5907229340644958)),\n",
              " ('pulse-2001', np.float64(0.5907229340644958)),\n",
              " ('the-39-steps', np.float64(0.5907229340644958)),\n",
              " ('possession', np.float64(0.5907229340644958)),\n",
              " ('pandorum', np.float64(0.5907229340644958)),\n",
              " ('battleship-potemkin', np.float64(0.5907229340644958)),\n",
              " ('the-flamingo-kid', np.float64(0.5907229340644958)),\n",
              " ('the-good-the-bad-the-weird', np.float64(0.5907229340644958)),\n",
              " ('the-adjustment-bureau', np.float64(0.5907229340644958)),\n",
              " ('de-zwarte-meteoor', np.float64(0.5907229340644958)),\n",
              " ('anonymous-2011', np.float64(0.5907229340644958)),\n",
              " ('the-million-dollar-hotel', np.float64(0.5907229340644958)),\n",
              " ('rocky', np.float64(0.5907229340644958)),\n",
              " ('something-evil', np.float64(0.5907229340644958)),\n",
              " ('run-silent-run-deep', np.float64(0.5907229340644958)),\n",
              " ('m', np.float64(0.5907229340644958)),\n",
              " ('the-tin-drum', np.float64(0.5907229340644958)),\n",
              " ('the-reef', np.float64(0.5907229340644958)),\n",
              " ('necronomicon', np.float64(0.5907229340644958)),\n",
              " ('the-rock', np.float64(0.5907229340644958)),\n",
              " ('god-bless-america', np.float64(0.5907229340644958)),\n",
              " ('the-road-builder', np.float64(0.5907229340644958)),\n",
              " ('petes-dragon', np.float64(0.5907229340644958)),\n",
              " ('falling-down', np.float64(0.5907229340644958)),\n",
              " ('riki-oh-the-story-of-ricky', np.float64(0.5907229340644958)),\n",
              " ('the-tenant', np.float64(0.5907229340644958)),\n",
              " ('what', np.float64(0.5907229340644958)),\n",
              " ('the-fields', np.float64(0.5907229340644958)),\n",
              " ('kate-leopold', np.float64(0.5907229340644958)),\n",
              " ('in-the-mouth-of-madness', np.float64(0.5907229340644958)),\n",
              " ('wild-mussels', np.float64(0.5907229340644958)),\n",
              " ('the-foot-fist-way', np.float64(0.5907229340644958)),\n",
              " ('the-kid-2000', np.float64(0.5907229340644958)),\n",
              " ('seeking-a-friend-for-the-end-of-the-world', np.float64(0.5907229340644958)),\n",
              " ('casablanca', np.float64(0.5907229340644958)),\n",
              " ('resident-evil-afterlife', np.float64(0.5907229340644958)),\n",
              " ('28-days', np.float64(0.5907229340644958)),\n",
              " ('the-big-blue', np.float64(0.5907229340644958)),\n",
              " ('the-ice-harvest', np.float64(0.5907229340644958)),\n",
              " ('friday-the-13th', np.float64(0.5907229340644958)),\n",
              " ('no-country-for-old-men', np.float64(0.5907229340644958)),\n",
              " ('the-switch', np.float64(0.5907229340644958)),\n",
              " ('rec-genesis', np.float64(0.5907229340644958)),\n",
              " ('the-bourne-identity-2002', np.float64(0.5907229340644958)),\n",
              " ('honey', np.float64(0.5907229340644958)),\n",
              " ('west-side-story', np.float64(0.5907229340644958)),\n",
              " ('agora', np.float64(0.5907229340644958)),\n",
              " ('i-know-where-im-going', np.float64(0.5907229340644958)),\n",
              " ('hocus-pocus', np.float64(0.5907229340644958)),\n",
              " ('hair', np.float64(0.5907229340644958)),\n",
              " ('short-circuit', np.float64(0.5907229340644958)),\n",
              " ('very-bad-things', np.float64(0.5907229340644958)),\n",
              " ('desert-flower', np.float64(0.5907229340644958)),\n",
              " ('now-you-see-me', np.float64(0.5907229340644958)),\n",
              " ('narc', np.float64(0.5907229340644958)),\n",
              " ('twisted-nightmare', np.float64(0.5907229340644958)),\n",
              " ('the-congress-2013', np.float64(0.5907229340644958)),\n",
              " ('wait-until-dark', np.float64(0.5907229340644958)),\n",
              " ('mama-2013', np.float64(0.5907229340644958)),\n",
              " ('the-possession', np.float64(0.5907229340644958)),\n",
              " ('shutter-island', np.float64(0.5907229340644958)),\n",
              " ('death-line', np.float64(0.5907229340644958)),\n",
              " ('alvin-and-the-chipmunks', np.float64(0.5907229340644958)),\n",
              " ('beverly-hills-cop-iii', np.float64(0.5907229340644958)),\n",
              " ('santas-slay', np.float64(0.5907229340644958)),\n",
              " ('best-seller', np.float64(0.5907229340644958)),\n",
              " ('sleuth', np.float64(0.5907229340644958)),\n",
              " ('the-imposter-2012', np.float64(0.5907229340644958)),\n",
              " ('all-the-presidents-men', np.float64(0.5907229340644958)),\n",
              " ('the-color-of-money', np.float64(0.5907229340644958)),\n",
              " ('no-one-lives', np.float64(0.5907229340644958)),\n",
              " ('sinister', np.float64(0.5907229340644958)),\n",
              " ('the-last-winter', np.float64(0.5907229340644958)),\n",
              " ('the-new-world', np.float64(0.5907229340644958)),\n",
              " ('sin-city', np.float64(0.5907229340644958)),\n",
              " ('fruitvale-station', np.float64(0.5907229340644958)),\n",
              " ('premium-rush', np.float64(0.5907229340644958)),\n",
              " ('the-isle', np.float64(0.5907229340644958)),\n",
              " ('sydney-white', np.float64(0.5907229340644958)),\n",
              " ('ripd', np.float64(0.5907229340644958)),\n",
              " ('elvira-mistress-of-the-dark', np.float64(0.5907229340644958)),\n",
              " ('the-house-by-the-cemetery', np.float64(0.5907229340644958)),\n",
              " ('making-contact', np.float64(0.5907229340644958)),\n",
              " ('we-are-still-here', np.float64(0.5907229340644958)),\n",
              " ('fascination-1979', np.float64(0.5907229340644958)),\n",
              " ('inside-out-2015', np.float64(0.5907229340644958)),\n",
              " ('scream-2', np.float64(0.5907229340644958)),\n",
              " ('parole-violators', np.float64(0.5907229340644958)),\n",
              " ('hamilton-2020', np.float64(0.5907229340644958)),\n",
              " ('the-woman-in-black-2-angel-of-death', np.float64(0.5907229340644958)),\n",
              " ('march-of-the-penguins', np.float64(0.5907229340644958)),\n",
              " ('the-hobbit-the-battle-of-the-five-armies', np.float64(0.5907229340644958)),\n",
              " ('resolution', np.float64(0.5907229340644958)),\n",
              " ('sins-of-the-fleshapoids', np.float64(0.5907229340644958)),\n",
              " ('the-monster-squad', np.float64(0.5907229340644958)),\n",
              " ('moonstruck', np.float64(0.5907229340644958)),\n",
              " ('the-amazing-spider-man-2', np.float64(0.5907229340644958)),\n",
              " ('this-is-america-part-2', np.float64(0.5907229340644958)),\n",
              " ('the-elephant-man', np.float64(0.5907229340644958)),\n",
              " ('the-firm', np.float64(0.5907229340644958)),\n",
              " ('terror-train', np.float64(0.5907229340644958)),\n",
              " ('dark-city-1998', np.float64(0.5907229340644958)),\n",
              " ('big-meat-eater', np.float64(0.5907229340644958)),\n",
              " ('the-guest-2014', np.float64(0.5907229340644958)),\n",
              " ('mio-in-the-land-of-faraway', np.float64(0.5907229340644958)),\n",
              " ('carrie-2013', np.float64(0.5907229340644958)),\n",
              " ('the-phantom-carriage', np.float64(0.5907229340644958)),\n",
              " ('robin-williams-live-at-the-met', np.float64(0.5907229340644958)),\n",
              " ('life-of-crime', np.float64(0.5907229340644958)),\n",
              " ('tristan-isolde-2006', np.float64(0.5907229340644958)),\n",
              " ('left-behind-2014', np.float64(0.5907229340644958)),\n",
              " ('teeth', np.float64(0.5907229340644958)),\n",
              " ('passenger', np.float64(0.5907229340644958)),\n",
              " ('twisted-1986', np.float64(0.5907229340644958)),\n",
              " ('american-graffiti', np.float64(0.5907229340644958)),\n",
              " ('project-a', np.float64(0.5907229340644958)),\n",
              " ('blood-games', np.float64(0.5907229340644958)),\n",
              " ('robin-redbreast', np.float64(0.5907229340644958)),\n",
              " ('twinkle-twinkle-lucky-stars', np.float64(0.5907229340644958)),\n",
              " ('whitey-united-states-of-america-v-james-j-bulger',\n",
              "  np.float64(0.5907229340644958)),\n",
              " ('jerry-maguire', np.float64(0.5907229340644958)),\n",
              " ('millers-crossing', np.float64(0.5907229340644958)),\n",
              " ('from-russia-with-love', np.float64(0.5907229340644958)),\n",
              " ('the-iceman', np.float64(0.5907229340644958)),\n",
              " ('6-underground', np.float64(0.5907229340644958)),\n",
              " ('pokemon-the-first-movie-mewtwo-strikes-back',\n",
              "  np.float64(0.5907229340644958)),\n",
              " ('charlie-and-the-chocolate-factory', np.float64(0.5907229340644958)),\n",
              " ('hannibal', np.float64(0.5907229340644958)),\n",
              " ('x-men-first-class', np.float64(0.5907229340644958)),\n",
              " ('whats-eating-gilbert-grape', np.float64(0.5907229340644958)),\n",
              " ('better-watch-out', np.float64(0.5907229340644958)),\n",
              " ('crawl-2019', np.float64(0.5907229340644958)),\n",
              " ('house-at-the-end-of-the-street', np.float64(0.5907229340644958)),\n",
              " ('maleficent', np.float64(0.5907229340644958)),\n",
              " ('o-lucky-man', np.float64(0.5907229340644958)),\n",
              " ('magic-of-spell', np.float64(0.5907229340644958)),\n",
              " ('crime-wave-1985', np.float64(0.5907229340644958)),\n",
              " ('rebecca', np.float64(0.5907229340644958)),\n",
              " ('a-time-to-kill-1996', np.float64(0.5907229340644958)),\n",
              " ('drinking-buddies', np.float64(0.5907229340644958)),\n",
              " ('star-wars-the-rise-of-skywalker', np.float64(0.5907229340644958)),\n",
              " ('lethal-weapon', np.float64(0.5907229340644958)),\n",
              " ('play', np.float64(0.5907229340644958)),\n",
              " ('take-this-waltz', np.float64(0.5907229340644958)),\n",
              " ('jackie-brown', np.float64(0.5907229340644958)),\n",
              " ('the-phantom-of-the-opera', np.float64(0.5907229340644958)),\n",
              " ('john-carter', np.float64(0.5907229340644958)),\n",
              " ('coherence', np.float64(0.5907229340644958)),\n",
              " ('bronson', np.float64(0.5907229340644958)),\n",
              " ('after-earth', np.float64(0.5907229340644958)),\n",
              " ('monsters', np.float64(0.5907229340644958)),\n",
              " ('margin-call', np.float64(0.5907229340644958)),\n",
              " ('triple-9', np.float64(0.5907229340644958)),\n",
              " ('amanda-knox', np.float64(0.5907229340644958)),\n",
              " ('new-nightmare', np.float64(0.5907229340644958)),\n",
              " ('laggies', np.float64(0.5907229340644958)),\n",
              " ('la-confidential', np.float64(0.5907229340644958)),\n",
              " ('mechanic-resurrection', np.float64(0.5907229340644958)),\n",
              " ('frank-2014', np.float64(0.5907229340644958)),\n",
              " ('the-road', np.float64(0.5907229340644958)),\n",
              " ('wiener-dog', np.float64(0.5907229340644958)),\n",
              " ('lincoln', np.float64(0.5907229340644958)),\n",
              " ('closed-circuit-2013', np.float64(0.5907229340644958)),\n",
              " ('the-sting', np.float64(0.5907229340644958)),\n",
              " ('bao-2018', np.float64(0.5907229340644958)),\n",
              " ('mission-impossible-fallout', np.float64(0.5907229340644958)),\n",
              " ('inception', np.float64(0.5907229340644958)),\n",
              " ('death-wish-2018', np.float64(0.5907229340644958)),\n",
              " ('crazy-love', np.float64(0.5907229340644958)),\n",
              " ('hello-destroyer', np.float64(0.5907229340644958)),\n",
              " ('i-killed-my-mother', np.float64(0.5907229340644958)),\n",
              " ('julien-donkey-boy', np.float64(0.5907229340644958)),\n",
              " ('fantastic-four', np.float64(0.5907229340644958)),\n",
              " ('jurassic-park', np.float64(0.5907229340644958)),\n",
              " ('roman-j-israel-esq', np.float64(0.5907229340644958)),\n",
              " ('my-name-is-julia-ross', np.float64(0.5907229340644958)),\n",
              " ('liberte', np.float64(0.5907229340644958)),\n",
              " ('godzilla-raids-again', np.float64(0.5907229340644958)),\n",
              " ('the-beyond', np.float64(0.5907229340644958)),\n",
              " ('the-peanut-butter-falcon', np.float64(0.5907229340644958)),\n",
              " ('burn', np.float64(0.5907229340644958)),\n",
              " ('stuber', np.float64(0.5907229340644958)),\n",
              " ('mad-max-2', np.float64(0.5907229340644958)),\n",
              " ('death-line', np.float64(0.5907229340644958)),\n",
              " ('fight-club', np.float64(0.5907229340644958)),\n",
              " ('a-perfect-murder', np.float64(0.5907229340644958)),\n",
              " ('the-lineup', np.float64(0.5907229340644958)),\n",
              " ('domino-2019', np.float64(0.5907229340644958)),\n",
              " ('room-237', np.float64(0.5907229340644958)),\n",
              " ('saturday-fiction', np.float64(0.5907229340644958)),\n",
              " ('waves-2019', np.float64(0.5907229340644958)),\n",
              " ('fast-furious-presents-hobbs-shaw', np.float64(0.5907229340644958)),\n",
              " ('color-out-of-space', np.float64(0.5907229340644958)),\n",
              " ('madman', np.float64(0.5907229340644958)),\n",
              " ('so-dark-the-night', np.float64(0.5907229340644958)),\n",
              " ('sex-lies-and-videotape', np.float64(0.5907229340644958)),\n",
              " ('bliss-2019', np.float64(0.5907229340644958)),\n",
              " ('china-girl-1987', np.float64(0.5907229340644958)),\n",
              " ('beneath-the-planet-of-the-apes', np.float64(0.5907229340644958)),\n",
              " ('the-grandmaster', np.float64(0.5907229340644958)),\n",
              " ('wild-at-heart', np.float64(0.5907229340644958)),\n",
              " ('the-punisher', np.float64(0.5907229340644958)),\n",
              " ('the-visitor-1979', np.float64(0.5907229340644958)),\n",
              " ('host-2020', np.float64(0.5907229340644958)),\n",
              " ('branded-to-kill', np.float64(0.5907229340644958)),\n",
              " ('blood-beat', np.float64(0.5907229340644958)),\n",
              " ('borat-cultural-learnings-of-america-for-make-benefit-glorious-nation-of-kazakhstan',\n",
              "  np.float64(0.5907229340644958)),\n",
              " ('raw-deal-1986', np.float64(0.5907229340644958)),\n",
              " ('pulse-2001', np.float64(0.5907229340644958)),\n",
              " ('vital', np.float64(0.5907229340644958)),\n",
              " ('female-prisoner-scorpion-701s-grudge-song', np.float64(0.5907229340644958)),\n",
              " ('the-pit-and-the-pendulum', np.float64(0.5907229340644958)),\n",
              " ('the-train', np.float64(0.5907229340644958)),\n",
              " ('swallow-2019', np.float64(0.5907229340644958)),\n",
              " ('shes-gotta-have-it', np.float64(0.5907229340644958)),\n",
              " ('hairspray-2007', np.float64(0.5907229340644958)),\n",
              " ('magic-warriors', np.float64(0.5907229340644958)),\n",
              " ('the-killing-of-america', np.float64(0.5907229340644958)),\n",
              " ('river-of-grass', np.float64(0.5907229340644958)),\n",
              " ('xtro', np.float64(0.5907229340644958)),\n",
              " ('gangster-squad', np.float64(0.5907229340644958)),\n",
              " ('solaris', np.float64(0.5907229340644958)),\n",
              " ('shanghai-calling', np.float64(0.5907229340644958)),\n",
              " ('sleeper', np.float64(0.5907229340644958)),\n",
              " ('taped', np.float64(0.5907229340644958)),\n",
              " ('how-to-murder-your-wife', np.float64(0.5907229340644958)),\n",
              " ('rec-genesis', np.float64(0.5907229340644958)),\n",
              " ('la-femme-nikita', np.float64(0.5907229340644958)),\n",
              " ('compliance', np.float64(0.5907229340644958)),\n",
              " ('southland-tales', np.float64(0.5907229340644958)),\n",
              " ('avalon-2001', np.float64(0.5907229340644958)),\n",
              " ('my-science-project', np.float64(0.5907229340644958)),\n",
              " ('ai-artificial-intelligence', np.float64(0.5907229340644958)),\n",
              " ('blazing-saddles', np.float64(0.5907229340644958)),\n",
              " ('30-beats', np.float64(0.5907229340644958)),\n",
              " ('park-row', np.float64(0.5907229340644958)),\n",
              " ('shanghai-surprise', np.float64(0.5907229340644958)),\n",
              " ('cop-land', np.float64(0.5907229340644958)),\n",
              " ('steel-magnolias', np.float64(0.5907229340644958)),\n",
              " ('all-is-lost', np.float64(0.5907229340644958)),\n",
              " ('the-sacrament', np.float64(0.5907229340644958)),\n",
              " ('history-of-the-eagles', np.float64(0.5907229340644958)),\n",
              " ('its-a-disaster', np.float64(0.5907229340644958)),\n",
              " ('i-love-trouble-1994', np.float64(0.5907229340644958)),\n",
              " ('night-moves-2013', np.float64(0.5907229340644958)),\n",
              " ('stoker', np.float64(0.5907229340644958)),\n",
              " ('fargo', np.float64(0.5907229340644958)),\n",
              " ('the-hobbit-an-unexpected-journey', np.float64(0.5907229340644958)),\n",
              " ('wacko', np.float64(0.5907229340644958)),\n",
              " ('300-rise-of-an-empire', np.float64(0.5907229340644958)),\n",
              " ('citizenfour', np.float64(0.5907229340644958)),\n",
              " ('oldboy-2013', np.float64(0.5907229340644958)),\n",
              " ('a-nightmare-on-elm-street', np.float64(0.5907229340644958)),\n",
              " ('the-specialist', np.float64(0.5907229340644958)),\n",
              " ('a-touch-of-sin', np.float64(0.5907229340644958)),\n",
              " ('creative-control', np.float64(0.5907229340644958)),\n",
              " ('13th', np.float64(0.5907229340644958)),\n",
              " ('collateral-beauty', np.float64(0.5907229340644958)),\n",
              " ('knock-off', np.float64(0.5907229340644958)),\n",
              " ('the-martian', np.float64(0.5907229340644958)),\n",
              " ('election', np.float64(0.5907229340644958)),\n",
              " ('7-days-in-hell', np.float64(0.5907229340644958)),\n",
              " ('tangerine', np.float64(0.5907229340644958)),\n",
              " ('finding-dory', np.float64(0.5907229340644958)),\n",
              " ('fifty-shades-darker', np.float64(0.5907229340644958)),\n",
              " ('the-battle-of-algiers', np.float64(0.5907229340644958)),\n",
              " ('unfriended', np.float64(0.5907229340644958)),\n",
              " ('the-vatican-tapes', np.float64(0.5907229340644958)),\n",
              " ('concussion-2015', np.float64(0.5907229340644958)),\n",
              " ('la-la-land', np.float64(0.5907229340644958)),\n",
              " ('sin-city-a-dame-to-kill-for', np.float64(0.5907229340644958)),\n",
              " ('atari-game-over', np.float64(0.5907229340644958)),\n",
              " ('the-walk-2015', np.float64(0.5907229340644958)),\n",
              " ('michael-jacksons-journey-from-motown-to-off-the-wall',\n",
              "  np.float64(0.5907229340644958)),\n",
              " ('the-tale-of-zatoichi', np.float64(0.5907229340644958)),\n",
              " ('sully', np.float64(0.5907229340644958)),\n",
              " ('julieta', np.float64(0.5907229340644958)),\n",
              " ('amanda-knox', np.float64(0.5907229340644958)),\n",
              " ('doctor-strange-2016', np.float64(0.5907229340644958)),\n",
              " ('annabelle-comes-home', np.float64(0.5907229340644958)),\n",
              " ('the-king-of-staten-island', np.float64(0.5907229340644958)),\n",
              " ('hustlers-2019', np.float64(0.5907229340644958)),\n",
              " ('the-social-network', np.float64(0.5907229340644958)),\n",
              " ('blades-of-glory', np.float64(0.5907229340644958)),\n",
              " ('bad-boys-ii', np.float64(0.5907229340644958)),\n",
              " ('x-men-apocalypse', np.float64(0.5907229340644958)),\n",
              " ('popstar-never-stop-never-stopping', np.float64(0.5907229340644958)),\n",
              " ('the-killing-of-a-sacred-deer', np.float64(0.5907229340644958)),\n",
              " ('la-strada', np.float64(0.5907229340644958)),\n",
              " ('robocop', np.float64(0.5907229340644958)),\n",
              " ('the-incredibles', np.float64(0.5907229340644958)),\n",
              " ('the-secret-life-of-pets', np.float64(0.5907229340644958)),\n",
              " ('a-futile-and-stupid-gesture', np.float64(0.5907229340644958)),\n",
              " ('hellboy-2019', np.float64(0.5907229340644958)),\n",
              " ('ask-dr-ruth', np.float64(0.5907229340644958)),\n",
              " ('pulse-2001', np.float64(0.5907229340644958)),\n",
              " ('mark-felt-the-man-who-brought-down-the-white-house',\n",
              "  np.float64(0.5907229340644958)),\n",
              " ('i-tonya', np.float64(0.5907229340644958)),\n",
              " ('mulan', np.float64(0.5907229340644958)),\n",
              " ('first-man', np.float64(0.5907229340644958)),\n",
              " ('shazam', np.float64(0.5907229340644958)),\n",
              " ('parasite-2019', np.float64(0.5907229340644958)),\n",
              " ('mother-2017', np.float64(0.5907229340644958)),\n",
              " ('john-wick-chapter-3-parabellum', np.float64(0.5907229340644958)),\n",
              " ('transformers-the-last-knight', np.float64(0.5907229340644958)),\n",
              " ('pacific-rim-uprising', np.float64(0.5907229340644958)),\n",
              " ('the-debt-collector-2018', np.float64(0.5907229340644958)),\n",
              " ('vivre-sa-vie', np.float64(0.5907229340644958)),\n",
              " ('the-dark-knight', np.float64(0.5907229340644958)),\n",
              " ('the-lobster', np.float64(0.5907229340644958)),\n",
              " ('richard-jewell', np.float64(0.5907229340644958)),\n",
              " ('the-king-2019', np.float64(0.5907229340644958)),\n",
              " ('silence', np.float64(0.5907229340644958)),\n",
              " ('jason-x', np.float64(0.5907229340644958)),\n",
              " ('31-2016', np.float64(0.5907229340644958)),\n",
              " ('supergirl', np.float64(0.5907229340644958)),\n",
              " ('national-lampoons-loaded-weapon-1', np.float64(0.5907229340644958)),\n",
              " ('project-power-2020', np.float64(0.5907229340644958)),\n",
              " ('vile', np.float64(0.5907229340644958)),\n",
              " ('resident-evil-the-final-chapter', np.float64(0.5907229340644958)),\n",
              " ('the-pacifier', np.float64(0.5907229340644958)),\n",
              " ('sinbad-legend-of-the-seven-seas', np.float64(0.5907229340644958)),\n",
              " ('onward-2020', np.float64(0.5907229340644958)),\n",
              " ('jonah-hex', np.float64(0.5907229340644958)),\n",
              " ('gremlins-2-the-new-batch', np.float64(0.5907229340644958)),\n",
              " ('ishtar', np.float64(0.5907229340644958)),\n",
              " ('the-call-of-the-wild-2020', np.float64(0.5907229340644958)),\n",
              " ('polaroid-2019', np.float64(0.5907229340644958)),\n",
              " ('star-wars', np.float64(0.5907229340644958)),\n",
              " ('the-fast-and-the-furious-tokyo-drift', np.float64(0.5907229340644958)),\n",
              " ('friday-the-13th-2009', np.float64(0.5907229340644958)),\n",
              " ('tully-2018', np.float64(0.5907229340644958)),\n",
              " ('snatch', np.float64(0.5907229340644958)),\n",
              " ('doctor-sleep', np.float64(0.5907229340644958)),\n",
              " ('black-oak-conspiracy', np.float64(0.5907229340644958)),\n",
              " ('creed-ii', np.float64(0.5907229340644958)),\n",
              " ('the-two-popes', np.float64(0.5907229340644958)),\n",
              " ('in-bruges', np.float64(0.5907229340644958)),\n",
              " ('tall-girl', np.float64(0.5907229340644958)),\n",
              " ('assassins-creed', np.float64(0.5907229340644958)),\n",
              " ('fahrenheit-451-2018', np.float64(0.5907229340644958)),\n",
              " ('oceans-twelve', np.float64(0.5907229340644958)),\n",
              " ('carol-2015', np.float64(0.5907229340644958)),\n",
              " ('night-at-the-museum', np.float64(0.5907229340644958)),\n",
              " ('high-flying-bird', np.float64(0.5907229340644958)),\n",
              " ('first-reformed', np.float64(0.5907229340644958)),\n",
              " ('sonic-the-hedgehog', np.float64(0.5907229340644958)),\n",
              " ('hairspray', np.float64(0.5907229340644958)),\n",
              " ('irreplaceable-you', np.float64(0.5907229340644958)),\n",
              " ('experimenter', np.float64(0.5907229340644958)),\n",
              " ('the-perfect-date-2019', np.float64(0.5907229340644958)),\n",
              " ('zodiac', np.float64(0.5907229340644958)),\n",
              " ('firewalker', np.float64(0.5907229340644958)),\n",
              " ('a-town-called-panic', np.float64(0.5907229340644958)),\n",
              " ('the-krays', np.float64(0.5907229340644958)),\n",
              " ('the-terminal', np.float64(0.5907229340644958)),\n",
              " ('convicts-women', np.float64(0.5907229340644958)),\n",
              " ('top-gun', np.float64(0.5907229340644958)),\n",
              " ('terrified-2017', np.float64(0.5907229340644958)),\n",
              " ('insidious', np.float64(0.5907229340644958)),\n",
              " ('the-night-before-2015', np.float64(0.5907229340644958)),\n",
              " ('drunk-stoned-brilliant-dead-the-story-of-the-national-lampoon',\n",
              "  np.float64(0.5907229340644958)),\n",
              " ('the-hypnotist-2001', np.float64(0.5907229340644958)),\n",
              " ('entertainment', np.float64(0.5907229340644958)),\n",
              " ('jailbait-babysitter', np.float64(0.5907229340644958)),\n",
              " ('jem-and-the-holograms', np.float64(0.5907229340644958)),\n",
              " ('miss-hokusai', np.float64(0.5907229340644958)),\n",
              " ('cuadecuc-vampir', np.float64(0.5907229340644958)),\n",
              " ('an-american-werewolf-in-london', np.float64(0.5907229340644958)),\n",
              " ('sisters-2015', np.float64(0.5907229340644958)),\n",
              " ('sonny-boy-1989', np.float64(0.5907229340644958)),\n",
              " ('memoirs-of-an-invisible-man', np.float64(0.5907229340644958)),\n",
              " ('hardcore-henry', np.float64(0.5907229340644958)),\n",
              " ('american-ninja-2-the-confrontation', np.float64(0.5907229340644958)),\n",
              " ('scream-2', np.float64(0.5907229340644958)),\n",
              " ('assassins-creed', np.float64(0.5907229340644958)),\n",
              " ('the-house-that-jack-built-2018', np.float64(0.5907229340644958)),\n",
              " ('i-am-the-pretty-thing-that-lives-in-the-house',\n",
              "  np.float64(0.5907229340644958)),\n",
              " ('self-less', np.float64(0.5907229340644958)),\n",
              " ('krisha-2015', np.float64(0.5907229340644958)),\n",
              " ('the-battery-2012', np.float64(0.5907229340644958)),\n",
              " ('venom', np.float64(0.5907229340644958)),\n",
              " ('blade-of-the-immortal', np.float64(0.5907229340644958)),\n",
              " ('inferno-2016', np.float64(0.5907229340644958)),\n",
              " ('the-edge-of-seventeen', np.float64(0.5907229340644958)),\n",
              " ('hypernormalisation', np.float64(0.5907229340644958)),\n",
              " ('flash-and-the-firecat', np.float64(0.5907229340644958)),\n",
              " ('miami-2017', np.float64(0.5907229340644958)),\n",
              " ('serial-mom', np.float64(0.5907229340644958)),\n",
              " ('amanda-knox', np.float64(0.5907229340644958)),\n",
              " ('the-last-exorcism', np.float64(0.5907229340644958)),\n",
              " ('the-she-beast-1966', np.float64(0.5907229340644958)),\n",
              " ('heaven-can-wait-1978', np.float64(0.5907229340644958)),\n",
              " ('mary-and-the-witchs-flower', np.float64(0.5907229340644958)),\n",
              " ('suddenly-in-the-dark', np.float64(0.5907229340644958)),\n",
              " ('downsizing', np.float64(0.5907229340644958)),\n",
              " ('voyeur-2017', np.float64(0.5907229340644958)),\n",
              " ('the-professor-and-the-madman', np.float64(0.5907229340644958)),\n",
              " ('basic-instinct-2', np.float64(0.5907229340644958)),\n",
              " ('only-the-brave-2017', np.float64(0.5907229340644958)),\n",
              " ('blast-1997', np.float64(0.5907229340644958)),\n",
              " ('a-quiet-place-2018', np.float64(0.5907229340644958)),\n",
              " ('apostle-2018', np.float64(0.5907229340644958)),\n",
              " ('bird-box', np.float64(0.5907229340644958)),\n",
              " ('jagged-edge', np.float64(0.5907229340644958)),\n",
              " ('fist', np.float64(0.5907229340644958)),\n",
              " ('consenting-adults', np.float64(0.5907229340644958)),\n",
              " ('the-wave-2019', np.float64(0.5907229340644958)),\n",
              " ('the-shop-around-the-corner', np.float64(0.5907229340644958)),\n",
              " ('halloween-2018', np.float64(0.5907229340644958)),\n",
              " ('narrow-margin', np.float64(0.5907229340644958)),\n",
              " ('deep-blue-sea-2', np.float64(0.5907229340644958)),\n",
              " ('the-commuter', np.float64(0.5907229340644958)),\n",
              " ('the-nest-of-the-cuckoo-birds', np.float64(0.5907229340644958)),\n",
              " ('toy-story-4', np.float64(0.5907229340644958)),\n",
              " ('debt-collectors', np.float64(0.5907229340644958)),\n",
              " ('the-ipcress-file', np.float64(0.5907229340644958)),\n",
              " ('sister-act', np.float64(0.5907229340644958)),\n",
              " ('mountaintop-motel-massacre', np.float64(0.5907229340644958)),\n",
              " ('angel-has-fallen', np.float64(0.5907229340644958)),\n",
              " ('virtuosity', np.float64(0.5907229340644958)),\n",
              " ('ruthless', np.float64(0.5907229340644958)),\n",
              " ('station-six-sahara', np.float64(0.5907229340644958)),\n",
              " ('greta-2018', np.float64(0.5907229340644958)),\n",
              " ('flic-story-1975', np.float64(0.5907229340644958)),\n",
              " ('sleeping-with-the-enemy', np.float64(0.5907229340644958)),\n",
              " ('cats-2019', np.float64(0.5907229340644958)),\n",
              " ('clemency', np.float64(0.5907229340644958)),\n",
              " ('the-wild-goose-lake', np.float64(0.5907229340644958)),\n",
              " ('seberg', np.float64(0.5907229340644958)),\n",
              " ('motherless-brooklyn', np.float64(0.5907229340644958)),\n",
              " ('stick', np.float64(0.5907229340644958)),\n",
              " ('king-of-new-york', np.float64(0.5907229340644958)),\n",
              " ('soul-brothers-of-kung-fu', np.float64(0.5907229340644958)),\n",
              " ('1br', np.float64(0.5907229340644958)),\n",
              " ('treasure-of-the-ninja', np.float64(0.5907229340644958)),\n",
              " ('phone-booth', np.float64(0.5907229340644958)),\n",
              " ('day-of-the-cobra', np.float64(0.5907229340644958)),\n",
              " ('whats-a-nice-girl-like-you-doing-in-a-place-like-this',\n",
              "  np.float64(0.5907229340644958)),\n",
              " ('american-boy-a-profile-of-steven-prince', np.float64(0.5907229340644958)),\n",
              " ('bloodstone', np.float64(0.5907229340644958)),\n",
              " ('the-tax-collector', np.float64(0.5907229340644958)),\n",
              " ('punisher-war-zone', np.float64(0.5907229340644958)),\n",
              " ('sans-soleil', np.float64(0.5907229340644958)),\n",
              " ('blood-vessel', np.float64(0.5907229340644958)),\n",
              " ('his-house', np.float64(0.5907229340644958)),\n",
              " ('film:544930', np.float64(0.5907229340644958)),\n",
              " ('once', np.float64(0.5907229340644958)),\n",
              " ('the-cat-o-nine-tails', np.float64(0.5907229340644958)),\n",
              " ('alligator', np.float64(0.5907229340644958)),\n",
              " ('out-of-bounds', np.float64(0.5907229340644958)),\n",
              " ('hold-up', np.float64(0.5907229340644958)),\n",
              " ('casper', np.float64(0.5907229340644958)),\n",
              " ('joe-2013', np.float64(0.5907229340644958)),\n",
              " ('teddy-2020-1', np.float64(0.5907229340644958)),\n",
              " ('pulse-2001', np.float64(0.5907229340644958)),\n",
              " ('gypsys-revenge', np.float64(0.5907229340644958)),\n",
              " ('run-2020', np.float64(0.5907229340644958)),\n",
              " ('the-birth-of-a-nation-2016', np.float64(0.5907229340644958)),\n",
              " ('the-old-guard-2020', np.float64(0.5907229340644958)),\n",
              " ('film:640566', np.float64(0.5907229340644958)),\n",
              " ('24-frames', np.float64(0.5907229340644958)),\n",
              " ('tron', np.float64(0.5907229340644958)),\n",
              " ('scooby-doo-and-the-alien-invaders', np.float64(0.5907229340644958)),\n",
              " ('dark-star', np.float64(0.5907229340644958)),\n",
              " ('childs-play-2', np.float64(0.5907229340644958)),\n",
              " ('da-sweet-blood-of-jesus', np.float64(0.5907229340644958)),\n",
              " ('one-dark-night', np.float64(0.5907229340644958)),\n",
              " ('superman-returns', np.float64(0.5907229340644958)),\n",
              " ('127-hours', np.float64(0.5907229340644958)),\n",
              " ('mud', np.float64(0.5907229340644958)),\n",
              " ('the-virgin-suicides', np.float64(0.5907229340644958)),\n",
              " ('the-stranger', np.float64(0.5907229340644958)),\n",
              " ('a-christmas-carol-2009', np.float64(0.5907229340644958)),\n",
              " ('days-of-thunder', np.float64(0.5907229340644958)),\n",
              " ('fateful-findings', np.float64(0.5907229340644958)),\n",
              " ('the-gold-rush', np.float64(0.5907229340644958)),\n",
              " ('inside-2007', np.float64(0.5907229340644958)),\n",
              " ('pusher-ii-with-blood-on-my-hands', np.float64(0.5907229340644958)),\n",
              " ('tales-of-halloween', np.float64(0.5907229340644958)),\n",
              " ('a-disney-halloween', np.float64(0.5907229340644958)),\n",
              " ('godzilla-against-mechagodzilla', np.float64(0.5907229340644958)),\n",
              " ('possibly-in-michigan', np.float64(0.5907229340644958)),\n",
              " ('raise-the-red-lantern', np.float64(0.5907229340644958)),\n",
              " ('closer', np.float64(0.5907229340644958)),\n",
              " ('the-midnight-hour', np.float64(0.5907229340644958)),\n",
              " ('the-new-york-ripper', np.float64(0.5907229340644958)),\n",
              " ('racing-stripes', np.float64(0.5907229340644958)),\n",
              " ('its-not-just-you-murray', np.float64(0.5907229340644958)),\n",
              " ('bad-times-at-the-el-royale', np.float64(0.5907229340644958)),\n",
              " ('tales-from-the-crypt-demon-knight', np.float64(0.5907229340644958)),\n",
              " ('shazam', np.float64(0.5907229340644958)),\n",
              " ('lupin-the-third-the-castle-of-cagliostro', np.float64(0.5907229340644958)),\n",
              " ('stranger-than-paradise', np.float64(0.5907229340644958)),\n",
              " ('papillon', np.float64(0.5907229340644958)),\n",
              " ('kaili-blues', np.float64(0.5907229340644958)),\n",
              " ('the-puppetmaster', np.float64(0.5907229340644958)),\n",
              " ('fantastic-voyage', np.float64(0.5907229340644958)),\n",
              " ('i-know-what-you-did-last-summer', np.float64(0.5907229340644958)),\n",
              " ('ghidorah-the-three-headed-monster', np.float64(0.5907229340644958)),\n",
              " ('reflections-of-evil', np.float64(0.5907229340644958)),\n",
              " ('damien-omen-ii', np.float64(0.5907229340644958)),\n",
              " ('roma-2018', np.float64(0.5907229340644958)),\n",
              " ('new-year-new-you', np.float64(0.5907229340644958)),\n",
              " ('honey-boy', np.float64(0.5907229340644958)),\n",
              " ('the-longest-day', np.float64(0.5907229340644958)),\n",
              " ('captain-america-the-winter-soldier', np.float64(0.5907229340644958)),\n",
              " ('spice-world', np.float64(0.5907229340644958)),\n",
              " ('snowden', np.float64(0.5907229340644958)),\n",
              " ('krampus', np.float64(0.5907229340644958)),\n",
              " ('pandora-and-the-flying-dutchman', np.float64(0.5907229340644958)),\n",
              " ('somethings-gotta-give', np.float64(0.5907229340644958)),\n",
              " ('come-drink-with-me', np.float64(0.5907229340644958)),\n",
              " ('galaxy-quest', np.float64(0.5907229340644958)),\n",
              " ('mortuary', np.float64(0.5907229340644958)),\n",
              " ('vfw', np.float64(0.5907229340644958)),\n",
              " ('the-monuments-men', np.float64(0.5907229340644958)),\n",
              " ('trick-r-treat', np.float64(0.5907229340644958)),\n",
              " ('the-lord-of-the-rings-the-two-towers', np.float64(0.5907229340644958)),\n",
              " ('new-years-evil', np.float64(0.5907229340644958)),\n",
              " ('matilda', np.float64(0.5907229340644958)),\n",
              " ('news-from-home', np.float64(0.5907229340644958)),\n",
              " ('frances-ha', np.float64(0.5907229340644958)),\n",
              " ('anchorman-2-the-legend-continues', np.float64(0.5907229340644958)),\n",
              " ('bombshell-2019', np.float64(0.5907229340644958)),\n",
              " ('the-witch-2015', np.float64(0.5907229340644958)),\n",
              " ('tokyo-olympiad', np.float64(0.5907229340644958)),\n",
              " ('mr-sardonicus', np.float64(0.5907229340644958)),\n",
              " ('foxy-brown', np.float64(0.5907229340644958)),\n",
              " ('a-very-harold-kumar-christmas', np.float64(0.5907229340644958)),\n",
              " ('uncut-gems', np.float64(0.5907229340644958)),\n",
              " ('as-i-was-moving-ahead-occasionally-i-saw-brief-glimpses-of-beauty',\n",
              "  np.float64(0.5907229340644958)),\n",
              " ('the-conspiracy', np.float64(0.5907229340644958)),\n",
              " ('repo-men', np.float64(0.5907229340644958)),\n",
              " ('boo-1932', np.float64(0.5907229340644958)),\n",
              " ('life-is-sweet', np.float64(0.5907229340644958)),\n",
              " ('scooby-doo-abracadabra-doo', np.float64(0.5907229340644958)),\n",
              " ('lights-out-2013', np.float64(0.5907229340644958)),\n",
              " ('cafe-society-2016', np.float64(0.5907229340644958)),\n",
              " ('leatherface', np.float64(0.5907229340644958)),\n",
              " ('trumbo', np.float64(0.5907229340644958)),\n",
              " ('volver', np.float64(0.5907229340644958)),\n",
              " ('mikey', np.float64(0.5907229340644958)),\n",
              " ('horns', np.float64(0.5907229340644958)),\n",
              " ('interview-with-the-vampire', np.float64(0.5907229340644958)),\n",
              " ('the-boondock-saints', np.float64(0.5907229340644958)),\n",
              " ('theres-something-about-mary', np.float64(0.5907229340644958)),\n",
              " ('taken-3', np.float64(0.5907229340644958)),\n",
              " ('keanu', np.float64(0.5907229340644958)),\n",
              " ('stuart-little', np.float64(0.5907229340644958)),\n",
              " ('porno-2019', np.float64(0.5907229340644958)),\n",
              " ('rabid-2019', np.float64(0.5907229340644958)),\n",
              " ('waxwork', np.float64(0.5907229340644958)),\n",
              " ('sleepless-in-seattle', np.float64(0.5907229340644958)),\n",
              " ('ride-with-the-devil', np.float64(0.5907229340644958)),\n",
              " ('beautiful-boy-2018', np.float64(0.5907229340644958)),\n",
              " ('tiger-king-murder-mayhem-and-madness', np.float64(0.5907229340644958)),\n",
              " ('the-basketball-diaries', np.float64(0.5907229340644958)),\n",
              " ('supermodel-acting-class', np.float64(0.5907229340644958)),\n",
              " ('the-night-before-2015', np.float64(0.5907229340644958)),\n",
              " ('i-love-you-phillip-morris', np.float64(0.5907229340644958)),\n",
              " ('closer', np.float64(0.5907229340644958)),\n",
              " ('inception', np.float64(0.5907229340644958)),\n",
              " ('amelie', np.float64(0.5907229340644958)),\n",
              " ('the-bye-bye-man', np.float64(0.5907229340644958)),\n",
              " ('much-ado-about-nothing', np.float64(0.5907229340644958)),\n",
              " ('the-equalizer', np.float64(0.5907229340644958)),\n",
              " ('the-color-purple', np.float64(0.5907229340644958)),\n",
              " ('killing-them-softly', np.float64(0.5907229340644958)),\n",
              " ('birth-2004', np.float64(0.5907229340644958)),\n",
              " ('hasan-minhaj-homecoming-king', np.float64(0.5907229340644958)),\n",
              " ('the-interview-2014', np.float64(0.5907229340644958)),\n",
              " ('death-proof', np.float64(0.5907229340644958)),\n",
              " ('okja', np.float64(0.5907229340644958)),\n",
              " ('insidious-chapter-2', np.float64(0.5907229340644958)),\n",
              " ('the-love-witch', np.float64(0.5907229340644958)),\n",
              " ('next-floor', np.float64(0.5907229340644958)),\n",
              " ('poohs-heffalump-movie', np.float64(0.5907229340644958)),\n",
              " ('de-palma', np.float64(0.5907229340644958)),\n",
              " ('get-out-2017', np.float64(0.5907229340644958)),\n",
              " ('american-mary', np.float64(0.5907229340644958)),\n",
              " ('thor-ragnarok', np.float64(0.5907229340644958)),\n",
              " ('sideways', np.float64(0.5907229340644958)),\n",
              " ('the-miseducation-of-cameron-post', np.float64(0.5907229340644958)),\n",
              " ('the-switch', np.float64(0.5907229340644958)),\n",
              " ('can-you-ever-forgive-me', np.float64(0.5907229340644958)),\n",
              " ('the-great-debaters', np.float64(0.5907229340644958)),\n",
              " ('slender-man', np.float64(0.5907229340644958)),\n",
              " ('inland-empire', np.float64(0.5907229340644958)),\n",
              " ('the-loved-ones', np.float64(0.5907229340644958)),\n",
              " ('nymphomaniac-volume-i', np.float64(0.5907229340644958)),\n",
              " ('cyber-seduction-his-secret-life', np.float64(0.5907229340644958)),\n",
              " ('eighth-grade', np.float64(0.5907229340644958)),\n",
              " ('star-wars-the-last-jedi', np.float64(0.5907229340644958)),\n",
              " ('doctor-strange-2016', np.float64(0.5907229340644958)),\n",
              " ('chopping-mall', np.float64(0.5907229340644958)),\n",
              " ('the-master-2012', np.float64(0.5907229340644958)),\n",
              " ('harry-potter-and-the-goblet-of-fire', np.float64(0.5907229340644958)),\n",
              " ('pirates-of-the-caribbean-the-curse-of-the-black-pearl',\n",
              "  np.float64(0.5907229340644958)),\n",
              " ('oceans-eight', np.float64(0.5907229340644958)),\n",
              " ('blackkklansman', np.float64(0.5907229340644958)),\n",
              " ('about-time', np.float64(0.5907229340644958)),\n",
              " ('paper-towns', np.float64(0.5907229340644958)),\n",
              " ('the-favourite', np.float64(0.5907229340644958)),\n",
              " ('food-inc', np.float64(0.5907229340644958)),\n",
              " ('piranha-3d', np.float64(0.5907229340644958)),\n",
              " ('girlhouse', np.float64(0.5907229340644958)),\n",
              " ('over-the-hedge', np.float64(0.5907229340644958)),\n",
              " ('dr-strangelove-or-how-i-learned-to-stop-worrying-and-love-the-bomb',\n",
              "  np.float64(0.5907229340644958)),\n",
              " ('what-about-bob', np.float64(0.5907229340644958)),\n",
              " ('national-lampoons-christmas-vacation', np.float64(0.5907229340644958)),\n",
              " ('first-reformed', np.float64(0.5907229340644958)),\n",
              " ('oceans-eight', np.float64(0.5907229340644958)),\n",
              " ('the-house-that-jack-built-2018', np.float64(0.5907229340644958)),\n",
              " ('you-can-count-on-me', np.float64(0.5907229340644958)),\n",
              " ('singin-in-the-rain', np.float64(0.5907229340644958)),\n",
              " ('for-sama', np.float64(0.5907229340644958)),\n",
              " ('the-hurt-locker', np.float64(0.5907229340644958)),\n",
              " ('short-term-12-2013', np.float64(0.5907229340644958)),\n",
              " ('the-piano', np.float64(0.5907229340644958)),\n",
              " ('certified-copy', np.float64(0.5907229340644958)),\n",
              " ('what-we-do-in-the-shadows', np.float64(0.5907229340644958)),\n",
              " ('haunter', np.float64(0.5907229340644958)),\n",
              " ('talk-to-her', np.float64(0.5907229340644958)),\n",
              " ('at-the-heart-of-gold-inside-the-usa-gymnastics-scandal',\n",
              "  np.float64(0.5907229340644958)),\n",
              " ('the-disappointments-room', np.float64(0.5907229340644958)),\n",
              " ('the-bridges-of-madison-county', np.float64(0.5907229340644958)),\n",
              " ('a-beautiful-day-in-the-neighborhood', np.float64(0.5907229340644958)),\n",
              " ('the-irishman-2019', np.float64(0.5907229340644958)),\n",
              " ('13th', np.float64(0.5907229340644958)),\n",
              " ('the-tree-of-life-2011', np.float64(0.5907229340644958)),\n",
              " ('blackfish', np.float64(0.5907229340644958)),\n",
              " ('avengers-age-of-ultron', np.float64(0.5907229340644958)),\n",
              " ('the-sisterhood-of-night', np.float64(0.5907229340644958)),\n",
              " ('night-moves-2013', np.float64(0.5907229340644958)),\n",
              " ('the-devils-arithmetic', np.float64(0.5907229340644958)),\n",
              " ('raising-cain', np.float64(0.5907229340644958)),\n",
              " ('glass-2019', np.float64(0.5907229340644958)),\n",
              " ('godzilla-1998', np.float64(0.5907229340644958)),\n",
              " ('frances-ha', np.float64(0.5907229340644958)),\n",
              " ('groundhog-day', np.float64(0.5907229340644958)),\n",
              " ('happiest-season', np.float64(0.5907229340644958)),\n",
              " ('orphan', np.float64(0.5907229340644958)),\n",
              " ('the-american-president', np.float64(0.5907229340644958)),\n",
              " ('batman-v-superman-dawn-of-justice', np.float64(0.5907229340644958)),\n",
              " ('serena', np.float64(0.5907229340644958)),\n",
              " ('hail-caesar-2016', np.float64(0.5907229340644958)),\n",
              " ('scott-pilgrim-vs-the-world', np.float64(0.5907229340644958)),\n",
              " ('f-x', np.float64(0.5907229340644958)),\n",
              " ('pauline-2010', np.float64(0.5907229340644958)),\n",
              " ('le-sabotier-du-val-de-loire', np.float64(0.5907229340644958)),\n",
              " ('this-is-spinal-tap', np.float64(0.5907229340644958)),\n",
              " ('a-star-is-born-2018', np.float64(0.5907229340644958)),\n",
              " ('the-mask-1994', np.float64(0.5907229340644958)),\n",
              " ('elizabethtown', np.float64(0.5907229340644958)),\n",
              " ('the-spongebob-squarepants-movie', np.float64(0.5907229340644958)),\n",
              " ('booksmart', np.float64(0.5907229340644958)),\n",
              " ('edward-scissorhands', np.float64(0.5907229340644958)),\n",
              " ('chelsea-handler-uganda-be-kidding-me-live', np.float64(0.5907229340644958)),\n",
              " ('never-let-me-go-2010', np.float64(0.5907229340644958)),\n",
              " ('jack-whitehall-live', np.float64(0.5907229340644958)),\n",
              " ('pacific-rim', np.float64(0.5907229340644958)),\n",
              " ('network', np.float64(0.5907229340644958)),\n",
              " ('sausage-party', np.float64(0.5907229340644958)),\n",
              " ('the-killing-of-a-sacred-deer', np.float64(0.5907229340644958)),\n",
              " ('tangled-2010', np.float64(0.5907229340644958)),\n",
              " ('interstellar', np.float64(0.5907229340644958)),\n",
              " ('bring-it-on', np.float64(0.5907229340644958)),\n",
              " ('funny-games-2007', np.float64(0.5907229340644958)),\n",
              " ('girls-trip', np.float64(0.5907229340644958)),\n",
              " ('the-ticket-2016', np.float64(0.5907229340644958)),\n",
              " ('filth', np.float64(0.5907229340644958)),\n",
              " ('american-animals', np.float64(0.5907229340644958)),\n",
              " ('the-holiday', np.float64(0.5907229340644958)),\n",
              " ('se7en', np.float64(0.5907229340644958)),\n",
              " ('nixon', np.float64(0.5907229340644958)),\n",
              " ('face-off', np.float64(0.5907229340644958)),\n",
              " ('thelma-2017', np.float64(0.5907229340644958)),\n",
              " ('jigsaw-2017', np.float64(0.5907229340644958)),\n",
              " ('when-we-first-met', np.float64(0.5907229340644958)),\n",
              " ('hold-the-dark', np.float64(0.5907229340644958)),\n",
              " ('the-fate-of-the-furious', np.float64(0.5907229340644958)),\n",
              " ('it-2017', np.float64(0.5907229340644958)),\n",
              " ('stronger', np.float64(0.5907229340644958)),\n",
              " ('neighbors-2-sorority-rising', np.float64(0.5907229340644958)),\n",
              " ('the-lego-movie', np.float64(0.5907229340644958)),\n",
              " ('free-fire', np.float64(0.5907229340644958)),\n",
              " ('the-yellow-birds', np.float64(0.5907229340644958)),\n",
              " ('jerry-maguire', np.float64(0.5907229340644958)),\n",
              " ('eddie-the-eagle', np.float64(0.5907229340644958)),\n",
              " ('deadpool-2', np.float64(0.5907229340644958)),\n",
              " ('the-riot-club', np.float64(0.5907229340644958)),\n",
              " ('bicycle-thieves', np.float64(0.5907229340644958)),\n",
              " ('baby-driver', np.float64(0.5907229340644958)),\n",
              " ('song-to-song', np.float64(0.5907229340644958)),\n",
              " ('the-big-sick', np.float64(0.5907229340644958)),\n",
              " ('the-price-of-gold', np.float64(0.5907229340644958)),\n",
              " ('badlands', np.float64(0.5907229340644958)),\n",
              " ('in-bruges', np.float64(0.5907229340644958)),\n",
              " ('the-world-is-not-enough', np.float64(0.5907229340644958)),\n",
              " ('lost-in-translation', np.float64(0.5907229340644958)),\n",
              " ('the-cabin-in-the-woods', np.float64(0.5907229340644958)),\n",
              " ('terrorizers', np.float64(0.5907229340644958)),\n",
              " ('ordinary-people', np.float64(0.5907229340644958)),\n",
              " ('aladdin-2019', np.float64(0.5907229340644958)),\n",
              " ('anna-karenina-2012', np.float64(0.5907229340644958)),\n",
              " ('a-star-is-born-2018', np.float64(0.5907229340644958)),\n",
              " ('moulin-rouge-2001', np.float64(0.5907229340644958)),\n",
              " ('jersey-boys', np.float64(0.5907229340644958)),\n",
              " ('ford-v-ferrari', np.float64(0.5907229340644958)),\n",
              " ('mother-2017', np.float64(0.5907229340644958)),\n",
              " ('the-blackcoats-daughter', np.float64(0.5907229340644958)),\n",
              " ('the-sessions', np.float64(0.5907229340644958)),\n",
              " ('us-2019', np.float64(0.5907229340644958)),\n",
              " ('dazed-and-confused', np.float64(0.5907229340644958)),\n",
              " ('branagh-theatre-live-romeo-and-juliet', np.float64(0.5907229340644958)),\n",
              " ('good-time', np.float64(0.5907229340644958)),\n",
              " ('the-royal-tenenbaums', np.float64(0.5907229340644958)),\n",
              " ('post-tenebras-lux', np.float64(0.5907229340644958)),\n",
              " ('kick-ass-2', np.float64(0.5907229340644958)),\n",
              " ('after-hours', np.float64(0.5907229340644958)),\n",
              " ('jodorowskys-dune', np.float64(0.5907229340644958)),\n",
              " ('our-sunhi', np.float64(0.5907229340644958)),\n",
              " ('justin-timberlake-the-tennessee-kids', np.float64(0.5907229340644958)),\n",
              " ('last-vegas', np.float64(0.5907229340644958)),\n",
              " ('the-assassin-2015', np.float64(0.5907229340644958)),\n",
              " ('daddys-home', np.float64(0.5907229340644958)),\n",
              " ('jack-reacher-never-go-back', np.float64(0.5907229340644958)),\n",
              " ('the-devils-doorway', np.float64(0.5907229340644958)),\n",
              " ('wiener-dog', np.float64(0.5907229340644958)),\n",
              " ('fantastic-four', np.float64(0.5907229340644958)),\n",
              " ('the-stanford-prison-experiment', np.float64(0.5907229340644958)),\n",
              " ('before-we-go', np.float64(0.5907229340644958)),\n",
              " ('chi-raq', np.float64(0.5907229340644958)),\n",
              " ('norman-the-moderate-rise-and-tragic-fall-of-a-new-york-fixer',\n",
              "  np.float64(0.5907229340644958)),\n",
              " ('the-girl-on-the-train-2016', np.float64(0.5907229340644958)),\n",
              " ('columbus-2017', np.float64(0.5907229340644958)),\n",
              " ('filth', np.float64(0.5907229340644958)),\n",
              " ('run-silent-run-deep', np.float64(0.5907229340644958)),\n",
              " ('citizenfour', np.float64(0.5907229340644958)),\n",
              " ('fort-tilden', np.float64(0.5907229340644958)),\n",
              " ('the-day-after-2017', np.float64(0.5907229340644958)),\n",
              " ('in-secret', np.float64(0.5907229340644958)),\n",
              " ('look-whos-back-2015', np.float64(0.5907229340644958)),\n",
              " ('my-big-fat-greek-wedding-2', np.float64(0.5907229340644958)),\n",
              " ('neruda-2016', np.float64(0.5907229340644958)),\n",
              " ('leviathan-2012', np.float64(0.5907229340644958)),\n",
              " ('they-live', np.float64(0.5907229340644958)),\n",
              " ('barry-2016', np.float64(0.5907229340644958)),\n",
              " ('frank-2014', np.float64(0.5907229340644958)),\n",
              " ('miss-sloane', np.float64(0.5907229340644958)),\n",
              " ('ismaels-ghosts', np.float64(0.5907229340644958)),\n",
              " ('the-trip-to-italy', np.float64(0.5907229340644958)),\n",
              " ('ingrid-goes-west', np.float64(0.5907229340644958)),\n",
              " ('you-were-never-really-here', np.float64(0.5907229340644958)),\n",
              " ('escape-plan-2-hades', np.float64(0.5907229340644958)),\n",
              " ('love-means-zero', np.float64(0.5907229340644958)),\n",
              " ('night-moves', np.float64(0.5907229340644958)),\n",
              " ('minority-report', np.float64(0.5907229340644958)),\n",
              " ('mollys-game', np.float64(0.5907229340644958)),\n",
              " ('shazam', np.float64(0.5907229340644958)),\n",
              " ('6-balloons', np.float64(0.5907229340644958)),\n",
              " ('the-grinch', np.float64(0.5907229340644958)),\n",
              " ('the-death-of-stalin', np.float64(0.5907229340644958)),\n",
              " ('first-man', np.float64(0.5907229340644958)),\n",
              " ('swallow-2019', np.float64(0.5907229340644958)),\n",
              " ('thelma-2017', np.float64(0.5907229340644958)),\n",
              " ('aquaman-2018', np.float64(0.5907229340644958)),\n",
              " ('ash-is-purest-white', np.float64(0.5907229340644958)),\n",
              " ('blade-runner-2049', np.float64(0.5907229340644958)),\n",
              " ('suspiria-2018', np.float64(0.5907229340644958)),\n",
              " ('a-simple-favor', np.float64(0.5907229340644958)),\n",
              " ('the-wedding-guest', np.float64(0.5907229340644958)),\n",
              " ('everybodys-everything', np.float64(0.5907229340644958)),\n",
              " ('knife-heart', np.float64(0.5907229340644958)),\n",
              " ('super-size-me-2-holy-chicken', np.float64(0.5907229340644958)),\n",
              " ('justice-league', np.float64(0.5907229340644958)),\n",
              " ('a-hidden-life-2019', np.float64(0.5907229340644958)),\n",
              " ('thor-ragnarok', np.float64(0.5907229340644958)),\n",
              " ('midway-2019', np.float64(0.5907229340644958)),\n",
              " ('the-rental', np.float64(0.5907229340644958)),\n",
              " ('a-girl-missing', np.float64(0.5907229340644958)),\n",
              " ('skyfall', np.float64(0.5907229340644958)),\n",
              " ('catch-me-if-you-can-2002', np.float64(0.5907229340644958)),\n",
              " ('star-wars-the-rise-of-skywalker', np.float64(0.5907229340644958)),\n",
              " ('satantango', np.float64(0.5907229340644958)),\n",
              " ('chef', np.float64(0.5907229340644958)),\n",
              " ('contagion', np.float64(0.5907229340644958)),\n",
              " ('fahrenheit-451-2018', np.float64(0.5907229340644958)),\n",
              " ('blockers', np.float64(0.5907229340644958)),\n",
              " ('dark-crimes', np.float64(0.5907229340644958)),\n",
              " ('snowden', np.float64(0.5907229340644958)),\n",
              " ('the-devils-candy', np.float64(0.5907229340644958)),\n",
              " ('dinner-in-america', np.float64(0.5907229340644958)),\n",
              " ('jay-and-silent-bob-reboot', np.float64(0.5907229340644958)),\n",
              " ('for-sama', np.float64(0.5907229340644958)),\n",
              " ('zeroville', np.float64(0.5907229340644958)),\n",
              " ('boyhood', np.float64(0.5907229340644958)),\n",
              " ('extraction-2020', np.float64(0.5907229340644958)),\n",
              " ('mission-impossible-ghost-protocol', np.float64(0.5907229340644958)),\n",
              " ('stuber', np.float64(0.5907229340644958)),\n",
              " ('the-king-of-staten-island', np.float64(0.5907229340644958)),\n",
              " ('ice-age-dawn-of-the-dinosaurs', np.float64(0.5907229340644958)),\n",
              " ('all-day-and-a-night', np.float64(0.5907229340644958)),\n",
              " ('resistance-2020', np.float64(0.5907229340644958)),\n",
              " ('eternal-sunshine-of-the-spotless-mind', np.float64(0.5907229340644958)),\n",
              " ('the-grey', np.float64(0.5907229340644958)),\n",
              " ('killing-gunther', np.float64(0.5907229340644958)),\n",
              " ('lou-2017', np.float64(0.5907229340644958)),\n",
              " ('spy-kids', np.float64(0.5907229340644958)),\n",
              " ('bolt', np.float64(0.5907229340644958)),\n",
              " ('the-bfg-2016', np.float64(0.5907229340644958)),\n",
              " ('shrek', np.float64(0.5907229340644958)),\n",
              " ('citizen-kane', np.float64(0.5907229340644958)),\n",
              " ('ghostbusters', np.float64(0.5907229340644958)),\n",
              " ('rogue-one-a-star-wars-story', np.float64(0.5907229340644958)),\n",
              " ('synecdoche-new-york', np.float64(0.5907229340644958)),\n",
              " ('finding-dory', np.float64(0.5907229340644958)),\n",
              " ('the-passion-of-joan-of-arc', np.float64(0.5907229340644958)),\n",
              " ('minding-the-gap', np.float64(0.5907229340644958)),\n",
              " ('city-lights', np.float64(0.5907229340644958)),\n",
              " ('national-lampoons-christmas-vacation', np.float64(0.5907229340644958)),\n",
              " ('blackkklansman', np.float64(0.5907229340644958)),\n",
              " ('the-terminal', np.float64(0.5907229340644958)),\n",
              " ('a-wrinkle-in-time-2018', np.float64(0.5907229340644958)),\n",
              " ('rocky', np.float64(0.5907229340644958)),\n",
              " ('thor-ragnarok', np.float64(0.5907229340644958)),\n",
              " ('pacific-rim', np.float64(0.5907229340644958)),\n",
              " ('the-producers', np.float64(0.5907229340644958)),\n",
              " ('the-lego-movie-2-the-second-part', np.float64(0.5907229340644958)),\n",
              " ('cars', np.float64(0.5907229340644958)),\n",
              " ('trainspotting', np.float64(0.5907229340644958)),\n",
              " ('inception', np.float64(0.5907229340644958)),\n",
              " ('the-lonely-island-presents-the-unauthorized-bash-brothers-experience',\n",
              "  np.float64(0.5907229340644958)),\n",
              " ('big-fish', np.float64(0.5907229340644958)),\n",
              " ('barking-dogs-never-bite', np.float64(0.5907229340644958)),\n",
              " ('europa', np.float64(0.5907229340644958)),\n",
              " ('tommy', np.float64(0.5907229340644958)),\n",
              " ('she-dies-tomorrow', np.float64(0.5907229340644958)),\n",
              " ('mean-girls', np.float64(0.5907229340644958)),\n",
              " ('draculas-daughter', np.float64(0.5907229340644958)),\n",
              " ('travis-scott-look-mom-i-can-fly', np.float64(0.5907229340644958)),\n",
              " ('spaceballs', np.float64(0.5907229340644958)),\n",
              " ('like-crazy', np.float64(0.5907229340644958)),\n",
              " ('hanna', np.float64(0.5907229340644958)),\n",
              " ('hit-run-2012', np.float64(0.5907229340644958)),\n",
              " ('brigsby-bear', np.float64(0.5907229340644958)),\n",
              " ('the-game', np.float64(0.5907229340644958)),\n",
              " ('aint-them-bodies-saints', np.float64(0.5907229340644958)),\n",
              " ('enemy', np.float64(0.5907229340644958)),\n",
              " ('casablanca', np.float64(0.5907229340644958)),\n",
              " ('kajillionaire', np.float64(0.5907229340644958)),\n",
              " ('zero-dark-thirty', np.float64(0.5907229340644958)),\n",
              " ('one-day-2011', np.float64(0.5907229340644958)),\n",
              " ('wind-river-2017', np.float64(0.5907229340644958)),\n",
              " ('i-love-you-daddy', np.float64(0.5907229340644958)),\n",
              " ('enola-holmes', np.float64(0.5907229340644958)),\n",
              " ('reservoir-dogs', np.float64(0.5907229340644958)),\n",
              " ('toy-story', np.float64(0.5907229340644958)),\n",
              " ('the-princess-diaries-2-royal-engagement', np.float64(0.5907229340644958)),\n",
              " ('x-men-days-of-future-past', np.float64(0.5907229340644958)),\n",
              " ('riding-in-cars-with-boys', np.float64(0.5907229340644958)),\n",
              " ('the-adventures-of-sharkboy-and-lavagirl', np.float64(0.5907229340644958)),\n",
              " ('cirque-du-freak-the-vampires-assistant', np.float64(0.5907229340644958)),\n",
              " ('feast-ii-sloppy-seconds', np.float64(0.5907229340644958)),\n",
              " ('snowpiercer', np.float64(0.5907229340644958)),\n",
              " ('night-train-2009', np.float64(0.5907229340644958)),\n",
              " ('the-hobbit-the-desolation-of-smaug', np.float64(0.5907229340644958)),\n",
              " ('year-one', np.float64(0.5907229340644958)),\n",
              " ('a-christmas-story-1983', np.float64(0.5907229340644958)),\n",
              " ('jupiter-ascending', np.float64(0.5907229340644958)),\n",
              " ('the-godfather', np.float64(0.5907229340644958)),\n",
              " ('mad-money', np.float64(0.5907229340644958)),\n",
              " ('freaky-friday-2003', np.float64(0.5907229340644958)),\n",
              " ('the-challenge-2003', np.float64(0.5907229340644958)),\n",
              " ('national-lampoons-vacation', np.float64(0.5907229340644958)),\n",
              " ('equals', np.float64(0.5907229340644958)),\n",
              " ('how-the-grinch-stole-christmas', np.float64(0.5907229340644958)),\n",
              " ('homeward-bound-ii-lost-in-san-francisco', np.float64(0.5907229340644958)),\n",
              " ('primer', np.float64(0.5907229340644958)),\n",
              " ('the-game', np.float64(0.5907229340644958)),\n",
              " ('harry-and-the-hendersons', np.float64(0.5907229340644958)),\n",
              " ('mustang-2015', np.float64(0.5907229340644958)),\n",
              " ('1408', np.float64(0.5907229340644958)),\n",
              " ('carriers', np.float64(0.5907229340644958)),\n",
              " ('fantastic-mr-fox', np.float64(0.5907229340644958)),\n",
              " ('the-last-winter', np.float64(0.5907229340644958)),\n",
              " ('mark-felt-the-man-who-brought-down-the-white-house',\n",
              "  np.float64(0.5907229340644958)),\n",
              " ('they-came-together', np.float64(0.5907229340644958)),\n",
              " ('home-alone-4', np.float64(0.5907229340644958)),\n",
              " ('i-robot', np.float64(0.5907229340644958)),\n",
              " ('tallulah', np.float64(0.5907229340644958)),\n",
              " ('honeymoon-2014', np.float64(0.5907229340644958)),\n",
              " ('the-great-outdoors', np.float64(0.5907229340644958)),\n",
              " ('right-on-track', np.float64(0.5907229340644958)),\n",
              " ('dinosaur', np.float64(0.5907229340644958)),\n",
              " ('american-ultra', np.float64(0.5907229340644958)),\n",
              " ('the-cheetah-girls-2', np.float64(0.5907229340644958)),\n",
              " ('pontypool', np.float64(0.5907229340644958)),\n",
              " ('the-way-he-looks', np.float64(0.5907229340644958)),\n",
              " ('short-term-12-2013', np.float64(0.5907229340644958)),\n",
              " ('shark-tale', np.float64(0.5907229340644958)),\n",
              " ('the-conjuring-2', np.float64(0.5907229340644958)),\n",
              " ('the-bling-ring', np.float64(0.5907229340644958)),\n",
              " ('tig', np.float64(0.5907229340644958)),\n",
              " ('lava-2014', np.float64(0.5907229340644958))]"
            ]
          },
          "metadata": {},
          "execution_count": 155
        }
      ]
    },
    {
      "cell_type": "code",
      "source": [],
      "metadata": {
        "id": "il9TbCnbZ-IC"
      },
      "execution_count": null,
      "outputs": []
    }
  ]
}